{
  "nbformat": 4,
  "nbformat_minor": 0,
  "metadata": {
    "colab": {
      "name": "MNIST_Classifier.ipynb",
      "provenance": [],
      "collapsed_sections": [],
      "authorship_tag": "ABX9TyOX6SOitQXBR/KAqmoBkepP",
      "include_colab_link": true
    },
    "kernelspec": {
      "name": "python3",
      "display_name": "Python 3"
    },
    "accelerator": "TPU"
  },
  "cells": [
    {
      "cell_type": "markdown",
      "metadata": {
        "id": "view-in-github",
        "colab_type": "text"
      },
      "source": [
        "<a href=\"https://colab.research.google.com/github/Poohi5/cmpe258_homework/blob/master/Graded_HW1/MNIST_Classifier.ipynb\" target=\"_parent\"><img src=\"https://colab.research.google.com/assets/colab-badge.svg\" alt=\"Open In Colab\"/></a>"
      ]
    },
    {
      "cell_type": "markdown",
      "metadata": {
        "id": "yIU2DB5xSjDX",
        "colab_type": "text"
      },
      "source": [
        "***MNIST classifier***\n"
      ]
    },
    {
      "cell_type": "markdown",
      "metadata": {
        "id": "-OLiLiBkSeW4",
        "colab_type": "text"
      },
      "source": [
        "###Import MNIST dataset from sklearn's dataset\n",
        "\n",
        "#####Separating target column and data column"
      ]
    },
    {
      "cell_type": "code",
      "metadata": {
        "id": "m6bTx0_ORjex",
        "colab_type": "code",
        "colab": {}
      },
      "source": [
        "from sklearn.datasets import fetch_openml\n",
        "mnist = fetch_openml('mnist_784')\n",
        "data, target_value = mnist[\"data\"], mnist[\"target\"]"
      ],
      "execution_count": 0,
      "outputs": []
    },
    {
      "cell_type": "code",
      "metadata": {
        "id": "c8__A6VqRbnE",
        "colab_type": "code",
        "colab": {
          "base_uri": "https://localhost:8080/",
          "height": 136
        },
        "outputId": "0fd4d2d4-6277-4720-e4e8-aeea4c1f9d31"
      },
      "source": [
        "data"
      ],
      "execution_count": 2,
      "outputs": [
        {
          "output_type": "execute_result",
          "data": {
            "text/plain": [
              "array([[0., 0., 0., ..., 0., 0., 0.],\n",
              "       [0., 0., 0., ..., 0., 0., 0.],\n",
              "       [0., 0., 0., ..., 0., 0., 0.],\n",
              "       ...,\n",
              "       [0., 0., 0., ..., 0., 0., 0.],\n",
              "       [0., 0., 0., ..., 0., 0., 0.],\n",
              "       [0., 0., 0., ..., 0., 0., 0.]])"
            ]
          },
          "metadata": {
            "tags": []
          },
          "execution_count": 2
        }
      ]
    },
    {
      "cell_type": "code",
      "metadata": {
        "id": "hkUb5w-6SV9B",
        "colab_type": "code",
        "colab": {
          "base_uri": "https://localhost:8080/",
          "height": 34
        },
        "outputId": "56b6e7b9-90ac-43e6-f3cd-31d4d8f226e2"
      },
      "source": [
        "target_value"
      ],
      "execution_count": 3,
      "outputs": [
        {
          "output_type": "execute_result",
          "data": {
            "text/plain": [
              "array(['5', '0', '4', ..., '4', '5', '6'], dtype=object)"
            ]
          },
          "metadata": {
            "tags": []
          },
          "execution_count": 3
        }
      ]
    },
    {
      "cell_type": "markdown",
      "metadata": {
        "id": "EcTuSUgWTKLH",
        "colab_type": "text"
      },
      "source": [
        "###Normalizing Data"
      ]
    },
    {
      "cell_type": "code",
      "metadata": {
        "id": "FbKd6gfuSXz4",
        "colab_type": "code",
        "colab": {}
      },
      "source": [
        "data = data/25"
      ],
      "execution_count": 0,
      "outputs": []
    },
    {
      "cell_type": "markdown",
      "metadata": {
        "id": "flWnWRNdTbMa",
        "colab_type": "text"
      },
      "source": [
        "***Step 1***:  Creating a signle node network to recognize Digit '0' \n",
        "and then extending the network with one hidden network."
      ]
    },
    {
      "cell_type": "markdown",
      "metadata": {
        "id": "UAIN3cY2T0a7",
        "colab_type": "text"
      },
      "source": [
        "So replaced target variable = 0 for digits other than '0'"
      ]
    },
    {
      "cell_type": "code",
      "metadata": {
        "id": "y__oW96zTNVu",
        "colab_type": "code",
        "colab": {}
      },
      "source": [
        "import numpy as np\n",
        "\n",
        "target_new = np.zeros(target_value.shape)\n",
        "target_new[np.where(target_value == 0.0)[0]] = 1\n",
        "target_value = target_new"
      ],
      "execution_count": 0,
      "outputs": []
    },
    {
      "cell_type": "markdown",
      "metadata": {
        "id": "HKdTmPb9VY_c",
        "colab_type": "text"
      },
      "source": [
        "Get Shape of Data"
      ]
    },
    {
      "cell_type": "code",
      "metadata": {
        "id": "Lro_7bSMVTx3",
        "colab_type": "code",
        "colab": {
          "base_uri": "https://localhost:8080/",
          "height": 34
        },
        "outputId": "537f716c-da40-462b-bb04-6dee96153063"
      },
      "source": [
        "data.shape"
      ],
      "execution_count": 6,
      "outputs": [
        {
          "output_type": "execute_result",
          "data": {
            "text/plain": [
              "(70000, 784)"
            ]
          },
          "metadata": {
            "tags": []
          },
          "execution_count": 6
        }
      ]
    },
    {
      "cell_type": "markdown",
      "metadata": {
        "id": "Y296RrpAT-S0",
        "colab_type": "text"
      },
      "source": [
        "Train Test Split\n",
        "\n",
        "\n",
        "1.   1st 60000 for training \n",
        "2.   remaining for testing\n",
        "\n",
        "\n"
      ]
    },
    {
      "cell_type": "code",
      "metadata": {
        "id": "DfpxtWRLTaU7",
        "colab_type": "code",
        "colab": {}
      },
      "source": [
        "m = 60000\n",
        "m_test = data.shape[0] - m\n",
        "\n",
        "X_train, X_test = data[:m].T, data[m:].T\n",
        "y_train, y_test = target_value[:m].reshape(1,m), target_value[m:].reshape(1,m_test)"
      ],
      "execution_count": 0,
      "outputs": []
    },
    {
      "cell_type": "code",
      "metadata": {
        "id": "zwu_UkabVjpY",
        "colab_type": "code",
        "colab": {}
      },
      "source": [
        "np.random.seed(138)\n",
        "shuffle_index = np.random.permutation(m)\n",
        "X_train, y_train = X_train[:,shuffle_index], y_train[:,shuffle_index]"
      ],
      "execution_count": 0,
      "outputs": []
    },
    {
      "cell_type": "code",
      "metadata": {
        "id": "1dILGoJGdnms",
        "colab_type": "code",
        "colab": {
          "base_uri": "https://localhost:8080/",
          "height": 265
        },
        "outputId": "30f69778-1695-460d-da1d-06ce786308d4"
      },
      "source": [
        "%matplotlib inline\n",
        "import matplotlib\n",
        "import matplotlib.pyplot as plt\n",
        "\n",
        "i = 3\n",
        "plt.imshow(X_train[:,i].reshape(28,28), cmap = matplotlib.cm.binary)\n",
        "plt.axis(\"off\")\n",
        "plt.show()\n",
        "print(y_train[:,i])"
      ],
      "execution_count": 9,
      "outputs": [
        {
          "output_type": "display_data",
          "data": {
            "image/png": "[encoded data removed]",
            "text/plain": [
              "<Figure size 432x288 with 1 Axes>"
            ]
          },
          "metadata": {
            "tags": []
          }
        },
        {
          "output_type": "stream",
          "text": [
            "[0.]\n"
          ],
          "name": "stdout"
        }
      ]
    },
    {
      "cell_type": "markdown",
      "metadata": {
        "id": "bj0T8qRrdyMR",
        "colab_type": "text"
      },
      "source": [
        "Forward Propagation\n",
        "\n",
        "1.   Single Layer NN\n",
        "\n",
        "\n"
      ]
    },
    {
      "cell_type": "code",
      "metadata": {
        "id": "-FWyUVSFdt3Z",
        "colab_type": "code",
        "colab": {}
      },
      "source": [
        "def sigmoid(z):\n",
        "    s = 1 / (1 + np.exp(-z))\n",
        "    return s"
      ],
      "execution_count": 0,
      "outputs": []
    },
    {
      "cell_type": "markdown",
      "metadata": {
        "id": "wfpt4aoPe_3T",
        "colab_type": "text"
      },
      "source": [
        "2.  Computing Loss \n",
        "\n"
      ]
    },
    {
      "cell_type": "code",
      "metadata": {
        "id": "uckEiwWde-BA",
        "colab_type": "code",
        "colab": {}
      },
      "source": [
        "def compute_loss(target_value, target_cap):\n",
        "\n",
        "    m = target_value.shape[1]\n",
        "    L = -(1./m) * ( np.sum( np.multiply(np.log(target_cap),target_value) ) + np.sum( np.multiply(np.log(1-target_cap),(1-target_value)) ) )\n",
        "\n",
        "    return L"
      ],
      "execution_count": 0,
      "outputs": []
    },
    {
      "cell_type": "markdown",
      "metadata": {
        "id": "VcDHdz9SfaOX",
        "colab_type": "text"
      },
      "source": [
        "\n",
        "\n",
        "3. ***Back Propagation***   \n",
        "\n",
        "\n",
        "\n",
        "1.   ***Build Network***\n",
        "2.   ***Train Network***\n",
        "\n",
        "\n",
        "\n"
      ]
    },
    {
      "cell_type": "code",
      "metadata": {
        "id": "AVoGCJkpt_Hw",
        "colab_type": "code",
        "colab": {
          "base_uri": "https://localhost:8080/",
          "height": 34
        },
        "outputId": "c69e9c32-7ebc-49c6-9402-8b26643f7bda"
      },
      "source": [
        "X_train.shape[1]"
      ],
      "execution_count": 12,
      "outputs": [
        {
          "output_type": "execute_result",
          "data": {
            "text/plain": [
              "60000"
            ]
          },
          "metadata": {
            "tags": []
          },
          "execution_count": 12
        }
      ]
    },
    {
      "cell_type": "code",
      "metadata": {
        "id": "0HlrWdyIfYqC",
        "colab_type": "code",
        "colab": {
          "base_uri": "https://localhost:8080/",
          "height": 374
        },
        "outputId": "b3f63656-efe5-472a-f884-5f297c57fe86"
      },
      "source": [
        "learning_rate = 0.009\n",
        "\n",
        "X = X_train\n",
        "Y = y_train\n",
        "\n",
        "n_x = X.shape[0]\n",
        "m = X.shape[1]\n",
        "\n",
        "W = np.random.randn(n_x, 1) * 0.01\n",
        "b = np.zeros((1, 1))\n",
        "\n",
        "for i in range(2000):\n",
        "    Z = np.matmul(W.T, X) + b\n",
        "    A = sigmoid(Z)\n",
        "\n",
        "    cost = compute_loss(Y, A)\n",
        "\n",
        "    dW = (1/m) * np.matmul(X, (A-Y).T)  #Derivative of weight\n",
        "    db = (1/m) * np.sum(A-Y, axis=1, keepdims=True) #Derivative of bias\n",
        "\n",
        "    W = W - learning_rate * dW #Updated Weight\n",
        "    b = b - learning_rate * db #Updated Bias\n",
        "\n",
        "    if (i % 100 == 0):\n",
        "        print(\"Epoch\", i, \"cost: \", cost)\n",
        "\n",
        "print(\"Final cost:\", cost)"
      ],
      "execution_count": 13,
      "outputs": [
        {
          "output_type": "stream",
          "text": [
            "Epoch 0 cost:  0.6105234872298705\n",
            "Epoch 100 cost:  0.00012152439986442012\n",
            "Epoch 200 cost:  0.00010917198317674876\n",
            "Epoch 300 cost:  9.925982487125219e-05\n",
            "Epoch 400 cost:  9.111462791719686e-05\n",
            "Epoch 500 cost:  8.429232906892311e-05\n",
            "Epoch 600 cost:  7.848767593001654e-05\n",
            "Epoch 700 cost:  7.348361428322342e-05\n",
            "Epoch 800 cost:  6.912139179159063e-05\n",
            "Epoch 900 cost:  6.528209458909599e-05\n",
            "Epoch 1000 cost:  6.187480921861352e-05\n",
            "Epoch 1100 cost:  5.882878573230282e-05\n",
            "Epoch 1200 cost:  5.608810415406105e-05\n",
            "Epoch 1300 cost:  5.360795596075542e-05\n",
            "Epoch 1400 cost:  5.135199582949177e-05\n",
            "Epoch 1500 cost:  4.9290419665131175e-05\n",
            "Epoch 1600 cost:  4.739854599032613e-05\n",
            "Epoch 1700 cost:  4.565575285774208e-05\n",
            "Epoch 1800 cost:  4.40446701792857e-05\n",
            "Epoch 1900 cost:  4.255055840726326e-05\n",
            "Final cost: 4.1174242609875355e-05\n"
          ],
          "name": "stdout"
        }
      ]
    },
    {
      "cell_type": "markdown",
      "metadata": {
        "id": "hfUTVFkMKh6P",
        "colab_type": "text"
      },
      "source": [
        "###Confusion Matrix to check how well the network is built"
      ]
    },
    {
      "cell_type": "code",
      "metadata": {
        "id": "3z0yHbeHgAQ_",
        "colab_type": "code",
        "colab": {
          "base_uri": "https://localhost:8080/",
          "height": 34
        },
        "outputId": "29a65b37-08fc-4567-ac8d-9e7e1f5508e0"
      },
      "source": [
        "from sklearn.metrics import classification_report, confusion_matrix\n",
        "\n",
        "Z = np.matmul(W.T, X_test) + b\n",
        "A = sigmoid(Z)\n",
        "\n",
        "predictions = (A>.5)[0,:]\n",
        "labels = (y_test == 1)[0,:]\n",
        "\n",
        "print(confusion_matrix(predictions, labels))"
      ],
      "execution_count": 14,
      "outputs": [
        {
          "output_type": "stream",
          "text": [
            "[[10000]]\n"
          ],
          "name": "stdout"
        }
      ]
    },
    {
      "cell_type": "code",
      "metadata": {
        "id": "hKDxN_UPrkTC",
        "colab_type": "code",
        "colab": {
          "base_uri": "https://localhost:8080/",
          "height": 153
        },
        "outputId": "b2e7be7a-9c86-4585-c7b7-5abe6b40f869"
      },
      "source": [
        "print(classification_report(predictions, labels))"
      ],
      "execution_count": 15,
      "outputs": [
        {
          "output_type": "stream",
          "text": [
            "              precision    recall  f1-score   support\n",
            "\n",
            "       False       1.00      1.00      1.00     10000\n",
            "\n",
            "    accuracy                           1.00     10000\n",
            "   macro avg       1.00      1.00      1.00     10000\n",
            "weighted avg       1.00      1.00      1.00     10000\n",
            "\n"
          ],
          "name": "stdout"
        }
      ]
    },
    {
      "cell_type": "markdown",
      "metadata": {
        "id": "l5rC6xO5xb8w",
        "colab_type": "text"
      },
      "source": [
        "***Hidden Layer***"
      ]
    },
    {
      "cell_type": "code",
      "metadata": {
        "id": "oXpViOYYrnzv",
        "colab_type": "code",
        "colab": {
          "base_uri": "https://localhost:8080/",
          "height": 374
        },
        "outputId": "a9606fb3-63fa-4c40-f306-6bc7799252a2"
      },
      "source": [
        "X = X_train\n",
        "Y = y_train\n",
        "\n",
        "n_x = X.shape[0]\n",
        "n_h = 64\n",
        "learning_rate = 1\n",
        "\n",
        "W1 = np.random.randn(n_h, n_x)\n",
        "b1 = np.zeros((n_h, 1))\n",
        "W2 = np.random.randn(1, n_h)\n",
        "b2 = np.zeros((1, 1))\n",
        "\n",
        "for i in range(2000):\n",
        "\n",
        "    Z1 = np.matmul(W1, X) + b1\n",
        "    A1 = sigmoid(Z1)\n",
        "    Z2 = np.matmul(W2, A1) + b2\n",
        "    A2 = sigmoid(Z2)\n",
        "\n",
        "    cost = compute_loss(Y, A2)\n",
        "\n",
        "    dZ2 = A2-Y\n",
        "    dW2 = (1./m) * np.matmul(dZ2, A1.T)\n",
        "    db2 = (1./m) * np.sum(dZ2, axis=1, keepdims=True)\n",
        "\n",
        "    dA1 = np.matmul(W2.T, dZ2)\n",
        "    dZ1 = dA1 * sigmoid(Z1) * (1 - sigmoid(Z1))\n",
        "    dW1 = (1./m) * np.matmul(dZ1, X.T)\n",
        "    db1 = (1./m) * np.sum(dZ1, axis=1, keepdims=True)\n",
        "\n",
        "    W2 = W2 - learning_rate * dW2\n",
        "    b2 = b2 - learning_rate * db2\n",
        "    W1 = W1 - learning_rate * dW1\n",
        "    b1 = b1 - learning_rate * db1\n",
        "\n",
        "    if i % 100 == 0:\n",
        "        print(\"Epoch\", i, \"cost: \", cost)\n",
        "\n",
        "print(\"Final cost:\", cost)"
      ],
      "execution_count": 16,
      "outputs": [
        {
          "output_type": "stream",
          "text": [
            "Epoch 0 cost:  0.8074829326963218\n",
            "Epoch 100 cost:  0.00035221383078810285\n",
            "Epoch 200 cost:  0.00019845028572697612\n",
            "Epoch 300 cost:  0.0001377238620088514\n",
            "Epoch 400 cost:  0.00010524192516858746\n",
            "Epoch 500 cost:  8.502903458709523e-05\n",
            "Epoch 600 cost:  7.124382848253608e-05\n",
            "Epoch 700 cost:  6.125232660517448e-05\n",
            "Epoch 800 cost:  5.3691847974437966e-05\n",
            "Epoch 900 cost:  4.7780830022621686e-05\n",
            "Epoch 1000 cost:  4.30376300878867e-05\n",
            "Epoch 1100 cost:  3.915049531390073e-05\n",
            "Epoch 1200 cost:  3.590916342204584e-05\n",
            "Epoch 1300 cost:  3.316641180757465e-05\n",
            "Epoch 1400 cost:  3.08158768709191e-05\n",
            "Epoch 1500 cost:  2.87788335772927e-05\n",
            "Epoch 1600 cost:  2.6995914773913728e-05\n",
            "Epoch 1700 cost:  2.5421655298140084e-05\n",
            "Epoch 1800 cost:  2.402075844034936e-05\n",
            "Epoch 1900 cost:  2.276547811438387e-05\n",
            "Final cost: 2.1644519930176784e-05\n"
          ],
          "name": "stdout"
        }
      ]
    },
    {
      "cell_type": "code",
      "metadata": {
        "id": "H8tdmTN2xdy1",
        "colab_type": "code",
        "colab": {
          "base_uri": "https://localhost:8080/",
          "height": 170
        },
        "outputId": "3c4069bd-7c72-4b55-fd0c-c1a018bd30c2"
      },
      "source": [
        "Z1 = np.matmul(W1, X_test) + b1\n",
        "A1 = sigmoid(Z1)\n",
        "Z2 = np.matmul(W2, A1) + b2\n",
        "A2 = sigmoid(Z2)\n",
        "\n",
        "predictions = (A2>.5)[0,:]\n",
        "labels = (y_test == 1)[0,:]\n",
        "\n",
        "print(confusion_matrix(predictions, labels))\n",
        "print(classification_report(predictions, labels))"
      ],
      "execution_count": 17,
      "outputs": [
        {
          "output_type": "stream",
          "text": [
            "[[10000]]\n",
            "              precision    recall  f1-score   support\n",
            "\n",
            "       False       1.00      1.00      1.00     10000\n",
            "\n",
            "    accuracy                           1.00     10000\n",
            "   macro avg       1.00      1.00      1.00     10000\n",
            "weighted avg       1.00      1.00      1.00     10000\n",
            "\n"
          ],
          "name": "stdout"
        }
      ]
    },
    {
      "cell_type": "markdown",
      "metadata": {
        "id": "q6H3ib4A53Tx",
        "colab_type": "text"
      },
      "source": [
        "####Building and Training the network again for all the digits"
      ]
    },
    {
      "cell_type": "code",
      "metadata": {
        "id": "NmhUsrp15y_I",
        "colab_type": "code",
        "colab": {}
      },
      "source": [
        "mnist = fetch_openml('mnist_784')\n",
        "X, y = mnist[\"data\"], mnist[\"target\"]\n",
        "\n",
        "X = X / 255"
      ],
      "execution_count": 0,
      "outputs": []
    },
    {
      "cell_type": "code",
      "metadata": {
        "id": "IIqxBXx-hh_M",
        "colab_type": "code",
        "colab": {
          "base_uri": "https://localhost:8080/",
          "height": 34
        },
        "outputId": "f640d538-3a21-4283-bd4d-b8a448a25134"
      },
      "source": [
        "y.shape[0]"
      ],
      "execution_count": 19,
      "outputs": [
        {
          "output_type": "execute_result",
          "data": {
            "text/plain": [
              "70000"
            ]
          },
          "metadata": {
            "tags": []
          },
          "execution_count": 19
        }
      ]
    },
    {
      "cell_type": "code",
      "metadata": {
        "id": "hopf3rZu54td",
        "colab_type": "code",
        "colab": {}
      },
      "source": [
        "digits = 10\n",
        "examples = y.shape[0]\n",
        "\n",
        "y = y.reshape(1, examples)\n",
        "\n",
        "Y_new = np.eye(digits)[y.astype('int32')]\n",
        "Y_new = Y_new.T.reshape(digits, examples)"
      ],
      "execution_count": 0,
      "outputs": []
    },
    {
      "cell_type": "code",
      "metadata": {
        "id": "ZZadENP7gsYw",
        "colab_type": "code",
        "colab": {}
      },
      "source": [
        "m = 60000\n",
        "m_test = X.shape[0] - m\n",
        "\n",
        "X_train, X_test = X[:m].T, X[m:].T\n",
        "Y_train, Y_test = Y_new[:,:m], Y_new[:,m:]\n",
        "\n",
        "shuffle_index = np.random.permutation(m)\n",
        "X_train, Y_train = X_train[:, shuffle_index], Y_train[:, shuffle_index]"
      ],
      "execution_count": 0,
      "outputs": []
    },
    {
      "cell_type": "code",
      "metadata": {
        "id": "cXOEF137iELX",
        "colab_type": "code",
        "colab": {
          "base_uri": "https://localhost:8080/",
          "height": 265
        },
        "outputId": "affb470b-69f5-4106-e3b9-254286f20f98"
      },
      "source": [
        "i = 0\n",
        "plt.imshow(X_train[:,i].reshape(28,28), cmap = matplotlib.cm.binary)\n",
        "plt.axis(\"off\")\n",
        "plt.show()\n",
        "Y_train[:,i]"
      ],
      "execution_count": 22,
      "outputs": [
        {
          "output_type": "display_data",
          "data": {
            "image/png": "[encoded data removed]",
            "text/plain": [
              "<Figure size 432x288 with 1 Axes>"
            ]
          },
          "metadata": {
            "tags": []
          }
        },
        {
          "output_type": "execute_result",
          "data": {
            "text/plain": [
              "array([0., 0., 0., 0., 1., 0., 0., 0., 0., 0.])"
            ]
          },
          "metadata": {
            "tags": []
          },
          "execution_count": 22
        }
      ]
    },
    {
      "cell_type": "code",
      "metadata": {
        "id": "wUXrrNh_iHif",
        "colab_type": "code",
        "colab": {}
      },
      "source": [
        "def compute_multiclass_loss(Y, Y_hat):\n",
        "\n",
        "    L_sum = np.sum(np.multiply(Y, np.log(Y_hat)))\n",
        "    m = Y.shape[1]\n",
        "    L = -(1/m) * L_sum\n",
        "\n",
        "    return L"
      ],
      "execution_count": 0,
      "outputs": []
    },
    {
      "cell_type": "code",
      "metadata": {
        "id": "Z8xeGx0QiMeJ",
        "colab_type": "code",
        "colab": {
          "base_uri": "https://localhost:8080/",
          "height": 374
        },
        "outputId": "dd285333-301b-466b-bbea-8249a8dc6fe4"
      },
      "source": [
        "n_x = X_train.shape[0]\n",
        "n_h = 64\n",
        "learning_rate = 1\n",
        "\n",
        "W1 = np.random.randn(n_h, n_x)\n",
        "b1 = np.zeros((n_h, 1))\n",
        "W2 = np.random.randn(digits, n_h)\n",
        "b2 = np.zeros((digits, 1))\n",
        "\n",
        "X = X_train\n",
        "Y = Y_train\n",
        "\n",
        "for i in range(2000):\n",
        "\n",
        "    Z1 = np.matmul(W1,X) + b1\n",
        "    A1 = sigmoid(Z1)\n",
        "    Z2 = np.matmul(W2,A1) + b2\n",
        "    A2 = np.exp(Z2) / np.sum(np.exp(Z2), axis=0)\n",
        "\n",
        "    cost = compute_multiclass_loss(Y, A2)\n",
        "\n",
        "    dZ2 = A2-Y\n",
        "    dW2 = (1./m) * np.matmul(dZ2, A1.T)\n",
        "    db2 = (1./m) * np.sum(dZ2, axis=1, keepdims=True)\n",
        "\n",
        "    dA1 = np.matmul(W2.T, dZ2)\n",
        "    dZ1 = dA1 * sigmoid(Z1) * (1 - sigmoid(Z1))\n",
        "    dW1 = (1./m) * np.matmul(dZ1, X.T)\n",
        "    db1 = (1./m) * np.sum(dZ1, axis=1, keepdims=True)\n",
        "\n",
        "    W2 = W2 - learning_rate * dW2\n",
        "    b2 = b2 - learning_rate * db2\n",
        "    W1 = W1 - learning_rate * dW1\n",
        "    b1 = b1 - learning_rate * db1\n",
        "\n",
        "    if (i % 100 == 0):\n",
        "        print(\"Epoch\", i, \"cost: \", cost)\n",
        "\n",
        "print(\"Final cost:\", cost)"
      ],
      "execution_count": 24,
      "outputs": [
        {
          "output_type": "stream",
          "text": [
            "Epoch 0 cost:  9.243960401572568\n",
            "Epoch 100 cost:  0.7134535660524418\n",
            "Epoch 200 cost:  0.5462884158664557\n",
            "Epoch 300 cost:  0.47407667199219733\n",
            "Epoch 400 cost:  0.43044019480309753\n",
            "Epoch 500 cost:  0.39974027536329576\n",
            "Epoch 600 cost:  0.37618936761727756\n",
            "Epoch 700 cost:  0.3571353999524551\n",
            "Epoch 800 cost:  0.3411506935592258\n",
            "Epoch 900 cost:  0.3273860548790497\n",
            "Epoch 1000 cost:  0.31529820788285273\n",
            "Epoch 1100 cost:  0.3045201747693517\n",
            "Epoch 1200 cost:  0.2947990122905445\n",
            "Epoch 1300 cost:  0.28596041334605765\n",
            "Epoch 1400 cost:  0.2778797990892058\n",
            "Epoch 1500 cost:  0.2704589456045861\n",
            "Epoch 1600 cost:  0.2636138261391982\n",
            "Epoch 1700 cost:  0.25727120702766354\n",
            "Epoch 1800 cost:  0.2513681959844856\n",
            "Epoch 1900 cost:  0.24585173887243106\n",
            "Final cost: 0.2407277687787012\n"
          ],
          "name": "stdout"
        }
      ]
    },
    {
      "cell_type": "code",
      "metadata": {
        "id": "SBetleZNiPkg",
        "colab_type": "code",
        "colab": {
          "base_uri": "https://localhost:8080/",
          "height": 476
        },
        "outputId": "da8db1c8-4dba-430d-9ce8-4b07026de119"
      },
      "source": [
        "Z1 = np.matmul(W1, X_test) + b1\n",
        "A1 = sigmoid(Z1)\n",
        "Z2 = np.matmul(W2, A1) + b2\n",
        "A2 = np.exp(Z2) / np.sum(np.exp(Z2), axis=0)\n",
        "\n",
        "predictions = np.argmax(A2, axis=0)\n",
        "labels = np.argmax(Y_test, axis=0)\n",
        "\n",
        "print(confusion_matrix(predictions, labels))\n",
        "print(classification_report(predictions, labels))"
      ],
      "execution_count": 25,
      "outputs": [
        {
          "output_type": "stream",
          "text": [
            "[[ 946    0   14    3    3   10   12    2    9    4]\n",
            " [   0 1112    3    2    1    1    2    8    3    4]\n",
            " [   3    4  937   24   10    7    8   18    8    3]\n",
            " [   4    2   17  924    1   39    4   13   26    9]\n",
            " [   0    1   10    0  905    9   11    9   10   40]\n",
            " [  12    5    2   26    3  786   15    3   24   14]\n",
            " [   8    1   19    2    9   10  902    1    9    1]\n",
            " [   2    1   13   14    3    5    1  946    9   25]\n",
            " [   5    9   16   11    5   18    3    5  868    9]\n",
            " [   0    0    1    4   42    7    0   23    8  900]]\n",
            "              precision    recall  f1-score   support\n",
            "\n",
            "           0       0.97      0.94      0.95      1003\n",
            "           1       0.98      0.98      0.98      1136\n",
            "           2       0.91      0.92      0.91      1022\n",
            "           3       0.91      0.89      0.90      1039\n",
            "           4       0.92      0.91      0.92       995\n",
            "           5       0.88      0.88      0.88       890\n",
            "           6       0.94      0.94      0.94       962\n",
            "           7       0.92      0.93      0.92      1019\n",
            "           8       0.89      0.91      0.90       949\n",
            "           9       0.89      0.91      0.90       985\n",
            "\n",
            "    accuracy                           0.92     10000\n",
            "   macro avg       0.92      0.92      0.92     10000\n",
            "weighted avg       0.92      0.92      0.92     10000\n",
            "\n"
          ],
          "name": "stdout"
        }
      ]
    },
    {
      "cell_type": "markdown",
      "metadata": {
        "id": "WoNMN0CnPwfQ",
        "colab_type": "text"
      },
      "source": [
        "***Results above shows*** 92% Accuracy, lets try to improve Accuracy \n",
        "using MiniBatch as below"
      ]
    },
    {
      "cell_type": "markdown",
      "metadata": {
        "id": "wByyD8u6K5-x",
        "colab_type": "text"
      },
      "source": [
        "###Using Mini-Batch to improve the Accuracy"
      ]
    },
    {
      "cell_type": "code",
      "metadata": {
        "id": "9l9I4xU2pvCk",
        "colab_type": "code",
        "colab": {}
      },
      "source": [
        "from sklearn.datasets import fetch_openml\n",
        "from sklearn.metrics import classification_report, confusion_matrix\n",
        "import numpy as np\n",
        "\n",
        "# import\n",
        "mnist = fetch_openml('mnist_784')\n",
        "X, y = mnist[\"data\"], mnist[\"target\"]\n",
        "\n",
        "# scale\n",
        "X = X / 255\n",
        "\n",
        "# one-hot encode labels\n",
        "digits = 10\n",
        "examples = y.shape[0]\n",
        "y = y.reshape(1, examples)\n",
        "Y_new = np.eye(digits)[y.astype('int32')]\n",
        "Y_new = Y_new.T.reshape(digits, examples)\n",
        "\n",
        "# split, reshape, shuffle\n",
        "m = 60000\n",
        "m_test = X.shape[0] - m\n",
        "X_train, X_test = X[:m].T, X[m:].T\n",
        "Y_train, Y_test = Y_new[:,:m], Y_new[:,m:]\n",
        "shuffle_index = np.random.permutation(m)\n",
        "X_train, Y_train = X_train[:, shuffle_index], Y_train[:, shuffle_index]"
      ],
      "execution_count": 0,
      "outputs": []
    },
    {
      "cell_type": "code",
      "metadata": {
        "id": "n6m8MVuc4ngN",
        "colab_type": "code",
        "colab": {}
      },
      "source": [
        "def sigmoid(z):\n",
        "    s = 1. / (1. + np.exp(-z))\n",
        "    return s\n",
        "\n",
        "def compute_loss(Y, Y_hat):\n",
        "\n",
        "    L_sum = np.sum(np.multiply(Y, np.log(Y_hat)))\n",
        "    m = Y.shape[1]\n",
        "    L = -(1./m) * L_sum\n",
        "\n",
        "    return L\n",
        "\n",
        "def feed_forward(X, params):\n",
        "\n",
        "    cache = {}\n",
        "\n",
        "    cache[\"Z1\"] = np.matmul(params[\"W1\"], X) + params[\"b1\"]\n",
        "    cache[\"A1\"] = sigmoid(cache[\"Z1\"])\n",
        "    cache[\"Z2\"] = np.matmul(params[\"W2\"], cache[\"A1\"]) + params[\"b2\"]\n",
        "    cache[\"A2\"] = np.exp(cache[\"Z2\"]) / np.sum(np.exp(cache[\"Z2\"]), axis=0)\n",
        "\n",
        "    return cache\n",
        "\n",
        "def back_propagate(X, Y, params, cache):\n",
        "\n",
        "    dZ2 = cache[\"A2\"] - Y\n",
        "    dW2 = (1./m_batch) * np.matmul(dZ2, cache[\"A1\"].T)\n",
        "    db2 = (1./m_batch) * np.sum(dZ2, axis=1, keepdims=True)\n",
        "\n",
        "    dA1 = np.matmul(params[\"W2\"].T, dZ2)\n",
        "    dZ1 = dA1 * sigmoid(cache[\"Z1\"]) * (1 - sigmoid(cache[\"Z1\"]))\n",
        "    dW1 = (1./m_batch) * np.matmul(dZ1, X.T)\n",
        "    db1 = (1./m_batch) * np.sum(dZ1, axis=1, keepdims=True)\n",
        "\n",
        "    grads = {\"dW1\": dW1, \"db1\": db1, \"dW2\": dW2, \"db2\": db2}\n",
        "\n",
        "    return grads"
      ],
      "execution_count": 0,
      "outputs": []
    },
    {
      "cell_type": "code",
      "metadata": {
        "id": "MI6buZ3G4z4M",
        "colab_type": "code",
        "colab": {
          "base_uri": "https://localhost:8080/",
          "height": 170
        },
        "outputId": "a8fac61d-06f6-4996-cc94-384739bb1256"
      },
      "source": [
        "np.random.seed(138)\n",
        "\n",
        "# hyperparameters\n",
        "n_x = X_train.shape[0]\n",
        "n_h = 64\n",
        "learning_rate = 4\n",
        "beta = .9\n",
        "batch_size = 128\n",
        "batches = -(-m // batch_size)\n",
        "\n",
        "# initialization\n",
        "params = { \"W1\": np.random.randn(n_h, n_x) * np.sqrt(1. / n_x),\n",
        "           \"b1\": np.zeros((n_h, 1)) * np.sqrt(1. / n_x),\n",
        "           \"W2\": np.random.randn(digits, n_h) * np.sqrt(1. / n_h),\n",
        "           \"b2\": np.zeros((digits, 1)) * np.sqrt(1. / n_h) }\n",
        "\n",
        "V_dW1 = np.zeros(params[\"W1\"].shape)\n",
        "V_db1 = np.zeros(params[\"b1\"].shape)\n",
        "V_dW2 = np.zeros(params[\"W2\"].shape)\n",
        "V_db2 = np.zeros(params[\"b2\"].shape)\n",
        "\n",
        "# train\n",
        "for i in range(9):\n",
        "\n",
        "    permutation = np.random.permutation(X_train.shape[1])\n",
        "    X_train_shuffled = X_train[:, permutation]\n",
        "    Y_train_shuffled = Y_train[:, permutation]\n",
        "\n",
        "    for j in range(batches):\n",
        "\n",
        "        begin = j * batch_size\n",
        "        end = min(begin + batch_size, X_train.shape[1] - 1)\n",
        "        X = X_train_shuffled[:, begin:end]\n",
        "        Y = Y_train_shuffled[:, begin:end]\n",
        "        m_batch = end - begin\n",
        "\n",
        "        cache = feed_forward(X, params)\n",
        "        grads = back_propagate(X, Y, params, cache)\n",
        "\n",
        "        V_dW1 = (beta * V_dW1 + (1. - beta) * grads[\"dW1\"])\n",
        "        V_db1 = (beta * V_db1 + (1. - beta) * grads[\"db1\"])\n",
        "        V_dW2 = (beta * V_dW2 + (1. - beta) * grads[\"dW2\"])\n",
        "        V_db2 = (beta * V_db2 + (1. - beta) * grads[\"db2\"])\n",
        "\n",
        "        params[\"W1\"] = params[\"W1\"] - learning_rate * V_dW1\n",
        "        params[\"b1\"] = params[\"b1\"] - learning_rate * V_db1\n",
        "        params[\"W2\"] = params[\"W2\"] - learning_rate * V_dW2\n",
        "        params[\"b2\"] = params[\"b2\"] - learning_rate * V_db2\n",
        "\n",
        "    cache = feed_forward(X_train, params)\n",
        "    train_cost = compute_loss(Y_train, cache[\"A2\"])\n",
        "    cache = feed_forward(X_test, params)\n",
        "    test_cost = compute_loss(Y_test, cache[\"A2\"])\n",
        "    print(\"Epoch {}: training cost = {}, test cost = {}\".format(i+1 ,train_cost, test_cost))\n"
      ],
      "execution_count": 28,
      "outputs": [
        {
          "output_type": "stream",
          "text": [
            "Epoch 1: training cost = 0.1439031436236452, test cost = 0.1511736548242371\n",
            "Epoch 2: training cost = 0.10489176568318043, test cost = 0.12610724015866995\n",
            "Epoch 3: training cost = 0.07117930521816553, test cost = 0.09626734182364376\n",
            "Epoch 4: training cost = 0.06600111178883296, test cost = 0.09936163676388744\n",
            "Epoch 5: training cost = 0.05756855595152053, test cost = 0.09925853745145528\n",
            "Epoch 6: training cost = 0.04501687135832394, test cost = 0.09269754521483653\n",
            "Epoch 7: training cost = 0.03875753183632057, test cost = 0.08777017769662733\n",
            "Epoch 8: training cost = 0.03416242751801321, test cost = 0.08937063034186807\n",
            "Epoch 9: training cost = 0.02949779822183466, test cost = 0.08438243311975083\n"
          ],
          "name": "stdout"
        }
      ]
    },
    {
      "cell_type": "code",
      "metadata": {
        "id": "i2KfpD3R46HV",
        "colab_type": "code",
        "colab": {
          "base_uri": "https://localhost:8080/",
          "height": 306
        },
        "outputId": "01d7fa71-5962-48fe-f53f-25c3ae7ea457"
      },
      "source": [
        "cache = feed_forward(X_test, params)\n",
        "predictions = np.argmax(cache[\"A2\"], axis=0)\n",
        "labels = np.argmax(Y_test, axis=0)\n",
        "\n",
        "print(classification_report(predictions, labels))"
      ],
      "execution_count": 29,
      "outputs": [
        {
          "output_type": "stream",
          "text": [
            "              precision    recall  f1-score   support\n",
            "\n",
            "           0       0.99      0.98      0.98       988\n",
            "           1       0.99      0.99      0.99      1145\n",
            "           2       0.98      0.97      0.97      1040\n",
            "           3       0.97      0.98      0.97       993\n",
            "           4       0.97      0.98      0.98       970\n",
            "           5       0.98      0.96      0.97       909\n",
            "           6       0.98      0.98      0.98       959\n",
            "           7       0.98      0.96      0.97      1047\n",
            "           8       0.96      0.98      0.97       946\n",
            "           9       0.97      0.97      0.97      1003\n",
            "\n",
            "    accuracy                           0.98     10000\n",
            "   macro avg       0.98      0.98      0.98     10000\n",
            "weighted avg       0.98      0.98      0.98     10000\n",
            "\n"
          ],
          "name": "stdout"
        }
      ]
    },
    {
      "cell_type": "markdown",
      "metadata": {
        "id": "bD9Rx61fQB4j",
        "colab_type": "text"
      },
      "source": [
        "***Results Above*** shows 97% Accuracy using Mini Batch and Sigmoid Activation Function.\n",
        "\n",
        "\n",
        "***1.   Now Lets try using ReLU Activation Function***\n",
        "\n",
        "\n"
      ]
    },
    {
      "cell_type": "code",
      "metadata": {
        "id": "VeVwxeLB9Ap-",
        "colab_type": "code",
        "colab": {}
      },
      "source": [
        "def relu(x):\n",
        "    y=x\n",
        "    for i in range(x.shape[0]):\n",
        "        y[i]=np.maximum(0,x[i])\n",
        "    return y\n",
        "\n",
        "def relu_derivative(x):\n",
        "    y=x\n",
        "    for i in range(x.shape[0]):\n",
        "        for j in range(x.shape[1]):\n",
        "            if(x[i][j]>0.0):\n",
        "                y[i][j]= 1.0\n",
        "            else:\n",
        "                y[i][j]= 0.0\n",
        "    return y\n",
        "\n",
        "def compute_loss(Y, Y_hat):\n",
        "\n",
        "    L_sum = np.sum(np.multiply(Y, np.log(Y_hat)))\n",
        "    m = Y.shape[1]\n",
        "    L = -(1./m) * L_sum\n",
        "\n",
        "    return L\n",
        "\n",
        "def feed_forward(X, params):\n",
        "\n",
        "    cache = {}\n",
        "\n",
        "    cache[\"Z1\"] = np.matmul(params[\"W1\"], X) + params[\"b1\"]\n",
        "    cache[\"A1\"] = relu(cache[\"Z1\"])\n",
        "    cache[\"Z2\"] = np.matmul(params[\"W2\"], cache[\"A1\"]) + params[\"b2\"]\n",
        "    cache[\"A2\"] = np.exp(cache[\"Z2\"]) / np.sum(np.exp(cache[\"Z2\"]), axis=0)\n",
        "\n",
        "    return cache\n",
        "\n",
        "def back_propagate(X, Y, params, cache):\n",
        "\n",
        "    dZ2 = cache[\"A2\"] - Y\n",
        "    dW2 = (1./m_batch) * np.matmul(dZ2, cache[\"A1\"].T)\n",
        "    db2 = (1./m_batch) * np.sum(dZ2, axis=1, keepdims=True)\n",
        "\n",
        "    dA1 = np.matmul(params[\"W2\"].T, dZ2)\n",
        "    dZ1 = dA1 * relu_derivative(cache[\"Z1\"])\n",
        "    #relu(cache[\"Z1\"]) * (1 - relu(cache[\"Z1\"]))\n",
        "    dW1 = (1./m_batch) * np.matmul(dZ1, X.T)\n",
        "    db1 = (1./m_batch) * np.sum(dZ1, axis=1, keepdims=True)\n",
        "\n",
        "    grads = {\"dW1\": dW1, \"db1\": db1, \"dW2\": dW2, \"db2\": db2}\n",
        "\n",
        "    return grads"
      ],
      "execution_count": 0,
      "outputs": []
    },
    {
      "cell_type": "code",
      "metadata": {
        "id": "qGmD0dM49iVy",
        "colab_type": "code",
        "colab": {
          "base_uri": "https://localhost:8080/",
          "height": 170
        },
        "outputId": "070336a0-cc68-42a0-d73d-f8470a7926ce"
      },
      "source": [
        "np.random.seed(138)\n",
        "\n",
        "# Hyperparameters\n",
        "n_x = X_train.shape[0]\n",
        "n_h = 64\n",
        "learning_rate = 1\n",
        "beta = .9\n",
        "batch_size = 256\n",
        "batches = -(-m // batch_size)\n",
        "\n",
        "# Weight and Bias Initialization\n",
        "params = { \"W1\": np.random.randn(n_h, n_x) * np.sqrt(1. / n_x),\n",
        "           \"b1\": np.zeros((n_h, 1)) * np.sqrt(1. / n_x),\n",
        "           \"W2\": np.random.randn(digits, n_h) * np.sqrt(1. / n_h),\n",
        "           \"b2\": np.zeros((digits, 1)) * np.sqrt(1. / n_h) }\n",
        "\n",
        "V_dW1 = np.zeros(params[\"W1\"].shape)\n",
        "V_db1 = np.zeros(params[\"b1\"].shape)\n",
        "V_dW2 = np.zeros(params[\"W2\"].shape)\n",
        "V_db2 = np.zeros(params[\"b2\"].shape)\n",
        "\n",
        "# Network Training\n",
        "for i in range(9):\n",
        "\n",
        "    permutation = np.random.permutation(X_train.shape[1])\n",
        "    X_train_shuffled = X_train[:, permutation]\n",
        "    Y_train_shuffled = Y_train[:, permutation]\n",
        "\n",
        "    for j in range(batches):\n",
        "\n",
        "        begin = j * batch_size\n",
        "        end = min(begin + batch_size, X_train.shape[1] - 1)\n",
        "        X = X_train_shuffled[:, begin:end]\n",
        "        Y = Y_train_shuffled[:, begin:end]\n",
        "        m_batch = end - begin\n",
        "\n",
        "        cache = feed_forward(X, params)\n",
        "        grads = back_propagate(X, Y, params, cache)\n",
        "\n",
        "        V_dW1 = (beta * V_dW1 + (1. - beta) * grads[\"dW1\"])\n",
        "        V_db1 = (beta * V_db1 + (1. - beta) * grads[\"db1\"])\n",
        "        V_dW2 = (beta * V_dW2 + (1. - beta) * grads[\"dW2\"])\n",
        "        V_db2 = (beta * V_db2 + (1. - beta) * grads[\"db2\"])\n",
        "\n",
        "        params[\"W1\"] = params[\"W1\"] - learning_rate * V_dW1\n",
        "        params[\"b1\"] = params[\"b1\"] - learning_rate * V_db1\n",
        "        params[\"W2\"] = params[\"W2\"] - learning_rate * V_dW2\n",
        "        params[\"b2\"] = params[\"b2\"] - learning_rate * V_db2\n",
        "\n",
        "    cache = feed_forward(X_train, params)\n",
        "    train_cost = compute_loss(Y_train, cache[\"A2\"])\n",
        "    cache = feed_forward(X_test, params)\n",
        "    test_cost = compute_loss(Y_test, cache[\"A2\"])\n",
        "    print(\"Epoch {}: training cost = {}, test cost = {}\".format(i+1 ,train_cost, test_cost))\n"
      ],
      "execution_count": 31,
      "outputs": [
        {
          "output_type": "stream",
          "text": [
            "Epoch 1: training cost = 0.18401715033927113, test cost = 0.18216641852440757\n",
            "Epoch 2: training cost = 0.1348218657673786, test cost = 0.14641685916673933\n",
            "Epoch 3: training cost = 0.10140553984585593, test cost = 0.11749298342409743\n",
            "Epoch 4: training cost = 0.0863932941884768, test cost = 0.10857196084942551\n",
            "Epoch 5: training cost = 0.06625172663672982, test cost = 0.0970926139014988\n",
            "Epoch 6: training cost = 0.05676340230216141, test cost = 0.08962294890600608\n",
            "Epoch 7: training cost = 0.046428157668609984, test cost = 0.08512529990175673\n",
            "Epoch 8: training cost = 0.04124533450029761, test cost = 0.08241050517961715\n",
            "Epoch 9: training cost = 0.037820958324816654, test cost = 0.08234959365406996\n"
          ],
          "name": "stdout"
        }
      ]
    },
    {
      "cell_type": "code",
      "metadata": {
        "id": "YVAzPauw9s2h",
        "colab_type": "code",
        "colab": {
          "base_uri": "https://localhost:8080/",
          "height": 306
        },
        "outputId": "b30b5591-b10c-4646-a7b3-5a48603a26b0"
      },
      "source": [
        "cache = feed_forward(X_test, params)\n",
        "predictions = np.argmax(cache[\"A2\"], axis=0)\n",
        "labels = np.argmax(Y_test, axis=0)\n",
        "\n",
        "print(classification_report(predictions, labels))"
      ],
      "execution_count": 32,
      "outputs": [
        {
          "output_type": "stream",
          "text": [
            "              precision    recall  f1-score   support\n",
            "\n",
            "           0       0.98      0.98      0.98       972\n",
            "           1       0.99      0.99      0.99      1136\n",
            "           2       0.98      0.97      0.98      1044\n",
            "           3       0.99      0.96      0.97      1037\n",
            "           4       0.97      0.98      0.98       968\n",
            "           5       0.98      0.98      0.98       891\n",
            "           6       0.98      0.98      0.98       959\n",
            "           7       0.97      0.97      0.97      1031\n",
            "           8       0.95      0.98      0.97       940\n",
            "           9       0.97      0.96      0.96      1022\n",
            "\n",
            "    accuracy                           0.98     10000\n",
            "   macro avg       0.98      0.98      0.98     10000\n",
            "weighted avg       0.98      0.98      0.98     10000\n",
            "\n"
          ],
          "name": "stdout"
        }
      ]
    },
    {
      "cell_type": "markdown",
      "metadata": {
        "id": "RRTmZePLQWam",
        "colab_type": "text"
      },
      "source": [
        "***Results Above Shows*** 98% Accuracy using ReLU Activation Function\n"
      ]
    },
    {
      "cell_type": "markdown",
      "metadata": {
        "id": "Jsg_YJJaRWln",
        "colab_type": "text"
      },
      "source": [
        "***Confusion Matrix***"
      ]
    },
    {
      "cell_type": "code",
      "metadata": {
        "id": "53n8WgMVRSnD",
        "colab_type": "code",
        "colab": {
          "base_uri": "https://localhost:8080/",
          "height": 187
        },
        "outputId": "006f351c-82eb-4d36-a5b5-665561884c9d"
      },
      "source": [
        "print(confusion_matrix(predictions, labels))"
      ],
      "execution_count": 33,
      "outputs": [
        {
          "output_type": "stream",
          "text": [
            "[[ 957    0    2    0    0    2    5    1    2    3]\n",
            " [   0 1125    1    0    1    0    3    3    0    3]\n",
            " [   3    3 1016    2    3    0    0   11    6    0]\n",
            " [   1    2    2  996    0    9    1    4   16    6]\n",
            " [   1    0    1    0  952    0    3    0    3    8]\n",
            " [   4    1    0    1    1  871    3    0    7    3]\n",
            " [   3    1    3    0    4    2  941    0    4    1]\n",
            " [   3    1    6    4    3    3    1  996    7    7]\n",
            " [   3    2    1    1    2    3    1    1  925    1]\n",
            " [   5    0    0    6   16    2    0   12    4  977]]\n"
          ],
          "name": "stdout"
        }
      ]
    }
  ]
}