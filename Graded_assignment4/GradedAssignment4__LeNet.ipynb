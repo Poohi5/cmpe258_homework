{
  "nbformat": 4,
  "nbformat_minor": 0,
  "metadata": {
    "colab": {
      "name": "GradedAssignment4_ LeNet.ipynb",
      "provenance": [],
      "authorship_tag": "ABX9TyOx39rDH3rTNjtF1x2lJHsD",
      "include_colab_link": true
    },
    "kernelspec": {
      "name": "python3",
      "display_name": "Python 3"
    },
    "accelerator": "GPU"
  },
  "cells": [
    {
      "cell_type": "markdown",
      "metadata": {
        "id": "view-in-github",
        "colab_type": "text"
      },
      "source": [
        "<a href=\"https://colab.research.google.com/github/Poohi5/cmpe258_homework/blob/master/Graded_assignment4/GradedAssignment4__LeNet.ipynb\" target=\"_parent\"><img src=\"https://colab.research.google.com/assets/colab-badge.svg\" alt=\"Open In Colab\"/></a>"
      ]
    },
    {
      "cell_type": "markdown",
      "metadata": {
        "id": "vzbdxVMfhW9i",
        "colab_type": "text"
      },
      "source": [
        "#LeNet using Keras in MNIST Dataset"
      ]
    },
    {
      "cell_type": "markdown",
      "metadata": {
        "id": "unCUP0wThchL",
        "colab_type": "text"
      },
      "source": [
        "###Importing modules"
      ]
    },
    {
      "cell_type": "code",
      "metadata": {
        "id": "OUfDqgwlhL0R",
        "colab_type": "code",
        "colab": {}
      },
      "source": [
        "from keras.layers.convolutional import Convolution2D\n",
        "from keras.layers.convolutional import MaxPooling2D\n",
        "from keras.layers.core import Activation\n",
        "from keras.layers.core import Flatten\n",
        "from keras.layers.core import Dense\n",
        "from keras.models import Sequential\n",
        "from keras.optimizers import SGD\n",
        "from keras.utils import np_utils\n",
        "from sklearn.model_selection import train_test_split\n",
        "from sklearn import datasets\n",
        "import numpy as np"
      ],
      "execution_count": 0,
      "outputs": []
    },
    {
      "cell_type": "markdown",
      "metadata": {
        "id": "OIrncgwehirs",
        "colab_type": "text"
      },
      "source": [
        "###Import MNIST dataset"
      ]
    },
    {
      "cell_type": "code",
      "metadata": {
        "id": "W2KlPq4xheQ5",
        "colab_type": "code",
        "colab": {}
      },
      "source": [
        "from sklearn.datasets import fetch_openml\n",
        "mnist = fetch_openml('mnist_784')"
      ],
      "execution_count": 0,
      "outputs": []
    },
    {
      "cell_type": "code",
      "metadata": {
        "id": "0I82-xcDiJ6R",
        "colab_type": "code",
        "colab": {
          "base_uri": "https://localhost:8080/",
          "height": 34
        },
        "outputId": "11014c16-b4fd-463a-a67f-9f9c670584fc"
      },
      "source": [
        "mnist.data.shape"
      ],
      "execution_count": 28,
      "outputs": [
        {
          "output_type": "execute_result",
          "data": {
            "text/plain": [
              "(70000, 784)"
            ]
          },
          "metadata": {
            "tags": []
          },
          "execution_count": 28
        }
      ]
    },
    {
      "cell_type": "markdown",
      "metadata": {
        "id": "mtaebjG5iHZz",
        "colab_type": "text"
      },
      "source": [
        "###Reshape data"
      ]
    },
    {
      "cell_type": "code",
      "metadata": {
        "id": "dVAX605ihlVB",
        "colab_type": "code",
        "colab": {}
      },
      "source": [
        "data = mnist.data.reshape((mnist.data.shape[0], 28, 28))"
      ],
      "execution_count": 0,
      "outputs": []
    },
    {
      "cell_type": "code",
      "metadata": {
        "id": "U7fumYfhiJAn",
        "colab_type": "code",
        "colab": {
          "base_uri": "https://localhost:8080/",
          "height": 34
        },
        "outputId": "3065a3cc-107e-4881-ddfa-89af0da1907f"
      },
      "source": [
        "data.shape"
      ],
      "execution_count": 30,
      "outputs": [
        {
          "output_type": "execute_result",
          "data": {
            "text/plain": [
              "(70000, 28, 28)"
            ]
          },
          "metadata": {
            "tags": []
          },
          "execution_count": 30
        }
      ]
    },
    {
      "cell_type": "markdown",
      "metadata": {
        "id": "mTuuuPWgiUM8",
        "colab_type": "text"
      },
      "source": [
        "###Reshape the data to a (70000, 28, 28, 1) tensor"
      ]
    },
    {
      "cell_type": "code",
      "metadata": {
        "id": "iQrdhpsFiNu2",
        "colab_type": "code",
        "colab": {}
      },
      "source": [
        "data = data[:, :, :, np.newaxis]"
      ],
      "execution_count": 0,
      "outputs": []
    },
    {
      "cell_type": "code",
      "metadata": {
        "id": "SzkS1_jbiTtm",
        "colab_type": "code",
        "colab": {
          "base_uri": "https://localhost:8080/",
          "height": 34
        },
        "outputId": "2ef43d22-77e1-4597-c773-2658ae416abb"
      },
      "source": [
        "data.shape"
      ],
      "execution_count": 32,
      "outputs": [
        {
          "output_type": "execute_result",
          "data": {
            "text/plain": [
              "(70000, 28, 28, 1)"
            ]
          },
          "metadata": {
            "tags": []
          },
          "execution_count": 32
        }
      ]
    },
    {
      "cell_type": "markdown",
      "metadata": {
        "id": "XioHW-TUicOr",
        "colab_type": "text"
      },
      "source": [
        "###Normalize data"
      ]
    },
    {
      "cell_type": "code",
      "metadata": {
        "id": "E0JVDHxRiZcA",
        "colab_type": "code",
        "colab": {}
      },
      "source": [
        "scaled_data = data / 255.0"
      ],
      "execution_count": 0,
      "outputs": []
    },
    {
      "cell_type": "markdown",
      "metadata": {
        "id": "dbuuk7MjigA2",
        "colab_type": "text"
      },
      "source": [
        "Train Test Split"
      ]
    },
    {
      "cell_type": "code",
      "metadata": {
        "id": "So_Pl0ZdieKY",
        "colab_type": "code",
        "colab": {}
      },
      "source": [
        "(train_data, test_data, train_labels, test_labels) = train_test_split(\n",
        "    scaled_data,\n",
        "    mnist.target.astype(\"int\"), \n",
        "    test_size = 0.33)"
      ],
      "execution_count": 0,
      "outputs": []
    },
    {
      "cell_type": "markdown",
      "metadata": {
        "id": "jxHmNdOyirRp",
        "colab_type": "text"
      },
      "source": [
        "###One hot encoding"
      ]
    },
    {
      "cell_type": "code",
      "metadata": {
        "id": "NBHOnRWtih5w",
        "colab_type": "code",
        "colab": {}
      },
      "source": [
        "train_labels = np_utils.to_categorical(train_labels, 10)"
      ],
      "execution_count": 0,
      "outputs": []
    },
    {
      "cell_type": "code",
      "metadata": {
        "id": "nuzphcdmiunT",
        "colab_type": "code",
        "colab": {}
      },
      "source": [
        "test_labels = np_utils.to_categorical(test_labels, 10)"
      ],
      "execution_count": 0,
      "outputs": []
    },
    {
      "cell_type": "markdown",
      "metadata": {
        "id": "dGx1X9eNiyTs",
        "colab_type": "text"
      },
      "source": [
        "###Keras Sequential Model"
      ]
    },
    {
      "cell_type": "code",
      "metadata": {
        "id": "fx13vab0iv3C",
        "colab_type": "code",
        "colab": {}
      },
      "source": [
        "mymodel = Sequential()"
      ],
      "execution_count": 0,
      "outputs": []
    },
    {
      "cell_type": "code",
      "metadata": {
        "id": "Ra22JnIVi5_1",
        "colab_type": "code",
        "colab": {}
      },
      "source": [
        "mymodel.add(Convolution2D(\n",
        "    filters = 20,\n",
        "    kernel_size = (5, 5),\n",
        "    padding = \"same\",\n",
        "    input_shape = (28, 28, 1)))"
      ],
      "execution_count": 0,
      "outputs": []
    },
    {
      "cell_type": "markdown",
      "metadata": {
        "id": "JO4UWlZEjALk",
        "colab_type": "text"
      },
      "source": [
        "###Acti Function"
      ]
    },
    {
      "cell_type": "code",
      "metadata": {
        "id": "GygBr0E1i8Pi",
        "colab_type": "code",
        "colab": {}
      },
      "source": [
        "mymodel.add(Activation(\n",
        "    activation = \"relu\"))"
      ],
      "execution_count": 0,
      "outputs": []
    },
    {
      "cell_type": "markdown",
      "metadata": {
        "id": "8NGWNpYyjETO",
        "colab_type": "text"
      },
      "source": [
        "###Add Pooling layer"
      ]
    },
    {
      "cell_type": "code",
      "metadata": {
        "id": "MBWKLW9kjBu0",
        "colab_type": "code",
        "colab": {}
      },
      "source": [
        "mymodel.add(MaxPooling2D(\n",
        "    pool_size = (2, 2),\n",
        "    strides =  (2, 2)))"
      ],
      "execution_count": 0,
      "outputs": []
    },
    {
      "cell_type": "code",
      "metadata": {
        "id": "2mowAkrHjGVN",
        "colab_type": "code",
        "colab": {}
      },
      "source": [
        "mymodel.add(Convolution2D(\n",
        "    filters = 50,\n",
        "    kernel_size = (5, 5),\n",
        "    padding = \"same\"))\n"
      ],
      "execution_count": 0,
      "outputs": []
    },
    {
      "cell_type": "code",
      "metadata": {
        "id": "bofsU-odjKV2",
        "colab_type": "code",
        "colab": {}
      },
      "source": [
        "mymodel.add(Activation(\n",
        "    activation = \"relu\"))"
      ],
      "execution_count": 0,
      "outputs": []
    },
    {
      "cell_type": "code",
      "metadata": {
        "id": "GzCF7I36jM4-",
        "colab_type": "code",
        "colab": {}
      },
      "source": [
        "mymodel.add(MaxPooling2D(\n",
        "    pool_size = (2, 2),\n",
        "    strides = (2, 2)))"
      ],
      "execution_count": 0,
      "outputs": []
    },
    {
      "cell_type": "code",
      "metadata": {
        "id": "rR4K63MbjPCG",
        "colab_type": "code",
        "colab": {}
      },
      "source": [
        "# Flatten the network\n",
        "mymodel.add(Flatten())\n",
        "\n",
        "# Add a fully-connected hidden layer\n",
        "mymodel.add(Dense(500))\n",
        "\n",
        "# Add a ReLU activation function\n",
        "mymodel.add(Activation(\n",
        "    activation = \"relu\"))\n",
        "\n",
        "# Add a fully-connected output layer\n",
        "mymodel.add(Dense(10))\n",
        "\n",
        "# Add a softmax activation function\n",
        "mymodel.add(Activation(\"softmax\"))\n"
      ],
      "execution_count": 0,
      "outputs": []
    },
    {
      "cell_type": "markdown",
      "metadata": {
        "id": "AJpsDN4Emola",
        "colab_type": "text"
      },
      "source": [
        "#### Compile the network"
      ]
    },
    {
      "cell_type": "code",
      "metadata": {
        "id": "loINaCmJjVhH",
        "colab_type": "code",
        "colab": {}
      },
      "source": [
        "mymodel.compile(\n",
        "    loss = \"categorical_crossentropy\", \n",
        "    optimizer = SGD(lr = 0.01),\n",
        "    metrics = [\"accuracy\"])\n"
      ],
      "execution_count": 0,
      "outputs": []
    },
    {
      "cell_type": "markdown",
      "metadata": {
        "id": "GjJxGP2smqNH",
        "colab_type": "text"
      },
      "source": [
        "#### Train the model "
      ]
    },
    {
      "cell_type": "code",
      "metadata": {
        "id": "CgDyFG5fjXjn",
        "colab_type": "code",
        "colab": {
          "base_uri": "https://localhost:8080/",
          "height": 714
        },
        "outputId": "d5ae63f8-5d4a-4b45-d106-afc81d89daf5"
      },
      "source": [
        "mymodel.fit(\n",
        "    train_data, \n",
        "    train_labels, \n",
        "    batch_size = 128, \n",
        "    epochs = 20,\n",
        "\t  verbose = 1)"
      ],
      "execution_count": 46,
      "outputs": [
        {
          "output_type": "stream",
          "text": [
            "Epoch 1/20\n",
            "46900/46900 [==============================] - 3s 56us/step - loss: 1.1000 - accuracy: 0.7066\n",
            "Epoch 2/20\n",
            "46900/46900 [==============================] - 3s 53us/step - loss: 0.2880 - accuracy: 0.9146\n",
            "Epoch 3/20\n",
            "46900/46900 [==============================] - 3s 54us/step - loss: 0.2078 - accuracy: 0.9372\n",
            "Epoch 4/20\n",
            "46900/46900 [==============================] - 3s 54us/step - loss: 0.1662 - accuracy: 0.9504\n",
            "Epoch 5/20\n",
            "46900/46900 [==============================] - 3s 53us/step - loss: 0.1369 - accuracy: 0.9590\n",
            "Epoch 6/20\n",
            "46900/46900 [==============================] - 3s 54us/step - loss: 0.1173 - accuracy: 0.9649\n",
            "Epoch 7/20\n",
            "46900/46900 [==============================] - 3s 54us/step - loss: 0.1033 - accuracy: 0.9698\n",
            "Epoch 8/20\n",
            "46900/46900 [==============================] - 3s 54us/step - loss: 0.0914 - accuracy: 0.9724\n",
            "Epoch 9/20\n",
            "46900/46900 [==============================] - 3s 54us/step - loss: 0.0820 - accuracy: 0.9752\n",
            "Epoch 10/20\n",
            "46900/46900 [==============================] - 3s 54us/step - loss: 0.0754 - accuracy: 0.9771\n",
            "Epoch 11/20\n",
            "46900/46900 [==============================] - 3s 54us/step - loss: 0.0707 - accuracy: 0.9788\n",
            "Epoch 12/20\n",
            "46900/46900 [==============================] - 2s 53us/step - loss: 0.0648 - accuracy: 0.9805\n",
            "Epoch 13/20\n",
            "46900/46900 [==============================] - 3s 54us/step - loss: 0.0614 - accuracy: 0.9816\n",
            "Epoch 14/20\n",
            "46900/46900 [==============================] - 3s 54us/step - loss: 0.0571 - accuracy: 0.9826\n",
            "Epoch 15/20\n",
            "46900/46900 [==============================] - 3s 54us/step - loss: 0.0545 - accuracy: 0.9837\n",
            "Epoch 16/20\n",
            "46900/46900 [==============================] - 3s 54us/step - loss: 0.0511 - accuracy: 0.9841\n",
            "Epoch 17/20\n",
            "46900/46900 [==============================] - 3s 55us/step - loss: 0.0489 - accuracy: 0.9851\n",
            "Epoch 18/20\n",
            "46900/46900 [==============================] - 3s 54us/step - loss: 0.0465 - accuracy: 0.9854\n",
            "Epoch 19/20\n",
            "46900/46900 [==============================] - 3s 53us/step - loss: 0.0448 - accuracy: 0.9862\n",
            "Epoch 20/20\n",
            "46900/46900 [==============================] - 3s 54us/step - loss: 0.0429 - accuracy: 0.9871\n"
          ],
          "name": "stdout"
        },
        {
          "output_type": "execute_result",
          "data": {
            "text/plain": [
              "<keras.callbacks.callbacks.History at 0x7f0587d32828>"
            ]
          },
          "metadata": {
            "tags": []
          },
          "execution_count": 46
        }
      ]
    },
    {
      "cell_type": "markdown",
      "metadata": {
        "id": "GZKScJT4mtw8",
        "colab_type": "text"
      },
      "source": [
        "#### Evaluate the model"
      ]
    },
    {
      "cell_type": "code",
      "metadata": {
        "id": "BRZbAA84jZp3",
        "colab_type": "code",
        "colab": {
          "base_uri": "https://localhost:8080/",
          "height": 34
        },
        "outputId": "65085235-4907-439f-a365-ae9dee0649be"
      },
      "source": [
        "(loss, accuracy) = mymodel.evaluate(\n",
        "    test_data, \n",
        "    test_labels,\n",
        "    batch_size = 128, \n",
        "    verbose = 1)"
      ],
      "execution_count": 47,
      "outputs": [
        {
          "output_type": "stream",
          "text": [
            "23100/23100 [==============================] - 1s 30us/step\n"
          ],
          "name": "stdout"
        }
      ]
    },
    {
      "cell_type": "markdown",
      "metadata": {
        "id": "w8FCCs4DmvoK",
        "colab_type": "text"
      },
      "source": [
        "#### Print the model's accuracy"
      ]
    },
    {
      "cell_type": "code",
      "metadata": {
        "id": "GVBGB8e5jgyH",
        "colab_type": "code",
        "colab": {
          "base_uri": "https://localhost:8080/",
          "height": 34
        },
        "outputId": "1dc9b50d-ffd4-47f4-afec-e2bf51be13ec"
      },
      "source": [
        "print(accuracy)"
      ],
      "execution_count": 48,
      "outputs": [
        {
          "output_type": "stream",
          "text": [
            "0.9786147475242615\n"
          ],
          "name": "stdout"
        }
      ]
    },
    {
      "cell_type": "markdown",
      "metadata": {
        "id": "Gu8TIJwIxz2P",
        "colab_type": "text"
      },
      "source": [
        "###Tensorboard"
      ]
    },
    {
      "cell_type": "code",
      "metadata": {
        "id": "MxIdnl0Lxu9P",
        "colab_type": "code",
        "colab": {
          "base_uri": "https://localhost:8080/",
          "height": 445
        },
        "outputId": "279f8dff-d7ba-450e-9219-2d534e8cc7c0"
      },
      "source": [
        "!pip install -U tensorboard"
      ],
      "execution_count": 61,
      "outputs": [
        {
          "output_type": "stream",
          "text": [
            "Requirement already up-to-date: tensorboard in /usr/local/lib/python3.6/dist-packages (2.2.1)\n",
            "Requirement already satisfied, skipping upgrade: werkzeug>=0.11.15 in /usr/local/lib/python3.6/dist-packages (from tensorboard) (1.0.1)\n",
            "Requirement already satisfied, skipping upgrade: grpcio>=1.24.3 in /usr/local/lib/python3.6/dist-packages (from tensorboard) (1.28.1)\n",
            "Requirement already satisfied, skipping upgrade: markdown>=2.6.8 in /usr/local/lib/python3.6/dist-packages (from tensorboard) (3.2.1)\n",
            "Requirement already satisfied, skipping upgrade: absl-py>=0.4 in /usr/local/lib/python3.6/dist-packages (from tensorboard) (0.9.0)\n",
            "Requirement already satisfied, skipping upgrade: protobuf>=3.6.0 in /usr/local/lib/python3.6/dist-packages (from tensorboard) (3.10.0)\n",
            "Requirement already satisfied, skipping upgrade: tensorboard-plugin-wit>=1.6.0 in /usr/local/lib/python3.6/dist-packages (from tensorboard) (1.6.0.post3)\n",
            "Requirement already satisfied, skipping upgrade: setuptools>=41.0.0 in /usr/local/lib/python3.6/dist-packages (from tensorboard) (46.1.3)\n",
            "Requirement already satisfied, skipping upgrade: wheel>=0.26; python_version >= \"3\" in /usr/local/lib/python3.6/dist-packages (from tensorboard) (0.34.2)\n",
            "Requirement already satisfied, skipping upgrade: google-auth-oauthlib<0.5,>=0.4.1 in /usr/local/lib/python3.6/dist-packages (from tensorboard) (0.4.1)\n",
            "Requirement already satisfied, skipping upgrade: google-auth<2,>=1.6.3 in /usr/local/lib/python3.6/dist-packages (from tensorboard) (1.7.2)\n",
            "Requirement already satisfied, skipping upgrade: numpy>=1.12.0 in /usr/local/lib/python3.6/dist-packages (from tensorboard) (1.18.4)\n",
            "Requirement already satisfied, skipping upgrade: six>=1.10.0 in /usr/local/lib/python3.6/dist-packages (from tensorboard) (1.12.0)\n",
            "Requirement already satisfied, skipping upgrade: requests<3,>=2.21.0 in /usr/local/lib/python3.6/dist-packages (from tensorboard) (2.23.0)\n",
            "Requirement already satisfied, skipping upgrade: requests-oauthlib>=0.7.0 in /usr/local/lib/python3.6/dist-packages (from google-auth-oauthlib<0.5,>=0.4.1->tensorboard) (1.3.0)\n",
            "Requirement already satisfied, skipping upgrade: cachetools<3.2,>=2.0.0 in /usr/local/lib/python3.6/dist-packages (from google-auth<2,>=1.6.3->tensorboard) (3.1.1)\n",
            "Requirement already satisfied, skipping upgrade: pyasn1-modules>=0.2.1 in /usr/local/lib/python3.6/dist-packages (from google-auth<2,>=1.6.3->tensorboard) (0.2.8)\n",
            "Requirement already satisfied, skipping upgrade: rsa<4.1,>=3.1.4 in /usr/local/lib/python3.6/dist-packages (from google-auth<2,>=1.6.3->tensorboard) (4.0)\n",
            "Requirement already satisfied, skipping upgrade: chardet<4,>=3.0.2 in /usr/local/lib/python3.6/dist-packages (from requests<3,>=2.21.0->tensorboard) (3.0.4)\n",
            "Requirement already satisfied, skipping upgrade: certifi>=2017.4.17 in /usr/local/lib/python3.6/dist-packages (from requests<3,>=2.21.0->tensorboard) (2020.4.5.1)\n",
            "Requirement already satisfied, skipping upgrade: urllib3!=1.25.0,!=1.25.1,<1.26,>=1.21.1 in /usr/local/lib/python3.6/dist-packages (from requests<3,>=2.21.0->tensorboard) (1.24.3)\n",
            "Requirement already satisfied, skipping upgrade: idna<3,>=2.5 in /usr/local/lib/python3.6/dist-packages (from requests<3,>=2.21.0->tensorboard) (2.9)\n",
            "Requirement already satisfied, skipping upgrade: oauthlib>=3.0.0 in /usr/local/lib/python3.6/dist-packages (from requests-oauthlib>=0.7.0->google-auth-oauthlib<0.5,>=0.4.1->tensorboard) (3.1.0)\n",
            "Requirement already satisfied, skipping upgrade: pyasn1<0.5.0,>=0.4.6 in /usr/local/lib/python3.6/dist-packages (from pyasn1-modules>=0.2.1->google-auth<2,>=1.6.3->tensorboard) (0.4.8)\n"
          ],
          "name": "stdout"
        }
      ]
    },
    {
      "cell_type": "code",
      "metadata": {
        "id": "IFPxrkvFx2Qw",
        "colab_type": "code",
        "colab": {}
      },
      "source": [
        "from keras.callbacks import TensorBoard\n",
        "\n",
        "import tensorflow as tf\n",
        "import datetime\n",
        "\n",
        "!rm -rf ./log"
      ],
      "execution_count": 0,
      "outputs": []
    },
    {
      "cell_type": "code",
      "metadata": {
        "id": "hdk0bT6ox4Ir",
        "colab_type": "code",
        "colab": {}
      },
      "source": [
        "import os\n",
        "logdir = os.path.join(\"logs\", datetime.datetime.now().strftime(\"%Y%m%d-%H%M%S\"))\n",
        "tensorboard_callback = TensorBoard(log_dir=logdir, histogram_freq=1)"
      ],
      "execution_count": 0,
      "outputs": []
    },
    {
      "cell_type": "code",
      "metadata": {
        "id": "MdKqCaaix68u",
        "colab_type": "code",
        "colab": {
          "base_uri": "https://localhost:8080/",
          "height": 714
        },
        "outputId": "a0b96d10-e0ed-4b73-f337-8007f9f2057b"
      },
      "source": [
        "mymodel.fit(\n",
        "    train_data, \n",
        "    train_labels, \n",
        "    batch_size = 128, \n",
        "    epochs = 20,\n",
        "\t  verbose = 1,\n",
        "    callbacks=[tensorboard_callback])"
      ],
      "execution_count": 65,
      "outputs": [
        {
          "output_type": "stream",
          "text": [
            "Epoch 1/20\n",
            "46900/46900 [==============================] - 3s 61us/step - loss: 0.0203 - accuracy: 0.9941\n",
            "Epoch 2/20\n",
            "46900/46900 [==============================] - 3s 59us/step - loss: 0.0203 - accuracy: 0.9941\n",
            "Epoch 3/20\n",
            "46900/46900 [==============================] - 3s 60us/step - loss: 0.0191 - accuracy: 0.9948\n",
            "Epoch 4/20\n",
            "46900/46900 [==============================] - 3s 60us/step - loss: 0.0188 - accuracy: 0.9948\n",
            "Epoch 5/20\n",
            "46900/46900 [==============================] - 3s 59us/step - loss: 0.0177 - accuracy: 0.9951\n",
            "Epoch 6/20\n",
            "46900/46900 [==============================] - 3s 59us/step - loss: 0.0172 - accuracy: 0.9955\n",
            "Epoch 7/20\n",
            "46900/46900 [==============================] - 3s 59us/step - loss: 0.0169 - accuracy: 0.9952\n",
            "Epoch 8/20\n",
            "46900/46900 [==============================] - 3s 59us/step - loss: 0.0166 - accuracy: 0.9953\n",
            "Epoch 9/20\n",
            "46900/46900 [==============================] - 3s 60us/step - loss: 0.0158 - accuracy: 0.9959\n",
            "Epoch 10/20\n",
            "46900/46900 [==============================] - 3s 59us/step - loss: 0.0155 - accuracy: 0.9958\n",
            "Epoch 11/20\n",
            "46900/46900 [==============================] - 3s 59us/step - loss: 0.0146 - accuracy: 0.9961\n",
            "Epoch 12/20\n",
            "46900/46900 [==============================] - 3s 60us/step - loss: 0.0144 - accuracy: 0.9964\n",
            "Epoch 13/20\n",
            "46900/46900 [==============================] - 3s 60us/step - loss: 0.0139 - accuracy: 0.9962\n",
            "Epoch 14/20\n",
            "46900/46900 [==============================] - 3s 61us/step - loss: 0.0139 - accuracy: 0.9963\n",
            "Epoch 15/20\n",
            "46900/46900 [==============================] - 3s 61us/step - loss: 0.0134 - accuracy: 0.9965\n",
            "Epoch 16/20\n",
            "46900/46900 [==============================] - 3s 59us/step - loss: 0.0129 - accuracy: 0.9967\n",
            "Epoch 17/20\n",
            "46900/46900 [==============================] - 3s 59us/step - loss: 0.0126 - accuracy: 0.9966\n",
            "Epoch 18/20\n",
            "46900/46900 [==============================] - 3s 60us/step - loss: 0.0118 - accuracy: 0.9969\n",
            "Epoch 19/20\n",
            "46900/46900 [==============================] - 3s 60us/step - loss: 0.0119 - accuracy: 0.9970\n",
            "Epoch 20/20\n",
            "46900/46900 [==============================] - 3s 59us/step - loss: 0.0116 - accuracy: 0.9971\n"
          ],
          "name": "stdout"
        },
        {
          "output_type": "execute_result",
          "data": {
            "text/plain": [
              "<keras.callbacks.callbacks.History at 0x7f051fd87828>"
            ]
          },
          "metadata": {
            "tags": []
          },
          "execution_count": 65
        }
      ]
    },
    {
      "cell_type": "code",
      "metadata": {
        "id": "OISLKh6HyFDw",
        "colab_type": "code",
        "colab": {
          "base_uri": "https://localhost:8080/",
          "height": 34
        },
        "outputId": "a3398d4b-5497-4019-8793-ac9fba709ec8"
      },
      "source": [
        "%tensorboard --logdir fit"
      ],
      "execution_count": 66,
      "outputs": [
        {
          "output_type": "stream",
          "text": [
            "UsageError: Line magic function `%tensorboard` not found.\n"
          ],
          "name": "stderr"
        }
      ]
    },
    {
      "cell_type": "code",
      "metadata": {
        "id": "KjhJ9LcoyUTS",
        "colab_type": "code",
        "colab": {}
      },
      "source": [
        "!tensorboard dev upload --logdir logs"
      ],
      "execution_count": 0,
      "outputs": []
    },
    {
      "cell_type": "code",
      "metadata": {
        "id": "6tPsUQWRzK8D",
        "colab_type": "code",
        "colab": {}
      },
      "source": [
        ""
      ],
      "execution_count": 0,
      "outputs": []
    },
    {
      "cell_type": "code",
      "metadata": {
        "id": "9lJpLuP1yg8s",
        "colab_type": "code",
        "colab": {}
      },
      "source": [
        ""
      ],
      "execution_count": 0,
      "outputs": []
    }
  ]
}