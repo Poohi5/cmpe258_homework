{
  "nbformat": 4,
  "nbformat_minor": 0,
  "metadata": {
    "colab": {
      "name": "GradedAssignment4_ LeNet.ipynb",
      "provenance": [],
      "authorship_tag": "ABX9TyMNAit0q6oug2hmAASep5Q7",
      "include_colab_link": true
    },
    "kernelspec": {
      "name": "python3",
      "display_name": "Python 3"
    },
    "accelerator": "GPU"
  },
  "cells": [
    {
      "cell_type": "markdown",
      "metadata": {
        "id": "view-in-github",
        "colab_type": "text"
      },
      "source": [
        "<a href=\"https://colab.research.google.com/github/Poohi5/cmpe258_homework/blob/master/Graded_assignment4/GradedAssignment4__LeNet.ipynb\" target=\"_parent\"><img src=\"https://colab.research.google.com/assets/colab-badge.svg\" alt=\"Open In Colab\"/></a>"
      ]
    },
    {
      "cell_type": "markdown",
      "metadata": {
        "id": "vzbdxVMfhW9i",
        "colab_type": "text"
      },
      "source": [
        "#LeNet using Keras in MNIST Dataset"
      ]
    },
    {
      "cell_type": "markdown",
      "metadata": {
        "id": "unCUP0wThchL",
        "colab_type": "text"
      },
      "source": [
        "###Importing modules"
      ]
    },
    {
      "cell_type": "code",
      "metadata": {
        "id": "OUfDqgwlhL0R",
        "colab_type": "code",
        "colab": {
          "base_uri": "https://localhost:8080/",
          "height": 34
        },
        "outputId": "7c3a598b-dc46-480f-84fb-ca36d58a7296"
      },
      "source": [
        "from keras.layers.convolutional import Convolution2D\n",
        "from keras.layers.convolutional import MaxPooling2D\n",
        "from keras.layers.core import Activation\n",
        "from keras.layers.core import Flatten\n",
        "from keras.layers.core import Dense\n",
        "from keras.models import Sequential\n",
        "from keras.optimizers import SGD\n",
        "from keras.utils import np_utils\n",
        "from sklearn.model_selection import train_test_split\n",
        "from sklearn import datasets\n",
        "import numpy as np"
      ],
      "execution_count": 1,
      "outputs": [
        {
          "output_type": "stream",
          "text": [
            "Using TensorFlow backend.\n"
          ],
          "name": "stderr"
        }
      ]
    },
    {
      "cell_type": "markdown",
      "metadata": {
        "id": "OIrncgwehirs",
        "colab_type": "text"
      },
      "source": [
        "###Import MNIST dataset"
      ]
    },
    {
      "cell_type": "code",
      "metadata": {
        "id": "W2KlPq4xheQ5",
        "colab_type": "code",
        "colab": {}
      },
      "source": [
        "from sklearn.datasets import fetch_openml\n",
        "mnist = fetch_openml('mnist_784')"
      ],
      "execution_count": 0,
      "outputs": []
    },
    {
      "cell_type": "code",
      "metadata": {
        "id": "0I82-xcDiJ6R",
        "colab_type": "code",
        "colab": {
          "base_uri": "https://localhost:8080/",
          "height": 34
        },
        "outputId": "52802e99-00a4-4982-f7a2-45966e38d75b"
      },
      "source": [
        "mnist.data.shape"
      ],
      "execution_count": 3,
      "outputs": [
        {
          "output_type": "execute_result",
          "data": {
            "text/plain": [
              "(70000, 784)"
            ]
          },
          "metadata": {
            "tags": []
          },
          "execution_count": 3
        }
      ]
    },
    {
      "cell_type": "markdown",
      "metadata": {
        "id": "mtaebjG5iHZz",
        "colab_type": "text"
      },
      "source": [
        "###Reshape data"
      ]
    },
    {
      "cell_type": "code",
      "metadata": {
        "id": "dVAX605ihlVB",
        "colab_type": "code",
        "colab": {}
      },
      "source": [
        "data = mnist.data.reshape((mnist.data.shape[0], 28, 28))"
      ],
      "execution_count": 0,
      "outputs": []
    },
    {
      "cell_type": "code",
      "metadata": {
        "id": "U7fumYfhiJAn",
        "colab_type": "code",
        "colab": {
          "base_uri": "https://localhost:8080/",
          "height": 34
        },
        "outputId": "8dc44153-ee73-4836-f593-0e16a71163e2"
      },
      "source": [
        "data.shape"
      ],
      "execution_count": 5,
      "outputs": [
        {
          "output_type": "execute_result",
          "data": {
            "text/plain": [
              "(70000, 28, 28)"
            ]
          },
          "metadata": {
            "tags": []
          },
          "execution_count": 5
        }
      ]
    },
    {
      "cell_type": "markdown",
      "metadata": {
        "id": "mTuuuPWgiUM8",
        "colab_type": "text"
      },
      "source": [
        "###Reshape the data to a (70000, 28, 28, 1) tensor"
      ]
    },
    {
      "cell_type": "code",
      "metadata": {
        "id": "iQrdhpsFiNu2",
        "colab_type": "code",
        "colab": {}
      },
      "source": [
        "data = data[:, :, :, np.newaxis]"
      ],
      "execution_count": 0,
      "outputs": []
    },
    {
      "cell_type": "code",
      "metadata": {
        "id": "SzkS1_jbiTtm",
        "colab_type": "code",
        "colab": {
          "base_uri": "https://localhost:8080/",
          "height": 34
        },
        "outputId": "20262ada-5473-4773-94e0-577c32714fc6"
      },
      "source": [
        "data.shape"
      ],
      "execution_count": 7,
      "outputs": [
        {
          "output_type": "execute_result",
          "data": {
            "text/plain": [
              "(70000, 28, 28, 1)"
            ]
          },
          "metadata": {
            "tags": []
          },
          "execution_count": 7
        }
      ]
    },
    {
      "cell_type": "markdown",
      "metadata": {
        "id": "XioHW-TUicOr",
        "colab_type": "text"
      },
      "source": [
        "###Normalize data"
      ]
    },
    {
      "cell_type": "code",
      "metadata": {
        "id": "E0JVDHxRiZcA",
        "colab_type": "code",
        "colab": {}
      },
      "source": [
        "scaled_data = data / 255.0"
      ],
      "execution_count": 0,
      "outputs": []
    },
    {
      "cell_type": "markdown",
      "metadata": {
        "id": "dbuuk7MjigA2",
        "colab_type": "text"
      },
      "source": [
        "Train Test Split"
      ]
    },
    {
      "cell_type": "code",
      "metadata": {
        "id": "So_Pl0ZdieKY",
        "colab_type": "code",
        "colab": {}
      },
      "source": [
        "(train_data, test_data, train_labels, test_labels) = train_test_split(\n",
        "    scaled_data,\n",
        "    mnist.target.astype(\"int\"), \n",
        "    test_size = 0.33)"
      ],
      "execution_count": 0,
      "outputs": []
    },
    {
      "cell_type": "markdown",
      "metadata": {
        "id": "jxHmNdOyirRp",
        "colab_type": "text"
      },
      "source": [
        "###One hot encoding"
      ]
    },
    {
      "cell_type": "code",
      "metadata": {
        "id": "NBHOnRWtih5w",
        "colab_type": "code",
        "colab": {}
      },
      "source": [
        "train_labels = np_utils.to_categorical(train_labels, 10)"
      ],
      "execution_count": 0,
      "outputs": []
    },
    {
      "cell_type": "code",
      "metadata": {
        "id": "nuzphcdmiunT",
        "colab_type": "code",
        "colab": {}
      },
      "source": [
        "test_labels = np_utils.to_categorical(test_labels, 10)"
      ],
      "execution_count": 0,
      "outputs": []
    },
    {
      "cell_type": "markdown",
      "metadata": {
        "id": "dGx1X9eNiyTs",
        "colab_type": "text"
      },
      "source": [
        "###Keras Sequential Model"
      ]
    },
    {
      "cell_type": "code",
      "metadata": {
        "id": "fx13vab0iv3C",
        "colab_type": "code",
        "colab": {}
      },
      "source": [
        "mymodel = Sequential()"
      ],
      "execution_count": 0,
      "outputs": []
    },
    {
      "cell_type": "code",
      "metadata": {
        "id": "Ra22JnIVi5_1",
        "colab_type": "code",
        "colab": {}
      },
      "source": [
        "mymodel.add(Convolution2D(\n",
        "    filters = 20,\n",
        "    kernel_size = (5, 5),\n",
        "    padding = \"same\",\n",
        "    input_shape = (28, 28, 1)))"
      ],
      "execution_count": 0,
      "outputs": []
    },
    {
      "cell_type": "markdown",
      "metadata": {
        "id": "JO4UWlZEjALk",
        "colab_type": "text"
      },
      "source": [
        "###Acti Function"
      ]
    },
    {
      "cell_type": "code",
      "metadata": {
        "id": "GygBr0E1i8Pi",
        "colab_type": "code",
        "colab": {}
      },
      "source": [
        "mymodel.add(Activation(\n",
        "    activation = \"relu\"))"
      ],
      "execution_count": 0,
      "outputs": []
    },
    {
      "cell_type": "markdown",
      "metadata": {
        "id": "8NGWNpYyjETO",
        "colab_type": "text"
      },
      "source": [
        "###Add Pooling layer"
      ]
    },
    {
      "cell_type": "code",
      "metadata": {
        "id": "MBWKLW9kjBu0",
        "colab_type": "code",
        "colab": {}
      },
      "source": [
        "mymodel.add(MaxPooling2D(\n",
        "    pool_size = (2, 2),\n",
        "    strides =  (2, 2)))"
      ],
      "execution_count": 0,
      "outputs": []
    },
    {
      "cell_type": "code",
      "metadata": {
        "id": "2mowAkrHjGVN",
        "colab_type": "code",
        "colab": {}
      },
      "source": [
        "mymodel.add(Convolution2D(\n",
        "    filters = 50,\n",
        "    kernel_size = (5, 5),\n",
        "    padding = \"same\"))\n"
      ],
      "execution_count": 0,
      "outputs": []
    },
    {
      "cell_type": "code",
      "metadata": {
        "id": "bofsU-odjKV2",
        "colab_type": "code",
        "colab": {}
      },
      "source": [
        "mymodel.add(Activation(\n",
        "    activation = \"relu\"))"
      ],
      "execution_count": 0,
      "outputs": []
    },
    {
      "cell_type": "code",
      "metadata": {
        "id": "GzCF7I36jM4-",
        "colab_type": "code",
        "colab": {}
      },
      "source": [
        "mymodel.add(MaxPooling2D(\n",
        "    pool_size = (2, 2),\n",
        "    strides = (2, 2)))"
      ],
      "execution_count": 0,
      "outputs": []
    },
    {
      "cell_type": "code",
      "metadata": {
        "id": "rR4K63MbjPCG",
        "colab_type": "code",
        "colab": {}
      },
      "source": [
        "# Flatten the network\n",
        "mymodel.add(Flatten())\n",
        "\n",
        "# Add a fully-connected hidden layer\n",
        "mymodel.add(Dense(500))\n",
        "\n",
        "# Add a ReLU activation function\n",
        "mymodel.add(Activation(\n",
        "    activation = \"relu\"))\n",
        "\n",
        "# Add a fully-connected output layer\n",
        "mymodel.add(Dense(10))\n",
        "\n",
        "# Add a softmax activation function\n",
        "mymodel.add(Activation(\"softmax\"))\n"
      ],
      "execution_count": 0,
      "outputs": []
    },
    {
      "cell_type": "markdown",
      "metadata": {
        "id": "AJpsDN4Emola",
        "colab_type": "text"
      },
      "source": [
        "#### Compile the network"
      ]
    },
    {
      "cell_type": "code",
      "metadata": {
        "id": "loINaCmJjVhH",
        "colab_type": "code",
        "colab": {}
      },
      "source": [
        "mymodel.compile(\n",
        "    loss = \"categorical_crossentropy\", \n",
        "    optimizer = SGD(lr = 0.01),\n",
        "    metrics = [\"accuracy\"])\n"
      ],
      "execution_count": 0,
      "outputs": []
    },
    {
      "cell_type": "markdown",
      "metadata": {
        "id": "GjJxGP2smqNH",
        "colab_type": "text"
      },
      "source": [
        "#### Train the model "
      ]
    },
    {
      "cell_type": "code",
      "metadata": {
        "id": "CgDyFG5fjXjn",
        "colab_type": "code",
        "colab": {
          "base_uri": "https://localhost:8080/",
          "height": 714
        },
        "outputId": "c9384da8-90c0-4517-847e-0188e46a38b4"
      },
      "source": [
        "mymodel.fit(\n",
        "    train_data, \n",
        "    train_labels, \n",
        "    batch_size = 128, \n",
        "    epochs = 20,\n",
        "\t  verbose = 1)"
      ],
      "execution_count": 22,
      "outputs": [
        {
          "output_type": "stream",
          "text": [
            "Epoch 1/20\n",
            "46900/46900 [==============================] - 3s 56us/step - loss: 0.0623 - accuracy: 0.9807\n",
            "Epoch 2/20\n",
            "46900/46900 [==============================] - 3s 54us/step - loss: 0.0584 - accuracy: 0.9819\n",
            "Epoch 3/20\n",
            "46900/46900 [==============================] - 3s 54us/step - loss: 0.0550 - accuracy: 0.9825\n",
            "Epoch 4/20\n",
            "46900/46900 [==============================] - 2s 53us/step - loss: 0.0526 - accuracy: 0.9836\n",
            "Epoch 5/20\n",
            "46900/46900 [==============================] - 2s 53us/step - loss: 0.0496 - accuracy: 0.9846\n",
            "Epoch 6/20\n",
            "46900/46900 [==============================] - 3s 54us/step - loss: 0.0464 - accuracy: 0.9859\n",
            "Epoch 7/20\n",
            "46900/46900 [==============================] - 3s 54us/step - loss: 0.0449 - accuracy: 0.9862\n",
            "Epoch 8/20\n",
            "46900/46900 [==============================] - 3s 53us/step - loss: 0.0427 - accuracy: 0.9869\n",
            "Epoch 9/20\n",
            "46900/46900 [==============================] - 3s 54us/step - loss: 0.0407 - accuracy: 0.9871\n",
            "Epoch 10/20\n",
            "46900/46900 [==============================] - 3s 53us/step - loss: 0.0390 - accuracy: 0.9879\n",
            "Epoch 11/20\n",
            "46900/46900 [==============================] - 3s 54us/step - loss: 0.0375 - accuracy: 0.9883\n",
            "Epoch 12/20\n",
            "46900/46900 [==============================] - 3s 54us/step - loss: 0.0361 - accuracy: 0.9892\n",
            "Epoch 13/20\n",
            "46900/46900 [==============================] - 3s 54us/step - loss: 0.0346 - accuracy: 0.9898\n",
            "Epoch 14/20\n",
            "46900/46900 [==============================] - 3s 53us/step - loss: 0.0334 - accuracy: 0.9897\n",
            "Epoch 15/20\n",
            "46900/46900 [==============================] - 3s 55us/step - loss: 0.0320 - accuracy: 0.9903\n",
            "Epoch 16/20\n",
            "46900/46900 [==============================] - 3s 55us/step - loss: 0.0307 - accuracy: 0.9908\n",
            "Epoch 17/20\n",
            "46900/46900 [==============================] - 2s 53us/step - loss: 0.0300 - accuracy: 0.9908\n",
            "Epoch 18/20\n",
            "46900/46900 [==============================] - 2s 53us/step - loss: 0.0288 - accuracy: 0.9914\n",
            "Epoch 19/20\n",
            "46900/46900 [==============================] - 3s 54us/step - loss: 0.0277 - accuracy: 0.9918\n",
            "Epoch 20/20\n",
            "46900/46900 [==============================] - 3s 55us/step - loss: 0.0261 - accuracy: 0.9922\n"
          ],
          "name": "stdout"
        },
        {
          "output_type": "execute_result",
          "data": {
            "text/plain": [
              "<keras.callbacks.callbacks.History at 0x7f0587cc9978>"
            ]
          },
          "metadata": {
            "tags": []
          },
          "execution_count": 22
        }
      ]
    },
    {
      "cell_type": "markdown",
      "metadata": {
        "id": "GZKScJT4mtw8",
        "colab_type": "text"
      },
      "source": [
        "#### Evaluate the model"
      ]
    },
    {
      "cell_type": "code",
      "metadata": {
        "id": "BRZbAA84jZp3",
        "colab_type": "code",
        "colab": {
          "base_uri": "https://localhost:8080/",
          "height": 34
        },
        "outputId": "b38da278-337a-4635-fdd7-2f841931bdf6"
      },
      "source": [
        "(loss, accuracy) = mymodel.evaluate(\n",
        "    test_data, \n",
        "    test_labels,\n",
        "    batch_size = 128, \n",
        "    verbose = 1)"
      ],
      "execution_count": 24,
      "outputs": [
        {
          "output_type": "stream",
          "text": [
            "23100/23100 [==============================] - 1s 32us/step\n"
          ],
          "name": "stdout"
        }
      ]
    },
    {
      "cell_type": "markdown",
      "metadata": {
        "id": "w8FCCs4DmvoK",
        "colab_type": "text"
      },
      "source": [
        "#### Print the model's accuracy"
      ]
    },
    {
      "cell_type": "code",
      "metadata": {
        "id": "GVBGB8e5jgyH",
        "colab_type": "code",
        "colab": {
          "base_uri": "https://localhost:8080/",
          "height": 34
        },
        "outputId": "dfaf8b44-95f6-49ce-f608-846725e4411e"
      },
      "source": [
        "print(accuracy)"
      ],
      "execution_count": 25,
      "outputs": [
        {
          "output_type": "stream",
          "text": [
            "0.9853679537773132\n"
          ],
          "name": "stdout"
        }
      ]
    }
  ]
}