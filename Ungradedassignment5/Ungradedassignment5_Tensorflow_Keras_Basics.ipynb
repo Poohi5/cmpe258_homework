{
  "nbformat": 4,
  "nbformat_minor": 0,
  "metadata": {
    "colab": {
      "name": " Ungradedassignment5_Tensorflow_Keras_Basics.ipynb",
      "provenance": [],
      "authorship_tag": "ABX9TyOozGY3bYvyqsXru09UPhzn",
      "include_colab_link": true
    },
    "kernelspec": {
      "name": "python3",
      "display_name": "Python 3"
    },
    "accelerator": "TPU",
    "widgets": {
      "application/vnd.jupyter.widget-state+json": {
        "6d6b536f412842c68228e83f3506eafc": {
          "model_module": "@jupyter-widgets/controls",
          "model_name": "HBoxModel",
          "state": {
            "_view_name": "HBoxView",
            "_dom_classes": [],
            "_model_name": "HBoxModel",
            "_view_module": "@jupyter-widgets/controls",
            "_model_module_version": "1.5.0",
            "_view_count": null,
            "_view_module_version": "1.5.0",
            "box_style": "",
            "layout": "IPY_MODEL_043ecb93ec2c41bfb9aaf5bda6686565",
            "_model_module": "@jupyter-widgets/controls",
            "children": [
              "IPY_MODEL_289e0034ceab46f5b80d8dfad1f5e3fd",
              "IPY_MODEL_4ccbb6472bac48cdb12ebc5bd41435cf"
            ]
          }
        },
        "043ecb93ec2c41bfb9aaf5bda6686565": {
          "model_module": "@jupyter-widgets/base",
          "model_name": "LayoutModel",
          "state": {
            "_view_name": "LayoutView",
            "grid_template_rows": null,
            "right": null,
            "justify_content": null,
            "_view_module": "@jupyter-widgets/base",
            "overflow": null,
            "_model_module_version": "1.2.0",
            "_view_count": null,
            "flex_flow": null,
            "width": null,
            "min_width": null,
            "border": null,
            "align_items": null,
            "bottom": null,
            "_model_module": "@jupyter-widgets/base",
            "top": null,
            "grid_column": null,
            "overflow_y": null,
            "overflow_x": null,
            "grid_auto_flow": null,
            "grid_area": null,
            "grid_template_columns": null,
            "flex": null,
            "_model_name": "LayoutModel",
            "justify_items": null,
            "grid_row": null,
            "max_height": null,
            "align_content": null,
            "visibility": null,
            "align_self": null,
            "height": null,
            "min_height": null,
            "padding": null,
            "grid_auto_rows": null,
            "grid_gap": null,
            "max_width": null,
            "order": null,
            "_view_module_version": "1.2.0",
            "grid_template_areas": null,
            "object_position": null,
            "object_fit": null,
            "grid_auto_columns": null,
            "margin": null,
            "display": null,
            "left": null
          }
        },
        "289e0034ceab46f5b80d8dfad1f5e3fd": {
          "model_module": "@jupyter-widgets/controls",
          "model_name": "IntProgressModel",
          "state": {
            "_view_name": "ProgressView",
            "style": "IPY_MODEL_46989e2c63774d1bad0edf1cb7efccbf",
            "_dom_classes": [],
            "description": "Dl Completed...: 100%",
            "_model_name": "IntProgressModel",
            "bar_style": "success",
            "max": 1,
            "_view_module": "@jupyter-widgets/controls",
            "_model_module_version": "1.5.0",
            "value": 1,
            "_view_count": null,
            "_view_module_version": "1.5.0",
            "orientation": "horizontal",
            "min": 0,
            "description_tooltip": null,
            "_model_module": "@jupyter-widgets/controls",
            "layout": "IPY_MODEL_5f1de93f124245ccba0167d85fc6bf74"
          }
        },
        "4ccbb6472bac48cdb12ebc5bd41435cf": {
          "model_module": "@jupyter-widgets/controls",
          "model_name": "HTMLModel",
          "state": {
            "_view_name": "HTMLView",
            "style": "IPY_MODEL_94377c5813744fa2b1507defc5ff835d",
            "_dom_classes": [],
            "description": "",
            "_model_name": "HTMLModel",
            "placeholder": "​",
            "_view_module": "@jupyter-widgets/controls",
            "_model_module_version": "1.5.0",
            "value": " 1/1 [02:28&lt;00:00, 148.14s/ url]",
            "_view_count": null,
            "_view_module_version": "1.5.0",
            "description_tooltip": null,
            "_model_module": "@jupyter-widgets/controls",
            "layout": "IPY_MODEL_032bf1b9554b46258c89cc469c2d5cd4"
          }
        },
        "46989e2c63774d1bad0edf1cb7efccbf": {
          "model_module": "@jupyter-widgets/controls",
          "model_name": "ProgressStyleModel",
          "state": {
            "_view_name": "StyleView",
            "_model_name": "ProgressStyleModel",
            "description_width": "initial",
            "_view_module": "@jupyter-widgets/base",
            "_model_module_version": "1.5.0",
            "_view_count": null,
            "_view_module_version": "1.2.0",
            "bar_color": null,
            "_model_module": "@jupyter-widgets/controls"
          }
        },
        "5f1de93f124245ccba0167d85fc6bf74": {
          "model_module": "@jupyter-widgets/base",
          "model_name": "LayoutModel",
          "state": {
            "_view_name": "LayoutView",
            "grid_template_rows": null,
            "right": null,
            "justify_content": null,
            "_view_module": "@jupyter-widgets/base",
            "overflow": null,
            "_model_module_version": "1.2.0",
            "_view_count": null,
            "flex_flow": null,
            "width": null,
            "min_width": null,
            "border": null,
            "align_items": null,
            "bottom": null,
            "_model_module": "@jupyter-widgets/base",
            "top": null,
            "grid_column": null,
            "overflow_y": null,
            "overflow_x": null,
            "grid_auto_flow": null,
            "grid_area": null,
            "grid_template_columns": null,
            "flex": null,
            "_model_name": "LayoutModel",
            "justify_items": null,
            "grid_row": null,
            "max_height": null,
            "align_content": null,
            "visibility": null,
            "align_self": null,
            "height": null,
            "min_height": null,
            "padding": null,
            "grid_auto_rows": null,
            "grid_gap": null,
            "max_width": null,
            "order": null,
            "_view_module_version": "1.2.0",
            "grid_template_areas": null,
            "object_position": null,
            "object_fit": null,
            "grid_auto_columns": null,
            "margin": null,
            "display": null,
            "left": null
          }
        },
        "94377c5813744fa2b1507defc5ff835d": {
          "model_module": "@jupyter-widgets/controls",
          "model_name": "DescriptionStyleModel",
          "state": {
            "_view_name": "StyleView",
            "_model_name": "DescriptionStyleModel",
            "description_width": "",
            "_view_module": "@jupyter-widgets/base",
            "_model_module_version": "1.5.0",
            "_view_count": null,
            "_view_module_version": "1.2.0",
            "_model_module": "@jupyter-widgets/controls"
          }
        },
        "032bf1b9554b46258c89cc469c2d5cd4": {
          "model_module": "@jupyter-widgets/base",
          "model_name": "LayoutModel",
          "state": {
            "_view_name": "LayoutView",
            "grid_template_rows": null,
            "right": null,
            "justify_content": null,
            "_view_module": "@jupyter-widgets/base",
            "overflow": null,
            "_model_module_version": "1.2.0",
            "_view_count": null,
            "flex_flow": null,
            "width": null,
            "min_width": null,
            "border": null,
            "align_items": null,
            "bottom": null,
            "_model_module": "@jupyter-widgets/base",
            "top": null,
            "grid_column": null,
            "overflow_y": null,
            "overflow_x": null,
            "grid_auto_flow": null,
            "grid_area": null,
            "grid_template_columns": null,
            "flex": null,
            "_model_name": "LayoutModel",
            "justify_items": null,
            "grid_row": null,
            "max_height": null,
            "align_content": null,
            "visibility": null,
            "align_self": null,
            "height": null,
            "min_height": null,
            "padding": null,
            "grid_auto_rows": null,
            "grid_gap": null,
            "max_width": null,
            "order": null,
            "_view_module_version": "1.2.0",
            "grid_template_areas": null,
            "object_position": null,
            "object_fit": null,
            "grid_auto_columns": null,
            "margin": null,
            "display": null,
            "left": null
          }
        },
        "35d0d0bb55dc484aad0ba04fe72e41b4": {
          "model_module": "@jupyter-widgets/controls",
          "model_name": "HBoxModel",
          "state": {
            "_view_name": "HBoxView",
            "_dom_classes": [],
            "_model_name": "HBoxModel",
            "_view_module": "@jupyter-widgets/controls",
            "_model_module_version": "1.5.0",
            "_view_count": null,
            "_view_module_version": "1.5.0",
            "box_style": "",
            "layout": "IPY_MODEL_fbd299a502354bc68f8a362e5535724f",
            "_model_module": "@jupyter-widgets/controls",
            "children": [
              "IPY_MODEL_1679b9a677b14e47a78fc88d8c98d6c9",
              "IPY_MODEL_c699bf67fd2d42478d7925fe12fa8875"
            ]
          }
        },
        "fbd299a502354bc68f8a362e5535724f": {
          "model_module": "@jupyter-widgets/base",
          "model_name": "LayoutModel",
          "state": {
            "_view_name": "LayoutView",
            "grid_template_rows": null,
            "right": null,
            "justify_content": null,
            "_view_module": "@jupyter-widgets/base",
            "overflow": null,
            "_model_module_version": "1.2.0",
            "_view_count": null,
            "flex_flow": null,
            "width": null,
            "min_width": null,
            "border": null,
            "align_items": null,
            "bottom": null,
            "_model_module": "@jupyter-widgets/base",
            "top": null,
            "grid_column": null,
            "overflow_y": null,
            "overflow_x": null,
            "grid_auto_flow": null,
            "grid_area": null,
            "grid_template_columns": null,
            "flex": null,
            "_model_name": "LayoutModel",
            "justify_items": null,
            "grid_row": null,
            "max_height": null,
            "align_content": null,
            "visibility": null,
            "align_self": null,
            "height": null,
            "min_height": null,
            "padding": null,
            "grid_auto_rows": null,
            "grid_gap": null,
            "max_width": null,
            "order": null,
            "_view_module_version": "1.2.0",
            "grid_template_areas": null,
            "object_position": null,
            "object_fit": null,
            "grid_auto_columns": null,
            "margin": null,
            "display": null,
            "left": null
          }
        },
        "1679b9a677b14e47a78fc88d8c98d6c9": {
          "model_module": "@jupyter-widgets/controls",
          "model_name": "IntProgressModel",
          "state": {
            "_view_name": "ProgressView",
            "style": "IPY_MODEL_82e2c14117f84a72a18cc47e9d3b3732",
            "_dom_classes": [],
            "description": "Dl Size...: 100%",
            "_model_name": "IntProgressModel",
            "bar_style": "success",
            "max": 1,
            "_view_module": "@jupyter-widgets/controls",
            "_model_module_version": "1.5.0",
            "value": 1,
            "_view_count": null,
            "_view_module_version": "1.5.0",
            "orientation": "horizontal",
            "min": 0,
            "description_tooltip": null,
            "_model_module": "@jupyter-widgets/controls",
            "layout": "IPY_MODEL_6df0fa3c698c41c5abdc87e4625ae9c4"
          }
        },
        "c699bf67fd2d42478d7925fe12fa8875": {
          "model_module": "@jupyter-widgets/controls",
          "model_name": "HTMLModel",
          "state": {
            "_view_name": "HTMLView",
            "style": "IPY_MODEL_884fdbe182434687b53bd6f26a12877d",
            "_dom_classes": [],
            "description": "",
            "_model_name": "HTMLModel",
            "placeholder": "​",
            "_view_module": "@jupyter-widgets/controls",
            "_model_module_version": "1.5.0",
            "value": " 80/80 [02:28&lt;00:00,  1.85s/ MiB]",
            "_view_count": null,
            "_view_module_version": "1.5.0",
            "description_tooltip": null,
            "_model_module": "@jupyter-widgets/controls",
            "layout": "IPY_MODEL_5270680e24db4d6198943b07d64578d5"
          }
        },
        "82e2c14117f84a72a18cc47e9d3b3732": {
          "model_module": "@jupyter-widgets/controls",
          "model_name": "ProgressStyleModel",
          "state": {
            "_view_name": "StyleView",
            "_model_name": "ProgressStyleModel",
            "description_width": "initial",
            "_view_module": "@jupyter-widgets/base",
            "_model_module_version": "1.5.0",
            "_view_count": null,
            "_view_module_version": "1.2.0",
            "bar_color": null,
            "_model_module": "@jupyter-widgets/controls"
          }
        },
        "6df0fa3c698c41c5abdc87e4625ae9c4": {
          "model_module": "@jupyter-widgets/base",
          "model_name": "LayoutModel",
          "state": {
            "_view_name": "LayoutView",
            "grid_template_rows": null,
            "right": null,
            "justify_content": null,
            "_view_module": "@jupyter-widgets/base",
            "overflow": null,
            "_model_module_version": "1.2.0",
            "_view_count": null,
            "flex_flow": null,
            "width": null,
            "min_width": null,
            "border": null,
            "align_items": null,
            "bottom": null,
            "_model_module": "@jupyter-widgets/base",
            "top": null,
            "grid_column": null,
            "overflow_y": null,
            "overflow_x": null,
            "grid_auto_flow": null,
            "grid_area": null,
            "grid_template_columns": null,
            "flex": null,
            "_model_name": "LayoutModel",
            "justify_items": null,
            "grid_row": null,
            "max_height": null,
            "align_content": null,
            "visibility": null,
            "align_self": null,
            "height": null,
            "min_height": null,
            "padding": null,
            "grid_auto_rows": null,
            "grid_gap": null,
            "max_width": null,
            "order": null,
            "_view_module_version": "1.2.0",
            "grid_template_areas": null,
            "object_position": null,
            "object_fit": null,
            "grid_auto_columns": null,
            "margin": null,
            "display": null,
            "left": null
          }
        },
        "884fdbe182434687b53bd6f26a12877d": {
          "model_module": "@jupyter-widgets/controls",
          "model_name": "DescriptionStyleModel",
          "state": {
            "_view_name": "StyleView",
            "_model_name": "DescriptionStyleModel",
            "description_width": "",
            "_view_module": "@jupyter-widgets/base",
            "_model_module_version": "1.5.0",
            "_view_count": null,
            "_view_module_version": "1.2.0",
            "_model_module": "@jupyter-widgets/controls"
          }
        },
        "5270680e24db4d6198943b07d64578d5": {
          "model_module": "@jupyter-widgets/base",
          "model_name": "LayoutModel",
          "state": {
            "_view_name": "LayoutView",
            "grid_template_rows": null,
            "right": null,
            "justify_content": null,
            "_view_module": "@jupyter-widgets/base",
            "overflow": null,
            "_model_module_version": "1.2.0",
            "_view_count": null,
            "flex_flow": null,
            "width": null,
            "min_width": null,
            "border": null,
            "align_items": null,
            "bottom": null,
            "_model_module": "@jupyter-widgets/base",
            "top": null,
            "grid_column": null,
            "overflow_y": null,
            "overflow_x": null,
            "grid_auto_flow": null,
            "grid_area": null,
            "grid_template_columns": null,
            "flex": null,
            "_model_name": "LayoutModel",
            "justify_items": null,
            "grid_row": null,
            "max_height": null,
            "align_content": null,
            "visibility": null,
            "align_self": null,
            "height": null,
            "min_height": null,
            "padding": null,
            "grid_auto_rows": null,
            "grid_gap": null,
            "max_width": null,
            "order": null,
            "_view_module_version": "1.2.0",
            "grid_template_areas": null,
            "object_position": null,
            "object_fit": null,
            "grid_auto_columns": null,
            "margin": null,
            "display": null,
            "left": null
          }
        },
        "3dce16678bbb48499549df4499cfc8fb": {
          "model_module": "@jupyter-widgets/controls",
          "model_name": "HBoxModel",
          "state": {
            "_view_name": "HBoxView",
            "_dom_classes": [],
            "_model_name": "HBoxModel",
            "_view_module": "@jupyter-widgets/controls",
            "_model_module_version": "1.5.0",
            "_view_count": null,
            "_view_module_version": "1.5.0",
            "box_style": "",
            "layout": "IPY_MODEL_e6d3c620853941eb8ad9a1543a8794c8",
            "_model_module": "@jupyter-widgets/controls",
            "children": [
              "IPY_MODEL_81f571d9dcbb4931acc966a7a39d9388",
              "IPY_MODEL_aad3ee96dce141d9b1806d3c90154418"
            ]
          }
        },
        "e6d3c620853941eb8ad9a1543a8794c8": {
          "model_module": "@jupyter-widgets/base",
          "model_name": "LayoutModel",
          "state": {
            "_view_name": "LayoutView",
            "grid_template_rows": null,
            "right": null,
            "justify_content": null,
            "_view_module": "@jupyter-widgets/base",
            "overflow": null,
            "_model_module_version": "1.2.0",
            "_view_count": null,
            "flex_flow": null,
            "width": null,
            "min_width": null,
            "border": null,
            "align_items": null,
            "bottom": null,
            "_model_module": "@jupyter-widgets/base",
            "top": null,
            "grid_column": null,
            "overflow_y": null,
            "overflow_x": null,
            "grid_auto_flow": null,
            "grid_area": null,
            "grid_template_columns": null,
            "flex": null,
            "_model_name": "LayoutModel",
            "justify_items": null,
            "grid_row": null,
            "max_height": null,
            "align_content": null,
            "visibility": null,
            "align_self": null,
            "height": null,
            "min_height": null,
            "padding": null,
            "grid_auto_rows": null,
            "grid_gap": null,
            "max_width": null,
            "order": null,
            "_view_module_version": "1.2.0",
            "grid_template_areas": null,
            "object_position": null,
            "object_fit": null,
            "grid_auto_columns": null,
            "margin": null,
            "display": null,
            "left": null
          }
        },
        "81f571d9dcbb4931acc966a7a39d9388": {
          "model_module": "@jupyter-widgets/controls",
          "model_name": "IntProgressModel",
          "state": {
            "_view_name": "ProgressView",
            "style": "IPY_MODEL_98cb6a9fe8e940f98bf73e1648abe27d",
            "_dom_classes": [],
            "description": "",
            "_model_name": "IntProgressModel",
            "bar_style": "info",
            "max": 1,
            "_view_module": "@jupyter-widgets/controls",
            "_model_module_version": "1.5.0",
            "value": 1,
            "_view_count": null,
            "_view_module_version": "1.5.0",
            "orientation": "horizontal",
            "min": 0,
            "description_tooltip": null,
            "_model_module": "@jupyter-widgets/controls",
            "layout": "IPY_MODEL_a4840c25e4b34488b9c7cc12bc9ff2f2"
          }
        },
        "aad3ee96dce141d9b1806d3c90154418": {
          "model_module": "@jupyter-widgets/controls",
          "model_name": "HTMLModel",
          "state": {
            "_view_name": "HTMLView",
            "style": "IPY_MODEL_f9471fdc743441c88bb0e649e7781b77",
            "_dom_classes": [],
            "description": "",
            "_model_name": "HTMLModel",
            "placeholder": "​",
            "_view_module": "@jupyter-widgets/controls",
            "_model_module_version": "1.5.0",
            "value": " 25000/0 [00:16&lt;00:00, 2561.18 examples/s]",
            "_view_count": null,
            "_view_module_version": "1.5.0",
            "description_tooltip": null,
            "_model_module": "@jupyter-widgets/controls",
            "layout": "IPY_MODEL_e165af0dc9c244b3983fb0b83fe1bfdd"
          }
        },
        "98cb6a9fe8e940f98bf73e1648abe27d": {
          "model_module": "@jupyter-widgets/controls",
          "model_name": "ProgressStyleModel",
          "state": {
            "_view_name": "StyleView",
            "_model_name": "ProgressStyleModel",
            "description_width": "initial",
            "_view_module": "@jupyter-widgets/base",
            "_model_module_version": "1.5.0",
            "_view_count": null,
            "_view_module_version": "1.2.0",
            "bar_color": null,
            "_model_module": "@jupyter-widgets/controls"
          }
        },
        "a4840c25e4b34488b9c7cc12bc9ff2f2": {
          "model_module": "@jupyter-widgets/base",
          "model_name": "LayoutModel",
          "state": {
            "_view_name": "LayoutView",
            "grid_template_rows": null,
            "right": null,
            "justify_content": null,
            "_view_module": "@jupyter-widgets/base",
            "overflow": null,
            "_model_module_version": "1.2.0",
            "_view_count": null,
            "flex_flow": null,
            "width": null,
            "min_width": null,
            "border": null,
            "align_items": null,
            "bottom": null,
            "_model_module": "@jupyter-widgets/base",
            "top": null,
            "grid_column": null,
            "overflow_y": null,
            "overflow_x": null,
            "grid_auto_flow": null,
            "grid_area": null,
            "grid_template_columns": null,
            "flex": null,
            "_model_name": "LayoutModel",
            "justify_items": null,
            "grid_row": null,
            "max_height": null,
            "align_content": null,
            "visibility": null,
            "align_self": null,
            "height": null,
            "min_height": null,
            "padding": null,
            "grid_auto_rows": null,
            "grid_gap": null,
            "max_width": null,
            "order": null,
            "_view_module_version": "1.2.0",
            "grid_template_areas": null,
            "object_position": null,
            "object_fit": null,
            "grid_auto_columns": null,
            "margin": null,
            "display": null,
            "left": null
          }
        },
        "f9471fdc743441c88bb0e649e7781b77": {
          "model_module": "@jupyter-widgets/controls",
          "model_name": "DescriptionStyleModel",
          "state": {
            "_view_name": "StyleView",
            "_model_name": "DescriptionStyleModel",
            "description_width": "",
            "_view_module": "@jupyter-widgets/base",
            "_model_module_version": "1.5.0",
            "_view_count": null,
            "_view_module_version": "1.2.0",
            "_model_module": "@jupyter-widgets/controls"
          }
        },
        "e165af0dc9c244b3983fb0b83fe1bfdd": {
          "model_module": "@jupyter-widgets/base",
          "model_name": "LayoutModel",
          "state": {
            "_view_name": "LayoutView",
            "grid_template_rows": null,
            "right": null,
            "justify_content": null,
            "_view_module": "@jupyter-widgets/base",
            "overflow": null,
            "_model_module_version": "1.2.0",
            "_view_count": null,
            "flex_flow": null,
            "width": null,
            "min_width": null,
            "border": null,
            "align_items": null,
            "bottom": null,
            "_model_module": "@jupyter-widgets/base",
            "top": null,
            "grid_column": null,
            "overflow_y": null,
            "overflow_x": null,
            "grid_auto_flow": null,
            "grid_area": null,
            "grid_template_columns": null,
            "flex": null,
            "_model_name": "LayoutModel",
            "justify_items": null,
            "grid_row": null,
            "max_height": null,
            "align_content": null,
            "visibility": null,
            "align_self": null,
            "height": null,
            "min_height": null,
            "padding": null,
            "grid_auto_rows": null,
            "grid_gap": null,
            "max_width": null,
            "order": null,
            "_view_module_version": "1.2.0",
            "grid_template_areas": null,
            "object_position": null,
            "object_fit": null,
            "grid_auto_columns": null,
            "margin": null,
            "display": null,
            "left": null
          }
        },
        "2287672c530f47539a774333ee033452": {
          "model_module": "@jupyter-widgets/controls",
          "model_name": "HBoxModel",
          "state": {
            "_view_name": "HBoxView",
            "_dom_classes": [],
            "_model_name": "HBoxModel",
            "_view_module": "@jupyter-widgets/controls",
            "_model_module_version": "1.5.0",
            "_view_count": null,
            "_view_module_version": "1.5.0",
            "box_style": "",
            "layout": "IPY_MODEL_98df51ae64db44d98c212f50c6f024c3",
            "_model_module": "@jupyter-widgets/controls",
            "children": [
              "IPY_MODEL_a1d8ce205ba541c382e93e59770230f4",
              "IPY_MODEL_bb3ae4c473664cdf91a66f6c987e4203"
            ]
          }
        },
        "98df51ae64db44d98c212f50c6f024c3": {
          "model_module": "@jupyter-widgets/base",
          "model_name": "LayoutModel",
          "state": {
            "_view_name": "LayoutView",
            "grid_template_rows": null,
            "right": null,
            "justify_content": null,
            "_view_module": "@jupyter-widgets/base",
            "overflow": null,
            "_model_module_version": "1.2.0",
            "_view_count": null,
            "flex_flow": null,
            "width": null,
            "min_width": null,
            "border": null,
            "align_items": null,
            "bottom": null,
            "_model_module": "@jupyter-widgets/base",
            "top": null,
            "grid_column": null,
            "overflow_y": null,
            "overflow_x": null,
            "grid_auto_flow": null,
            "grid_area": null,
            "grid_template_columns": null,
            "flex": null,
            "_model_name": "LayoutModel",
            "justify_items": null,
            "grid_row": null,
            "max_height": null,
            "align_content": null,
            "visibility": null,
            "align_self": null,
            "height": null,
            "min_height": null,
            "padding": null,
            "grid_auto_rows": null,
            "grid_gap": null,
            "max_width": null,
            "order": null,
            "_view_module_version": "1.2.0",
            "grid_template_areas": null,
            "object_position": null,
            "object_fit": null,
            "grid_auto_columns": null,
            "margin": null,
            "display": null,
            "left": null
          }
        },
        "a1d8ce205ba541c382e93e59770230f4": {
          "model_module": "@jupyter-widgets/controls",
          "model_name": "IntProgressModel",
          "state": {
            "_view_name": "ProgressView",
            "style": "IPY_MODEL_4c47910fe409400fb6d4a13bbfe6446c",
            "_dom_classes": [],
            "description": " 31%",
            "_model_name": "IntProgressModel",
            "bar_style": "danger",
            "max": 25000,
            "_view_module": "@jupyter-widgets/controls",
            "_model_module_version": "1.5.0",
            "value": 7674,
            "_view_count": null,
            "_view_module_version": "1.5.0",
            "orientation": "horizontal",
            "min": 0,
            "description_tooltip": null,
            "_model_module": "@jupyter-widgets/controls",
            "layout": "IPY_MODEL_b9d94e83194d4d20bf46df30bf607a58"
          }
        },
        "bb3ae4c473664cdf91a66f6c987e4203": {
          "model_module": "@jupyter-widgets/controls",
          "model_name": "HTMLModel",
          "state": {
            "_view_name": "HTMLView",
            "style": "IPY_MODEL_a19afef260ca4e4f812390bd2b42f3fb",
            "_dom_classes": [],
            "description": "",
            "_model_name": "HTMLModel",
            "placeholder": "​",
            "_view_module": "@jupyter-widgets/controls",
            "_model_module_version": "1.5.0",
            "value": " 7674/25000 [00:00&lt;00:00, 76737.15 examples/s]",
            "_view_count": null,
            "_view_module_version": "1.5.0",
            "description_tooltip": null,
            "_model_module": "@jupyter-widgets/controls",
            "layout": "IPY_MODEL_1b3849d1112c4ef994ed958c4557d757"
          }
        },
        "4c47910fe409400fb6d4a13bbfe6446c": {
          "model_module": "@jupyter-widgets/controls",
          "model_name": "ProgressStyleModel",
          "state": {
            "_view_name": "StyleView",
            "_model_name": "ProgressStyleModel",
            "description_width": "initial",
            "_view_module": "@jupyter-widgets/base",
            "_model_module_version": "1.5.0",
            "_view_count": null,
            "_view_module_version": "1.2.0",
            "bar_color": null,
            "_model_module": "@jupyter-widgets/controls"
          }
        },
        "b9d94e83194d4d20bf46df30bf607a58": {
          "model_module": "@jupyter-widgets/base",
          "model_name": "LayoutModel",
          "state": {
            "_view_name": "LayoutView",
            "grid_template_rows": null,
            "right": null,
            "justify_content": null,
            "_view_module": "@jupyter-widgets/base",
            "overflow": null,
            "_model_module_version": "1.2.0",
            "_view_count": null,
            "flex_flow": null,
            "width": null,
            "min_width": null,
            "border": null,
            "align_items": null,
            "bottom": null,
            "_model_module": "@jupyter-widgets/base",
            "top": null,
            "grid_column": null,
            "overflow_y": null,
            "overflow_x": null,
            "grid_auto_flow": null,
            "grid_area": null,
            "grid_template_columns": null,
            "flex": null,
            "_model_name": "LayoutModel",
            "justify_items": null,
            "grid_row": null,
            "max_height": null,
            "align_content": null,
            "visibility": null,
            "align_self": null,
            "height": null,
            "min_height": null,
            "padding": null,
            "grid_auto_rows": null,
            "grid_gap": null,
            "max_width": null,
            "order": null,
            "_view_module_version": "1.2.0",
            "grid_template_areas": null,
            "object_position": null,
            "object_fit": null,
            "grid_auto_columns": null,
            "margin": null,
            "display": null,
            "left": null
          }
        },
        "a19afef260ca4e4f812390bd2b42f3fb": {
          "model_module": "@jupyter-widgets/controls",
          "model_name": "DescriptionStyleModel",
          "state": {
            "_view_name": "StyleView",
            "_model_name": "DescriptionStyleModel",
            "description_width": "",
            "_view_module": "@jupyter-widgets/base",
            "_model_module_version": "1.5.0",
            "_view_count": null,
            "_view_module_version": "1.2.0",
            "_model_module": "@jupyter-widgets/controls"
          }
        },
        "1b3849d1112c4ef994ed958c4557d757": {
          "model_module": "@jupyter-widgets/base",
          "model_name": "LayoutModel",
          "state": {
            "_view_name": "LayoutView",
            "grid_template_rows": null,
            "right": null,
            "justify_content": null,
            "_view_module": "@jupyter-widgets/base",
            "overflow": null,
            "_model_module_version": "1.2.0",
            "_view_count": null,
            "flex_flow": null,
            "width": null,
            "min_width": null,
            "border": null,
            "align_items": null,
            "bottom": null,
            "_model_module": "@jupyter-widgets/base",
            "top": null,
            "grid_column": null,
            "overflow_y": null,
            "overflow_x": null,
            "grid_auto_flow": null,
            "grid_area": null,
            "grid_template_columns": null,
            "flex": null,
            "_model_name": "LayoutModel",
            "justify_items": null,
            "grid_row": null,
            "max_height": null,
            "align_content": null,
            "visibility": null,
            "align_self": null,
            "height": null,
            "min_height": null,
            "padding": null,
            "grid_auto_rows": null,
            "grid_gap": null,
            "max_width": null,
            "order": null,
            "_view_module_version": "1.2.0",
            "grid_template_areas": null,
            "object_position": null,
            "object_fit": null,
            "grid_auto_columns": null,
            "margin": null,
            "display": null,
            "left": null
          }
        },
        "c60783c1256e4f9e8b5d57b22fd51796": {
          "model_module": "@jupyter-widgets/controls",
          "model_name": "HBoxModel",
          "state": {
            "_view_name": "HBoxView",
            "_dom_classes": [],
            "_model_name": "HBoxModel",
            "_view_module": "@jupyter-widgets/controls",
            "_model_module_version": "1.5.0",
            "_view_count": null,
            "_view_module_version": "1.5.0",
            "box_style": "",
            "layout": "IPY_MODEL_9a5136277b614b2f93b8e07f5df1bc7e",
            "_model_module": "@jupyter-widgets/controls",
            "children": [
              "IPY_MODEL_bb9f244c40094d57aeec0a5a361c563d",
              "IPY_MODEL_6af3928b8f04473c912715b6c3516a62"
            ]
          }
        },
        "9a5136277b614b2f93b8e07f5df1bc7e": {
          "model_module": "@jupyter-widgets/base",
          "model_name": "LayoutModel",
          "state": {
            "_view_name": "LayoutView",
            "grid_template_rows": null,
            "right": null,
            "justify_content": null,
            "_view_module": "@jupyter-widgets/base",
            "overflow": null,
            "_model_module_version": "1.2.0",
            "_view_count": null,
            "flex_flow": null,
            "width": null,
            "min_width": null,
            "border": null,
            "align_items": null,
            "bottom": null,
            "_model_module": "@jupyter-widgets/base",
            "top": null,
            "grid_column": null,
            "overflow_y": null,
            "overflow_x": null,
            "grid_auto_flow": null,
            "grid_area": null,
            "grid_template_columns": null,
            "flex": null,
            "_model_name": "LayoutModel",
            "justify_items": null,
            "grid_row": null,
            "max_height": null,
            "align_content": null,
            "visibility": null,
            "align_self": null,
            "height": null,
            "min_height": null,
            "padding": null,
            "grid_auto_rows": null,
            "grid_gap": null,
            "max_width": null,
            "order": null,
            "_view_module_version": "1.2.0",
            "grid_template_areas": null,
            "object_position": null,
            "object_fit": null,
            "grid_auto_columns": null,
            "margin": null,
            "display": null,
            "left": null
          }
        },
        "bb9f244c40094d57aeec0a5a361c563d": {
          "model_module": "@jupyter-widgets/controls",
          "model_name": "IntProgressModel",
          "state": {
            "_view_name": "ProgressView",
            "style": "IPY_MODEL_59863f77edee47299f2c9b3631d74280",
            "_dom_classes": [],
            "description": "",
            "_model_name": "IntProgressModel",
            "bar_style": "info",
            "max": 1,
            "_view_module": "@jupyter-widgets/controls",
            "_model_module_version": "1.5.0",
            "value": 1,
            "_view_count": null,
            "_view_module_version": "1.5.0",
            "orientation": "horizontal",
            "min": 0,
            "description_tooltip": null,
            "_model_module": "@jupyter-widgets/controls",
            "layout": "IPY_MODEL_ee6975cb8702489286327c0fd625f5fe"
          }
        },
        "6af3928b8f04473c912715b6c3516a62": {
          "model_module": "@jupyter-widgets/controls",
          "model_name": "HTMLModel",
          "state": {
            "_view_name": "HTMLView",
            "style": "IPY_MODEL_650a783464b14a808b946b9e831bee16",
            "_dom_classes": [],
            "description": "",
            "_model_name": "HTMLModel",
            "placeholder": "​",
            "_view_module": "@jupyter-widgets/controls",
            "_model_module_version": "1.5.0",
            "value": " 25000/0 [00:15&lt;00:00, 2523.51 examples/s]",
            "_view_count": null,
            "_view_module_version": "1.5.0",
            "description_tooltip": null,
            "_model_module": "@jupyter-widgets/controls",
            "layout": "IPY_MODEL_80c69d6729f74d6f9dcba89eca02ece9"
          }
        },
        "59863f77edee47299f2c9b3631d74280": {
          "model_module": "@jupyter-widgets/controls",
          "model_name": "ProgressStyleModel",
          "state": {
            "_view_name": "StyleView",
            "_model_name": "ProgressStyleModel",
            "description_width": "initial",
            "_view_module": "@jupyter-widgets/base",
            "_model_module_version": "1.5.0",
            "_view_count": null,
            "_view_module_version": "1.2.0",
            "bar_color": null,
            "_model_module": "@jupyter-widgets/controls"
          }
        },
        "ee6975cb8702489286327c0fd625f5fe": {
          "model_module": "@jupyter-widgets/base",
          "model_name": "LayoutModel",
          "state": {
            "_view_name": "LayoutView",
            "grid_template_rows": null,
            "right": null,
            "justify_content": null,
            "_view_module": "@jupyter-widgets/base",
            "overflow": null,
            "_model_module_version": "1.2.0",
            "_view_count": null,
            "flex_flow": null,
            "width": null,
            "min_width": null,
            "border": null,
            "align_items": null,
            "bottom": null,
            "_model_module": "@jupyter-widgets/base",
            "top": null,
            "grid_column": null,
            "overflow_y": null,
            "overflow_x": null,
            "grid_auto_flow": null,
            "grid_area": null,
            "grid_template_columns": null,
            "flex": null,
            "_model_name": "LayoutModel",
            "justify_items": null,
            "grid_row": null,
            "max_height": null,
            "align_content": null,
            "visibility": null,
            "align_self": null,
            "height": null,
            "min_height": null,
            "padding": null,
            "grid_auto_rows": null,
            "grid_gap": null,
            "max_width": null,
            "order": null,
            "_view_module_version": "1.2.0",
            "grid_template_areas": null,
            "object_position": null,
            "object_fit": null,
            "grid_auto_columns": null,
            "margin": null,
            "display": null,
            "left": null
          }
        },
        "650a783464b14a808b946b9e831bee16": {
          "model_module": "@jupyter-widgets/controls",
          "model_name": "DescriptionStyleModel",
          "state": {
            "_view_name": "StyleView",
            "_model_name": "DescriptionStyleModel",
            "description_width": "",
            "_view_module": "@jupyter-widgets/base",
            "_model_module_version": "1.5.0",
            "_view_count": null,
            "_view_module_version": "1.2.0",
            "_model_module": "@jupyter-widgets/controls"
          }
        },
        "80c69d6729f74d6f9dcba89eca02ece9": {
          "model_module": "@jupyter-widgets/base",
          "model_name": "LayoutModel",
          "state": {
            "_view_name": "LayoutView",
            "grid_template_rows": null,
            "right": null,
            "justify_content": null,
            "_view_module": "@jupyter-widgets/base",
            "overflow": null,
            "_model_module_version": "1.2.0",
            "_view_count": null,
            "flex_flow": null,
            "width": null,
            "min_width": null,
            "border": null,
            "align_items": null,
            "bottom": null,
            "_model_module": "@jupyter-widgets/base",
            "top": null,
            "grid_column": null,
            "overflow_y": null,
            "overflow_x": null,
            "grid_auto_flow": null,
            "grid_area": null,
            "grid_template_columns": null,
            "flex": null,
            "_model_name": "LayoutModel",
            "justify_items": null,
            "grid_row": null,
            "max_height": null,
            "align_content": null,
            "visibility": null,
            "align_self": null,
            "height": null,
            "min_height": null,
            "padding": null,
            "grid_auto_rows": null,
            "grid_gap": null,
            "max_width": null,
            "order": null,
            "_view_module_version": "1.2.0",
            "grid_template_areas": null,
            "object_position": null,
            "object_fit": null,
            "grid_auto_columns": null,
            "margin": null,
            "display": null,
            "left": null
          }
        },
        "92f1a474154c4b43ac1b834f08e74882": {
          "model_module": "@jupyter-widgets/controls",
          "model_name": "HBoxModel",
          "state": {
            "_view_name": "HBoxView",
            "_dom_classes": [],
            "_model_name": "HBoxModel",
            "_view_module": "@jupyter-widgets/controls",
            "_model_module_version": "1.5.0",
            "_view_count": null,
            "_view_module_version": "1.5.0",
            "box_style": "",
            "layout": "IPY_MODEL_613b56e78be14740874211b6c542c813",
            "_model_module": "@jupyter-widgets/controls",
            "children": [
              "IPY_MODEL_c8003a65b6e149d49481c4b9171c259d",
              "IPY_MODEL_55c18cd629a84b4fa74650157c1e6431"
            ]
          }
        },
        "613b56e78be14740874211b6c542c813": {
          "model_module": "@jupyter-widgets/base",
          "model_name": "LayoutModel",
          "state": {
            "_view_name": "LayoutView",
            "grid_template_rows": null,
            "right": null,
            "justify_content": null,
            "_view_module": "@jupyter-widgets/base",
            "overflow": null,
            "_model_module_version": "1.2.0",
            "_view_count": null,
            "flex_flow": null,
            "width": null,
            "min_width": null,
            "border": null,
            "align_items": null,
            "bottom": null,
            "_model_module": "@jupyter-widgets/base",
            "top": null,
            "grid_column": null,
            "overflow_y": null,
            "overflow_x": null,
            "grid_auto_flow": null,
            "grid_area": null,
            "grid_template_columns": null,
            "flex": null,
            "_model_name": "LayoutModel",
            "justify_items": null,
            "grid_row": null,
            "max_height": null,
            "align_content": null,
            "visibility": null,
            "align_self": null,
            "height": null,
            "min_height": null,
            "padding": null,
            "grid_auto_rows": null,
            "grid_gap": null,
            "max_width": null,
            "order": null,
            "_view_module_version": "1.2.0",
            "grid_template_areas": null,
            "object_position": null,
            "object_fit": null,
            "grid_auto_columns": null,
            "margin": null,
            "display": null,
            "left": null
          }
        },
        "c8003a65b6e149d49481c4b9171c259d": {
          "model_module": "@jupyter-widgets/controls",
          "model_name": "IntProgressModel",
          "state": {
            "_view_name": "ProgressView",
            "style": "IPY_MODEL_e0836ccb003f4ea68553b7f87b119d36",
            "_dom_classes": [],
            "description": " 29%",
            "_model_name": "IntProgressModel",
            "bar_style": "danger",
            "max": 25000,
            "_view_module": "@jupyter-widgets/controls",
            "_model_module_version": "1.5.0",
            "value": 7205,
            "_view_count": null,
            "_view_module_version": "1.5.0",
            "orientation": "horizontal",
            "min": 0,
            "description_tooltip": null,
            "_model_module": "@jupyter-widgets/controls",
            "layout": "IPY_MODEL_d373e7580f164a0596eab141c1b80d6f"
          }
        },
        "55c18cd629a84b4fa74650157c1e6431": {
          "model_module": "@jupyter-widgets/controls",
          "model_name": "HTMLModel",
          "state": {
            "_view_name": "HTMLView",
            "style": "IPY_MODEL_68fb436ce76c40bab866c84cdac9d8c3",
            "_dom_classes": [],
            "description": "",
            "_model_name": "HTMLModel",
            "placeholder": "​",
            "_view_module": "@jupyter-widgets/controls",
            "_model_module_version": "1.5.0",
            "value": " 7205/25000 [00:00&lt;00:00, 72046.12 examples/s]",
            "_view_count": null,
            "_view_module_version": "1.5.0",
            "description_tooltip": null,
            "_model_module": "@jupyter-widgets/controls",
            "layout": "IPY_MODEL_5aa5afb2ae9248fa8d25adfcbd7dd777"
          }
        },
        "e0836ccb003f4ea68553b7f87b119d36": {
          "model_module": "@jupyter-widgets/controls",
          "model_name": "ProgressStyleModel",
          "state": {
            "_view_name": "StyleView",
            "_model_name": "ProgressStyleModel",
            "description_width": "initial",
            "_view_module": "@jupyter-widgets/base",
            "_model_module_version": "1.5.0",
            "_view_count": null,
            "_view_module_version": "1.2.0",
            "bar_color": null,
            "_model_module": "@jupyter-widgets/controls"
          }
        },
        "d373e7580f164a0596eab141c1b80d6f": {
          "model_module": "@jupyter-widgets/base",
          "model_name": "LayoutModel",
          "state": {
            "_view_name": "LayoutView",
            "grid_template_rows": null,
            "right": null,
            "justify_content": null,
            "_view_module": "@jupyter-widgets/base",
            "overflow": null,
            "_model_module_version": "1.2.0",
            "_view_count": null,
            "flex_flow": null,
            "width": null,
            "min_width": null,
            "border": null,
            "align_items": null,
            "bottom": null,
            "_model_module": "@jupyter-widgets/base",
            "top": null,
            "grid_column": null,
            "overflow_y": null,
            "overflow_x": null,
            "grid_auto_flow": null,
            "grid_area": null,
            "grid_template_columns": null,
            "flex": null,
            "_model_name": "LayoutModel",
            "justify_items": null,
            "grid_row": null,
            "max_height": null,
            "align_content": null,
            "visibility": null,
            "align_self": null,
            "height": null,
            "min_height": null,
            "padding": null,
            "grid_auto_rows": null,
            "grid_gap": null,
            "max_width": null,
            "order": null,
            "_view_module_version": "1.2.0",
            "grid_template_areas": null,
            "object_position": null,
            "object_fit": null,
            "grid_auto_columns": null,
            "margin": null,
            "display": null,
            "left": null
          }
        },
        "68fb436ce76c40bab866c84cdac9d8c3": {
          "model_module": "@jupyter-widgets/controls",
          "model_name": "DescriptionStyleModel",
          "state": {
            "_view_name": "StyleView",
            "_model_name": "DescriptionStyleModel",
            "description_width": "",
            "_view_module": "@jupyter-widgets/base",
            "_model_module_version": "1.5.0",
            "_view_count": null,
            "_view_module_version": "1.2.0",
            "_model_module": "@jupyter-widgets/controls"
          }
        },
        "5aa5afb2ae9248fa8d25adfcbd7dd777": {
          "model_module": "@jupyter-widgets/base",
          "model_name": "LayoutModel",
          "state": {
            "_view_name": "LayoutView",
            "grid_template_rows": null,
            "right": null,
            "justify_content": null,
            "_view_module": "@jupyter-widgets/base",
            "overflow": null,
            "_model_module_version": "1.2.0",
            "_view_count": null,
            "flex_flow": null,
            "width": null,
            "min_width": null,
            "border": null,
            "align_items": null,
            "bottom": null,
            "_model_module": "@jupyter-widgets/base",
            "top": null,
            "grid_column": null,
            "overflow_y": null,
            "overflow_x": null,
            "grid_auto_flow": null,
            "grid_area": null,
            "grid_template_columns": null,
            "flex": null,
            "_model_name": "LayoutModel",
            "justify_items": null,
            "grid_row": null,
            "max_height": null,
            "align_content": null,
            "visibility": null,
            "align_self": null,
            "height": null,
            "min_height": null,
            "padding": null,
            "grid_auto_rows": null,
            "grid_gap": null,
            "max_width": null,
            "order": null,
            "_view_module_version": "1.2.0",
            "grid_template_areas": null,
            "object_position": null,
            "object_fit": null,
            "grid_auto_columns": null,
            "margin": null,
            "display": null,
            "left": null
          }
        },
        "8d204efbce6d4fe0affd2e3716ed2d8f": {
          "model_module": "@jupyter-widgets/controls",
          "model_name": "HBoxModel",
          "state": {
            "_view_name": "HBoxView",
            "_dom_classes": [],
            "_model_name": "HBoxModel",
            "_view_module": "@jupyter-widgets/controls",
            "_model_module_version": "1.5.0",
            "_view_count": null,
            "_view_module_version": "1.5.0",
            "box_style": "",
            "layout": "IPY_MODEL_8b7c818c4d724e688c5aa0cafa36c081",
            "_model_module": "@jupyter-widgets/controls",
            "children": [
              "IPY_MODEL_e473d42678db4160a45661b8287c9f3a",
              "IPY_MODEL_940d5d4acb874275a934dbbccaada0d2"
            ]
          }
        },
        "8b7c818c4d724e688c5aa0cafa36c081": {
          "model_module": "@jupyter-widgets/base",
          "model_name": "LayoutModel",
          "state": {
            "_view_name": "LayoutView",
            "grid_template_rows": null,
            "right": null,
            "justify_content": null,
            "_view_module": "@jupyter-widgets/base",
            "overflow": null,
            "_model_module_version": "1.2.0",
            "_view_count": null,
            "flex_flow": null,
            "width": null,
            "min_width": null,
            "border": null,
            "align_items": null,
            "bottom": null,
            "_model_module": "@jupyter-widgets/base",
            "top": null,
            "grid_column": null,
            "overflow_y": null,
            "overflow_x": null,
            "grid_auto_flow": null,
            "grid_area": null,
            "grid_template_columns": null,
            "flex": null,
            "_model_name": "LayoutModel",
            "justify_items": null,
            "grid_row": null,
            "max_height": null,
            "align_content": null,
            "visibility": null,
            "align_self": null,
            "height": null,
            "min_height": null,
            "padding": null,
            "grid_auto_rows": null,
            "grid_gap": null,
            "max_width": null,
            "order": null,
            "_view_module_version": "1.2.0",
            "grid_template_areas": null,
            "object_position": null,
            "object_fit": null,
            "grid_auto_columns": null,
            "margin": null,
            "display": null,
            "left": null
          }
        },
        "e473d42678db4160a45661b8287c9f3a": {
          "model_module": "@jupyter-widgets/controls",
          "model_name": "IntProgressModel",
          "state": {
            "_view_name": "ProgressView",
            "style": "IPY_MODEL_83fea1c29c38461da3fafe43915055a0",
            "_dom_classes": [],
            "description": "",
            "_model_name": "IntProgressModel",
            "bar_style": "info",
            "max": 1,
            "_view_module": "@jupyter-widgets/controls",
            "_model_module_version": "1.5.0",
            "value": 1,
            "_view_count": null,
            "_view_module_version": "1.5.0",
            "orientation": "horizontal",
            "min": 0,
            "description_tooltip": null,
            "_model_module": "@jupyter-widgets/controls",
            "layout": "IPY_MODEL_83b574318d684e899007263201cb3586"
          }
        },
        "940d5d4acb874275a934dbbccaada0d2": {
          "model_module": "@jupyter-widgets/controls",
          "model_name": "HTMLModel",
          "state": {
            "_view_name": "HTMLView",
            "style": "IPY_MODEL_f48263ac14e14474bfd99480a90ccfee",
            "_dom_classes": [],
            "description": "",
            "_model_name": "HTMLModel",
            "placeholder": "​",
            "_view_module": "@jupyter-widgets/controls",
            "_model_module_version": "1.5.0",
            "value": " 50000/0 [00:23&lt;00:00, 2656.97 examples/s]",
            "_view_count": null,
            "_view_module_version": "1.5.0",
            "description_tooltip": null,
            "_model_module": "@jupyter-widgets/controls",
            "layout": "IPY_MODEL_d8f1618b83914023af3cf386392b7c3e"
          }
        },
        "83fea1c29c38461da3fafe43915055a0": {
          "model_module": "@jupyter-widgets/controls",
          "model_name": "ProgressStyleModel",
          "state": {
            "_view_name": "StyleView",
            "_model_name": "ProgressStyleModel",
            "description_width": "initial",
            "_view_module": "@jupyter-widgets/base",
            "_model_module_version": "1.5.0",
            "_view_count": null,
            "_view_module_version": "1.2.0",
            "bar_color": null,
            "_model_module": "@jupyter-widgets/controls"
          }
        },
        "83b574318d684e899007263201cb3586": {
          "model_module": "@jupyter-widgets/base",
          "model_name": "LayoutModel",
          "state": {
            "_view_name": "LayoutView",
            "grid_template_rows": null,
            "right": null,
            "justify_content": null,
            "_view_module": "@jupyter-widgets/base",
            "overflow": null,
            "_model_module_version": "1.2.0",
            "_view_count": null,
            "flex_flow": null,
            "width": null,
            "min_width": null,
            "border": null,
            "align_items": null,
            "bottom": null,
            "_model_module": "@jupyter-widgets/base",
            "top": null,
            "grid_column": null,
            "overflow_y": null,
            "overflow_x": null,
            "grid_auto_flow": null,
            "grid_area": null,
            "grid_template_columns": null,
            "flex": null,
            "_model_name": "LayoutModel",
            "justify_items": null,
            "grid_row": null,
            "max_height": null,
            "align_content": null,
            "visibility": null,
            "align_self": null,
            "height": null,
            "min_height": null,
            "padding": null,
            "grid_auto_rows": null,
            "grid_gap": null,
            "max_width": null,
            "order": null,
            "_view_module_version": "1.2.0",
            "grid_template_areas": null,
            "object_position": null,
            "object_fit": null,
            "grid_auto_columns": null,
            "margin": null,
            "display": null,
            "left": null
          }
        },
        "f48263ac14e14474bfd99480a90ccfee": {
          "model_module": "@jupyter-widgets/controls",
          "model_name": "DescriptionStyleModel",
          "state": {
            "_view_name": "StyleView",
            "_model_name": "DescriptionStyleModel",
            "description_width": "",
            "_view_module": "@jupyter-widgets/base",
            "_model_module_version": "1.5.0",
            "_view_count": null,
            "_view_module_version": "1.2.0",
            "_model_module": "@jupyter-widgets/controls"
          }
        },
        "d8f1618b83914023af3cf386392b7c3e": {
          "model_module": "@jupyter-widgets/base",
          "model_name": "LayoutModel",
          "state": {
            "_view_name": "LayoutView",
            "grid_template_rows": null,
            "right": null,
            "justify_content": null,
            "_view_module": "@jupyter-widgets/base",
            "overflow": null,
            "_model_module_version": "1.2.0",
            "_view_count": null,
            "flex_flow": null,
            "width": null,
            "min_width": null,
            "border": null,
            "align_items": null,
            "bottom": null,
            "_model_module": "@jupyter-widgets/base",
            "top": null,
            "grid_column": null,
            "overflow_y": null,
            "overflow_x": null,
            "grid_auto_flow": null,
            "grid_area": null,
            "grid_template_columns": null,
            "flex": null,
            "_model_name": "LayoutModel",
            "justify_items": null,
            "grid_row": null,
            "max_height": null,
            "align_content": null,
            "visibility": null,
            "align_self": null,
            "height": null,
            "min_height": null,
            "padding": null,
            "grid_auto_rows": null,
            "grid_gap": null,
            "max_width": null,
            "order": null,
            "_view_module_version": "1.2.0",
            "grid_template_areas": null,
            "object_position": null,
            "object_fit": null,
            "grid_auto_columns": null,
            "margin": null,
            "display": null,
            "left": null
          }
        },
        "1dc7fe6aed8f42a39cf467788f26d07e": {
          "model_module": "@jupyter-widgets/controls",
          "model_name": "HBoxModel",
          "state": {
            "_view_name": "HBoxView",
            "_dom_classes": [],
            "_model_name": "HBoxModel",
            "_view_module": "@jupyter-widgets/controls",
            "_model_module_version": "1.5.0",
            "_view_count": null,
            "_view_module_version": "1.5.0",
            "box_style": "",
            "layout": "IPY_MODEL_180200b8ee8f424fb5ee4bb8e332ac25",
            "_model_module": "@jupyter-widgets/controls",
            "children": [
              "IPY_MODEL_973f2c2a77c449f1b8b626e6a670a7e0",
              "IPY_MODEL_2e83dafe15d446f4bd9b64880b4f264f"
            ]
          }
        },
        "180200b8ee8f424fb5ee4bb8e332ac25": {
          "model_module": "@jupyter-widgets/base",
          "model_name": "LayoutModel",
          "state": {
            "_view_name": "LayoutView",
            "grid_template_rows": null,
            "right": null,
            "justify_content": null,
            "_view_module": "@jupyter-widgets/base",
            "overflow": null,
            "_model_module_version": "1.2.0",
            "_view_count": null,
            "flex_flow": null,
            "width": null,
            "min_width": null,
            "border": null,
            "align_items": null,
            "bottom": null,
            "_model_module": "@jupyter-widgets/base",
            "top": null,
            "grid_column": null,
            "overflow_y": null,
            "overflow_x": null,
            "grid_auto_flow": null,
            "grid_area": null,
            "grid_template_columns": null,
            "flex": null,
            "_model_name": "LayoutModel",
            "justify_items": null,
            "grid_row": null,
            "max_height": null,
            "align_content": null,
            "visibility": null,
            "align_self": null,
            "height": null,
            "min_height": null,
            "padding": null,
            "grid_auto_rows": null,
            "grid_gap": null,
            "max_width": null,
            "order": null,
            "_view_module_version": "1.2.0",
            "grid_template_areas": null,
            "object_position": null,
            "object_fit": null,
            "grid_auto_columns": null,
            "margin": null,
            "display": null,
            "left": null
          }
        },
        "973f2c2a77c449f1b8b626e6a670a7e0": {
          "model_module": "@jupyter-widgets/controls",
          "model_name": "IntProgressModel",
          "state": {
            "_view_name": "ProgressView",
            "style": "IPY_MODEL_18766abe18e345aaac7015c4bce4a396",
            "_dom_classes": [],
            "description": " 68%",
            "_model_name": "IntProgressModel",
            "bar_style": "danger",
            "max": 50000,
            "_view_module": "@jupyter-widgets/controls",
            "_model_module_version": "1.5.0",
            "value": 34101,
            "_view_count": null,
            "_view_module_version": "1.5.0",
            "orientation": "horizontal",
            "min": 0,
            "description_tooltip": null,
            "_model_module": "@jupyter-widgets/controls",
            "layout": "IPY_MODEL_5c8563b924d149cbb2ba02fcfdbd95f5"
          }
        },
        "2e83dafe15d446f4bd9b64880b4f264f": {
          "model_module": "@jupyter-widgets/controls",
          "model_name": "HTMLModel",
          "state": {
            "_view_name": "HTMLView",
            "style": "IPY_MODEL_3d265396eacd4c4581f5ba6047ba9681",
            "_dom_classes": [],
            "description": "",
            "_model_name": "HTMLModel",
            "placeholder": "​",
            "_view_module": "@jupyter-widgets/controls",
            "_model_module_version": "1.5.0",
            "value": " 34101/50000 [00:00&lt;00:01, 11750.84 examples/s]",
            "_view_count": null,
            "_view_module_version": "1.5.0",
            "description_tooltip": null,
            "_model_module": "@jupyter-widgets/controls",
            "layout": "IPY_MODEL_24a0fb144e684001b54c05e73427b796"
          }
        },
        "18766abe18e345aaac7015c4bce4a396": {
          "model_module": "@jupyter-widgets/controls",
          "model_name": "ProgressStyleModel",
          "state": {
            "_view_name": "StyleView",
            "_model_name": "ProgressStyleModel",
            "description_width": "initial",
            "_view_module": "@jupyter-widgets/base",
            "_model_module_version": "1.5.0",
            "_view_count": null,
            "_view_module_version": "1.2.0",
            "bar_color": null,
            "_model_module": "@jupyter-widgets/controls"
          }
        },
        "5c8563b924d149cbb2ba02fcfdbd95f5": {
          "model_module": "@jupyter-widgets/base",
          "model_name": "LayoutModel",
          "state": {
            "_view_name": "LayoutView",
            "grid_template_rows": null,
            "right": null,
            "justify_content": null,
            "_view_module": "@jupyter-widgets/base",
            "overflow": null,
            "_model_module_version": "1.2.0",
            "_view_count": null,
            "flex_flow": null,
            "width": null,
            "min_width": null,
            "border": null,
            "align_items": null,
            "bottom": null,
            "_model_module": "@jupyter-widgets/base",
            "top": null,
            "grid_column": null,
            "overflow_y": null,
            "overflow_x": null,
            "grid_auto_flow": null,
            "grid_area": null,
            "grid_template_columns": null,
            "flex": null,
            "_model_name": "LayoutModel",
            "justify_items": null,
            "grid_row": null,
            "max_height": null,
            "align_content": null,
            "visibility": null,
            "align_self": null,
            "height": null,
            "min_height": null,
            "padding": null,
            "grid_auto_rows": null,
            "grid_gap": null,
            "max_width": null,
            "order": null,
            "_view_module_version": "1.2.0",
            "grid_template_areas": null,
            "object_position": null,
            "object_fit": null,
            "grid_auto_columns": null,
            "margin": null,
            "display": null,
            "left": null
          }
        },
        "3d265396eacd4c4581f5ba6047ba9681": {
          "model_module": "@jupyter-widgets/controls",
          "model_name": "DescriptionStyleModel",
          "state": {
            "_view_name": "StyleView",
            "_model_name": "DescriptionStyleModel",
            "description_width": "",
            "_view_module": "@jupyter-widgets/base",
            "_model_module_version": "1.5.0",
            "_view_count": null,
            "_view_module_version": "1.2.0",
            "_model_module": "@jupyter-widgets/controls"
          }
        },
        "24a0fb144e684001b54c05e73427b796": {
          "model_module": "@jupyter-widgets/base",
          "model_name": "LayoutModel",
          "state": {
            "_view_name": "LayoutView",
            "grid_template_rows": null,
            "right": null,
            "justify_content": null,
            "_view_module": "@jupyter-widgets/base",
            "overflow": null,
            "_model_module_version": "1.2.0",
            "_view_count": null,
            "flex_flow": null,
            "width": null,
            "min_width": null,
            "border": null,
            "align_items": null,
            "bottom": null,
            "_model_module": "@jupyter-widgets/base",
            "top": null,
            "grid_column": null,
            "overflow_y": null,
            "overflow_x": null,
            "grid_auto_flow": null,
            "grid_area": null,
            "grid_template_columns": null,
            "flex": null,
            "_model_name": "LayoutModel",
            "justify_items": null,
            "grid_row": null,
            "max_height": null,
            "align_content": null,
            "visibility": null,
            "align_self": null,
            "height": null,
            "min_height": null,
            "padding": null,
            "grid_auto_rows": null,
            "grid_gap": null,
            "max_width": null,
            "order": null,
            "_view_module_version": "1.2.0",
            "grid_template_areas": null,
            "object_position": null,
            "object_fit": null,
            "grid_auto_columns": null,
            "margin": null,
            "display": null,
            "left": null
          }
        },
        "083c8816c5974bbeb35abaff3d658211": {
          "model_module": "@jupyter-widgets/controls",
          "model_name": "HBoxModel",
          "state": {
            "_view_name": "HBoxView",
            "_dom_classes": [],
            "_model_name": "HBoxModel",
            "_view_module": "@jupyter-widgets/controls",
            "_model_module_version": "1.5.0",
            "_view_count": null,
            "_view_module_version": "1.5.0",
            "box_style": "",
            "layout": "IPY_MODEL_91dc5e3cbb6647ae858913c52a28adad",
            "_model_module": "@jupyter-widgets/controls",
            "children": [
              "IPY_MODEL_0b5caaf46bd843079c90bfd162bd49e5",
              "IPY_MODEL_4004508907bc469894403e215e8c10a9"
            ]
          }
        },
        "91dc5e3cbb6647ae858913c52a28adad": {
          "model_module": "@jupyter-widgets/base",
          "model_name": "LayoutModel",
          "state": {
            "_view_name": "LayoutView",
            "grid_template_rows": null,
            "right": null,
            "justify_content": null,
            "_view_module": "@jupyter-widgets/base",
            "overflow": null,
            "_model_module_version": "1.2.0",
            "_view_count": null,
            "flex_flow": null,
            "width": null,
            "min_width": null,
            "border": null,
            "align_items": null,
            "bottom": null,
            "_model_module": "@jupyter-widgets/base",
            "top": null,
            "grid_column": null,
            "overflow_y": null,
            "overflow_x": null,
            "grid_auto_flow": null,
            "grid_area": null,
            "grid_template_columns": null,
            "flex": null,
            "_model_name": "LayoutModel",
            "justify_items": null,
            "grid_row": null,
            "max_height": null,
            "align_content": null,
            "visibility": null,
            "align_self": null,
            "height": null,
            "min_height": null,
            "padding": null,
            "grid_auto_rows": null,
            "grid_gap": null,
            "max_width": null,
            "order": null,
            "_view_module_version": "1.2.0",
            "grid_template_areas": null,
            "object_position": null,
            "object_fit": null,
            "grid_auto_columns": null,
            "margin": null,
            "display": null,
            "left": null
          }
        },
        "0b5caaf46bd843079c90bfd162bd49e5": {
          "model_module": "@jupyter-widgets/controls",
          "model_name": "IntProgressModel",
          "state": {
            "_view_name": "ProgressView",
            "style": "IPY_MODEL_6e0eab3920984d53af60aa553e661df9",
            "_dom_classes": [],
            "description": "Dl Completed...: ",
            "_model_name": "IntProgressModel",
            "bar_style": "success",
            "max": 1,
            "_view_module": "@jupyter-widgets/controls",
            "_model_module_version": "1.5.0",
            "value": 0,
            "_view_count": null,
            "_view_module_version": "1.5.0",
            "orientation": "horizontal",
            "min": 0,
            "description_tooltip": null,
            "_model_module": "@jupyter-widgets/controls",
            "layout": "IPY_MODEL_21a4bbc8ad484ccb8a74cfca8f07bf7c"
          }
        },
        "4004508907bc469894403e215e8c10a9": {
          "model_module": "@jupyter-widgets/controls",
          "model_name": "HTMLModel",
          "state": {
            "_view_name": "HTMLView",
            "style": "IPY_MODEL_c2c29d8c571e44d584ee15382743374a",
            "_dom_classes": [],
            "description": "",
            "_model_name": "HTMLModel",
            "placeholder": "​",
            "_view_module": "@jupyter-widgets/controls",
            "_model_module_version": "1.5.0",
            "value": " 0/0 [00:00&lt;?, ? url/s]",
            "_view_count": null,
            "_view_module_version": "1.5.0",
            "description_tooltip": null,
            "_model_module": "@jupyter-widgets/controls",
            "layout": "IPY_MODEL_0910f3d32eb34e2a9efc6ac513798156"
          }
        },
        "6e0eab3920984d53af60aa553e661df9": {
          "model_module": "@jupyter-widgets/controls",
          "model_name": "ProgressStyleModel",
          "state": {
            "_view_name": "StyleView",
            "_model_name": "ProgressStyleModel",
            "description_width": "initial",
            "_view_module": "@jupyter-widgets/base",
            "_model_module_version": "1.5.0",
            "_view_count": null,
            "_view_module_version": "1.2.0",
            "bar_color": null,
            "_model_module": "@jupyter-widgets/controls"
          }
        },
        "21a4bbc8ad484ccb8a74cfca8f07bf7c": {
          "model_module": "@jupyter-widgets/base",
          "model_name": "LayoutModel",
          "state": {
            "_view_name": "LayoutView",
            "grid_template_rows": null,
            "right": null,
            "justify_content": null,
            "_view_module": "@jupyter-widgets/base",
            "overflow": null,
            "_model_module_version": "1.2.0",
            "_view_count": null,
            "flex_flow": null,
            "width": null,
            "min_width": null,
            "border": null,
            "align_items": null,
            "bottom": null,
            "_model_module": "@jupyter-widgets/base",
            "top": null,
            "grid_column": null,
            "overflow_y": null,
            "overflow_x": null,
            "grid_auto_flow": null,
            "grid_area": null,
            "grid_template_columns": null,
            "flex": null,
            "_model_name": "LayoutModel",
            "justify_items": null,
            "grid_row": null,
            "max_height": null,
            "align_content": null,
            "visibility": null,
            "align_self": null,
            "height": null,
            "min_height": null,
            "padding": null,
            "grid_auto_rows": null,
            "grid_gap": null,
            "max_width": null,
            "order": null,
            "_view_module_version": "1.2.0",
            "grid_template_areas": null,
            "object_position": null,
            "object_fit": null,
            "grid_auto_columns": null,
            "margin": null,
            "display": null,
            "left": null
          }
        },
        "c2c29d8c571e44d584ee15382743374a": {
          "model_module": "@jupyter-widgets/controls",
          "model_name": "DescriptionStyleModel",
          "state": {
            "_view_name": "StyleView",
            "_model_name": "DescriptionStyleModel",
            "description_width": "",
            "_view_module": "@jupyter-widgets/base",
            "_model_module_version": "1.5.0",
            "_view_count": null,
            "_view_module_version": "1.2.0",
            "_model_module": "@jupyter-widgets/controls"
          }
        },
        "0910f3d32eb34e2a9efc6ac513798156": {
          "model_module": "@jupyter-widgets/base",
          "model_name": "LayoutModel",
          "state": {
            "_view_name": "LayoutView",
            "grid_template_rows": null,
            "right": null,
            "justify_content": null,
            "_view_module": "@jupyter-widgets/base",
            "overflow": null,
            "_model_module_version": "1.2.0",
            "_view_count": null,
            "flex_flow": null,
            "width": null,
            "min_width": null,
            "border": null,
            "align_items": null,
            "bottom": null,
            "_model_module": "@jupyter-widgets/base",
            "top": null,
            "grid_column": null,
            "overflow_y": null,
            "overflow_x": null,
            "grid_auto_flow": null,
            "grid_area": null,
            "grid_template_columns": null,
            "flex": null,
            "_model_name": "LayoutModel",
            "justify_items": null,
            "grid_row": null,
            "max_height": null,
            "align_content": null,
            "visibility": null,
            "align_self": null,
            "height": null,
            "min_height": null,
            "padding": null,
            "grid_auto_rows": null,
            "grid_gap": null,
            "max_width": null,
            "order": null,
            "_view_module_version": "1.2.0",
            "grid_template_areas": null,
            "object_position": null,
            "object_fit": null,
            "grid_auto_columns": null,
            "margin": null,
            "display": null,
            "left": null
          }
        },
        "6818e88b6ee5426eabcba88d8a483c9e": {
          "model_module": "@jupyter-widgets/controls",
          "model_name": "HBoxModel",
          "state": {
            "_view_name": "HBoxView",
            "_dom_classes": [],
            "_model_name": "HBoxModel",
            "_view_module": "@jupyter-widgets/controls",
            "_model_module_version": "1.5.0",
            "_view_count": null,
            "_view_module_version": "1.5.0",
            "box_style": "",
            "layout": "IPY_MODEL_770b066bf466469aa5ef2e7ea4f0c03e",
            "_model_module": "@jupyter-widgets/controls",
            "children": [
              "IPY_MODEL_c1675bbb948e479aa2d4dfc3ec19f98f",
              "IPY_MODEL_76206d271c61451790718868ab21b32e"
            ]
          }
        },
        "770b066bf466469aa5ef2e7ea4f0c03e": {
          "model_module": "@jupyter-widgets/base",
          "model_name": "LayoutModel",
          "state": {
            "_view_name": "LayoutView",
            "grid_template_rows": null,
            "right": null,
            "justify_content": null,
            "_view_module": "@jupyter-widgets/base",
            "overflow": null,
            "_model_module_version": "1.2.0",
            "_view_count": null,
            "flex_flow": null,
            "width": null,
            "min_width": null,
            "border": null,
            "align_items": null,
            "bottom": null,
            "_model_module": "@jupyter-widgets/base",
            "top": null,
            "grid_column": null,
            "overflow_y": null,
            "overflow_x": null,
            "grid_auto_flow": null,
            "grid_area": null,
            "grid_template_columns": null,
            "flex": null,
            "_model_name": "LayoutModel",
            "justify_items": null,
            "grid_row": null,
            "max_height": null,
            "align_content": null,
            "visibility": null,
            "align_self": null,
            "height": null,
            "min_height": null,
            "padding": null,
            "grid_auto_rows": null,
            "grid_gap": null,
            "max_width": null,
            "order": null,
            "_view_module_version": "1.2.0",
            "grid_template_areas": null,
            "object_position": null,
            "object_fit": null,
            "grid_auto_columns": null,
            "margin": null,
            "display": null,
            "left": null
          }
        },
        "c1675bbb948e479aa2d4dfc3ec19f98f": {
          "model_module": "@jupyter-widgets/controls",
          "model_name": "IntProgressModel",
          "state": {
            "_view_name": "ProgressView",
            "style": "IPY_MODEL_b86951180645475cb7675ded1a5c18ef",
            "_dom_classes": [],
            "description": "Dl Size...: ",
            "_model_name": "IntProgressModel",
            "bar_style": "success",
            "max": 1,
            "_view_module": "@jupyter-widgets/controls",
            "_model_module_version": "1.5.0",
            "value": 0,
            "_view_count": null,
            "_view_module_version": "1.5.0",
            "orientation": "horizontal",
            "min": 0,
            "description_tooltip": null,
            "_model_module": "@jupyter-widgets/controls",
            "layout": "IPY_MODEL_06bcea8fa6fb4c66acdf33048b98fcdc"
          }
        },
        "76206d271c61451790718868ab21b32e": {
          "model_module": "@jupyter-widgets/controls",
          "model_name": "HTMLModel",
          "state": {
            "_view_name": "HTMLView",
            "style": "IPY_MODEL_5d0fa58ccf3841898f954d7908e484cd",
            "_dom_classes": [],
            "description": "",
            "_model_name": "HTMLModel",
            "placeholder": "​",
            "_view_module": "@jupyter-widgets/controls",
            "_model_module_version": "1.5.0",
            "value": " 0/0 [00:00&lt;?, ? MiB/s]",
            "_view_count": null,
            "_view_module_version": "1.5.0",
            "description_tooltip": null,
            "_model_module": "@jupyter-widgets/controls",
            "layout": "IPY_MODEL_d752912232584ed389fd49bf5120c5bd"
          }
        },
        "b86951180645475cb7675ded1a5c18ef": {
          "model_module": "@jupyter-widgets/controls",
          "model_name": "ProgressStyleModel",
          "state": {
            "_view_name": "StyleView",
            "_model_name": "ProgressStyleModel",
            "description_width": "initial",
            "_view_module": "@jupyter-widgets/base",
            "_model_module_version": "1.5.0",
            "_view_count": null,
            "_view_module_version": "1.2.0",
            "bar_color": null,
            "_model_module": "@jupyter-widgets/controls"
          }
        },
        "06bcea8fa6fb4c66acdf33048b98fcdc": {
          "model_module": "@jupyter-widgets/base",
          "model_name": "LayoutModel",
          "state": {
            "_view_name": "LayoutView",
            "grid_template_rows": null,
            "right": null,
            "justify_content": null,
            "_view_module": "@jupyter-widgets/base",
            "overflow": null,
            "_model_module_version": "1.2.0",
            "_view_count": null,
            "flex_flow": null,
            "width": null,
            "min_width": null,
            "border": null,
            "align_items": null,
            "bottom": null,
            "_model_module": "@jupyter-widgets/base",
            "top": null,
            "grid_column": null,
            "overflow_y": null,
            "overflow_x": null,
            "grid_auto_flow": null,
            "grid_area": null,
            "grid_template_columns": null,
            "flex": null,
            "_model_name": "LayoutModel",
            "justify_items": null,
            "grid_row": null,
            "max_height": null,
            "align_content": null,
            "visibility": null,
            "align_self": null,
            "height": null,
            "min_height": null,
            "padding": null,
            "grid_auto_rows": null,
            "grid_gap": null,
            "max_width": null,
            "order": null,
            "_view_module_version": "1.2.0",
            "grid_template_areas": null,
            "object_position": null,
            "object_fit": null,
            "grid_auto_columns": null,
            "margin": null,
            "display": null,
            "left": null
          }
        },
        "5d0fa58ccf3841898f954d7908e484cd": {
          "model_module": "@jupyter-widgets/controls",
          "model_name": "DescriptionStyleModel",
          "state": {
            "_view_name": "StyleView",
            "_model_name": "DescriptionStyleModel",
            "description_width": "",
            "_view_module": "@jupyter-widgets/base",
            "_model_module_version": "1.5.0",
            "_view_count": null,
            "_view_module_version": "1.2.0",
            "_model_module": "@jupyter-widgets/controls"
          }
        },
        "d752912232584ed389fd49bf5120c5bd": {
          "model_module": "@jupyter-widgets/base",
          "model_name": "LayoutModel",
          "state": {
            "_view_name": "LayoutView",
            "grid_template_rows": null,
            "right": null,
            "justify_content": null,
            "_view_module": "@jupyter-widgets/base",
            "overflow": null,
            "_model_module_version": "1.2.0",
            "_view_count": null,
            "flex_flow": null,
            "width": null,
            "min_width": null,
            "border": null,
            "align_items": null,
            "bottom": null,
            "_model_module": "@jupyter-widgets/base",
            "top": null,
            "grid_column": null,
            "overflow_y": null,
            "overflow_x": null,
            "grid_auto_flow": null,
            "grid_area": null,
            "grid_template_columns": null,
            "flex": null,
            "_model_name": "LayoutModel",
            "justify_items": null,
            "grid_row": null,
            "max_height": null,
            "align_content": null,
            "visibility": null,
            "align_self": null,
            "height": null,
            "min_height": null,
            "padding": null,
            "grid_auto_rows": null,
            "grid_gap": null,
            "max_width": null,
            "order": null,
            "_view_module_version": "1.2.0",
            "grid_template_areas": null,
            "object_position": null,
            "object_fit": null,
            "grid_auto_columns": null,
            "margin": null,
            "display": null,
            "left": null
          }
        },
        "65e595970db64c56a686fff811184919": {
          "model_module": "@jupyter-widgets/controls",
          "model_name": "HBoxModel",
          "state": {
            "_view_name": "HBoxView",
            "_dom_classes": [],
            "_model_name": "HBoxModel",
            "_view_module": "@jupyter-widgets/controls",
            "_model_module_version": "1.5.0",
            "_view_count": null,
            "_view_module_version": "1.5.0",
            "box_style": "",
            "layout": "IPY_MODEL_d3bf007d1bc74fc7a580ec5b19836c3b",
            "_model_module": "@jupyter-widgets/controls",
            "children": [
              "IPY_MODEL_2f28f9263214416f8d30afdfdfc89b23",
              "IPY_MODEL_4528eb039ab6490580a193c928ee12c0"
            ]
          }
        },
        "d3bf007d1bc74fc7a580ec5b19836c3b": {
          "model_module": "@jupyter-widgets/base",
          "model_name": "LayoutModel",
          "state": {
            "_view_name": "LayoutView",
            "grid_template_rows": null,
            "right": null,
            "justify_content": null,
            "_view_module": "@jupyter-widgets/base",
            "overflow": null,
            "_model_module_version": "1.2.0",
            "_view_count": null,
            "flex_flow": null,
            "width": null,
            "min_width": null,
            "border": null,
            "align_items": null,
            "bottom": null,
            "_model_module": "@jupyter-widgets/base",
            "top": null,
            "grid_column": null,
            "overflow_y": null,
            "overflow_x": null,
            "grid_auto_flow": null,
            "grid_area": null,
            "grid_template_columns": null,
            "flex": null,
            "_model_name": "LayoutModel",
            "justify_items": null,
            "grid_row": null,
            "max_height": null,
            "align_content": null,
            "visibility": null,
            "align_self": null,
            "height": null,
            "min_height": null,
            "padding": null,
            "grid_auto_rows": null,
            "grid_gap": null,
            "max_width": null,
            "order": null,
            "_view_module_version": "1.2.0",
            "grid_template_areas": null,
            "object_position": null,
            "object_fit": null,
            "grid_auto_columns": null,
            "margin": null,
            "display": null,
            "left": null
          }
        },
        "2f28f9263214416f8d30afdfdfc89b23": {
          "model_module": "@jupyter-widgets/controls",
          "model_name": "IntProgressModel",
          "state": {
            "_view_name": "ProgressView",
            "style": "IPY_MODEL_2f370c64c3404702b6513716f28bb7e5",
            "_dom_classes": [],
            "description": "",
            "_model_name": "IntProgressModel",
            "bar_style": "info",
            "max": 1,
            "_view_module": "@jupyter-widgets/controls",
            "_model_module_version": "1.5.0",
            "value": 1,
            "_view_count": null,
            "_view_module_version": "1.5.0",
            "orientation": "horizontal",
            "min": 0,
            "description_tooltip": null,
            "_model_module": "@jupyter-widgets/controls",
            "layout": "IPY_MODEL_1e7b75e6f2944dad9288ea815ca86845"
          }
        },
        "4528eb039ab6490580a193c928ee12c0": {
          "model_module": "@jupyter-widgets/controls",
          "model_name": "HTMLModel",
          "state": {
            "_view_name": "HTMLView",
            "style": "IPY_MODEL_8f65c3f068494528ac803eb8b1ce099a",
            "_dom_classes": [],
            "description": "",
            "_model_name": "HTMLModel",
            "placeholder": "​",
            "_view_module": "@jupyter-widgets/controls",
            "_model_module_version": "1.5.0",
            "value": " 25000/0 [00:38&lt;00:00, 775.13 examples/s]",
            "_view_count": null,
            "_view_module_version": "1.5.0",
            "description_tooltip": null,
            "_model_module": "@jupyter-widgets/controls",
            "layout": "IPY_MODEL_93dffd86b6ae49c4a29f56bbcd3ea9cc"
          }
        },
        "2f370c64c3404702b6513716f28bb7e5": {
          "model_module": "@jupyter-widgets/controls",
          "model_name": "ProgressStyleModel",
          "state": {
            "_view_name": "StyleView",
            "_model_name": "ProgressStyleModel",
            "description_width": "initial",
            "_view_module": "@jupyter-widgets/base",
            "_model_module_version": "1.5.0",
            "_view_count": null,
            "_view_module_version": "1.2.0",
            "bar_color": null,
            "_model_module": "@jupyter-widgets/controls"
          }
        },
        "1e7b75e6f2944dad9288ea815ca86845": {
          "model_module": "@jupyter-widgets/base",
          "model_name": "LayoutModel",
          "state": {
            "_view_name": "LayoutView",
            "grid_template_rows": null,
            "right": null,
            "justify_content": null,
            "_view_module": "@jupyter-widgets/base",
            "overflow": null,
            "_model_module_version": "1.2.0",
            "_view_count": null,
            "flex_flow": null,
            "width": null,
            "min_width": null,
            "border": null,
            "align_items": null,
            "bottom": null,
            "_model_module": "@jupyter-widgets/base",
            "top": null,
            "grid_column": null,
            "overflow_y": null,
            "overflow_x": null,
            "grid_auto_flow": null,
            "grid_area": null,
            "grid_template_columns": null,
            "flex": null,
            "_model_name": "LayoutModel",
            "justify_items": null,
            "grid_row": null,
            "max_height": null,
            "align_content": null,
            "visibility": null,
            "align_self": null,
            "height": null,
            "min_height": null,
            "padding": null,
            "grid_auto_rows": null,
            "grid_gap": null,
            "max_width": null,
            "order": null,
            "_view_module_version": "1.2.0",
            "grid_template_areas": null,
            "object_position": null,
            "object_fit": null,
            "grid_auto_columns": null,
            "margin": null,
            "display": null,
            "left": null
          }
        },
        "8f65c3f068494528ac803eb8b1ce099a": {
          "model_module": "@jupyter-widgets/controls",
          "model_name": "DescriptionStyleModel",
          "state": {
            "_view_name": "StyleView",
            "_model_name": "DescriptionStyleModel",
            "description_width": "",
            "_view_module": "@jupyter-widgets/base",
            "_model_module_version": "1.5.0",
            "_view_count": null,
            "_view_module_version": "1.2.0",
            "_model_module": "@jupyter-widgets/controls"
          }
        },
        "93dffd86b6ae49c4a29f56bbcd3ea9cc": {
          "model_module": "@jupyter-widgets/base",
          "model_name": "LayoutModel",
          "state": {
            "_view_name": "LayoutView",
            "grid_template_rows": null,
            "right": null,
            "justify_content": null,
            "_view_module": "@jupyter-widgets/base",
            "overflow": null,
            "_model_module_version": "1.2.0",
            "_view_count": null,
            "flex_flow": null,
            "width": null,
            "min_width": null,
            "border": null,
            "align_items": null,
            "bottom": null,
            "_model_module": "@jupyter-widgets/base",
            "top": null,
            "grid_column": null,
            "overflow_y": null,
            "overflow_x": null,
            "grid_auto_flow": null,
            "grid_area": null,
            "grid_template_columns": null,
            "flex": null,
            "_model_name": "LayoutModel",
            "justify_items": null,
            "grid_row": null,
            "max_height": null,
            "align_content": null,
            "visibility": null,
            "align_self": null,
            "height": null,
            "min_height": null,
            "padding": null,
            "grid_auto_rows": null,
            "grid_gap": null,
            "max_width": null,
            "order": null,
            "_view_module_version": "1.2.0",
            "grid_template_areas": null,
            "object_position": null,
            "object_fit": null,
            "grid_auto_columns": null,
            "margin": null,
            "display": null,
            "left": null
          }
        },
        "665934944182442d8c34d717c235d753": {
          "model_module": "@jupyter-widgets/controls",
          "model_name": "HBoxModel",
          "state": {
            "_view_name": "HBoxView",
            "_dom_classes": [],
            "_model_name": "HBoxModel",
            "_view_module": "@jupyter-widgets/controls",
            "_model_module_version": "1.5.0",
            "_view_count": null,
            "_view_module_version": "1.5.0",
            "box_style": "",
            "layout": "IPY_MODEL_26228a1c974f41bab22e8f97cfaafdc5",
            "_model_module": "@jupyter-widgets/controls",
            "children": [
              "IPY_MODEL_5185d2ba5be9477b87178d3305deb237",
              "IPY_MODEL_e666dfb42e9c43a7920382fdbf4648ad"
            ]
          }
        },
        "26228a1c974f41bab22e8f97cfaafdc5": {
          "model_module": "@jupyter-widgets/base",
          "model_name": "LayoutModel",
          "state": {
            "_view_name": "LayoutView",
            "grid_template_rows": null,
            "right": null,
            "justify_content": null,
            "_view_module": "@jupyter-widgets/base",
            "overflow": null,
            "_model_module_version": "1.2.0",
            "_view_count": null,
            "flex_flow": null,
            "width": null,
            "min_width": null,
            "border": null,
            "align_items": null,
            "bottom": null,
            "_model_module": "@jupyter-widgets/base",
            "top": null,
            "grid_column": null,
            "overflow_y": null,
            "overflow_x": null,
            "grid_auto_flow": null,
            "grid_area": null,
            "grid_template_columns": null,
            "flex": null,
            "_model_name": "LayoutModel",
            "justify_items": null,
            "grid_row": null,
            "max_height": null,
            "align_content": null,
            "visibility": null,
            "align_self": null,
            "height": null,
            "min_height": null,
            "padding": null,
            "grid_auto_rows": null,
            "grid_gap": null,
            "max_width": null,
            "order": null,
            "_view_module_version": "1.2.0",
            "grid_template_areas": null,
            "object_position": null,
            "object_fit": null,
            "grid_auto_columns": null,
            "margin": null,
            "display": null,
            "left": null
          }
        },
        "5185d2ba5be9477b87178d3305deb237": {
          "model_module": "@jupyter-widgets/controls",
          "model_name": "IntProgressModel",
          "state": {
            "_view_name": "ProgressView",
            "style": "IPY_MODEL_43c0dbe103374431a4c18ca35d1bf464",
            "_dom_classes": [],
            "description": " 42%",
            "_model_name": "IntProgressModel",
            "bar_style": "danger",
            "max": 25000,
            "_view_module": "@jupyter-widgets/controls",
            "_model_module_version": "1.5.0",
            "value": 10590,
            "_view_count": null,
            "_view_module_version": "1.5.0",
            "orientation": "horizontal",
            "min": 0,
            "description_tooltip": null,
            "_model_module": "@jupyter-widgets/controls",
            "layout": "IPY_MODEL_447e4988c6004fa4982a4cf688091ca4"
          }
        },
        "e666dfb42e9c43a7920382fdbf4648ad": {
          "model_module": "@jupyter-widgets/controls",
          "model_name": "HTMLModel",
          "state": {
            "_view_name": "HTMLView",
            "style": "IPY_MODEL_7939a5d84b534b129f9b927f9df22521",
            "_dom_classes": [],
            "description": "",
            "_model_name": "HTMLModel",
            "placeholder": "​",
            "_view_module": "@jupyter-widgets/controls",
            "_model_module_version": "1.5.0",
            "value": " 10590/25000 [00:00&lt;00:00, 105898.84 examples/s]",
            "_view_count": null,
            "_view_module_version": "1.5.0",
            "description_tooltip": null,
            "_model_module": "@jupyter-widgets/controls",
            "layout": "IPY_MODEL_346dd922259041a6926d52d59ca637e9"
          }
        },
        "43c0dbe103374431a4c18ca35d1bf464": {
          "model_module": "@jupyter-widgets/controls",
          "model_name": "ProgressStyleModel",
          "state": {
            "_view_name": "StyleView",
            "_model_name": "ProgressStyleModel",
            "description_width": "initial",
            "_view_module": "@jupyter-widgets/base",
            "_model_module_version": "1.5.0",
            "_view_count": null,
            "_view_module_version": "1.2.0",
            "bar_color": null,
            "_model_module": "@jupyter-widgets/controls"
          }
        },
        "447e4988c6004fa4982a4cf688091ca4": {
          "model_module": "@jupyter-widgets/base",
          "model_name": "LayoutModel",
          "state": {
            "_view_name": "LayoutView",
            "grid_template_rows": null,
            "right": null,
            "justify_content": null,
            "_view_module": "@jupyter-widgets/base",
            "overflow": null,
            "_model_module_version": "1.2.0",
            "_view_count": null,
            "flex_flow": null,
            "width": null,
            "min_width": null,
            "border": null,
            "align_items": null,
            "bottom": null,
            "_model_module": "@jupyter-widgets/base",
            "top": null,
            "grid_column": null,
            "overflow_y": null,
            "overflow_x": null,
            "grid_auto_flow": null,
            "grid_area": null,
            "grid_template_columns": null,
            "flex": null,
            "_model_name": "LayoutModel",
            "justify_items": null,
            "grid_row": null,
            "max_height": null,
            "align_content": null,
            "visibility": null,
            "align_self": null,
            "height": null,
            "min_height": null,
            "padding": null,
            "grid_auto_rows": null,
            "grid_gap": null,
            "max_width": null,
            "order": null,
            "_view_module_version": "1.2.0",
            "grid_template_areas": null,
            "object_position": null,
            "object_fit": null,
            "grid_auto_columns": null,
            "margin": null,
            "display": null,
            "left": null
          }
        },
        "7939a5d84b534b129f9b927f9df22521": {
          "model_module": "@jupyter-widgets/controls",
          "model_name": "DescriptionStyleModel",
          "state": {
            "_view_name": "StyleView",
            "_model_name": "DescriptionStyleModel",
            "description_width": "",
            "_view_module": "@jupyter-widgets/base",
            "_model_module_version": "1.5.0",
            "_view_count": null,
            "_view_module_version": "1.2.0",
            "_model_module": "@jupyter-widgets/controls"
          }
        },
        "346dd922259041a6926d52d59ca637e9": {
          "model_module": "@jupyter-widgets/base",
          "model_name": "LayoutModel",
          "state": {
            "_view_name": "LayoutView",
            "grid_template_rows": null,
            "right": null,
            "justify_content": null,
            "_view_module": "@jupyter-widgets/base",
            "overflow": null,
            "_model_module_version": "1.2.0",
            "_view_count": null,
            "flex_flow": null,
            "width": null,
            "min_width": null,
            "border": null,
            "align_items": null,
            "bottom": null,
            "_model_module": "@jupyter-widgets/base",
            "top": null,
            "grid_column": null,
            "overflow_y": null,
            "overflow_x": null,
            "grid_auto_flow": null,
            "grid_area": null,
            "grid_template_columns": null,
            "flex": null,
            "_model_name": "LayoutModel",
            "justify_items": null,
            "grid_row": null,
            "max_height": null,
            "align_content": null,
            "visibility": null,
            "align_self": null,
            "height": null,
            "min_height": null,
            "padding": null,
            "grid_auto_rows": null,
            "grid_gap": null,
            "max_width": null,
            "order": null,
            "_view_module_version": "1.2.0",
            "grid_template_areas": null,
            "object_position": null,
            "object_fit": null,
            "grid_auto_columns": null,
            "margin": null,
            "display": null,
            "left": null
          }
        },
        "87d42af2a4bb4ea4937f8c441f03b260": {
          "model_module": "@jupyter-widgets/controls",
          "model_name": "HBoxModel",
          "state": {
            "_view_name": "HBoxView",
            "_dom_classes": [],
            "_model_name": "HBoxModel",
            "_view_module": "@jupyter-widgets/controls",
            "_model_module_version": "1.5.0",
            "_view_count": null,
            "_view_module_version": "1.5.0",
            "box_style": "",
            "layout": "IPY_MODEL_2ad8a19cfa6a4b498e66022e1efe63c6",
            "_model_module": "@jupyter-widgets/controls",
            "children": [
              "IPY_MODEL_c742d2d40e7b4e5daba86ea39c4ee22e",
              "IPY_MODEL_eda27ad57542431dae374c85087f9303"
            ]
          }
        },
        "2ad8a19cfa6a4b498e66022e1efe63c6": {
          "model_module": "@jupyter-widgets/base",
          "model_name": "LayoutModel",
          "state": {
            "_view_name": "LayoutView",
            "grid_template_rows": null,
            "right": null,
            "justify_content": null,
            "_view_module": "@jupyter-widgets/base",
            "overflow": null,
            "_model_module_version": "1.2.0",
            "_view_count": null,
            "flex_flow": null,
            "width": null,
            "min_width": null,
            "border": null,
            "align_items": null,
            "bottom": null,
            "_model_module": "@jupyter-widgets/base",
            "top": null,
            "grid_column": null,
            "overflow_y": null,
            "overflow_x": null,
            "grid_auto_flow": null,
            "grid_area": null,
            "grid_template_columns": null,
            "flex": null,
            "_model_name": "LayoutModel",
            "justify_items": null,
            "grid_row": null,
            "max_height": null,
            "align_content": null,
            "visibility": null,
            "align_self": null,
            "height": null,
            "min_height": null,
            "padding": null,
            "grid_auto_rows": null,
            "grid_gap": null,
            "max_width": null,
            "order": null,
            "_view_module_version": "1.2.0",
            "grid_template_areas": null,
            "object_position": null,
            "object_fit": null,
            "grid_auto_columns": null,
            "margin": null,
            "display": null,
            "left": null
          }
        },
        "c742d2d40e7b4e5daba86ea39c4ee22e": {
          "model_module": "@jupyter-widgets/controls",
          "model_name": "IntProgressModel",
          "state": {
            "_view_name": "ProgressView",
            "style": "IPY_MODEL_8308a60cca2e42f38921fad3453cc823",
            "_dom_classes": [],
            "description": "",
            "_model_name": "IntProgressModel",
            "bar_style": "info",
            "max": 1,
            "_view_module": "@jupyter-widgets/controls",
            "_model_module_version": "1.5.0",
            "value": 1,
            "_view_count": null,
            "_view_module_version": "1.5.0",
            "orientation": "horizontal",
            "min": 0,
            "description_tooltip": null,
            "_model_module": "@jupyter-widgets/controls",
            "layout": "IPY_MODEL_ddda55dac0cd469cbe8548b0c69cd7fb"
          }
        },
        "eda27ad57542431dae374c85087f9303": {
          "model_module": "@jupyter-widgets/controls",
          "model_name": "HTMLModel",
          "state": {
            "_view_name": "HTMLView",
            "style": "IPY_MODEL_ecf0e489b4d34cc88a3afd49627b6d97",
            "_dom_classes": [],
            "description": "",
            "_model_name": "HTMLModel",
            "placeholder": "​",
            "_view_module": "@jupyter-widgets/controls",
            "_model_module_version": "1.5.0",
            "value": " 25000/0 [00:37&lt;00:00, 828.25 examples/s]",
            "_view_count": null,
            "_view_module_version": "1.5.0",
            "description_tooltip": null,
            "_model_module": "@jupyter-widgets/controls",
            "layout": "IPY_MODEL_d19261eb0c144487b52f7372249fda6d"
          }
        },
        "8308a60cca2e42f38921fad3453cc823": {
          "model_module": "@jupyter-widgets/controls",
          "model_name": "ProgressStyleModel",
          "state": {
            "_view_name": "StyleView",
            "_model_name": "ProgressStyleModel",
            "description_width": "initial",
            "_view_module": "@jupyter-widgets/base",
            "_model_module_version": "1.5.0",
            "_view_count": null,
            "_view_module_version": "1.2.0",
            "bar_color": null,
            "_model_module": "@jupyter-widgets/controls"
          }
        },
        "ddda55dac0cd469cbe8548b0c69cd7fb": {
          "model_module": "@jupyter-widgets/base",
          "model_name": "LayoutModel",
          "state": {
            "_view_name": "LayoutView",
            "grid_template_rows": null,
            "right": null,
            "justify_content": null,
            "_view_module": "@jupyter-widgets/base",
            "overflow": null,
            "_model_module_version": "1.2.0",
            "_view_count": null,
            "flex_flow": null,
            "width": null,
            "min_width": null,
            "border": null,
            "align_items": null,
            "bottom": null,
            "_model_module": "@jupyter-widgets/base",
            "top": null,
            "grid_column": null,
            "overflow_y": null,
            "overflow_x": null,
            "grid_auto_flow": null,
            "grid_area": null,
            "grid_template_columns": null,
            "flex": null,
            "_model_name": "LayoutModel",
            "justify_items": null,
            "grid_row": null,
            "max_height": null,
            "align_content": null,
            "visibility": null,
            "align_self": null,
            "height": null,
            "min_height": null,
            "padding": null,
            "grid_auto_rows": null,
            "grid_gap": null,
            "max_width": null,
            "order": null,
            "_view_module_version": "1.2.0",
            "grid_template_areas": null,
            "object_position": null,
            "object_fit": null,
            "grid_auto_columns": null,
            "margin": null,
            "display": null,
            "left": null
          }
        },
        "ecf0e489b4d34cc88a3afd49627b6d97": {
          "model_module": "@jupyter-widgets/controls",
          "model_name": "DescriptionStyleModel",
          "state": {
            "_view_name": "StyleView",
            "_model_name": "DescriptionStyleModel",
            "description_width": "",
            "_view_module": "@jupyter-widgets/base",
            "_model_module_version": "1.5.0",
            "_view_count": null,
            "_view_module_version": "1.2.0",
            "_model_module": "@jupyter-widgets/controls"
          }
        },
        "d19261eb0c144487b52f7372249fda6d": {
          "model_module": "@jupyter-widgets/base",
          "model_name": "LayoutModel",
          "state": {
            "_view_name": "LayoutView",
            "grid_template_rows": null,
            "right": null,
            "justify_content": null,
            "_view_module": "@jupyter-widgets/base",
            "overflow": null,
            "_model_module_version": "1.2.0",
            "_view_count": null,
            "flex_flow": null,
            "width": null,
            "min_width": null,
            "border": null,
            "align_items": null,
            "bottom": null,
            "_model_module": "@jupyter-widgets/base",
            "top": null,
            "grid_column": null,
            "overflow_y": null,
            "overflow_x": null,
            "grid_auto_flow": null,
            "grid_area": null,
            "grid_template_columns": null,
            "flex": null,
            "_model_name": "LayoutModel",
            "justify_items": null,
            "grid_row": null,
            "max_height": null,
            "align_content": null,
            "visibility": null,
            "align_self": null,
            "height": null,
            "min_height": null,
            "padding": null,
            "grid_auto_rows": null,
            "grid_gap": null,
            "max_width": null,
            "order": null,
            "_view_module_version": "1.2.0",
            "grid_template_areas": null,
            "object_position": null,
            "object_fit": null,
            "grid_auto_columns": null,
            "margin": null,
            "display": null,
            "left": null
          }
        },
        "ad2a8f3675b746aa80357a337fb54181": {
          "model_module": "@jupyter-widgets/controls",
          "model_name": "HBoxModel",
          "state": {
            "_view_name": "HBoxView",
            "_dom_classes": [],
            "_model_name": "HBoxModel",
            "_view_module": "@jupyter-widgets/controls",
            "_model_module_version": "1.5.0",
            "_view_count": null,
            "_view_module_version": "1.5.0",
            "box_style": "",
            "layout": "IPY_MODEL_dd5723417b9f4254b881bde8b3448cac",
            "_model_module": "@jupyter-widgets/controls",
            "children": [
              "IPY_MODEL_eeeec1a2dfbb4ff7abad366d6507aa20",
              "IPY_MODEL_04dc664f63de4f7ba173aa8e352dba05"
            ]
          }
        },
        "dd5723417b9f4254b881bde8b3448cac": {
          "model_module": "@jupyter-widgets/base",
          "model_name": "LayoutModel",
          "state": {
            "_view_name": "LayoutView",
            "grid_template_rows": null,
            "right": null,
            "justify_content": null,
            "_view_module": "@jupyter-widgets/base",
            "overflow": null,
            "_model_module_version": "1.2.0",
            "_view_count": null,
            "flex_flow": null,
            "width": null,
            "min_width": null,
            "border": null,
            "align_items": null,
            "bottom": null,
            "_model_module": "@jupyter-widgets/base",
            "top": null,
            "grid_column": null,
            "overflow_y": null,
            "overflow_x": null,
            "grid_auto_flow": null,
            "grid_area": null,
            "grid_template_columns": null,
            "flex": null,
            "_model_name": "LayoutModel",
            "justify_items": null,
            "grid_row": null,
            "max_height": null,
            "align_content": null,
            "visibility": null,
            "align_self": null,
            "height": null,
            "min_height": null,
            "padding": null,
            "grid_auto_rows": null,
            "grid_gap": null,
            "max_width": null,
            "order": null,
            "_view_module_version": "1.2.0",
            "grid_template_areas": null,
            "object_position": null,
            "object_fit": null,
            "grid_auto_columns": null,
            "margin": null,
            "display": null,
            "left": null
          }
        },
        "eeeec1a2dfbb4ff7abad366d6507aa20": {
          "model_module": "@jupyter-widgets/controls",
          "model_name": "IntProgressModel",
          "state": {
            "_view_name": "ProgressView",
            "style": "IPY_MODEL_b16cc45f7d9942aaa66d442e12dd74b8",
            "_dom_classes": [],
            "description": " 40%",
            "_model_name": "IntProgressModel",
            "bar_style": "danger",
            "max": 25000,
            "_view_module": "@jupyter-widgets/controls",
            "_model_module_version": "1.5.0",
            "value": 9990,
            "_view_count": null,
            "_view_module_version": "1.5.0",
            "orientation": "horizontal",
            "min": 0,
            "description_tooltip": null,
            "_model_module": "@jupyter-widgets/controls",
            "layout": "IPY_MODEL_59d6c91df10a49b99fbe0fdfdf4b73df"
          }
        },
        "04dc664f63de4f7ba173aa8e352dba05": {
          "model_module": "@jupyter-widgets/controls",
          "model_name": "HTMLModel",
          "state": {
            "_view_name": "HTMLView",
            "style": "IPY_MODEL_f7d99502c9c543c990a54410f7a341b6",
            "_dom_classes": [],
            "description": "",
            "_model_name": "HTMLModel",
            "placeholder": "​",
            "_view_module": "@jupyter-widgets/controls",
            "_model_module_version": "1.5.0",
            "value": " 9990/25000 [00:00&lt;00:00, 99899.62 examples/s]",
            "_view_count": null,
            "_view_module_version": "1.5.0",
            "description_tooltip": null,
            "_model_module": "@jupyter-widgets/controls",
            "layout": "IPY_MODEL_286784df7e68444f8177a6f9bc38096e"
          }
        },
        "b16cc45f7d9942aaa66d442e12dd74b8": {
          "model_module": "@jupyter-widgets/controls",
          "model_name": "ProgressStyleModel",
          "state": {
            "_view_name": "StyleView",
            "_model_name": "ProgressStyleModel",
            "description_width": "initial",
            "_view_module": "@jupyter-widgets/base",
            "_model_module_version": "1.5.0",
            "_view_count": null,
            "_view_module_version": "1.2.0",
            "bar_color": null,
            "_model_module": "@jupyter-widgets/controls"
          }
        },
        "59d6c91df10a49b99fbe0fdfdf4b73df": {
          "model_module": "@jupyter-widgets/base",
          "model_name": "LayoutModel",
          "state": {
            "_view_name": "LayoutView",
            "grid_template_rows": null,
            "right": null,
            "justify_content": null,
            "_view_module": "@jupyter-widgets/base",
            "overflow": null,
            "_model_module_version": "1.2.0",
            "_view_count": null,
            "flex_flow": null,
            "width": null,
            "min_width": null,
            "border": null,
            "align_items": null,
            "bottom": null,
            "_model_module": "@jupyter-widgets/base",
            "top": null,
            "grid_column": null,
            "overflow_y": null,
            "overflow_x": null,
            "grid_auto_flow": null,
            "grid_area": null,
            "grid_template_columns": null,
            "flex": null,
            "_model_name": "LayoutModel",
            "justify_items": null,
            "grid_row": null,
            "max_height": null,
            "align_content": null,
            "visibility": null,
            "align_self": null,
            "height": null,
            "min_height": null,
            "padding": null,
            "grid_auto_rows": null,
            "grid_gap": null,
            "max_width": null,
            "order": null,
            "_view_module_version": "1.2.0",
            "grid_template_areas": null,
            "object_position": null,
            "object_fit": null,
            "grid_auto_columns": null,
            "margin": null,
            "display": null,
            "left": null
          }
        },
        "f7d99502c9c543c990a54410f7a341b6": {
          "model_module": "@jupyter-widgets/controls",
          "model_name": "DescriptionStyleModel",
          "state": {
            "_view_name": "StyleView",
            "_model_name": "DescriptionStyleModel",
            "description_width": "",
            "_view_module": "@jupyter-widgets/base",
            "_model_module_version": "1.5.0",
            "_view_count": null,
            "_view_module_version": "1.2.0",
            "_model_module": "@jupyter-widgets/controls"
          }
        },
        "286784df7e68444f8177a6f9bc38096e": {
          "model_module": "@jupyter-widgets/base",
          "model_name": "LayoutModel",
          "state": {
            "_view_name": "LayoutView",
            "grid_template_rows": null,
            "right": null,
            "justify_content": null,
            "_view_module": "@jupyter-widgets/base",
            "overflow": null,
            "_model_module_version": "1.2.0",
            "_view_count": null,
            "flex_flow": null,
            "width": null,
            "min_width": null,
            "border": null,
            "align_items": null,
            "bottom": null,
            "_model_module": "@jupyter-widgets/base",
            "top": null,
            "grid_column": null,
            "overflow_y": null,
            "overflow_x": null,
            "grid_auto_flow": null,
            "grid_area": null,
            "grid_template_columns": null,
            "flex": null,
            "_model_name": "LayoutModel",
            "justify_items": null,
            "grid_row": null,
            "max_height": null,
            "align_content": null,
            "visibility": null,
            "align_self": null,
            "height": null,
            "min_height": null,
            "padding": null,
            "grid_auto_rows": null,
            "grid_gap": null,
            "max_width": null,
            "order": null,
            "_view_module_version": "1.2.0",
            "grid_template_areas": null,
            "object_position": null,
            "object_fit": null,
            "grid_auto_columns": null,
            "margin": null,
            "display": null,
            "left": null
          }
        },
        "091c50a07efa4ca6aec20ceed71803ee": {
          "model_module": "@jupyter-widgets/controls",
          "model_name": "HBoxModel",
          "state": {
            "_view_name": "HBoxView",
            "_dom_classes": [],
            "_model_name": "HBoxModel",
            "_view_module": "@jupyter-widgets/controls",
            "_model_module_version": "1.5.0",
            "_view_count": null,
            "_view_module_version": "1.5.0",
            "box_style": "",
            "layout": "IPY_MODEL_97c0406ac54342e5aaab494c6613fcf6",
            "_model_module": "@jupyter-widgets/controls",
            "children": [
              "IPY_MODEL_134eba5069ad481b924edef89739672f",
              "IPY_MODEL_16ac912c41c44eafb7327e6462ae5a12"
            ]
          }
        },
        "97c0406ac54342e5aaab494c6613fcf6": {
          "model_module": "@jupyter-widgets/base",
          "model_name": "LayoutModel",
          "state": {
            "_view_name": "LayoutView",
            "grid_template_rows": null,
            "right": null,
            "justify_content": null,
            "_view_module": "@jupyter-widgets/base",
            "overflow": null,
            "_model_module_version": "1.2.0",
            "_view_count": null,
            "flex_flow": null,
            "width": null,
            "min_width": null,
            "border": null,
            "align_items": null,
            "bottom": null,
            "_model_module": "@jupyter-widgets/base",
            "top": null,
            "grid_column": null,
            "overflow_y": null,
            "overflow_x": null,
            "grid_auto_flow": null,
            "grid_area": null,
            "grid_template_columns": null,
            "flex": null,
            "_model_name": "LayoutModel",
            "justify_items": null,
            "grid_row": null,
            "max_height": null,
            "align_content": null,
            "visibility": null,
            "align_self": null,
            "height": null,
            "min_height": null,
            "padding": null,
            "grid_auto_rows": null,
            "grid_gap": null,
            "max_width": null,
            "order": null,
            "_view_module_version": "1.2.0",
            "grid_template_areas": null,
            "object_position": null,
            "object_fit": null,
            "grid_auto_columns": null,
            "margin": null,
            "display": null,
            "left": null
          }
        },
        "134eba5069ad481b924edef89739672f": {
          "model_module": "@jupyter-widgets/controls",
          "model_name": "IntProgressModel",
          "state": {
            "_view_name": "ProgressView",
            "style": "IPY_MODEL_f67868514ec64b7484ca1bb5df873321",
            "_dom_classes": [],
            "description": "",
            "_model_name": "IntProgressModel",
            "bar_style": "info",
            "max": 1,
            "_view_module": "@jupyter-widgets/controls",
            "_model_module_version": "1.5.0",
            "value": 1,
            "_view_count": null,
            "_view_module_version": "1.5.0",
            "orientation": "horizontal",
            "min": 0,
            "description_tooltip": null,
            "_model_module": "@jupyter-widgets/controls",
            "layout": "IPY_MODEL_6f1b45b7107b4dca8cd1cc827b92022b"
          }
        },
        "16ac912c41c44eafb7327e6462ae5a12": {
          "model_module": "@jupyter-widgets/controls",
          "model_name": "HTMLModel",
          "state": {
            "_view_name": "HTMLView",
            "style": "IPY_MODEL_566dd40052db4c94aea9543dec1236a6",
            "_dom_classes": [],
            "description": "",
            "_model_name": "HTMLModel",
            "placeholder": "​",
            "_view_module": "@jupyter-widgets/controls",
            "_model_module_version": "1.5.0",
            "value": " 50000/0 [01:06&lt;00:00, 795.10 examples/s]",
            "_view_count": null,
            "_view_module_version": "1.5.0",
            "description_tooltip": null,
            "_model_module": "@jupyter-widgets/controls",
            "layout": "IPY_MODEL_13ecb8f08f1743ea8922460c170d8623"
          }
        },
        "f67868514ec64b7484ca1bb5df873321": {
          "model_module": "@jupyter-widgets/controls",
          "model_name": "ProgressStyleModel",
          "state": {
            "_view_name": "StyleView",
            "_model_name": "ProgressStyleModel",
            "description_width": "initial",
            "_view_module": "@jupyter-widgets/base",
            "_model_module_version": "1.5.0",
            "_view_count": null,
            "_view_module_version": "1.2.0",
            "bar_color": null,
            "_model_module": "@jupyter-widgets/controls"
          }
        },
        "6f1b45b7107b4dca8cd1cc827b92022b": {
          "model_module": "@jupyter-widgets/base",
          "model_name": "LayoutModel",
          "state": {
            "_view_name": "LayoutView",
            "grid_template_rows": null,
            "right": null,
            "justify_content": null,
            "_view_module": "@jupyter-widgets/base",
            "overflow": null,
            "_model_module_version": "1.2.0",
            "_view_count": null,
            "flex_flow": null,
            "width": null,
            "min_width": null,
            "border": null,
            "align_items": null,
            "bottom": null,
            "_model_module": "@jupyter-widgets/base",
            "top": null,
            "grid_column": null,
            "overflow_y": null,
            "overflow_x": null,
            "grid_auto_flow": null,
            "grid_area": null,
            "grid_template_columns": null,
            "flex": null,
            "_model_name": "LayoutModel",
            "justify_items": null,
            "grid_row": null,
            "max_height": null,
            "align_content": null,
            "visibility": null,
            "align_self": null,
            "height": null,
            "min_height": null,
            "padding": null,
            "grid_auto_rows": null,
            "grid_gap": null,
            "max_width": null,
            "order": null,
            "_view_module_version": "1.2.0",
            "grid_template_areas": null,
            "object_position": null,
            "object_fit": null,
            "grid_auto_columns": null,
            "margin": null,
            "display": null,
            "left": null
          }
        },
        "566dd40052db4c94aea9543dec1236a6": {
          "model_module": "@jupyter-widgets/controls",
          "model_name": "DescriptionStyleModel",
          "state": {
            "_view_name": "StyleView",
            "_model_name": "DescriptionStyleModel",
            "description_width": "",
            "_view_module": "@jupyter-widgets/base",
            "_model_module_version": "1.5.0",
            "_view_count": null,
            "_view_module_version": "1.2.0",
            "_model_module": "@jupyter-widgets/controls"
          }
        },
        "13ecb8f08f1743ea8922460c170d8623": {
          "model_module": "@jupyter-widgets/base",
          "model_name": "LayoutModel",
          "state": {
            "_view_name": "LayoutView",
            "grid_template_rows": null,
            "right": null,
            "justify_content": null,
            "_view_module": "@jupyter-widgets/base",
            "overflow": null,
            "_model_module_version": "1.2.0",
            "_view_count": null,
            "flex_flow": null,
            "width": null,
            "min_width": null,
            "border": null,
            "align_items": null,
            "bottom": null,
            "_model_module": "@jupyter-widgets/base",
            "top": null,
            "grid_column": null,
            "overflow_y": null,
            "overflow_x": null,
            "grid_auto_flow": null,
            "grid_area": null,
            "grid_template_columns": null,
            "flex": null,
            "_model_name": "LayoutModel",
            "justify_items": null,
            "grid_row": null,
            "max_height": null,
            "align_content": null,
            "visibility": null,
            "align_self": null,
            "height": null,
            "min_height": null,
            "padding": null,
            "grid_auto_rows": null,
            "grid_gap": null,
            "max_width": null,
            "order": null,
            "_view_module_version": "1.2.0",
            "grid_template_areas": null,
            "object_position": null,
            "object_fit": null,
            "grid_auto_columns": null,
            "margin": null,
            "display": null,
            "left": null
          }
        },
        "ddc207978bf746ccb46f1624b9feedbd": {
          "model_module": "@jupyter-widgets/controls",
          "model_name": "HBoxModel",
          "state": {
            "_view_name": "HBoxView",
            "_dom_classes": [],
            "_model_name": "HBoxModel",
            "_view_module": "@jupyter-widgets/controls",
            "_model_module_version": "1.5.0",
            "_view_count": null,
            "_view_module_version": "1.5.0",
            "box_style": "",
            "layout": "IPY_MODEL_24e81eb3ca68449f97c4092f79ae35cc",
            "_model_module": "@jupyter-widgets/controls",
            "children": [
              "IPY_MODEL_e44a5be2b6fc4459b4884fa232ef1e48",
              "IPY_MODEL_ec0145de11b741febb51278cf5160876"
            ]
          }
        },
        "24e81eb3ca68449f97c4092f79ae35cc": {
          "model_module": "@jupyter-widgets/base",
          "model_name": "LayoutModel",
          "state": {
            "_view_name": "LayoutView",
            "grid_template_rows": null,
            "right": null,
            "justify_content": null,
            "_view_module": "@jupyter-widgets/base",
            "overflow": null,
            "_model_module_version": "1.2.0",
            "_view_count": null,
            "flex_flow": null,
            "width": null,
            "min_width": null,
            "border": null,
            "align_items": null,
            "bottom": null,
            "_model_module": "@jupyter-widgets/base",
            "top": null,
            "grid_column": null,
            "overflow_y": null,
            "overflow_x": null,
            "grid_auto_flow": null,
            "grid_area": null,
            "grid_template_columns": null,
            "flex": null,
            "_model_name": "LayoutModel",
            "justify_items": null,
            "grid_row": null,
            "max_height": null,
            "align_content": null,
            "visibility": null,
            "align_self": null,
            "height": null,
            "min_height": null,
            "padding": null,
            "grid_auto_rows": null,
            "grid_gap": null,
            "max_width": null,
            "order": null,
            "_view_module_version": "1.2.0",
            "grid_template_areas": null,
            "object_position": null,
            "object_fit": null,
            "grid_auto_columns": null,
            "margin": null,
            "display": null,
            "left": null
          }
        },
        "e44a5be2b6fc4459b4884fa232ef1e48": {
          "model_module": "@jupyter-widgets/controls",
          "model_name": "IntProgressModel",
          "state": {
            "_view_name": "ProgressView",
            "style": "IPY_MODEL_1df994396aef448e85075b93fc99af58",
            "_dom_classes": [],
            "description": " 61%",
            "_model_name": "IntProgressModel",
            "bar_style": "danger",
            "max": 50000,
            "_view_module": "@jupyter-widgets/controls",
            "_model_module_version": "1.5.0",
            "value": 30628,
            "_view_count": null,
            "_view_module_version": "1.5.0",
            "orientation": "horizontal",
            "min": 0,
            "description_tooltip": null,
            "_model_module": "@jupyter-widgets/controls",
            "layout": "IPY_MODEL_c5a0a1fe478e444784432a13a187ff81"
          }
        },
        "ec0145de11b741febb51278cf5160876": {
          "model_module": "@jupyter-widgets/controls",
          "model_name": "HTMLModel",
          "state": {
            "_view_name": "HTMLView",
            "style": "IPY_MODEL_4483fa8edf7440e58685a2951c497aa6",
            "_dom_classes": [],
            "description": "",
            "_model_name": "HTMLModel",
            "placeholder": "​",
            "_view_module": "@jupyter-widgets/controls",
            "_model_module_version": "1.5.0",
            "value": " 30628/50000 [00:00&lt;24:06, 13.39 examples/s]",
            "_view_count": null,
            "_view_module_version": "1.5.0",
            "description_tooltip": null,
            "_model_module": "@jupyter-widgets/controls",
            "layout": "IPY_MODEL_9d2cd9939c2c49ca848e7f81188b45ca"
          }
        },
        "1df994396aef448e85075b93fc99af58": {
          "model_module": "@jupyter-widgets/controls",
          "model_name": "ProgressStyleModel",
          "state": {
            "_view_name": "StyleView",
            "_model_name": "ProgressStyleModel",
            "description_width": "initial",
            "_view_module": "@jupyter-widgets/base",
            "_model_module_version": "1.5.0",
            "_view_count": null,
            "_view_module_version": "1.2.0",
            "bar_color": null,
            "_model_module": "@jupyter-widgets/controls"
          }
        },
        "c5a0a1fe478e444784432a13a187ff81": {
          "model_module": "@jupyter-widgets/base",
          "model_name": "LayoutModel",
          "state": {
            "_view_name": "LayoutView",
            "grid_template_rows": null,
            "right": null,
            "justify_content": null,
            "_view_module": "@jupyter-widgets/base",
            "overflow": null,
            "_model_module_version": "1.2.0",
            "_view_count": null,
            "flex_flow": null,
            "width": null,
            "min_width": null,
            "border": null,
            "align_items": null,
            "bottom": null,
            "_model_module": "@jupyter-widgets/base",
            "top": null,
            "grid_column": null,
            "overflow_y": null,
            "overflow_x": null,
            "grid_auto_flow": null,
            "grid_area": null,
            "grid_template_columns": null,
            "flex": null,
            "_model_name": "LayoutModel",
            "justify_items": null,
            "grid_row": null,
            "max_height": null,
            "align_content": null,
            "visibility": null,
            "align_self": null,
            "height": null,
            "min_height": null,
            "padding": null,
            "grid_auto_rows": null,
            "grid_gap": null,
            "max_width": null,
            "order": null,
            "_view_module_version": "1.2.0",
            "grid_template_areas": null,
            "object_position": null,
            "object_fit": null,
            "grid_auto_columns": null,
            "margin": null,
            "display": null,
            "left": null
          }
        },
        "4483fa8edf7440e58685a2951c497aa6": {
          "model_module": "@jupyter-widgets/controls",
          "model_name": "DescriptionStyleModel",
          "state": {
            "_view_name": "StyleView",
            "_model_name": "DescriptionStyleModel",
            "description_width": "",
            "_view_module": "@jupyter-widgets/base",
            "_model_module_version": "1.5.0",
            "_view_count": null,
            "_view_module_version": "1.2.0",
            "_model_module": "@jupyter-widgets/controls"
          }
        },
        "9d2cd9939c2c49ca848e7f81188b45ca": {
          "model_module": "@jupyter-widgets/base",
          "model_name": "LayoutModel",
          "state": {
            "_view_name": "LayoutView",
            "grid_template_rows": null,
            "right": null,
            "justify_content": null,
            "_view_module": "@jupyter-widgets/base",
            "overflow": null,
            "_model_module_version": "1.2.0",
            "_view_count": null,
            "flex_flow": null,
            "width": null,
            "min_width": null,
            "border": null,
            "align_items": null,
            "bottom": null,
            "_model_module": "@jupyter-widgets/base",
            "top": null,
            "grid_column": null,
            "overflow_y": null,
            "overflow_x": null,
            "grid_auto_flow": null,
            "grid_area": null,
            "grid_template_columns": null,
            "flex": null,
            "_model_name": "LayoutModel",
            "justify_items": null,
            "grid_row": null,
            "max_height": null,
            "align_content": null,
            "visibility": null,
            "align_self": null,
            "height": null,
            "min_height": null,
            "padding": null,
            "grid_auto_rows": null,
            "grid_gap": null,
            "max_width": null,
            "order": null,
            "_view_module_version": "1.2.0",
            "grid_template_areas": null,
            "object_position": null,
            "object_fit": null,
            "grid_auto_columns": null,
            "margin": null,
            "display": null,
            "left": null
          }
        }
      }
    }
  },
  "cells": [
    {
      "cell_type": "markdown",
      "metadata": {
        "id": "view-in-github",
        "colab_type": "text"
      },
      "source": [
        "<a href=\"https://colab.research.google.com/github/Poohi5/cmpe258_homework/blob/master/Ungradedassignment5/Ungradedassignment5_Tensorflow_Keras_Basics.ipynb\" target=\"_parent\"><img src=\"https://colab.research.google.com/assets/colab-badge.svg\" alt=\"Open In Colab\"/></a>"
      ]
    },
    {
      "cell_type": "markdown",
      "metadata": {
        "id": "b1nDLGl7snlM",
        "colab_type": "text"
      },
      "source": [
        "##Basic classification: Classify images of clothing"
      ]
    },
    {
      "cell_type": "markdown",
      "metadata": {
        "id": "Tx8d9DKJsrux",
        "colab_type": "text"
      },
      "source": [
        " tf.keras, a high-level API to build and train models in TensorFlow."
      ]
    },
    {
      "cell_type": "markdown",
      "metadata": {
        "id": "-FUOY9F3svPD",
        "colab_type": "text"
      },
      "source": [
        "Import Packages/Libraries"
      ]
    },
    {
      "cell_type": "code",
      "metadata": {
        "id": "MKaJVhLvph62",
        "colab_type": "code",
        "colab": {
          "base_uri": "https://localhost:8080/",
          "height": 34
        },
        "outputId": "434fe4a3-d0b4-4e01-ebda-a66f02829f69"
      },
      "source": [
        "# TensorFlow and tf.keras\n",
        "import tensorflow as tf\n",
        "from tensorflow import keras\n",
        "\n",
        "# Helper libraries\n",
        "import numpy as np\n",
        "import matplotlib.pyplot as plt\n",
        "\n",
        "print(tf.__version__)"
      ],
      "execution_count": 1,
      "outputs": [
        {
          "output_type": "stream",
          "text": [
            "2.2.0-rc3\n"
          ],
          "name": "stdout"
        }
      ]
    },
    {
      "cell_type": "markdown",
      "metadata": {
        "id": "Ad9L4MiQtsni",
        "colab_type": "text"
      },
      "source": [
        "Load Dataset"
      ]
    },
    {
      "cell_type": "code",
      "metadata": {
        "id": "1rTjxQz6szX0",
        "colab_type": "code",
        "colab": {
          "base_uri": "https://localhost:8080/",
          "height": 153
        },
        "outputId": "b32c9ee9-42a2-4b99-9c6a-03a7c35dc671"
      },
      "source": [
        "fashion_mnist = keras.datasets.fashion_mnist\n",
        "\n",
        "(train_images, train_labels), (test_images, test_labels) = fashion_mnist.load_data()"
      ],
      "execution_count": 2,
      "outputs": [
        {
          "output_type": "stream",
          "text": [
            "Downloading data from https://storage.googleapis.com/tensorflow/tf-keras-datasets/train-labels-idx1-ubyte.gz\n",
            "32768/29515 [=================================] - 0s 0us/step\n",
            "Downloading data from https://storage.googleapis.com/tensorflow/tf-keras-datasets/train-images-idx3-ubyte.gz\n",
            "26427392/26421880 [==============================] - 0s 0us/step\n",
            "Downloading data from https://storage.googleapis.com/tensorflow/tf-keras-datasets/t10k-labels-idx1-ubyte.gz\n",
            "8192/5148 [===============================================] - 0s 0us/step\n",
            "Downloading data from https://storage.googleapis.com/tensorflow/tf-keras-datasets/t10k-images-idx3-ubyte.gz\n",
            "4423680/4422102 [==============================] - 0s 0us/step\n"
          ],
          "name": "stdout"
        }
      ]
    },
    {
      "cell_type": "code",
      "metadata": {
        "id": "VGSwEi7ctuYE",
        "colab_type": "code",
        "colab": {}
      },
      "source": [
        "class_names = ['T-shirt/top', 'Trouser', 'Pullover', 'Dress', 'Coat',\n",
        "               'Sandal', 'Shirt', 'Sneaker', 'Bag', 'Ankle boot']"
      ],
      "execution_count": 0,
      "outputs": []
    },
    {
      "cell_type": "markdown",
      "metadata": {
        "id": "7sI49ly3vGqw",
        "colab_type": "text"
      },
      "source": [
        "Explore Data"
      ]
    },
    {
      "cell_type": "code",
      "metadata": {
        "id": "Mn8dnYJFvFIB",
        "colab_type": "code",
        "colab": {
          "base_uri": "https://localhost:8080/",
          "height": 34
        },
        "outputId": "59e42a0d-b6b2-4d26-f427-ab2b60a0d832"
      },
      "source": [
        "train_images.shape"
      ],
      "execution_count": 4,
      "outputs": [
        {
          "output_type": "execute_result",
          "data": {
            "text/plain": [
              "(60000, 28, 28)"
            ]
          },
          "metadata": {
            "tags": []
          },
          "execution_count": 4
        }
      ]
    },
    {
      "cell_type": "code",
      "metadata": {
        "id": "_sAlK8byvKF6",
        "colab_type": "code",
        "colab": {
          "base_uri": "https://localhost:8080/",
          "height": 34
        },
        "outputId": "42da8337-4b5d-4537-ea34-319a10f8498a"
      },
      "source": [
        "test_labels.shape"
      ],
      "execution_count": 5,
      "outputs": [
        {
          "output_type": "execute_result",
          "data": {
            "text/plain": [
              "(10000,)"
            ]
          },
          "metadata": {
            "tags": []
          },
          "execution_count": 5
        }
      ]
    },
    {
      "cell_type": "code",
      "metadata": {
        "id": "wdUloeULvLqA",
        "colab_type": "code",
        "colab": {
          "base_uri": "https://localhost:8080/",
          "height": 34
        },
        "outputId": "d3e598f6-c589-4082-e23d-c51c87402099"
      },
      "source": [
        "train_labels"
      ],
      "execution_count": 6,
      "outputs": [
        {
          "output_type": "execute_result",
          "data": {
            "text/plain": [
              "array([9, 0, 0, ..., 3, 0, 5], dtype=uint8)"
            ]
          },
          "metadata": {
            "tags": []
          },
          "execution_count": 6
        }
      ]
    },
    {
      "cell_type": "code",
      "metadata": {
        "id": "082Eak3mvOaJ",
        "colab_type": "code",
        "colab": {
          "base_uri": "https://localhost:8080/",
          "height": 34
        },
        "outputId": "524e415a-b5c0-4644-837a-911335a04be8"
      },
      "source": [
        "test_labels"
      ],
      "execution_count": 7,
      "outputs": [
        {
          "output_type": "execute_result",
          "data": {
            "text/plain": [
              "array([9, 2, 1, ..., 8, 1, 5], dtype=uint8)"
            ]
          },
          "metadata": {
            "tags": []
          },
          "execution_count": 7
        }
      ]
    },
    {
      "cell_type": "code",
      "metadata": {
        "id": "1jPdSKhIvWcs",
        "colab_type": "code",
        "colab": {
          "base_uri": "https://localhost:8080/",
          "height": 34
        },
        "outputId": "986a6ebd-20bd-466f-874b-5fb5922a5ead"
      },
      "source": [
        "train_labels.shape"
      ],
      "execution_count": 8,
      "outputs": [
        {
          "output_type": "execute_result",
          "data": {
            "text/plain": [
              "(60000,)"
            ]
          },
          "metadata": {
            "tags": []
          },
          "execution_count": 8
        }
      ]
    },
    {
      "cell_type": "markdown",
      "metadata": {
        "id": "UhjpWx8Kv8Er",
        "colab_type": "text"
      },
      "source": [
        "Normalizing Data"
      ]
    },
    {
      "cell_type": "code",
      "metadata": {
        "id": "_3kFUftPvY7d",
        "colab_type": "code",
        "colab": {
          "base_uri": "https://localhost:8080/",
          "height": 265
        },
        "outputId": "015b4b46-7398-4077-e344-377e2c418c64"
      },
      "source": [
        "plt.figure()\n",
        "plt.imshow(train_images[0])\n",
        "plt.colorbar()\n",
        "plt.grid(False)\n",
        "plt.show()"
      ],
      "execution_count": 9,
      "outputs": [
        {
          "output_type": "display_data",
          "data": {
            "image/png": "[encoded data removed]",
            "text/plain": [
              "<Figure size 432x288 with 2 Axes>"
            ]
          },
          "metadata": {
            "tags": [],
            "needs_background": "light"
          }
        }
      ]
    },
    {
      "cell_type": "code",
      "metadata": {
        "id": "HtC7PLzGv-kS",
        "colab_type": "code",
        "colab": {}
      },
      "source": [
        "train_images = train_images / 255.0\n",
        "\n",
        "test_images = test_images / 255.0"
      ],
      "execution_count": 0,
      "outputs": []
    },
    {
      "cell_type": "code",
      "metadata": {
        "id": "beL9VUnLwAqr",
        "colab_type": "code",
        "colab": {
          "base_uri": "https://localhost:8080/",
          "height": 589
        },
        "outputId": "05227763-4545-4195-887f-52e50858c5ce"
      },
      "source": [
        "plt.figure(figsize=(10,10))\n",
        "for i in range(25):\n",
        "    plt.subplot(5,5,i+1)\n",
        "    plt.xticks([])\n",
        "    plt.yticks([])\n",
        "    plt.grid(False)\n",
        "    plt.imshow(train_images[i], cmap=plt.cm.binary)\n",
        "    plt.xlabel(class_names[train_labels[i]])\n",
        "plt.show()"
      ],
      "execution_count": 11,
      "outputs": [
        {
          "output_type": "display_data",
          "data": {
            "image/png": "[encoded data removed]",
            "text/plain": [
              "<Figure size 720x720 with 25 Axes>"
            ]
          },
          "metadata": {
            "tags": []
          }
        }
      ]
    },
    {
      "cell_type": "markdown",
      "metadata": {
        "id": "8u0446McwJJh",
        "colab_type": "text"
      },
      "source": [
        "Build Model\n",
        "\n",
        "Set up layers using tf.keras.layers.Dense"
      ]
    },
    {
      "cell_type": "code",
      "metadata": {
        "id": "Yd00bQVJwCIS",
        "colab_type": "code",
        "colab": {}
      },
      "source": [
        "model = keras.Sequential([\n",
        "    keras.layers.Flatten(input_shape=(28, 28)),\n",
        "    keras.layers.Dense(128, activation='relu'),\n",
        "    keras.layers.Dense(10)\n",
        "])"
      ],
      "execution_count": 0,
      "outputs": []
    },
    {
      "cell_type": "markdown",
      "metadata": {
        "id": "b88a8-nqwSyU",
        "colab_type": "text"
      },
      "source": [
        "Compile Model"
      ]
    },
    {
      "cell_type": "code",
      "metadata": {
        "id": "04yBU7unwQ3B",
        "colab_type": "code",
        "colab": {}
      },
      "source": [
        "model.compile(optimizer='adam',\n",
        "              loss=tf.keras.losses.SparseCategoricalCrossentropy(from_logits=True),\n",
        "              metrics=['accuracy'])"
      ],
      "execution_count": 0,
      "outputs": []
    },
    {
      "cell_type": "code",
      "metadata": {
        "id": "vqZGAj0BwUvJ",
        "colab_type": "code",
        "colab": {
          "base_uri": "https://localhost:8080/",
          "height": 374
        },
        "outputId": "1aeec0be-4953-44f2-8c52-a5c39ce68ac1"
      },
      "source": [
        "model.fit(train_images, train_labels, epochs=10)"
      ],
      "execution_count": 14,
      "outputs": [
        {
          "output_type": "stream",
          "text": [
            "Epoch 1/10\n",
            "1875/1875 [==============================] - 5s 2ms/step - loss: 0.4943 - accuracy: 0.8241\n",
            "Epoch 2/10\n",
            "1875/1875 [==============================] - 5s 2ms/step - loss: 0.3706 - accuracy: 0.8665\n",
            "Epoch 3/10\n",
            "1875/1875 [==============================] - 5s 2ms/step - loss: 0.3360 - accuracy: 0.8775\n",
            "Epoch 4/10\n",
            "1875/1875 [==============================] - 4s 2ms/step - loss: 0.3122 - accuracy: 0.8859\n",
            "Epoch 5/10\n",
            "1875/1875 [==============================] - 4s 2ms/step - loss: 0.2927 - accuracy: 0.8918\n",
            "Epoch 6/10\n",
            "1875/1875 [==============================] - 5s 3ms/step - loss: 0.2805 - accuracy: 0.8967\n",
            "Epoch 7/10\n",
            "1875/1875 [==============================] - 5s 3ms/step - loss: 0.2679 - accuracy: 0.9016\n",
            "Epoch 8/10\n",
            "1875/1875 [==============================] - 5s 3ms/step - loss: 0.2570 - accuracy: 0.9040\n",
            "Epoch 9/10\n",
            "1875/1875 [==============================] - 5s 2ms/step - loss: 0.2485 - accuracy: 0.9083\n",
            "Epoch 10/10\n",
            "1875/1875 [==============================] - 5s 2ms/step - loss: 0.2374 - accuracy: 0.9111\n"
          ],
          "name": "stdout"
        },
        {
          "output_type": "execute_result",
          "data": {
            "text/plain": [
              "<tensorflow.python.keras.callbacks.History at 0x7f4dc51bb7b8>"
            ]
          },
          "metadata": {
            "tags": []
          },
          "execution_count": 14
        }
      ]
    },
    {
      "cell_type": "markdown",
      "metadata": {
        "id": "jWDunXZMwanT",
        "colab_type": "text"
      },
      "source": [
        "Performance i.e Accuracy evaluation"
      ]
    },
    {
      "cell_type": "code",
      "metadata": {
        "id": "b5mb6Yj9wYuB",
        "colab_type": "code",
        "colab": {
          "base_uri": "https://localhost:8080/",
          "height": 68
        },
        "outputId": "c6b9f3a6-a4a1-422d-bac3-b0415e7f8e39"
      },
      "source": [
        "test_loss, test_acc = model.evaluate(test_images,  test_labels, verbose=2)\n",
        "\n",
        "print('\\nTest accuracy:', test_acc)"
      ],
      "execution_count": 15,
      "outputs": [
        {
          "output_type": "stream",
          "text": [
            "313/313 - 0s - loss: 0.3540 - accuracy: 0.8782\n",
            "\n",
            "Test accuracy: 0.8781999945640564\n"
          ],
          "name": "stdout"
        }
      ]
    },
    {
      "cell_type": "markdown",
      "metadata": {
        "id": "QA8ibjKtxWCd",
        "colab_type": "text"
      },
      "source": [
        "Prediction"
      ]
    },
    {
      "cell_type": "code",
      "metadata": {
        "id": "mlllX1VrwpWE",
        "colab_type": "code",
        "colab": {}
      },
      "source": [
        "probability_model = tf.keras.Sequential([model, \n",
        "                                         tf.keras.layers.Softmax()])"
      ],
      "execution_count": 0,
      "outputs": []
    },
    {
      "cell_type": "code",
      "metadata": {
        "id": "dJSqEnDMxX-8",
        "colab_type": "code",
        "colab": {}
      },
      "source": [
        "predictions = probability_model.predict(test_images)"
      ],
      "execution_count": 0,
      "outputs": []
    },
    {
      "cell_type": "code",
      "metadata": {
        "id": "iAoxdDxMxZor",
        "colab_type": "code",
        "colab": {
          "base_uri": "https://localhost:8080/",
          "height": 68
        },
        "outputId": "5d9690d2-8568-4d4d-eb57-96c7ae79aab3"
      },
      "source": [
        "predictions[0]"
      ],
      "execution_count": 18,
      "outputs": [
        {
          "output_type": "execute_result",
          "data": {
            "text/plain": [
              "array([7.6193680e-07, 5.4874466e-10, 3.4272333e-08, 6.6169964e-12,\n",
              "       3.3099422e-08, 1.0415521e-03, 6.4201267e-06, 1.9822372e-02,\n",
              "       2.0775121e-07, 9.7912860e-01], dtype=float32)"
            ]
          },
          "metadata": {
            "tags": []
          },
          "execution_count": 18
        }
      ]
    },
    {
      "cell_type": "code",
      "metadata": {
        "id": "NuZySmdExbYb",
        "colab_type": "code",
        "colab": {
          "base_uri": "https://localhost:8080/",
          "height": 34
        },
        "outputId": "39e7e5d5-27ab-4c0c-fe34-0706c8349a34"
      },
      "source": [
        "np.argmax(predictions[0])"
      ],
      "execution_count": 19,
      "outputs": [
        {
          "output_type": "execute_result",
          "data": {
            "text/plain": [
              "9"
            ]
          },
          "metadata": {
            "tags": []
          },
          "execution_count": 19
        }
      ]
    },
    {
      "cell_type": "code",
      "metadata": {
        "id": "xMIrWbcexdhc",
        "colab_type": "code",
        "colab": {
          "base_uri": "https://localhost:8080/",
          "height": 34
        },
        "outputId": "fc14c5f1-6e45-4a7a-890f-afa57a01a97d"
      },
      "source": [
        "test_labels[0]"
      ],
      "execution_count": 20,
      "outputs": [
        {
          "output_type": "execute_result",
          "data": {
            "text/plain": [
              "9"
            ]
          },
          "metadata": {
            "tags": []
          },
          "execution_count": 20
        }
      ]
    },
    {
      "cell_type": "code",
      "metadata": {
        "id": "Is5IMKB2xiER",
        "colab_type": "code",
        "colab": {}
      },
      "source": [
        "def plot_image(i, predictions_array, true_label, img):\n",
        "  predictions_array, true_label, img = predictions_array, true_label[i], img[i]\n",
        "  plt.grid(False)\n",
        "  plt.xticks([])\n",
        "  plt.yticks([])\n",
        "\n",
        "  plt.imshow(img, cmap=plt.cm.binary)\n",
        "\n",
        "  predicted_label = np.argmax(predictions_array)\n",
        "  if predicted_label == true_label:\n",
        "    color = 'blue'\n",
        "  else:\n",
        "    color = 'red'\n",
        "\n",
        "  plt.xlabel(\"{} {:2.0f}% ({})\".format(class_names[predicted_label],\n",
        "                                100*np.max(predictions_array),\n",
        "                                class_names[true_label]),\n",
        "                                color=color)\n",
        "\n",
        "def plot_value_array(i, predictions_array, true_label):\n",
        "  predictions_array, true_label = predictions_array, true_label[i]\n",
        "  plt.grid(False)\n",
        "  plt.xticks(range(10))\n",
        "  plt.yticks([])\n",
        "  thisplot = plt.bar(range(10), predictions_array, color=\"#777777\")\n",
        "  plt.ylim([0, 1])\n",
        "  predicted_label = np.argmax(predictions_array)\n",
        "\n",
        "  thisplot[predicted_label].set_color('red')\n",
        "  thisplot[true_label].set_color('blue')"
      ],
      "execution_count": 0,
      "outputs": []
    },
    {
      "cell_type": "markdown",
      "metadata": {
        "id": "_m5kGglHxmBz",
        "colab_type": "text"
      },
      "source": [
        "Verify Prediction"
      ]
    },
    {
      "cell_type": "code",
      "metadata": {
        "id": "7wEq7rSyxkWB",
        "colab_type": "code",
        "colab": {
          "base_uri": "https://localhost:8080/",
          "height": 211
        },
        "outputId": "07d0f143-300b-4039-df65-f62f413c290b"
      },
      "source": [
        "i = 0\n",
        "plt.figure(figsize=(6,3))\n",
        "plt.subplot(1,2,1)\n",
        "plot_image(i, predictions[i], test_labels, test_images)\n",
        "plt.subplot(1,2,2)\n",
        "plot_value_array(i, predictions[i],  test_labels)\n",
        "plt.show()"
      ],
      "execution_count": 22,
      "outputs": [
        {
          "output_type": "display_data",
          "data": {
            "image/png": "[encoded data removed]",
            "text/plain": [
              "<Figure size 432x216 with 2 Axes>"
            ]
          },
          "metadata": {
            "tags": [],
            "needs_background": "light"
          }
        }
      ]
    },
    {
      "cell_type": "code",
      "metadata": {
        "id": "_N0bglGGxoY6",
        "colab_type": "code",
        "colab": {
          "base_uri": "https://localhost:8080/",
          "height": 211
        },
        "outputId": "d7e32f6a-8b83-4ccd-9c63-c84ad4f25dbf"
      },
      "source": [
        "i = 12\n",
        "plt.figure(figsize=(6,3))\n",
        "plt.subplot(1,2,1)\n",
        "plot_image(i, predictions[i], test_labels, test_images)\n",
        "plt.subplot(1,2,2)\n",
        "plot_value_array(i, predictions[i],  test_labels)\n",
        "plt.show()"
      ],
      "execution_count": 23,
      "outputs": [
        {
          "output_type": "display_data",
          "data": {
            "image/png": "[encoded data removed]",
            "text/plain": [
              "<Figure size 432x216 with 2 Axes>"
            ]
          },
          "metadata": {
            "tags": [],
            "needs_background": "light"
          }
        }
      ]
    },
    {
      "cell_type": "code",
      "metadata": {
        "id": "b4OrnkyZxr2q",
        "colab_type": "code",
        "colab": {
          "base_uri": "https://localhost:8080/",
          "height": 729
        },
        "outputId": "cb7d7e5f-c253-420f-8be7-b3d56ccc42a9"
      },
      "source": [
        "# Plot the first X test images, their predicted labels, and the true labels.\n",
        "# Color correct predictions in blue and incorrect predictions in red.\n",
        "num_rows = 5\n",
        "num_cols = 3\n",
        "num_images = num_rows*num_cols\n",
        "plt.figure(figsize=(2*2*num_cols, 2*num_rows))\n",
        "for i in range(num_images):\n",
        "  plt.subplot(num_rows, 2*num_cols, 2*i+1)\n",
        "  plot_image(i, predictions[i], test_labels, test_images)\n",
        "  plt.subplot(num_rows, 2*num_cols, 2*i+2)\n",
        "  plot_value_array(i, predictions[i], test_labels)\n",
        "plt.tight_layout()\n",
        "plt.show()"
      ],
      "execution_count": 24,
      "outputs": [
        {
          "output_type": "display_data",
          "data": {
            "image/png": "[encoded data removed]",
            "text/plain": [
              "<Figure size 864x720 with 30 Axes>"
            ]
          },
          "metadata": {
            "tags": [],
            "needs_background": "light"
          }
        }
      ]
    },
    {
      "cell_type": "code",
      "metadata": {
        "id": "GI-D99QuyxFn",
        "colab_type": "code",
        "colab": {
          "base_uri": "https://localhost:8080/",
          "height": 34
        },
        "outputId": "18ee1c50-5b63-4da9-9613-f217ad9cf4bd"
      },
      "source": [
        "# Grab an image from the test dataset.\n",
        "img = test_images[1]\n",
        "\n",
        "print(img.shape)"
      ],
      "execution_count": 25,
      "outputs": [
        {
          "output_type": "stream",
          "text": [
            "(28, 28)\n"
          ],
          "name": "stdout"
        }
      ]
    },
    {
      "cell_type": "code",
      "metadata": {
        "id": "c7jykQiqyz6_",
        "colab_type": "code",
        "colab": {
          "base_uri": "https://localhost:8080/",
          "height": 34
        },
        "outputId": "6cbb73bb-11ab-42cd-99b9-fdcd92894eb9"
      },
      "source": [
        "# Add the image to a batch where it's the only member.\n",
        "img = (np.expand_dims(img,0))\n",
        "\n",
        "print(img.shape)"
      ],
      "execution_count": 26,
      "outputs": [
        {
          "output_type": "stream",
          "text": [
            "(1, 28, 28)\n"
          ],
          "name": "stdout"
        }
      ]
    },
    {
      "cell_type": "code",
      "metadata": {
        "id": "WNmHfYQry3zQ",
        "colab_type": "code",
        "colab": {
          "base_uri": "https://localhost:8080/",
          "height": 51
        },
        "outputId": "277fa7fa-85e0-4c93-cb88-d5d1cc60df18"
      },
      "source": [
        "predictions_single = probability_model.predict(img)\n",
        "\n",
        "print(predictions_single)"
      ],
      "execution_count": 27,
      "outputs": [
        {
          "output_type": "stream",
          "text": [
            "[[1.1866698e-06 1.5667288e-15 9.9917251e-01 1.3525460e-11 6.2028965e-04\n",
            "  1.6991485e-10 2.0600171e-04 1.6750610e-16 3.9268046e-12 3.3188006e-16]]\n"
          ],
          "name": "stdout"
        }
      ]
    },
    {
      "cell_type": "code",
      "metadata": {
        "id": "DtipFhRCy54x",
        "colab_type": "code",
        "colab": {
          "base_uri": "https://localhost:8080/",
          "height": 300
        },
        "outputId": "faf92d01-cb1d-4e8d-cd4e-64bdb952ef3a"
      },
      "source": [
        "plot_value_array(1, predictions_single[0], test_labels)\n",
        "_ = plt.xticks(range(10), class_names, rotation=45)"
      ],
      "execution_count": 28,
      "outputs": [
        {
          "output_type": "display_data",
          "data": {
            "image/png": "[encoded data removed]",
            "text/plain": [
              "<Figure size 432x288 with 1 Axes>"
            ]
          },
          "metadata": {
            "tags": [],
            "needs_background": "light"
          }
        }
      ]
    },
    {
      "cell_type": "code",
      "metadata": {
        "id": "Mqqwov4ky7hI",
        "colab_type": "code",
        "colab": {
          "base_uri": "https://localhost:8080/",
          "height": 34
        },
        "outputId": "92f2e9cb-d0ff-4661-a701-b25eca98edb5"
      },
      "source": [
        "np.argmax(predictions_single[0])"
      ],
      "execution_count": 29,
      "outputs": [
        {
          "output_type": "execute_result",
          "data": {
            "text/plain": [
              "2"
            ]
          },
          "metadata": {
            "tags": []
          },
          "execution_count": 29
        }
      ]
    },
    {
      "cell_type": "code",
      "metadata": {
        "id": "UJXI8iBdy-Y9",
        "colab_type": "code",
        "colab": {}
      },
      "source": [
        "\n"
      ],
      "execution_count": 0,
      "outputs": []
    },
    {
      "cell_type": "code",
      "metadata": {
        "id": "nArCH3Yl0w0L",
        "colab_type": "code",
        "colab": {}
      },
      "source": [
        ""
      ],
      "execution_count": 0,
      "outputs": []
    },
    {
      "cell_type": "markdown",
      "metadata": {
        "id": "ffnnAS6z0yDg",
        "colab_type": "text"
      },
      "source": [
        "##Text classification with TensorFlow Hub: Movie reviews"
      ]
    },
    {
      "cell_type": "code",
      "metadata": {
        "id": "HPKEiexk02kL",
        "colab_type": "code",
        "colab": {
          "base_uri": "https://localhost:8080/",
          "height": 102
        },
        "outputId": "d2026b22-fa21-4561-ea6e-62e413d9e3a8"
      },
      "source": [
        "!pip install -q tensorflow-hub\n",
        "!pip install -q tfds-nightly\n",
        "import tensorflow_hub as hub\n",
        "import tensorflow_datasets as tfds\n",
        "\n",
        "print(\"Version: \", tf.__version__)\n",
        "print(\"Eager mode: \", tf.executing_eagerly())\n",
        "print(\"Hub version: \", hub.__version__)\n",
        "print(\"GPU is\", \"available\" if tf.config.experimental.list_physical_devices(\"GPU\") else \"NOT AVAILABLE\")"
      ],
      "execution_count": 30,
      "outputs": [
        {
          "output_type": "stream",
          "text": [
            "\u001b[?25l\r\u001b[K     |                                | 10kB 17.3MB/s eta 0:00:01\r\u001b[K     |▏                               | 20kB 2.2MB/s eta 0:00:02\r\u001b[K     |▎                               | 30kB 3.2MB/s eta 0:00:02\r\u001b[K     |▍                               | 40kB 2.1MB/s eta 0:00:02\r\u001b[K     |▌                               | 51kB 2.5MB/s eta 0:00:02\r\u001b[K     |▋                               | 61kB 3.0MB/s eta 0:00:02\r\u001b[K     |▊                               | 71kB 3.5MB/s eta 0:00:01\r\u001b[K     |▉                               | 81kB 2.7MB/s eta 0:00:02\r\u001b[K     |█                               | 92kB 3.1MB/s eta 0:00:02\r\u001b[K     |█                               | 102kB 3.4MB/s eta 0:00:01\r\u001b[K     |█                               | 112kB 3.4MB/s eta 0:00:01\r\u001b[K     |█▏                              | 122kB 3.4MB/s eta 0:00:01\r\u001b[K     |█▎                              | 133kB 3.4MB/s eta 0:00:01\r\u001b[K     |█▍                              | 143kB 3.4MB/s eta 0:00:01\r\u001b[K     |█▌                              | 153kB 3.4MB/s eta 0:00:01\r\u001b[K     |█▋                              | 163kB 3.4MB/s eta 0:00:01\r\u001b[K     |█▊                              | 174kB 3.4MB/s eta 0:00:01\r\u001b[K     |█▉                              | 184kB 3.4MB/s eta 0:00:01\r\u001b[K     |██                              | 194kB 3.4MB/s eta 0:00:01\r\u001b[K     |██                              | 204kB 3.4MB/s eta 0:00:01\r\u001b[K     |██                              | 215kB 3.4MB/s eta 0:00:01\r\u001b[K     |██▏                             | 225kB 3.4MB/s eta 0:00:01\r\u001b[K     |██▎                             | 235kB 3.4MB/s eta 0:00:01\r\u001b[K     |██▍                             | 245kB 3.4MB/s eta 0:00:01\r\u001b[K     |██▌                             | 256kB 3.4MB/s eta 0:00:01\r\u001b[K     |██▋                             | 266kB 3.4MB/s eta 0:00:01\r\u001b[K     |██▊                             | 276kB 3.4MB/s eta 0:00:01\r\u001b[K     |██▉                             | 286kB 3.4MB/s eta 0:00:01\r\u001b[K     |███                             | 296kB 3.4MB/s eta 0:00:01\r\u001b[K     |███                             | 307kB 3.4MB/s eta 0:00:01\r\u001b[K     |███                             | 317kB 3.4MB/s eta 0:00:01\r\u001b[K     |███▏                            | 327kB 3.4MB/s eta 0:00:01\r\u001b[K     |███▎                            | 337kB 3.4MB/s eta 0:00:01\r\u001b[K     |███▍                            | 348kB 3.4MB/s eta 0:00:01\r\u001b[K     |███▌                            | 358kB 3.4MB/s eta 0:00:01\r\u001b[K     |███▋                            | 368kB 3.4MB/s eta 0:00:01\r\u001b[K     |███▊                            | 378kB 3.4MB/s eta 0:00:01\r\u001b[K     |███▉                            | 389kB 3.4MB/s eta 0:00:01\r\u001b[K     |████                            | 399kB 3.4MB/s eta 0:00:01\r\u001b[K     |████                            | 409kB 3.4MB/s eta 0:00:01\r\u001b[K     |████                            | 419kB 3.4MB/s eta 0:00:01\r\u001b[K     |████▏                           | 430kB 3.4MB/s eta 0:00:01\r\u001b[K     |████▎                           | 440kB 3.4MB/s eta 0:00:01\r\u001b[K     |████▍                           | 450kB 3.4MB/s eta 0:00:01\r\u001b[K     |████▌                           | 460kB 3.4MB/s eta 0:00:01\r\u001b[K     |████▋                           | 471kB 3.4MB/s eta 0:00:01\r\u001b[K     |████▊                           | 481kB 3.4MB/s eta 0:00:01\r\u001b[K     |████▉                           | 491kB 3.4MB/s eta 0:00:01\r\u001b[K     |████▉                           | 501kB 3.4MB/s eta 0:00:01\r\u001b[K     |█████                           | 512kB 3.4MB/s eta 0:00:01\r\u001b[K     |█████                           | 522kB 3.4MB/s eta 0:00:01\r\u001b[K     |█████▏                          | 532kB 3.4MB/s eta 0:00:01\r\u001b[K     |█████▎                          | 542kB 3.4MB/s eta 0:00:01\r\u001b[K     |█████▍                          | 552kB 3.4MB/s eta 0:00:01\r\u001b[K     |█████▌                          | 563kB 3.4MB/s eta 0:00:01\r\u001b[K     |█████▋                          | 573kB 3.4MB/s eta 0:00:01\r\u001b[K     |█████▊                          | 583kB 3.4MB/s eta 0:00:01\r\u001b[K     |█████▉                          | 593kB 3.4MB/s eta 0:00:01\r\u001b[K     |█████▉                          | 604kB 3.4MB/s eta 0:00:01\r\u001b[K     |██████                          | 614kB 3.4MB/s eta 0:00:01\r\u001b[K     |██████                          | 624kB 3.4MB/s eta 0:00:01\r\u001b[K     |██████▏                         | 634kB 3.4MB/s eta 0:00:01\r\u001b[K     |██████▎                         | 645kB 3.4MB/s eta 0:00:01\r\u001b[K     |██████▍                         | 655kB 3.4MB/s eta 0:00:01\r\u001b[K     |██████▌                         | 665kB 3.4MB/s eta 0:00:01\r\u001b[K     |██████▋                         | 675kB 3.4MB/s eta 0:00:01\r\u001b[K     |██████▊                         | 686kB 3.4MB/s eta 0:00:01\r\u001b[K     |██████▉                         | 696kB 3.4MB/s eta 0:00:01\r\u001b[K     |██████▉                         | 706kB 3.4MB/s eta 0:00:01\r\u001b[K     |███████                         | 716kB 3.4MB/s eta 0:00:01\r\u001b[K     |███████                         | 727kB 3.4MB/s eta 0:00:01\r\u001b[K     |███████▏                        | 737kB 3.4MB/s eta 0:00:01\r\u001b[K     |███████▎                        | 747kB 3.4MB/s eta 0:00:01\r\u001b[K     |███████▍                        | 757kB 3.4MB/s eta 0:00:01\r\u001b[K     |███████▌                        | 768kB 3.4MB/s eta 0:00:01\r\u001b[K     |███████▋                        | 778kB 3.4MB/s eta 0:00:01\r\u001b[K     |███████▊                        | 788kB 3.4MB/s eta 0:00:01\r\u001b[K     |███████▉                        | 798kB 3.4MB/s eta 0:00:01\r\u001b[K     |███████▉                        | 808kB 3.4MB/s eta 0:00:01\r\u001b[K     |████████                        | 819kB 3.4MB/s eta 0:00:01\r\u001b[K     |████████                        | 829kB 3.4MB/s eta 0:00:01\r\u001b[K     |████████▏                       | 839kB 3.4MB/s eta 0:00:01\r\u001b[K     |████████▎                       | 849kB 3.4MB/s eta 0:00:01\r\u001b[K     |████████▍                       | 860kB 3.4MB/s eta 0:00:01\r\u001b[K     |████████▌                       | 870kB 3.4MB/s eta 0:00:01\r\u001b[K     |████████▋                       | 880kB 3.4MB/s eta 0:00:01\r\u001b[K     |████████▊                       | 890kB 3.4MB/s eta 0:00:01\r\u001b[K     |████████▉                       | 901kB 3.4MB/s eta 0:00:01\r\u001b[K     |████████▉                       | 911kB 3.4MB/s eta 0:00:01\r\u001b[K     |█████████                       | 921kB 3.4MB/s eta 0:00:01\r\u001b[K     |█████████                       | 931kB 3.4MB/s eta 0:00:01\r\u001b[K     |█████████▏                      | 942kB 3.4MB/s eta 0:00:01\r\u001b[K     |█████████▎                      | 952kB 3.4MB/s eta 0:00:01\r\u001b[K     |█████████▍                      | 962kB 3.4MB/s eta 0:00:01\r\u001b[K     |█████████▌                      | 972kB 3.4MB/s eta 0:00:01\r\u001b[K     |█████████▋                      | 983kB 3.4MB/s eta 0:00:01\r\u001b[K     |█████████▊                      | 993kB 3.4MB/s eta 0:00:01\r\u001b[K     |█████████▊                      | 1.0MB 3.4MB/s eta 0:00:01\r\u001b[K     |█████████▉                      | 1.0MB 3.4MB/s eta 0:00:01\r\u001b[K     |██████████                      | 1.0MB 3.4MB/s eta 0:00:01\r\u001b[K     |██████████                      | 1.0MB 3.4MB/s eta 0:00:01\r\u001b[K     |██████████▏                     | 1.0MB 3.4MB/s eta 0:00:01\r\u001b[K     |██████████▎                     | 1.1MB 3.4MB/s eta 0:00:01\r\u001b[K     |██████████▍                     | 1.1MB 3.4MB/s eta 0:00:01\r\u001b[K     |██████████▌                     | 1.1MB 3.4MB/s eta 0:00:01\r\u001b[K     |██████████▋                     | 1.1MB 3.4MB/s eta 0:00:01\r\u001b[K     |██████████▊                     | 1.1MB 3.4MB/s eta 0:00:01\r\u001b[K     |██████████▊                     | 1.1MB 3.4MB/s eta 0:00:01\r\u001b[K     |██████████▉                     | 1.1MB 3.4MB/s eta 0:00:01\r\u001b[K     |███████████                     | 1.1MB 3.4MB/s eta 0:00:01\r\u001b[K     |███████████                     | 1.1MB 3.4MB/s eta 0:00:01\r\u001b[K     |███████████▏                    | 1.1MB 3.4MB/s eta 0:00:01\r\u001b[K     |███████████▎                    | 1.2MB 3.4MB/s eta 0:00:01\r\u001b[K     |███████████▍                    | 1.2MB 3.4MB/s eta 0:00:01\r\u001b[K     |███████████▌                    | 1.2MB 3.4MB/s eta 0:00:01\r\u001b[K     |███████████▋                    | 1.2MB 3.4MB/s eta 0:00:01\r\u001b[K     |███████████▊                    | 1.2MB 3.4MB/s eta 0:00:01\r\u001b[K     |███████████▊                    | 1.2MB 3.4MB/s eta 0:00:01\r\u001b[K     |███████████▉                    | 1.2MB 3.4MB/s eta 0:00:01\r\u001b[K     |████████████                    | 1.2MB 3.4MB/s eta 0:00:01\r\u001b[K     |████████████                    | 1.2MB 3.4MB/s eta 0:00:01\r\u001b[K     |████████████▏                   | 1.2MB 3.4MB/s eta 0:00:01\r\u001b[K     |████████████▎                   | 1.3MB 3.4MB/s eta 0:00:01\r\u001b[K     |████████████▍                   | 1.3MB 3.4MB/s eta 0:00:01\r\u001b[K     |████████████▌                   | 1.3MB 3.4MB/s eta 0:00:01\r\u001b[K     |████████████▋                   | 1.3MB 3.4MB/s eta 0:00:01\r\u001b[K     |████████████▊                   | 1.3MB 3.4MB/s eta 0:00:01\r\u001b[K     |████████████▊                   | 1.3MB 3.4MB/s eta 0:00:01\r\u001b[K     |████████████▉                   | 1.3MB 3.4MB/s eta 0:00:01\r\u001b[K     |█████████████                   | 1.3MB 3.4MB/s eta 0:00:01\r\u001b[K     |█████████████                   | 1.3MB 3.4MB/s eta 0:00:01\r\u001b[K     |█████████████▏                  | 1.4MB 3.4MB/s eta 0:00:01\r\u001b[K     |█████████████▎                  | 1.4MB 3.4MB/s eta 0:00:01\r\u001b[K     |█████████████▍                  | 1.4MB 3.4MB/s eta 0:00:01\r\u001b[K     |█████████████▌                  | 1.4MB 3.4MB/s eta 0:00:01\r\u001b[K     |█████████████▋                  | 1.4MB 3.4MB/s eta 0:00:01\r\u001b[K     |█████████████▊                  | 1.4MB 3.4MB/s eta 0:00:01\r\u001b[K     |█████████████▊                  | 1.4MB 3.4MB/s eta 0:00:01\r\u001b[K     |█████████████▉                  | 1.4MB 3.4MB/s eta 0:00:01\r\u001b[K     |██████████████                  | 1.4MB 3.4MB/s eta 0:00:01\r\u001b[K     |██████████████                  | 1.4MB 3.4MB/s eta 0:00:01\r\u001b[K     |██████████████▏                 | 1.5MB 3.4MB/s eta 0:00:01\r\u001b[K     |██████████████▎                 | 1.5MB 3.4MB/s eta 0:00:01\r\u001b[K     |██████████████▍                 | 1.5MB 3.4MB/s eta 0:00:01\r\u001b[K     |██████████████▌                 | 1.5MB 3.4MB/s eta 0:00:01\r\u001b[K     |██████████████▋                 | 1.5MB 3.4MB/s eta 0:00:01\r\u001b[K     |██████████████▋                 | 1.5MB 3.4MB/s eta 0:00:01\r\u001b[K     |██████████████▊                 | 1.5MB 3.4MB/s eta 0:00:01\r\u001b[K     |██████████████▉                 | 1.5MB 3.4MB/s eta 0:00:01\r\u001b[K     |███████████████                 | 1.5MB 3.4MB/s eta 0:00:01\r\u001b[K     |███████████████                 | 1.5MB 3.4MB/s eta 0:00:01\r\u001b[K     |███████████████▏                | 1.6MB 3.4MB/s eta 0:00:01\r\u001b[K     |███████████████▎                | 1.6MB 3.4MB/s eta 0:00:01\r\u001b[K     |███████████████▍                | 1.6MB 3.4MB/s eta 0:00:01\r\u001b[K     |███████████████▌                | 1.6MB 3.4MB/s eta 0:00:01\r\u001b[K     |███████████████▋                | 1.6MB 3.4MB/s eta 0:00:01\r\u001b[K     |███████████████▋                | 1.6MB 3.4MB/s eta 0:00:01\r\u001b[K     |███████████████▊                | 1.6MB 3.4MB/s eta 0:00:01\r\u001b[K     |███████████████▉                | 1.6MB 3.4MB/s eta 0:00:01\r\u001b[K     |████████████████                | 1.6MB 3.4MB/s eta 0:00:01\r\u001b[K     |████████████████                | 1.6MB 3.4MB/s eta 0:00:01\r\u001b[K     |████████████████▏               | 1.7MB 3.4MB/s eta 0:00:01\r\u001b[K     |████████████████▎               | 1.7MB 3.4MB/s eta 0:00:01\r\u001b[K     |████████████████▍               | 1.7MB 3.4MB/s eta 0:00:01\r\u001b[K     |████████████████▌               | 1.7MB 3.4MB/s eta 0:00:01\r\u001b[K     |████████████████▋               | 1.7MB 3.4MB/s eta 0:00:01\r\u001b[K     |████████████████▋               | 1.7MB 3.4MB/s eta 0:00:01\r\u001b[K     |████████████████▊               | 1.7MB 3.4MB/s eta 0:00:01\r\u001b[K     |████████████████▉               | 1.7MB 3.4MB/s eta 0:00:01\r\u001b[K     |█████████████████               | 1.7MB 3.4MB/s eta 0:00:01\r\u001b[K     |█████████████████               | 1.8MB 3.4MB/s eta 0:00:01\r\u001b[K     |█████████████████▏              | 1.8MB 3.4MB/s eta 0:00:01\r\u001b[K     |█████████████████▎              | 1.8MB 3.4MB/s eta 0:00:01\r\u001b[K     |█████████████████▍              | 1.8MB 3.4MB/s eta 0:00:01\r\u001b[K     |█████████████████▌              | 1.8MB 3.4MB/s eta 0:00:01\r\u001b[K     |█████████████████▋              | 1.8MB 3.4MB/s eta 0:00:01\r\u001b[K     |█████████████████▋              | 1.8MB 3.4MB/s eta 0:00:01\r\u001b[K     |█████████████████▊              | 1.8MB 3.4MB/s eta 0:00:01\r\u001b[K     |█████████████████▉              | 1.8MB 3.4MB/s eta 0:00:01\r\u001b[K     |██████████████████              | 1.8MB 3.4MB/s eta 0:00:01\r\u001b[K     |██████████████████              | 1.9MB 3.4MB/s eta 0:00:01\r\u001b[K     |██████████████████▏             | 1.9MB 3.4MB/s eta 0:00:01\r\u001b[K     |██████████████████▎             | 1.9MB 3.4MB/s eta 0:00:01\r\u001b[K     |██████████████████▍             | 1.9MB 3.4MB/s eta 0:00:01\r\u001b[K     |██████████████████▌             | 1.9MB 3.4MB/s eta 0:00:01\r\u001b[K     |██████████████████▋             | 1.9MB 3.4MB/s eta 0:00:01\r\u001b[K     |██████████████████▋             | 1.9MB 3.4MB/s eta 0:00:01\r\u001b[K     |██████████████████▊             | 1.9MB 3.4MB/s eta 0:00:01\r\u001b[K     |██████████████████▉             | 1.9MB 3.4MB/s eta 0:00:01\r\u001b[K     |███████████████████             | 1.9MB 3.4MB/s eta 0:00:01\r\u001b[K     |███████████████████             | 2.0MB 3.4MB/s eta 0:00:01\r\u001b[K     |███████████████████▏            | 2.0MB 3.4MB/s eta 0:00:01\r\u001b[K     |███████████████████▎            | 2.0MB 3.4MB/s eta 0:00:01\r\u001b[K     |███████████████████▍            | 2.0MB 3.4MB/s eta 0:00:01\r\u001b[K     |███████████████████▌            | 2.0MB 3.4MB/s eta 0:00:01\r\u001b[K     |███████████████████▌            | 2.0MB 3.4MB/s eta 0:00:01\r\u001b[K     |███████████████████▋            | 2.0MB 3.4MB/s eta 0:00:01\r\u001b[K     |███████████████████▊            | 2.0MB 3.4MB/s eta 0:00:01\r\u001b[K     |███████████████████▉            | 2.0MB 3.4MB/s eta 0:00:01\r\u001b[K     |████████████████████            | 2.0MB 3.4MB/s eta 0:00:01\r\u001b[K     |████████████████████            | 2.1MB 3.4MB/s eta 0:00:01\r\u001b[K     |████████████████████▏           | 2.1MB 3.4MB/s eta 0:00:01\r\u001b[K     |████████████████████▎           | 2.1MB 3.4MB/s eta 0:00:01\r\u001b[K     |████████████████████▍           | 2.1MB 3.4MB/s eta 0:00:01\r\u001b[K     |████████████████████▌           | 2.1MB 3.4MB/s eta 0:00:01\r\u001b[K     |████████████████████▌           | 2.1MB 3.4MB/s eta 0:00:01\r\u001b[K     |████████████████████▋           | 2.1MB 3.4MB/s eta 0:00:01\r\u001b[K     |████████████████████▊           | 2.1MB 3.4MB/s eta 0:00:01\r\u001b[K     |████████████████████▉           | 2.1MB 3.4MB/s eta 0:00:01\r\u001b[K     |█████████████████████           | 2.2MB 3.4MB/s eta 0:00:01\r\u001b[K     |█████████████████████           | 2.2MB 3.4MB/s eta 0:00:01\r\u001b[K     |█████████████████████▏          | 2.2MB 3.4MB/s eta 0:00:01\r\u001b[K     |█████████████████████▎          | 2.2MB 3.4MB/s eta 0:00:01\r\u001b[K     |█████████████████████▍          | 2.2MB 3.4MB/s eta 0:00:01\r\u001b[K     |█████████████████████▌          | 2.2MB 3.4MB/s eta 0:00:01\r\u001b[K     |█████████████████████▌          | 2.2MB 3.4MB/s eta 0:00:01\r\u001b[K     |█████████████████████▋          | 2.2MB 3.4MB/s eta 0:00:01\r\u001b[K     |█████████████████████▊          | 2.2MB 3.4MB/s eta 0:00:01\r\u001b[K     |█████████████████████▉          | 2.2MB 3.4MB/s eta 0:00:01\r\u001b[K     |██████████████████████          | 2.3MB 3.4MB/s eta 0:00:01\r\u001b[K     |██████████████████████          | 2.3MB 3.4MB/s eta 0:00:01\r\u001b[K     |██████████████████████▏         | 2.3MB 3.4MB/s eta 0:00:01\r\u001b[K     |██████████████████████▎         | 2.3MB 3.4MB/s eta 0:00:01\r\u001b[K     |██████████████████████▍         | 2.3MB 3.4MB/s eta 0:00:01\r\u001b[K     |██████████████████████▌         | 2.3MB 3.4MB/s eta 0:00:01\r\u001b[K     |██████████████████████▌         | 2.3MB 3.4MB/s eta 0:00:01\r\u001b[K     |██████████████████████▋         | 2.3MB 3.4MB/s eta 0:00:01\r\u001b[K     |██████████████████████▊         | 2.3MB 3.4MB/s eta 0:00:01\r\u001b[K     |██████████████████████▉         | 2.3MB 3.4MB/s eta 0:00:01\r\u001b[K     |███████████████████████         | 2.4MB 3.4MB/s eta 0:00:01\r\u001b[K     |███████████████████████         | 2.4MB 3.4MB/s eta 0:00:01\r\u001b[K     |███████████████████████▏        | 2.4MB 3.4MB/s eta 0:00:01\r\u001b[K     |███████████████████████▎        | 2.4MB 3.4MB/s eta 0:00:01\r\u001b[K     |███████████████████████▍        | 2.4MB 3.4MB/s eta 0:00:01\r\u001b[K     |███████████████████████▌        | 2.4MB 3.4MB/s eta 0:00:01\r\u001b[K     |███████████████████████▌        | 2.4MB 3.4MB/s eta 0:00:01\r\u001b[K     |███████████████████████▋        | 2.4MB 3.4MB/s eta 0:00:01\r\u001b[K     |███████████████████████▊        | 2.4MB 3.4MB/s eta 0:00:01\r\u001b[K     |███████████████████████▉        | 2.4MB 3.4MB/s eta 0:00:01\r\u001b[K     |████████████████████████        | 2.5MB 3.4MB/s eta 0:00:01\r\u001b[K     |████████████████████████        | 2.5MB 3.4MB/s eta 0:00:01\r\u001b[K     |████████████████████████▏       | 2.5MB 3.4MB/s eta 0:00:01\r\u001b[K     |████████████████████████▎       | 2.5MB 3.4MB/s eta 0:00:01\r\u001b[K     |████████████████████████▍       | 2.5MB 3.4MB/s eta 0:00:01\r\u001b[K     |████████████████████████▍       | 2.5MB 3.4MB/s eta 0:00:01\r\u001b[K     |████████████████████████▌       | 2.5MB 3.4MB/s eta 0:00:01\r\u001b[K     |████████████████████████▋       | 2.5MB 3.4MB/s eta 0:00:01\r\u001b[K     |████████████████████████▊       | 2.5MB 3.4MB/s eta 0:00:01\r\u001b[K     |████████████████████████▉       | 2.5MB 3.4MB/s eta 0:00:01\r\u001b[K     |█████████████████████████       | 2.6MB 3.4MB/s eta 0:00:01\r\u001b[K     |█████████████████████████       | 2.6MB 3.4MB/s eta 0:00:01\r\u001b[K     |█████████████████████████▏      | 2.6MB 3.4MB/s eta 0:00:01\r\u001b[K     |█████████████████████████▎      | 2.6MB 3.4MB/s eta 0:00:01\r\u001b[K     |█████████████████████████▍      | 2.6MB 3.4MB/s eta 0:00:01\r\u001b[K     |█████████████████████████▍      | 2.6MB 3.4MB/s eta 0:00:01\r\u001b[K     |█████████████████████████▌      | 2.6MB 3.4MB/s eta 0:00:01\r\u001b[K     |█████████████████████████▋      | 2.6MB 3.4MB/s eta 0:00:01\r\u001b[K     |█████████████████████████▊      | 2.6MB 3.4MB/s eta 0:00:01\r\u001b[K     |█████████████████████████▉      | 2.7MB 3.4MB/s eta 0:00:01\r\u001b[K     |██████████████████████████      | 2.7MB 3.4MB/s eta 0:00:01\r\u001b[K     |██████████████████████████      | 2.7MB 3.4MB/s eta 0:00:01\r\u001b[K     |██████████████████████████▏     | 2.7MB 3.4MB/s eta 0:00:01\r\u001b[K     |██████████████████████████▎     | 2.7MB 3.4MB/s eta 0:00:01\r\u001b[K     |██████████████████████████▍     | 2.7MB 3.4MB/s eta 0:00:01\r\u001b[K     |██████████████████████████▍     | 2.7MB 3.4MB/s eta 0:00:01\r\u001b[K     |██████████████████████████▌     | 2.7MB 3.4MB/s eta 0:00:01\r\u001b[K     |██████████████████████████▋     | 2.7MB 3.4MB/s eta 0:00:01\r\u001b[K     |██████████████████████████▊     | 2.7MB 3.4MB/s eta 0:00:01\r\u001b[K     |██████████████████████████▉     | 2.8MB 3.4MB/s eta 0:00:01\r\u001b[K     |███████████████████████████     | 2.8MB 3.4MB/s eta 0:00:01\r\u001b[K     |███████████████████████████     | 2.8MB 3.4MB/s eta 0:00:01\r\u001b[K     |███████████████████████████▏    | 2.8MB 3.4MB/s eta 0:00:01\r\u001b[K     |███████████████████████████▎    | 2.8MB 3.4MB/s eta 0:00:01\r\u001b[K     |███████████████████████████▍    | 2.8MB 3.4MB/s eta 0:00:01\r\u001b[K     |███████████████████████████▍    | 2.8MB 3.4MB/s eta 0:00:01\r\u001b[K     |███████████████████████████▌    | 2.8MB 3.4MB/s eta 0:00:01\r\u001b[K     |███████████████████████████▋    | 2.8MB 3.4MB/s eta 0:00:01\r\u001b[K     |███████████████████████████▊    | 2.8MB 3.4MB/s eta 0:00:01\r\u001b[K     |███████████████████████████▉    | 2.9MB 3.4MB/s eta 0:00:01\r\u001b[K     |████████████████████████████    | 2.9MB 3.4MB/s eta 0:00:01\r\u001b[K     |████████████████████████████    | 2.9MB 3.4MB/s eta 0:00:01\r\u001b[K     |████████████████████████████▏   | 2.9MB 3.4MB/s eta 0:00:01\r\u001b[K     |████████████████████████████▎   | 2.9MB 3.4MB/s eta 0:00:01\r\u001b[K     |████████████████████████████▍   | 2.9MB 3.4MB/s eta 0:00:01\r\u001b[K     |████████████████████████████▍   | 2.9MB 3.4MB/s eta 0:00:01\r\u001b[K     |████████████████████████████▌   | 2.9MB 3.4MB/s eta 0:00:01\r\u001b[K     |████████████████████████████▋   | 2.9MB 3.4MB/s eta 0:00:01\r\u001b[K     |████████████████████████████▊   | 2.9MB 3.4MB/s eta 0:00:01\r\u001b[K     |████████████████████████████▉   | 3.0MB 3.4MB/s eta 0:00:01\r\u001b[K     |█████████████████████████████   | 3.0MB 3.4MB/s eta 0:00:01\r\u001b[K     |█████████████████████████████   | 3.0MB 3.4MB/s eta 0:00:01\r\u001b[K     |█████████████████████████████▏  | 3.0MB 3.4MB/s eta 0:00:01\r\u001b[K     |█████████████████████████████▎  | 3.0MB 3.4MB/s eta 0:00:01\r\u001b[K     |█████████████████████████████▎  | 3.0MB 3.4MB/s eta 0:00:01\r\u001b[K     |█████████████████████████████▍  | 3.0MB 3.4MB/s eta 0:00:01\r\u001b[K     |█████████████████████████████▌  | 3.0MB 3.4MB/s eta 0:00:01\r\u001b[K     |█████████████████████████████▋  | 3.0MB 3.4MB/s eta 0:00:01\r\u001b[K     |█████████████████████████████▊  | 3.1MB 3.4MB/s eta 0:00:01\r\u001b[K     |█████████████████████████████▉  | 3.1MB 3.4MB/s eta 0:00:01\r\u001b[K     |██████████████████████████████  | 3.1MB 3.4MB/s eta 0:00:01\r\u001b[K     |██████████████████████████████  | 3.1MB 3.4MB/s eta 0:00:01\r\u001b[K     |██████████████████████████████▏ | 3.1MB 3.4MB/s eta 0:00:01\r\u001b[K     |██████████████████████████████▎ | 3.1MB 3.4MB/s eta 0:00:01\r\u001b[K     |██████████████████████████████▎ | 3.1MB 3.4MB/s eta 0:00:01\r\u001b[K     |██████████████████████████████▍ | 3.1MB 3.4MB/s eta 0:00:01\r\u001b[K     |██████████████████████████████▌ | 3.1MB 3.4MB/s eta 0:00:01\r\u001b[K     |██████████████████████████████▋ | 3.1MB 3.4MB/s eta 0:00:01\r\u001b[K     |██████████████████████████████▊ | 3.2MB 3.4MB/s eta 0:00:01\r\u001b[K     |██████████████████████████████▉ | 3.2MB 3.4MB/s eta 0:00:01\r\u001b[K     |███████████████████████████████ | 3.2MB 3.4MB/s eta 0:00:01\r\u001b[K     |███████████████████████████████ | 3.2MB 3.4MB/s eta 0:00:01\r\u001b[K     |███████████████████████████████▏| 3.2MB 3.4MB/s eta 0:00:01\r\u001b[K     |███████████████████████████████▎| 3.2MB 3.4MB/s eta 0:00:01\r\u001b[K     |███████████████████████████████▎| 3.2MB 3.4MB/s eta 0:00:01\r\u001b[K     |███████████████████████████████▍| 3.2MB 3.4MB/s eta 0:00:01\r\u001b[K     |███████████████████████████████▌| 3.2MB 3.4MB/s eta 0:00:01\r\u001b[K     |███████████████████████████████▋| 3.2MB 3.4MB/s eta 0:00:01\r\u001b[K     |███████████████████████████████▊| 3.3MB 3.4MB/s eta 0:00:01\r\u001b[K     |███████████████████████████████▉| 3.3MB 3.4MB/s eta 0:00:01\r\u001b[K     |████████████████████████████████| 3.3MB 3.4MB/s eta 0:00:01\r\u001b[K     |████████████████████████████████| 3.3MB 3.4MB/s \n",
            "\u001b[?25hVersion:  2.2.0-rc3\n",
            "Eager mode:  True\n",
            "Hub version:  0.8.0\n",
            "GPU is NOT AVAILABLE\n"
          ],
          "name": "stdout"
        }
      ]
    },
    {
      "cell_type": "code",
      "metadata": {
        "id": "jRAZU9ud06Es",
        "colab_type": "code",
        "colab": {
          "base_uri": "https://localhost:8080/",
          "height": 350,
          "referenced_widgets": [
            "6d6b536f412842c68228e83f3506eafc",
            "043ecb93ec2c41bfb9aaf5bda6686565",
            "289e0034ceab46f5b80d8dfad1f5e3fd",
            "4ccbb6472bac48cdb12ebc5bd41435cf",
            "46989e2c63774d1bad0edf1cb7efccbf",
            "5f1de93f124245ccba0167d85fc6bf74",
            "94377c5813744fa2b1507defc5ff835d",
            "032bf1b9554b46258c89cc469c2d5cd4",
            "35d0d0bb55dc484aad0ba04fe72e41b4",
            "fbd299a502354bc68f8a362e5535724f",
            "1679b9a677b14e47a78fc88d8c98d6c9",
            "c699bf67fd2d42478d7925fe12fa8875",
            "82e2c14117f84a72a18cc47e9d3b3732",
            "6df0fa3c698c41c5abdc87e4625ae9c4",
            "884fdbe182434687b53bd6f26a12877d",
            "5270680e24db4d6198943b07d64578d5",
            "3dce16678bbb48499549df4499cfc8fb",
            "e6d3c620853941eb8ad9a1543a8794c8",
            "81f571d9dcbb4931acc966a7a39d9388",
            "aad3ee96dce141d9b1806d3c90154418",
            "98cb6a9fe8e940f98bf73e1648abe27d",
            "a4840c25e4b34488b9c7cc12bc9ff2f2",
            "f9471fdc743441c88bb0e649e7781b77",
            "e165af0dc9c244b3983fb0b83fe1bfdd",
            "2287672c530f47539a774333ee033452",
            "98df51ae64db44d98c212f50c6f024c3",
            "a1d8ce205ba541c382e93e59770230f4",
            "bb3ae4c473664cdf91a66f6c987e4203",
            "4c47910fe409400fb6d4a13bbfe6446c",
            "b9d94e83194d4d20bf46df30bf607a58",
            "a19afef260ca4e4f812390bd2b42f3fb",
            "1b3849d1112c4ef994ed958c4557d757",
            "c60783c1256e4f9e8b5d57b22fd51796",
            "9a5136277b614b2f93b8e07f5df1bc7e",
            "bb9f244c40094d57aeec0a5a361c563d",
            "6af3928b8f04473c912715b6c3516a62",
            "59863f77edee47299f2c9b3631d74280",
            "ee6975cb8702489286327c0fd625f5fe",
            "650a783464b14a808b946b9e831bee16",
            "80c69d6729f74d6f9dcba89eca02ece9",
            "92f1a474154c4b43ac1b834f08e74882",
            "613b56e78be14740874211b6c542c813",
            "c8003a65b6e149d49481c4b9171c259d",
            "55c18cd629a84b4fa74650157c1e6431",
            "e0836ccb003f4ea68553b7f87b119d36",
            "d373e7580f164a0596eab141c1b80d6f",
            "68fb436ce76c40bab866c84cdac9d8c3",
            "5aa5afb2ae9248fa8d25adfcbd7dd777",
            "8d204efbce6d4fe0affd2e3716ed2d8f",
            "8b7c818c4d724e688c5aa0cafa36c081",
            "e473d42678db4160a45661b8287c9f3a",
            "940d5d4acb874275a934dbbccaada0d2",
            "83fea1c29c38461da3fafe43915055a0",
            "83b574318d684e899007263201cb3586",
            "f48263ac14e14474bfd99480a90ccfee",
            "d8f1618b83914023af3cf386392b7c3e",
            "1dc7fe6aed8f42a39cf467788f26d07e",
            "180200b8ee8f424fb5ee4bb8e332ac25",
            "973f2c2a77c449f1b8b626e6a670a7e0",
            "2e83dafe15d446f4bd9b64880b4f264f",
            "18766abe18e345aaac7015c4bce4a396",
            "5c8563b924d149cbb2ba02fcfdbd95f5",
            "3d265396eacd4c4581f5ba6047ba9681",
            "24a0fb144e684001b54c05e73427b796"
          ]
        },
        "outputId": "d39b3ea5-5993-4f6f-907f-314c74c57e65"
      },
      "source": [
        "# Split the training set into 60% and 40%, so we'll end up with 15,000 examples\n",
        "# for training, 10,000 examples for validation and 25,000 examples for testing.\n",
        "train_data, validation_data, test_data = tfds.load(\n",
        "    name=\"imdb_reviews\", \n",
        "    split=('train[:60%]', 'train[60%:]', 'test'),\n",
        "    as_supervised=True)"
      ],
      "execution_count": 31,
      "outputs": [
        {
          "output_type": "stream",
          "text": [
            "\u001b[1mDownloading and preparing dataset imdb_reviews/plain_text/1.0.0 (download: 80.23 MiB, generated: Unknown size, total: 80.23 MiB) to /root/tensorflow_datasets/imdb_reviews/plain_text/1.0.0...\u001b[0m\n"
          ],
          "name": "stdout"
        },
        {
          "output_type": "display_data",
          "data": {
            "application/vnd.jupyter.widget-view+json": {
              "model_id": "6d6b536f412842c68228e83f3506eafc",
              "version_minor": 0,
              "version_major": 2
            },
            "text/plain": [
              "HBox(children=(IntProgress(value=1, bar_style='info', description='Dl Completed...', max=1, style=ProgressStyl…"
            ]
          },
          "metadata": {
            "tags": []
          }
        },
        {
          "output_type": "display_data",
          "data": {
            "application/vnd.jupyter.widget-view+json": {
              "model_id": "35d0d0bb55dc484aad0ba04fe72e41b4",
              "version_minor": 0,
              "version_major": 2
            },
            "text/plain": [
              "HBox(children=(IntProgress(value=1, bar_style='info', description='Dl Size...', max=1, style=ProgressStyle(des…"
            ]
          },
          "metadata": {
            "tags": []
          }
        },
        {
          "output_type": "stream",
          "text": [
            "\n",
            "\n",
            "\n",
            "\n"
          ],
          "name": "stdout"
        },
        {
          "output_type": "display_data",
          "data": {
            "application/vnd.jupyter.widget-view+json": {
              "model_id": "3dce16678bbb48499549df4499cfc8fb",
              "version_minor": 0,
              "version_major": 2
            },
            "text/plain": [
              "HBox(children=(IntProgress(value=1, bar_style='info', max=1), HTML(value='')))"
            ]
          },
          "metadata": {
            "tags": []
          }
        },
        {
          "output_type": "stream",
          "text": [
            "\rShuffling and writing examples to /root/tensorflow_datasets/imdb_reviews/plain_text/1.0.0.incompleteB7E0U8/imdb_reviews-train.tfrecord\n"
          ],
          "name": "stdout"
        },
        {
          "output_type": "display_data",
          "data": {
            "application/vnd.jupyter.widget-view+json": {
              "model_id": "2287672c530f47539a774333ee033452",
              "version_minor": 0,
              "version_major": 2
            },
            "text/plain": [
              "HBox(children=(IntProgress(value=0, max=25000), HTML(value='')))"
            ]
          },
          "metadata": {
            "tags": []
          }
        },
        {
          "output_type": "stream",
          "text": [
            "\r"
          ],
          "name": "stdout"
        },
        {
          "output_type": "display_data",
          "data": {
            "application/vnd.jupyter.widget-view+json": {
              "model_id": "c60783c1256e4f9e8b5d57b22fd51796",
              "version_minor": 0,
              "version_major": 2
            },
            "text/plain": [
              "HBox(children=(IntProgress(value=1, bar_style='info', max=1), HTML(value='')))"
            ]
          },
          "metadata": {
            "tags": []
          }
        },
        {
          "output_type": "stream",
          "text": [
            "\rShuffling and writing examples to /root/tensorflow_datasets/imdb_reviews/plain_text/1.0.0.incompleteB7E0U8/imdb_reviews-test.tfrecord\n"
          ],
          "name": "stdout"
        },
        {
          "output_type": "display_data",
          "data": {
            "application/vnd.jupyter.widget-view+json": {
              "model_id": "92f1a474154c4b43ac1b834f08e74882",
              "version_minor": 0,
              "version_major": 2
            },
            "text/plain": [
              "HBox(children=(IntProgress(value=0, max=25000), HTML(value='')))"
            ]
          },
          "metadata": {
            "tags": []
          }
        },
        {
          "output_type": "stream",
          "text": [
            "\r"
          ],
          "name": "stdout"
        },
        {
          "output_type": "display_data",
          "data": {
            "application/vnd.jupyter.widget-view+json": {
              "model_id": "8d204efbce6d4fe0affd2e3716ed2d8f",
              "version_minor": 0,
              "version_major": 2
            },
            "text/plain": [
              "HBox(children=(IntProgress(value=1, bar_style='info', max=1), HTML(value='')))"
            ]
          },
          "metadata": {
            "tags": []
          }
        },
        {
          "output_type": "stream",
          "text": [
            "\rShuffling and writing examples to /root/tensorflow_datasets/imdb_reviews/plain_text/1.0.0.incompleteB7E0U8/imdb_reviews-unsupervised.tfrecord\n"
          ],
          "name": "stdout"
        },
        {
          "output_type": "display_data",
          "data": {
            "application/vnd.jupyter.widget-view+json": {
              "model_id": "1dc7fe6aed8f42a39cf467788f26d07e",
              "version_minor": 0,
              "version_major": 2
            },
            "text/plain": [
              "HBox(children=(IntProgress(value=0, max=50000), HTML(value='')))"
            ]
          },
          "metadata": {
            "tags": []
          }
        },
        {
          "output_type": "stream",
          "text": [
            "\u001b[1mDataset imdb_reviews downloaded and prepared to /root/tensorflow_datasets/imdb_reviews/plain_text/1.0.0. Subsequent calls will reuse this data.\u001b[0m\n",
            "\r"
          ],
          "name": "stdout"
        }
      ]
    },
    {
      "cell_type": "code",
      "metadata": {
        "id": "jmITkZiB1OBF",
        "colab_type": "code",
        "colab": {
          "base_uri": "https://localhost:8080/",
          "height": 241
        },
        "outputId": "6a9edf50-0ff3-4aaf-8f23-eba4f230dbaf"
      },
      "source": [
        "train_examples_batch, train_labels_batch = next(iter(train_data.batch(10)))\n",
        "train_examples_batch"
      ],
      "execution_count": 32,
      "outputs": [
        {
          "output_type": "execute_result",
          "data": {
            "text/plain": [
              "<tf.Tensor: shape=(10,), dtype=string, numpy=\n",
              "array([b\"This was an absolutely terrible movie. Don't be lured in by Christopher Walken or Michael Ironside. Both are great actors, but this must simply be their worst role in history. Even their great acting could not redeem this movie's ridiculous storyline. This movie is an early nineties US propaganda piece. The most pathetic scenes were those when the Columbian rebels were making their cases for revolutions. Maria Conchita Alonso appeared phony, and her pseudo-love affair with Walken was nothing but a pathetic emotional plug in a movie that was devoid of any real meaning. I am disappointed that there are movies like this, ruining actor's like Christopher Walken's good name. I could barely sit through it.\",\n",
              "       b'I have been known to fall asleep during films, but this is usually due to a combination of things including, really tired, being warm and comfortable on the sette and having just eaten a lot. However on this occasion I fell asleep because the film was rubbish. The plot development was constant. Constantly slow and boring. Things seemed to happen, but with no explanation of what was causing them or why. I admit, I may have missed part of the film, but i watched the majority of it and everything just seemed to happen of its own accord without any real concern for anything else. I cant recommend this film at all.',\n",
              "       b'Mann photographs the Alberta Rocky Mountains in a superb fashion, and Jimmy Stewart and Walter Brennan give enjoyable performances as they always seem to do. <br /><br />But come on Hollywood - a Mountie telling the people of Dawson City, Yukon to elect themselves a marshal (yes a marshal!) and to enforce the law themselves, then gunfighters battling it out on the streets for control of the town? <br /><br />Nothing even remotely resembling that happened on the Canadian side of the border during the Klondike gold rush. Mr. Mann and company appear to have mistaken Dawson City for Deadwood, the Canadian North for the American Wild West.<br /><br />Canadian viewers be prepared for a Reefer Madness type of enjoyable howl with this ludicrous plot, or, to shake your head in disgust.',\n",
              "       b'This is the kind of film for a snowy Sunday afternoon when the rest of the world can go ahead with its own business as you descend into a big arm-chair and mellow for a couple of hours. Wonderful performances from Cher and Nicolas Cage (as always) gently row the plot along. There are no rapids to cross, no dangerous waters, just a warm and witty paddle through New York life at its best. A family film in every sense and one that deserves the praise it received.',\n",
              "       b'As others have mentioned, all the women that go nude in this film are mostly absolutely gorgeous. The plot very ably shows the hypocrisy of the female libido. When men are around they want to be pursued, but when no \"men\" are around, they become the pursuers of a 14 year old boy. And the boy becomes a man really fast (we should all be so lucky at this age!). He then gets up the courage to pursue his true love.',\n",
              "       b\"This is a film which should be seen by anybody interested in, effected by, or suffering from an eating disorder. It is an amazingly accurate and sensitive portrayal of bulimia in a teenage girl, its causes and its symptoms. The girl is played by one of the most brilliant young actresses working in cinema today, Alison Lohman, who was later so spectacular in 'Where the Truth Lies'. I would recommend that this film be shown in all schools, as you will never see a better on this subject. Alison Lohman is absolutely outstanding, and one marvels at her ability to convey the anguish of a girl suffering from this compulsive disorder. If barometers tell us the air pressure, Alison Lohman tells us the emotional pressure with the same degree of accuracy. Her emotional range is so precise, each scene could be measured microscopically for its gradations of trauma, on a scale of rising hysteria and desperation which reaches unbearable intensity. Mare Winningham is the perfect choice to play her mother, and does so with immense sympathy and a range of emotions just as finely tuned as Lohman's. Together, they make a pair of sensitive emotional oscillators vibrating in resonance with one another. This film is really an astonishing achievement, and director Katt Shea should be proud of it. The only reason for not seeing it is if you are not interested in people. But even if you like nature films best, this is after all animal behaviour at the sharp edge. Bulimia is an extreme version of how a tormented soul can destroy her own body in a frenzy of despair. And if we don't sympathise with people suffering from the depths of despair, then we are dead inside.\",\n",
              "       b'Okay, you have:<br /><br />Penelope Keith as Miss Herringbone-Tweed, B.B.E. (Backbone of England.) She\\'s killed off in the first scene - that\\'s right, folks; this show has no backbone!<br /><br />Peter O\\'Toole as Ol\\' Colonel Cricket from The First War and now the emblazered Lord of the Manor.<br /><br />Joanna Lumley as the ensweatered Lady of the Manor, 20 years younger than the colonel and 20 years past her own prime but still glamourous (Brit spelling, not mine) enough to have a toy-boy on the side. It\\'s alright, they have Col. Cricket\\'s full knowledge and consent (they guy even comes \\'round for Christmas!) Still, she\\'s considerate of the colonel enough to have said toy-boy her own age (what a gal!)<br /><br />David McCallum as said toy-boy, equally as pointlessly glamourous as his squeeze. Pilcher couldn\\'t come up with any cover for him within the story, so she gave him a hush-hush job at the Circus.<br /><br />and finally:<br /><br />Susan Hampshire as Miss Polonia Teacups, Venerable Headmistress of the Venerable Girls\\' Boarding-School, serving tea in her office with a dash of deep, poignant advice for life in the outside world just before graduation. Her best bit of advice: \"I\\'ve only been to Nancherrow (the local Stately Home of England) once. I thought it was very beautiful but, somehow, not part of the real world.\" Well, we can\\'t say they didn\\'t warn us.<br /><br />Ah, Susan - time was, your character would have been running the whole show. They don\\'t write \\'em like that any more. Our loss, not yours.<br /><br />So - with a cast and setting like this, you have the re-makings of \"Brideshead Revisited,\" right?<br /><br />Wrong! They took these 1-dimensional supporting roles because they paid so well. After all, acting is one of the oldest temp-jobs there is (YOU name another!)<br /><br />First warning sign: lots and lots of backlighting. They get around it by shooting outdoors - \"hey, it\\'s just the sunlight!\"<br /><br />Second warning sign: Leading Lady cries a lot. When not crying, her eyes are moist. That\\'s the law of romance novels: Leading Lady is \"dewy-eyed.\"<br /><br />Henceforth, Leading Lady shall be known as L.L.<br /><br />Third warning sign: L.L. actually has stars in her eyes when she\\'s in love. Still, I\\'ll give Emily Mortimer an award just for having to act with that spotlight in her eyes (I wonder . did they use contacts?)<br /><br />And lastly, fourth warning sign: no on-screen female character is \"Mrs.\" She\\'s either \"Miss\" or \"Lady.\"<br /><br />When all was said and done, I still couldn\\'t tell you who was pursuing whom and why. I couldn\\'t even tell you what was said and done.<br /><br />To sum up: they all live through World War II without anything happening to them at all.<br /><br />OK, at the end, L.L. finds she\\'s lost her parents to the Japanese prison camps and baby sis comes home catatonic. Meanwhile (there\\'s always a \"meanwhile,\") some young guy L.L. had a crush on (when, I don\\'t know) comes home from some wartime tough spot and is found living on the street by Lady of the Manor (must be some street if SHE\\'s going to find him there.) Both war casualties are whisked away to recover at Nancherrow (SOMEBODY has to be \"whisked away\" SOMEWHERE in these romance stories!)<br /><br />Great drama.',\n",
              "       b'The film is based on a genuine 1950s novel.<br /><br />Journalist Colin McInnes wrote a set of three \"London novels\": \"Absolute Beginners\", \"City of Spades\" and \"Mr Love and Justice\". I have read all three. The first two are excellent. The last, perhaps an experiment that did not come off. But McInnes\\'s work is highly acclaimed; and rightly so. This musical is the novelist\\'s ultimate nightmare - to see the fruits of one\\'s mind being turned into a glitzy, badly-acted, soporific one-dimensional apology of a film that says it captures the spirit of 1950s London, and does nothing of the sort.<br /><br />Thank goodness Colin McInnes wasn\\'t alive to witness it.',\n",
              "       b'I really love the sexy action and sci-fi films of the sixties and its because of the actress\\'s that appeared in them. They found the sexiest women to be in these films and it didn\\'t matter if they could act (Remember \"Candy\"?). The reason I was disappointed by this film was because it wasn\\'t nostalgic enough. The story here has a European sci-fi film called \"Dragonfly\" being made and the director is fired. So the producers decide to let a young aspiring filmmaker (Jeremy Davies) to complete the picture. They\\'re is one real beautiful woman in the film who plays Dragonfly but she\\'s barely in it. Film is written and directed by Roman Coppola who uses some of his fathers exploits from his early days and puts it into the script. I wish the film could have been an homage to those early films. They could have lots of cameos by actors who appeared in them. There is one actor in this film who was popular from the sixties and its John Phillip Law (Barbarella). Gerard Depardieu, Giancarlo Giannini and Dean Stockwell appear as well. I guess I\\'m going to have to continue waiting for a director to make a good homage to the films of the sixties. If any are reading this, \"Make it as sexy as you can\"! I\\'ll be waiting!',\n",
              "       b'Sure, this one isn\\'t really a blockbuster, nor does it target such a position. \"Dieter\" is the first name of a quite popular German musician, who is either loved or hated for his kind of acting and thats exactly what this movie is about. It is based on the autobiography \"Dieter Bohlen\" wrote a few years ago but isn\\'t meant to be accurate on that. The movie is filled with some sexual offensive content (at least for American standard) which is either amusing (not for the other \"actors\" of course) or dumb - it depends on your individual kind of humor or on you being a \"Bohlen\"-Fan or not. Technically speaking there isn\\'t much to criticize. Speaking of me I find this movie to be an OK-movie.'],\n",
              "      dtype=object)>"
            ]
          },
          "metadata": {
            "tags": []
          },
          "execution_count": 32
        }
      ]
    },
    {
      "cell_type": "code",
      "metadata": {
        "id": "_W3qTdg61gJ6",
        "colab_type": "code",
        "colab": {
          "base_uri": "https://localhost:8080/",
          "height": 34
        },
        "outputId": "b74928c5-7a59-4454-c1be-373299ae1c12"
      },
      "source": [
        "train_labels_batch"
      ],
      "execution_count": 33,
      "outputs": [
        {
          "output_type": "execute_result",
          "data": {
            "text/plain": [
              "<tf.Tensor: shape=(10,), dtype=int64, numpy=array([0, 0, 0, 1, 1, 1, 0, 0, 0, 0])>"
            ]
          },
          "metadata": {
            "tags": []
          },
          "execution_count": 33
        }
      ]
    },
    {
      "cell_type": "markdown",
      "metadata": {
        "id": "IEs3-MLR3VmV",
        "colab_type": "text"
      },
      "source": [
        "Build the model"
      ]
    },
    {
      "cell_type": "code",
      "metadata": {
        "id": "tGNmpTl71iLa",
        "colab_type": "code",
        "colab": {
          "base_uri": "https://localhost:8080/",
          "height": 255
        },
        "outputId": "3c62daad-1e2f-434f-b488-bef18a7bcab0"
      },
      "source": [
        "embedding = \"https://tfhub.dev/google/tf2-preview/gnews-swivel-20dim/1\"\n",
        "hub_layer = hub.KerasLayer(embedding, input_shape=[], \n",
        "                           dtype=tf.string, trainable=True)\n",
        "hub_layer(train_examples_batch[:3])"
      ],
      "execution_count": 34,
      "outputs": [
        {
          "output_type": "execute_result",
          "data": {
            "text/plain": [
              "<tf.Tensor: shape=(3, 20), dtype=float32, numpy=\n",
              "array([[ 1.765786  , -3.882232  ,  3.9134233 , -1.5557289 , -3.3362343 ,\n",
              "        -1.7357955 , -1.9954445 ,  1.2989551 ,  5.081598  , -1.1041286 ,\n",
              "        -2.0503852 , -0.72675157, -0.65675956,  0.24436149, -3.7208383 ,\n",
              "         2.0954835 ,  2.2969332 , -2.0689783 , -2.9489717 , -1.1315987 ],\n",
              "       [ 1.8804485 , -2.5852382 ,  3.4066997 ,  1.0982676 , -4.056685  ,\n",
              "        -4.891284  , -2.785554  ,  1.3874227 ,  3.8476458 , -0.9256538 ,\n",
              "        -1.896706  ,  1.2113281 ,  0.11474707,  0.76209456, -4.8791065 ,\n",
              "         2.906149  ,  4.7087674 , -2.3652055 , -3.5015898 , -1.6390051 ],\n",
              "       [ 0.71152234, -0.6353217 ,  1.7385626 , -1.1168286 , -0.5451594 ,\n",
              "        -1.1808156 ,  0.09504455,  1.4653089 ,  0.66059524,  0.79308075,\n",
              "        -2.2268345 ,  0.07446612, -1.4075904 , -0.70645386, -1.907037  ,\n",
              "         1.4419787 ,  1.9551861 , -0.42660055, -2.8022065 ,  0.43727064]],\n",
              "      dtype=float32)>"
            ]
          },
          "metadata": {
            "tags": []
          },
          "execution_count": 34
        }
      ]
    },
    {
      "cell_type": "code",
      "metadata": {
        "id": "iDriP_ZG32JY",
        "colab_type": "code",
        "colab": {
          "base_uri": "https://localhost:8080/",
          "height": 255
        },
        "outputId": "87e7c89e-e6ab-4a60-fddc-bfe8f07525ad"
      },
      "source": [
        "model = tf.keras.Sequential()\n",
        "model.add(hub_layer)\n",
        "model.add(tf.keras.layers.Dense(16, activation='relu'))\n",
        "model.add(tf.keras.layers.Dense(1))\n",
        "\n",
        "model.summary()"
      ],
      "execution_count": 35,
      "outputs": [
        {
          "output_type": "stream",
          "text": [
            "Model: \"sequential_2\"\n",
            "_________________________________________________________________\n",
            "Layer (type)                 Output Shape              Param #   \n",
            "=================================================================\n",
            "keras_layer (KerasLayer)     (None, 20)                400020    \n",
            "_________________________________________________________________\n",
            "dense_2 (Dense)              (None, 16)                336       \n",
            "_________________________________________________________________\n",
            "dense_3 (Dense)              (None, 1)                 17        \n",
            "=================================================================\n",
            "Total params: 400,373\n",
            "Trainable params: 400,373\n",
            "Non-trainable params: 0\n",
            "_________________________________________________________________\n"
          ],
          "name": "stdout"
        }
      ]
    },
    {
      "cell_type": "markdown",
      "metadata": {
        "id": "acI1qyr354yy",
        "colab_type": "text"
      },
      "source": [
        "Loss function and optimizer"
      ]
    },
    {
      "cell_type": "code",
      "metadata": {
        "id": "Dyq2dJhl501J",
        "colab_type": "code",
        "colab": {}
      },
      "source": [
        "model.compile(optimizer='adam',\n",
        "              loss=tf.keras.losses.BinaryCrossentropy(from_logits=True),\n",
        "              metrics=['accuracy'])"
      ],
      "execution_count": 0,
      "outputs": []
    },
    {
      "cell_type": "markdown",
      "metadata": {
        "id": "vNRfvUyz585F",
        "colab_type": "text"
      },
      "source": [
        "Train the model"
      ]
    },
    {
      "cell_type": "code",
      "metadata": {
        "id": "FAl9JoyL567x",
        "colab_type": "code",
        "colab": {
          "base_uri": "https://localhost:8080/",
          "height": 697
        },
        "outputId": "266424f0-a746-4c30-e3bd-3b799edf1164"
      },
      "source": [
        "history = model.fit(train_data.shuffle(10000).batch(512),\n",
        "                    epochs=20,\n",
        "                    validation_data=validation_data.batch(512),\n",
        "                    verbose=1)"
      ],
      "execution_count": 37,
      "outputs": [
        {
          "output_type": "stream",
          "text": [
            "Epoch 1/20\n",
            "30/30 [==============================] - 3s 107ms/step - loss: 0.9331 - accuracy: 0.5117 - val_loss: 0.6734 - val_accuracy: 0.5380\n",
            "Epoch 2/20\n",
            "30/30 [==============================] - 3s 104ms/step - loss: 0.6586 - accuracy: 0.5380 - val_loss: 0.6349 - val_accuracy: 0.5719\n",
            "Epoch 3/20\n",
            "30/30 [==============================] - 3s 104ms/step - loss: 0.6155 - accuracy: 0.5996 - val_loss: 0.6019 - val_accuracy: 0.6144\n",
            "Epoch 4/20\n",
            "30/30 [==============================] - 3s 108ms/step - loss: 0.5824 - accuracy: 0.6499 - val_loss: 0.5746 - val_accuracy: 0.6564\n",
            "Epoch 5/20\n",
            "30/30 [==============================] - 3s 105ms/step - loss: 0.5510 - accuracy: 0.6889 - val_loss: 0.5486 - val_accuracy: 0.6929\n",
            "Epoch 6/20\n",
            "30/30 [==============================] - 3s 103ms/step - loss: 0.5224 - accuracy: 0.7164 - val_loss: 0.5230 - val_accuracy: 0.7248\n",
            "Epoch 7/20\n",
            "30/30 [==============================] - 3s 108ms/step - loss: 0.4918 - accuracy: 0.7501 - val_loss: 0.4961 - val_accuracy: 0.7498\n",
            "Epoch 8/20\n",
            "30/30 [==============================] - 3s 107ms/step - loss: 0.4562 - accuracy: 0.7798 - val_loss: 0.4665 - val_accuracy: 0.7673\n",
            "Epoch 9/20\n",
            "30/30 [==============================] - 3s 105ms/step - loss: 0.4233 - accuracy: 0.8051 - val_loss: 0.4359 - val_accuracy: 0.7923\n",
            "Epoch 10/20\n",
            "30/30 [==============================] - 3s 107ms/step - loss: 0.3845 - accuracy: 0.8315 - val_loss: 0.4067 - val_accuracy: 0.8061\n",
            "Epoch 11/20\n",
            "30/30 [==============================] - 3s 102ms/step - loss: 0.3510 - accuracy: 0.8499 - val_loss: 0.3813 - val_accuracy: 0.8260\n",
            "Epoch 12/20\n",
            "30/30 [==============================] - 3s 106ms/step - loss: 0.3196 - accuracy: 0.8675 - val_loss: 0.3608 - val_accuracy: 0.8396\n",
            "Epoch 13/20\n",
            "30/30 [==============================] - 3s 105ms/step - loss: 0.2921 - accuracy: 0.8808 - val_loss: 0.3442 - val_accuracy: 0.8437\n",
            "Epoch 14/20\n",
            "30/30 [==============================] - 3s 104ms/step - loss: 0.2674 - accuracy: 0.8931 - val_loss: 0.3337 - val_accuracy: 0.8578\n",
            "Epoch 15/20\n",
            "30/30 [==============================] - 3s 103ms/step - loss: 0.2470 - accuracy: 0.9020 - val_loss: 0.3228 - val_accuracy: 0.8580\n",
            "Epoch 16/20\n",
            "30/30 [==============================] - 3s 105ms/step - loss: 0.2288 - accuracy: 0.9115 - val_loss: 0.3165 - val_accuracy: 0.8554\n",
            "Epoch 17/20\n",
            "30/30 [==============================] - 3s 106ms/step - loss: 0.2113 - accuracy: 0.9194 - val_loss: 0.3112 - val_accuracy: 0.8584\n",
            "Epoch 18/20\n",
            "30/30 [==============================] - 3s 107ms/step - loss: 0.1972 - accuracy: 0.9253 - val_loss: 0.3068 - val_accuracy: 0.8622\n",
            "Epoch 19/20\n",
            "30/30 [==============================] - 3s 104ms/step - loss: 0.1858 - accuracy: 0.9309 - val_loss: 0.3058 - val_accuracy: 0.8700\n",
            "Epoch 20/20\n",
            "30/30 [==============================] - 3s 104ms/step - loss: 0.1716 - accuracy: 0.9372 - val_loss: 0.3030 - val_accuracy: 0.8686\n"
          ],
          "name": "stdout"
        }
      ]
    },
    {
      "cell_type": "markdown",
      "metadata": {
        "id": "QvuYf_lE6GWD",
        "colab_type": "text"
      },
      "source": [
        "Evaluate"
      ]
    },
    {
      "cell_type": "code",
      "metadata": {
        "id": "JAfu3bGm5-wC",
        "colab_type": "code",
        "colab": {
          "base_uri": "https://localhost:8080/",
          "height": 68
        },
        "outputId": "7d27cbae-6768-4ec6-f891-3747dbb9fff8"
      },
      "source": [
        "results = model.evaluate(test_data.batch(512), verbose=2)\n",
        "\n",
        "for name, value in zip(model.metrics_names, results):\n",
        "  print(\"%s: %.3f\" % (name, value))"
      ],
      "execution_count": 38,
      "outputs": [
        {
          "output_type": "stream",
          "text": [
            "49/49 - 3s - loss: 0.3176 - accuracy: 0.8593\n",
            "loss: 0.318\n",
            "accuracy: 0.859\n"
          ],
          "name": "stdout"
        }
      ]
    },
    {
      "cell_type": "code",
      "metadata": {
        "id": "uwB5wYn06HzU",
        "colab_type": "code",
        "colab": {}
      },
      "source": [
        ""
      ],
      "execution_count": 0,
      "outputs": []
    },
    {
      "cell_type": "code",
      "metadata": {
        "id": "LRINkwV66dyY",
        "colab_type": "code",
        "colab": {}
      },
      "source": [
        ""
      ],
      "execution_count": 0,
      "outputs": []
    },
    {
      "cell_type": "markdown",
      "metadata": {
        "id": "jtmvrUe66ghX",
        "colab_type": "text"
      },
      "source": [
        "Text classification with preprocessed text: Movie reviews"
      ]
    },
    {
      "cell_type": "code",
      "metadata": {
        "id": "_lFOf0TB6eLA",
        "colab_type": "code",
        "colab": {
          "base_uri": "https://localhost:8080/",
          "height": 367,
          "referenced_widgets": [
            "083c8816c5974bbeb35abaff3d658211",
            "91dc5e3cbb6647ae858913c52a28adad",
            "0b5caaf46bd843079c90bfd162bd49e5",
            "4004508907bc469894403e215e8c10a9",
            "6e0eab3920984d53af60aa553e661df9",
            "21a4bbc8ad484ccb8a74cfca8f07bf7c",
            "c2c29d8c571e44d584ee15382743374a",
            "0910f3d32eb34e2a9efc6ac513798156",
            "6818e88b6ee5426eabcba88d8a483c9e",
            "770b066bf466469aa5ef2e7ea4f0c03e",
            "c1675bbb948e479aa2d4dfc3ec19f98f",
            "76206d271c61451790718868ab21b32e",
            "b86951180645475cb7675ded1a5c18ef",
            "06bcea8fa6fb4c66acdf33048b98fcdc",
            "5d0fa58ccf3841898f954d7908e484cd",
            "d752912232584ed389fd49bf5120c5bd",
            "65e595970db64c56a686fff811184919",
            "d3bf007d1bc74fc7a580ec5b19836c3b",
            "2f28f9263214416f8d30afdfdfc89b23",
            "4528eb039ab6490580a193c928ee12c0",
            "2f370c64c3404702b6513716f28bb7e5",
            "1e7b75e6f2944dad9288ea815ca86845",
            "8f65c3f068494528ac803eb8b1ce099a",
            "93dffd86b6ae49c4a29f56bbcd3ea9cc",
            "665934944182442d8c34d717c235d753",
            "26228a1c974f41bab22e8f97cfaafdc5",
            "5185d2ba5be9477b87178d3305deb237",
            "e666dfb42e9c43a7920382fdbf4648ad",
            "43c0dbe103374431a4c18ca35d1bf464",
            "447e4988c6004fa4982a4cf688091ca4",
            "7939a5d84b534b129f9b927f9df22521",
            "346dd922259041a6926d52d59ca637e9",
            "87d42af2a4bb4ea4937f8c441f03b260",
            "2ad8a19cfa6a4b498e66022e1efe63c6",
            "c742d2d40e7b4e5daba86ea39c4ee22e",
            "eda27ad57542431dae374c85087f9303",
            "8308a60cca2e42f38921fad3453cc823",
            "ddda55dac0cd469cbe8548b0c69cd7fb",
            "ecf0e489b4d34cc88a3afd49627b6d97",
            "d19261eb0c144487b52f7372249fda6d",
            "ad2a8f3675b746aa80357a337fb54181",
            "dd5723417b9f4254b881bde8b3448cac",
            "eeeec1a2dfbb4ff7abad366d6507aa20",
            "04dc664f63de4f7ba173aa8e352dba05",
            "b16cc45f7d9942aaa66d442e12dd74b8",
            "59d6c91df10a49b99fbe0fdfdf4b73df",
            "f7d99502c9c543c990a54410f7a341b6",
            "286784df7e68444f8177a6f9bc38096e",
            "091c50a07efa4ca6aec20ceed71803ee",
            "97c0406ac54342e5aaab494c6613fcf6",
            "134eba5069ad481b924edef89739672f",
            "16ac912c41c44eafb7327e6462ae5a12",
            "f67868514ec64b7484ca1bb5df873321",
            "6f1b45b7107b4dca8cd1cc827b92022b",
            "566dd40052db4c94aea9543dec1236a6",
            "13ecb8f08f1743ea8922460c170d8623",
            "ddc207978bf746ccb46f1624b9feedbd",
            "24e81eb3ca68449f97c4092f79ae35cc",
            "e44a5be2b6fc4459b4884fa232ef1e48",
            "ec0145de11b741febb51278cf5160876",
            "1df994396aef448e85075b93fc99af58",
            "c5a0a1fe478e444784432a13a187ff81",
            "4483fa8edf7440e58685a2951c497aa6",
            "9d2cd9939c2c49ca848e7f81188b45ca"
          ]
        },
        "outputId": "3af04b45-6efe-4868-b63d-2838fe772019"
      },
      "source": [
        "(train_data, test_data), info = tfds.load(\n",
        "    # Use the version pre-encoded with an ~8k vocabulary.\n",
        "    'imdb_reviews/subwords8k', \n",
        "    # Return the train/test datasets as a tuple.\n",
        "    split = (tfds.Split.TRAIN, tfds.Split.TEST),\n",
        "    # Return (example, label) pairs from the dataset (instead of a dictionary).\n",
        "    as_supervised=True,\n",
        "    # Also return the `info` structure. \n",
        "    with_info=True)"
      ],
      "execution_count": 39,
      "outputs": [
        {
          "output_type": "stream",
          "text": [
            "WARNING:absl:TFDS datasets with text encoding are deprecated and will be removed in a future version. Instead, you should use the plain text version and tokenize the text using `tensorflow_text` (See: https://www.tensorflow.org/tutorials/tensorflow_text/intro#tfdata_example)\n"
          ],
          "name": "stderr"
        },
        {
          "output_type": "stream",
          "text": [
            "\u001b[1mDownloading and preparing dataset imdb_reviews/subwords8k/1.0.0 (download: 80.23 MiB, generated: Unknown size, total: 80.23 MiB) to /root/tensorflow_datasets/imdb_reviews/subwords8k/1.0.0...\u001b[0m\n"
          ],
          "name": "stdout"
        },
        {
          "output_type": "display_data",
          "data": {
            "application/vnd.jupyter.widget-view+json": {
              "model_id": "083c8816c5974bbeb35abaff3d658211",
              "version_minor": 0,
              "version_major": 2
            },
            "text/plain": [
              "HBox(children=(IntProgress(value=1, bar_style='info', description='Dl Completed...', max=1, style=ProgressStyl…"
            ]
          },
          "metadata": {
            "tags": []
          }
        },
        {
          "output_type": "display_data",
          "data": {
            "application/vnd.jupyter.widget-view+json": {
              "model_id": "6818e88b6ee5426eabcba88d8a483c9e",
              "version_minor": 0,
              "version_major": 2
            },
            "text/plain": [
              "HBox(children=(IntProgress(value=1, bar_style='info', description='Dl Size...', max=1, style=ProgressStyle(des…"
            ]
          },
          "metadata": {
            "tags": []
          }
        },
        {
          "output_type": "stream",
          "text": [
            "\n",
            "\n",
            "\n",
            "\n"
          ],
          "name": "stdout"
        },
        {
          "output_type": "display_data",
          "data": {
            "application/vnd.jupyter.widget-view+json": {
              "model_id": "65e595970db64c56a686fff811184919",
              "version_minor": 0,
              "version_major": 2
            },
            "text/plain": [
              "HBox(children=(IntProgress(value=1, bar_style='info', max=1), HTML(value='')))"
            ]
          },
          "metadata": {
            "tags": []
          }
        },
        {
          "output_type": "stream",
          "text": [
            "\rShuffling and writing examples to /root/tensorflow_datasets/imdb_reviews/subwords8k/1.0.0.incomplete4APDBE/imdb_reviews-train.tfrecord\n"
          ],
          "name": "stdout"
        },
        {
          "output_type": "display_data",
          "data": {
            "application/vnd.jupyter.widget-view+json": {
              "model_id": "665934944182442d8c34d717c235d753",
              "version_minor": 0,
              "version_major": 2
            },
            "text/plain": [
              "HBox(children=(IntProgress(value=0, max=25000), HTML(value='')))"
            ]
          },
          "metadata": {
            "tags": []
          }
        },
        {
          "output_type": "stream",
          "text": [
            "\r"
          ],
          "name": "stdout"
        },
        {
          "output_type": "display_data",
          "data": {
            "application/vnd.jupyter.widget-view+json": {
              "model_id": "87d42af2a4bb4ea4937f8c441f03b260",
              "version_minor": 0,
              "version_major": 2
            },
            "text/plain": [
              "HBox(children=(IntProgress(value=1, bar_style='info', max=1), HTML(value='')))"
            ]
          },
          "metadata": {
            "tags": []
          }
        },
        {
          "output_type": "stream",
          "text": [
            "\rShuffling and writing examples to /root/tensorflow_datasets/imdb_reviews/subwords8k/1.0.0.incomplete4APDBE/imdb_reviews-test.tfrecord\n"
          ],
          "name": "stdout"
        },
        {
          "output_type": "display_data",
          "data": {
            "application/vnd.jupyter.widget-view+json": {
              "model_id": "ad2a8f3675b746aa80357a337fb54181",
              "version_minor": 0,
              "version_major": 2
            },
            "text/plain": [
              "HBox(children=(IntProgress(value=0, max=25000), HTML(value='')))"
            ]
          },
          "metadata": {
            "tags": []
          }
        },
        {
          "output_type": "stream",
          "text": [
            "\r"
          ],
          "name": "stdout"
        },
        {
          "output_type": "display_data",
          "data": {
            "application/vnd.jupyter.widget-view+json": {
              "model_id": "091c50a07efa4ca6aec20ceed71803ee",
              "version_minor": 0,
              "version_major": 2
            },
            "text/plain": [
              "HBox(children=(IntProgress(value=1, bar_style='info', max=1), HTML(value='')))"
            ]
          },
          "metadata": {
            "tags": []
          }
        },
        {
          "output_type": "stream",
          "text": [
            "\rShuffling and writing examples to /root/tensorflow_datasets/imdb_reviews/subwords8k/1.0.0.incomplete4APDBE/imdb_reviews-unsupervised.tfrecord\n"
          ],
          "name": "stdout"
        },
        {
          "output_type": "display_data",
          "data": {
            "application/vnd.jupyter.widget-view+json": {
              "model_id": "ddc207978bf746ccb46f1624b9feedbd",
              "version_minor": 0,
              "version_major": 2
            },
            "text/plain": [
              "HBox(children=(IntProgress(value=0, max=50000), HTML(value='')))"
            ]
          },
          "metadata": {
            "tags": []
          }
        },
        {
          "output_type": "stream",
          "text": [
            "\u001b[1mDataset imdb_reviews downloaded and prepared to /root/tensorflow_datasets/imdb_reviews/subwords8k/1.0.0. Subsequent calls will reuse this data.\u001b[0m\n",
            "\r"
          ],
          "name": "stdout"
        }
      ]
    },
    {
      "cell_type": "markdown",
      "metadata": {
        "id": "9hZWGHUz6qC4",
        "colab_type": "text"
      },
      "source": [
        "Encoding"
      ]
    },
    {
      "cell_type": "code",
      "metadata": {
        "id": "te4udMp76lRl",
        "colab_type": "code",
        "colab": {}
      },
      "source": [
        "encoder = info.features['text'].encoder"
      ],
      "execution_count": 0,
      "outputs": []
    },
    {
      "cell_type": "code",
      "metadata": {
        "id": "wOdzLcW96tiR",
        "colab_type": "code",
        "colab": {
          "base_uri": "https://localhost:8080/",
          "height": 34
        },
        "outputId": "d185772e-bd56-45fe-d526-e1eadf153a37"
      },
      "source": [
        "print ('Vocabulary size: {}'.format(encoder.vocab_size))"
      ],
      "execution_count": 41,
      "outputs": [
        {
          "output_type": "stream",
          "text": [
            "Vocabulary size: 8185\n"
          ],
          "name": "stdout"
        }
      ]
    },
    {
      "cell_type": "code",
      "metadata": {
        "id": "mzqFlGXT7G5G",
        "colab_type": "code",
        "colab": {
          "base_uri": "https://localhost:8080/",
          "height": 51
        },
        "outputId": "9612680c-3e22-48e3-a300-fe71a122ef06"
      },
      "source": [
        "sample_string = 'Hello TensorFlow.'\n",
        "\n",
        "encoded_string = encoder.encode(sample_string)\n",
        "print ('Encoded string is {}'.format(encoded_string))\n",
        "\n",
        "original_string = encoder.decode(encoded_string)\n",
        "print ('The original string: \"{}\"'.format(original_string))\n",
        "\n",
        "assert original_string == sample_string"
      ],
      "execution_count": 42,
      "outputs": [
        {
          "output_type": "stream",
          "text": [
            "Encoded string is [4025, 222, 6307, 2327, 4043, 2120, 7975]\n",
            "The original string: \"Hello TensorFlow.\"\n"
          ],
          "name": "stdout"
        }
      ]
    },
    {
      "cell_type": "code",
      "metadata": {
        "id": "BdH69V4-7JpQ",
        "colab_type": "code",
        "colab": {
          "base_uri": "https://localhost:8080/",
          "height": 136
        },
        "outputId": "43119a05-3ba9-4b7b-8461-791aa703cc0e"
      },
      "source": [
        "for ts in encoded_string:\n",
        "  print ('{} ----> {}'.format(ts, encoder.decode([ts])))"
      ],
      "execution_count": 43,
      "outputs": [
        {
          "output_type": "stream",
          "text": [
            "4025 ----> Hell\n",
            "222 ----> o \n",
            "6307 ----> Ten\n",
            "2327 ----> sor\n",
            "4043 ----> Fl\n",
            "2120 ----> ow\n",
            "7975 ----> .\n"
          ],
          "name": "stdout"
        }
      ]
    },
    {
      "cell_type": "markdown",
      "metadata": {
        "id": "lpYnAL0l7ORD",
        "colab_type": "text"
      },
      "source": [
        "Explore the data"
      ]
    },
    {
      "cell_type": "code",
      "metadata": {
        "id": "N16dLCL67MBo",
        "colab_type": "code",
        "colab": {
          "base_uri": "https://localhost:8080/",
          "height": 51
        },
        "outputId": "d41e6df0-bd29-42ee-d896-6a986fc5818b"
      },
      "source": [
        "for train_example, train_label in train_data.take(1):\n",
        "  print('Encoded text:', train_example[:10].numpy())\n",
        "  print('Label:', train_label.numpy())"
      ],
      "execution_count": 44,
      "outputs": [
        {
          "output_type": "stream",
          "text": [
            "Encoded text: [  62   18   41  604  927   65    3  644 7968   21]\n",
            "Label: 0\n"
          ],
          "name": "stdout"
        }
      ]
    },
    {
      "cell_type": "code",
      "metadata": {
        "id": "zTZBdUkH7QYR",
        "colab_type": "code",
        "colab": {
          "base_uri": "https://localhost:8080/",
          "height": 54
        },
        "outputId": "06a80357-d073-42e3-d250-4c1e69596410"
      },
      "source": [
        "encoder.decode(train_example)"
      ],
      "execution_count": 45,
      "outputs": [
        {
          "output_type": "execute_result",
          "data": {
            "text/plain": [
              "\"This was an absolutely terrible movie. Don't be lured in by Christopher Walken or Michael Ironside. Both are great actors, but this must simply be their worst role in history. Even their great acting could not redeem this movie's ridiculous storyline. This movie is an early nineties US propaganda piece. The most pathetic scenes were those when the Columbian rebels were making their cases for revolutions. Maria Conchita Alonso appeared phony, and her pseudo-love affair with Walken was nothing but a pathetic emotional plug in a movie that was devoid of any real meaning. I am disappointed that there are movies like this, ruining actor's like Christopher Walken's good name. I could barely sit through it.\""
            ]
          },
          "metadata": {
            "tags": []
          },
          "execution_count": 45
        }
      ]
    },
    {
      "cell_type": "markdown",
      "metadata": {
        "id": "vGocmDZi7VH1",
        "colab_type": "text"
      },
      "source": [
        "Prepare the data for training"
      ]
    },
    {
      "cell_type": "code",
      "metadata": {
        "id": "f_5ZMwa27SWx",
        "colab_type": "code",
        "colab": {}
      },
      "source": [
        "BUFFER_SIZE = 1000\n",
        "\n",
        "train_batches = (\n",
        "    train_data\n",
        "    .shuffle(BUFFER_SIZE)\n",
        "    .padded_batch(32, padded_shapes=([None],[])))\n",
        "\n",
        "test_batches = (\n",
        "    test_data\n",
        "    .padded_batch(32, padded_shapes=([None],[])))"
      ],
      "execution_count": 0,
      "outputs": []
    },
    {
      "cell_type": "code",
      "metadata": {
        "id": "tHQjvP8P7XDC",
        "colab_type": "code",
        "colab": {}
      },
      "source": [
        "train_batches = (\n",
        "    train_data\n",
        "    .shuffle(BUFFER_SIZE)\n",
        "    .padded_batch(32))\n",
        "\n",
        "test_batches = (\n",
        "    test_data\n",
        "    .padded_batch(32))"
      ],
      "execution_count": 0,
      "outputs": []
    },
    {
      "cell_type": "code",
      "metadata": {
        "id": "VxRacFaM7YwZ",
        "colab_type": "code",
        "colab": {
          "base_uri": "https://localhost:8080/",
          "height": 85
        },
        "outputId": "edb64b23-df07-411b-8921-1a6e58d19b24"
      },
      "source": [
        "for example_batch, label_batch in train_batches.take(2):\n",
        "  print(\"Batch shape:\", example_batch.shape)\n",
        "  print(\"label shape:\", label_batch.shape)\n",
        "  "
      ],
      "execution_count": 48,
      "outputs": [
        {
          "output_type": "stream",
          "text": [
            "Batch shape: (32, 875)\n",
            "label shape: (32,)\n",
            "Batch shape: (32, 1357)\n",
            "label shape: (32,)\n"
          ],
          "name": "stdout"
        }
      ]
    },
    {
      "cell_type": "markdown",
      "metadata": {
        "id": "Z0_agXOB7cr8",
        "colab_type": "text"
      },
      "source": [
        "Build the model"
      ]
    },
    {
      "cell_type": "code",
      "metadata": {
        "id": "xsSoEycU7aqp",
        "colab_type": "code",
        "colab": {
          "base_uri": "https://localhost:8080/",
          "height": 255
        },
        "outputId": "a977950c-dd5a-4cce-ec86-863d0797ea29"
      },
      "source": [
        "model = keras.Sequential([\n",
        "  keras.layers.Embedding(encoder.vocab_size, 16),\n",
        "  keras.layers.GlobalAveragePooling1D(),\n",
        "  keras.layers.Dense(1)])\n",
        "\n",
        "model.summary()"
      ],
      "execution_count": 49,
      "outputs": [
        {
          "output_type": "stream",
          "text": [
            "Model: \"sequential_3\"\n",
            "_________________________________________________________________\n",
            "Layer (type)                 Output Shape              Param #   \n",
            "=================================================================\n",
            "embedding (Embedding)        (None, None, 16)          130960    \n",
            "_________________________________________________________________\n",
            "global_average_pooling1d (Gl (None, 16)                0         \n",
            "_________________________________________________________________\n",
            "dense_4 (Dense)              (None, 1)                 17        \n",
            "=================================================================\n",
            "Total params: 130,977\n",
            "Trainable params: 130,977\n",
            "Non-trainable params: 0\n",
            "_________________________________________________________________\n"
          ],
          "name": "stdout"
        }
      ]
    },
    {
      "cell_type": "markdown",
      "metadata": {
        "id": "hfLFHTBG7iEI",
        "colab_type": "text"
      },
      "source": [
        "Loss function and optimizer"
      ]
    },
    {
      "cell_type": "code",
      "metadata": {
        "id": "W_IafpsS7fJ6",
        "colab_type": "code",
        "colab": {}
      },
      "source": [
        "model.compile(optimizer='adam',\n",
        "              loss=tf.losses.BinaryCrossentropy(from_logits=True),\n",
        "              metrics=['accuracy'])"
      ],
      "execution_count": 0,
      "outputs": []
    },
    {
      "cell_type": "markdown",
      "metadata": {
        "id": "drR2E8Iu7mGg",
        "colab_type": "text"
      },
      "source": [
        "Train model"
      ]
    },
    {
      "cell_type": "code",
      "metadata": {
        "id": "bAIQ871z7kLB",
        "colab_type": "code",
        "colab": {
          "base_uri": "https://localhost:8080/",
          "height": 357
        },
        "outputId": "9b94054f-d11e-4789-e577-fccf0aeba524"
      },
      "source": [
        "history = model.fit(train_batches,\n",
        "                    epochs=10,\n",
        "                    validation_data=test_batches,\n",
        "                    validation_steps=30)"
      ],
      "execution_count": 51,
      "outputs": [
        {
          "output_type": "stream",
          "text": [
            "Epoch 1/10\n",
            "782/782 [==============================] - 8s 10ms/step - loss: 0.6823 - accuracy: 0.5003 - val_loss: 0.6645 - val_accuracy: 0.5042\n",
            "Epoch 2/10\n",
            "782/782 [==============================] - 8s 10ms/step - loss: 0.6213 - accuracy: 0.5508 - val_loss: 0.5948 - val_accuracy: 0.5781\n",
            "Epoch 3/10\n",
            "782/782 [==============================] - 8s 10ms/step - loss: 0.5403 - accuracy: 0.6664 - val_loss: 0.5314 - val_accuracy: 0.7135\n",
            "Epoch 4/10\n",
            "782/782 [==============================] - 8s 10ms/step - loss: 0.4747 - accuracy: 0.7496 - val_loss: 0.4823 - val_accuracy: 0.7854\n",
            "Epoch 5/10\n",
            "782/782 [==============================] - 8s 10ms/step - loss: 0.4201 - accuracy: 0.8050 - val_loss: 0.4440 - val_accuracy: 0.7917\n",
            "Epoch 6/10\n",
            "782/782 [==============================] - 8s 11ms/step - loss: 0.3798 - accuracy: 0.8337 - val_loss: 0.4168 - val_accuracy: 0.8208\n",
            "Epoch 7/10\n",
            "782/782 [==============================] - 8s 10ms/step - loss: 0.3492 - accuracy: 0.8543 - val_loss: 0.3961 - val_accuracy: 0.8427\n",
            "Epoch 8/10\n",
            "782/782 [==============================] - 8s 10ms/step - loss: 0.3235 - accuracy: 0.8683 - val_loss: 0.3811 - val_accuracy: 0.8438\n",
            "Epoch 9/10\n",
            "782/782 [==============================] - 8s 10ms/step - loss: 0.3031 - accuracy: 0.8784 - val_loss: 0.3744 - val_accuracy: 0.8313\n",
            "Epoch 10/10\n",
            "782/782 [==============================] - 8s 10ms/step - loss: 0.2860 - accuracy: 0.8863 - val_loss: 0.3621 - val_accuracy: 0.8635\n"
          ],
          "name": "stdout"
        }
      ]
    },
    {
      "cell_type": "markdown",
      "metadata": {
        "id": "uNP_Ls4E77Z_",
        "colab_type": "text"
      },
      "source": [
        "Evaluate the model"
      ]
    },
    {
      "cell_type": "code",
      "metadata": {
        "id": "muWamqhG7oNL",
        "colab_type": "code",
        "colab": {
          "base_uri": "https://localhost:8080/",
          "height": 68
        },
        "outputId": "f8ace55b-3219-4ba6-decd-367d7d2d43a8"
      },
      "source": [
        "loss, accuracy = model.evaluate(test_batches)\n",
        "\n",
        "print(\"Loss: \", loss)\n",
        "print(\"Accuracy: \", accuracy)"
      ],
      "execution_count": 52,
      "outputs": [
        {
          "output_type": "stream",
          "text": [
            "782/782 [==============================] - 4s 5ms/step - loss: 0.3322 - accuracy: 0.8665\n",
            "Loss:  0.33222696185112\n",
            "Accuracy:  0.8665199875831604\n"
          ],
          "name": "stdout"
        }
      ]
    },
    {
      "cell_type": "markdown",
      "metadata": {
        "id": "eiMACfEw7_oe",
        "colab_type": "text"
      },
      "source": [
        "Create a graph of accuracy and loss over time"
      ]
    },
    {
      "cell_type": "code",
      "metadata": {
        "id": "HqIvOX1y79Mz",
        "colab_type": "code",
        "colab": {
          "base_uri": "https://localhost:8080/",
          "height": 34
        },
        "outputId": "bd7ef319-c5ee-49a4-d7ac-9aa6461b99fe"
      },
      "source": [
        "history_dict = history.history\n",
        "history_dict.keys()"
      ],
      "execution_count": 53,
      "outputs": [
        {
          "output_type": "execute_result",
          "data": {
            "text/plain": [
              "dict_keys(['loss', 'accuracy', 'val_loss', 'val_accuracy'])"
            ]
          },
          "metadata": {
            "tags": []
          },
          "execution_count": 53
        }
      ]
    },
    {
      "cell_type": "code",
      "metadata": {
        "id": "oqbaAVbo8Bak",
        "colab_type": "code",
        "colab": {
          "base_uri": "https://localhost:8080/",
          "height": 295
        },
        "outputId": "a36e73c0-1f7d-4e38-a726-643da9cb4781"
      },
      "source": [
        "import matplotlib.pyplot as plt\n",
        "\n",
        "acc = history_dict['accuracy']\n",
        "val_acc = history_dict['val_accuracy']\n",
        "loss = history_dict['loss']\n",
        "val_loss = history_dict['val_loss']\n",
        "\n",
        "epochs = range(1, len(acc) + 1)\n",
        "\n",
        "# \"bo\" is for \"blue dot\"\n",
        "plt.plot(epochs, loss, 'bo', label='Training loss')\n",
        "# b is for \"solid blue line\"\n",
        "plt.plot(epochs, val_loss, 'b', label='Validation loss')\n",
        "plt.title('Training and validation loss')\n",
        "plt.xlabel('Epochs')\n",
        "plt.ylabel('Loss')\n",
        "plt.legend()\n",
        "\n",
        "plt.show()"
      ],
      "execution_count": 54,
      "outputs": [
        {
          "output_type": "display_data",
          "data": {
            "image/png": "[encoded data removed]",
            "text/plain": [
              "<Figure size 432x288 with 1 Axes>"
            ]
          },
          "metadata": {
            "tags": [],
            "needs_background": "light"
          }
        }
      ]
    },
    {
      "cell_type": "code",
      "metadata": {
        "id": "Uo2kYsNx8EFu",
        "colab_type": "code",
        "colab": {
          "base_uri": "https://localhost:8080/",
          "height": 295
        },
        "outputId": "2d7b70af-b844-4c36-d48e-581b98c71370"
      },
      "source": [
        "plt.clf()   # clear figure\n",
        "\n",
        "plt.plot(epochs, acc, 'bo', label='Training acc')\n",
        "plt.plot(epochs, val_acc, 'b', label='Validation acc')\n",
        "plt.title('Training and validation accuracy')\n",
        "plt.xlabel('Epochs')\n",
        "plt.ylabel('Accuracy')\n",
        "plt.legend(loc='lower right')\n",
        "\n",
        "plt.show()"
      ],
      "execution_count": 55,
      "outputs": [
        {
          "output_type": "display_data",
          "data": {
            "image/png": "[encoded data removed]",
            "text/plain": [
              "<Figure size 432x288 with 1 Axes>"
            ]
          },
          "metadata": {
            "tags": [],
            "needs_background": "light"
          }
        }
      ]
    },
    {
      "cell_type": "code",
      "metadata": {
        "id": "kDk63QF68GJ0",
        "colab_type": "code",
        "colab": {}
      },
      "source": [
        ""
      ],
      "execution_count": 0,
      "outputs": []
    },
    {
      "cell_type": "code",
      "metadata": {
        "id": "F98b8kpq8M0P",
        "colab_type": "code",
        "colab": {}
      },
      "source": [
        ""
      ],
      "execution_count": 0,
      "outputs": []
    },
    {
      "cell_type": "markdown",
      "metadata": {
        "id": "gkx-4FYW8NUv",
        "colab_type": "text"
      },
      "source": [
        "##Basic regression: Predict Credit Risk\n"
      ]
    },
    {
      "cell_type": "code",
      "metadata": {
        "id": "wQb60cSo8Q6-",
        "colab_type": "code",
        "colab": {
          "base_uri": "https://localhost:8080/",
          "height": 34
        },
        "outputId": "e9ff3895-f59c-4f47-a441-dcc36fa608a6"
      },
      "source": [
        "# Use seaborn for pairplot\n",
        "!pip install -q seaborn\n",
        "\n",
        "# Use some functions from tensorflow_docs\n",
        "!pip install -q git+https://github.com/tensorflow/docs"
      ],
      "execution_count": 56,
      "outputs": [
        {
          "output_type": "stream",
          "text": [
            "  Building wheel for tensorflow-docs (setup.py) ... \u001b[?25l\u001b[?25hdone\n"
          ],
          "name": "stdout"
        }
      ]
    },
    {
      "cell_type": "code",
      "metadata": {
        "id": "lCrO3WBQ8S5-",
        "colab_type": "code",
        "colab": {
          "base_uri": "https://localhost:8080/",
          "height": 71
        },
        "outputId": "6e115be0-f038-4f68-9ca0-881ec253625c"
      },
      "source": [
        "import pathlib\n",
        "\n",
        "import matplotlib.pyplot as plt\n",
        "import numpy as np\n",
        "import pandas as pd\n",
        "import seaborn as sns"
      ],
      "execution_count": 57,
      "outputs": [
        {
          "output_type": "stream",
          "text": [
            "/usr/local/lib/python3.6/dist-packages/statsmodels/tools/_testing.py:19: FutureWarning: pandas.util.testing is deprecated. Use the functions in the public API at pandas.testing instead.\n",
            "  import pandas.util.testing as tm\n"
          ],
          "name": "stderr"
        }
      ]
    },
    {
      "cell_type": "code",
      "metadata": {
        "id": "Fuc6gf5f8Xla",
        "colab_type": "code",
        "colab": {
          "base_uri": "https://localhost:8080/",
          "height": 34
        },
        "outputId": "f973cd3f-bb04-4ef9-ac59-0faa42b4ae21"
      },
      "source": [
        "import tensorflow as tf\n",
        "\n",
        "from tensorflow import keras\n",
        "from tensorflow.keras import layers\n",
        "\n",
        "print(tf.__version__)"
      ],
      "execution_count": 58,
      "outputs": [
        {
          "output_type": "stream",
          "text": [
            "2.2.0-rc3\n"
          ],
          "name": "stdout"
        }
      ]
    },
    {
      "cell_type": "code",
      "metadata": {
        "id": "CaRGt-oC8Zqq",
        "colab_type": "code",
        "colab": {}
      },
      "source": [
        "import tensorflow_docs as tfdocs\n",
        "import tensorflow_docs.plots\n",
        "import tensorflow_docs.modeling"
      ],
      "execution_count": 0,
      "outputs": []
    },
    {
      "cell_type": "markdown",
      "metadata": {
        "id": "B6BGS7bo8pQJ",
        "colab_type": "text"
      },
      "source": [
        "##German Dataset"
      ]
    },
    {
      "cell_type": "code",
      "metadata": {
        "id": "5X0uyBv18bws",
        "colab_type": "code",
        "colab": {
          "base_uri": "https://localhost:8080/",
          "height": 68
        },
        "outputId": "bf1b4c83-e956-4895-ba71-bbe712514083"
      },
      "source": [
        "dataset_path = keras.utils.get_file(\"german.data-numeric\", \"http://archive.ics.uci.edu/ml/machine-learning-databases/statlog/german/german.data-numeric\")\n",
        "dataset_path"
      ],
      "execution_count": 60,
      "outputs": [
        {
          "output_type": "stream",
          "text": [
            "Downloading data from http://archive.ics.uci.edu/ml/machine-learning-databases/statlog/german/german.data-numeric\n",
            "106496/102000 [===============================] - 0s 1us/step\n"
          ],
          "name": "stdout"
        },
        {
          "output_type": "execute_result",
          "data": {
            "text/plain": [
              "'/root/.keras/datasets/german.data-numeric'"
            ]
          },
          "metadata": {
            "tags": []
          },
          "execution_count": 60
        }
      ]
    },
    {
      "cell_type": "code",
      "metadata": {
        "id": "x3sth0AA8__d",
        "colab_type": "code",
        "colab": {}
      },
      "source": [
        "column_names = [\n",
        "'checking_account',\n",
        "'duration',\n",
        "'credit_history',\n",
        "'credit_amount',\n",
        "'saving_account',\n",
        "'present_emp_since',\n",
        "'personal_status',\n",
        "'residence_since',\n",
        "'property',\n",
        "'age',\n",
        "'inst_plans',\n",
        "'num_credits',\n",
        "'dependents',\n",
        "'telephone',\n",
        "'foreign_worker',\n",
        "'new_car',\n",
        "'used_car',\n",
        "'Debtors_None',\n",
        "'Debtors_CoApplicant',\n",
        "'Rent_hose',\n",
        "'Own_Hose',\n",
        "'Unemployed_And_Unskilled_Non_res',\n",
        "'Unskilled_resident',\n",
        "'skilled_official',\n",
        "'status'\n",
        "]\n",
        "raw_dataset = pd.read_csv('http://archive.ics.uci.edu/ml/machine-learning-databases/statlog/german/german.data-numeric',delim_whitespace=True,header=None)\n",
        "raw_dataset.columns=column_names\n",
        "dataset = raw_dataset.copy()\n"
      ],
      "execution_count": 0,
      "outputs": []
    },
    {
      "cell_type": "code",
      "metadata": {
        "id": "VHhYjH_e9FU0",
        "colab_type": "code",
        "colab": {
          "base_uri": "https://localhost:8080/",
          "height": 224
        },
        "outputId": "9ed825be-1b80-44b2-c1a6-2f8ec7fe7ec4"
      },
      "source": [
        "dataset.head()"
      ],
      "execution_count": 62,
      "outputs": [
        {
          "output_type": "execute_result",
          "data": {
            "text/html": [
              "<div>\n",
              "<style scoped>\n",
              "    .dataframe tbody tr th:only-of-type {\n",
              "        vertical-align: middle;\n",
              "    }\n",
              "\n",
              "    .dataframe tbody tr th {\n",
              "        vertical-align: top;\n",
              "    }\n",
              "\n",
              "    .dataframe thead th {\n",
              "        text-align: right;\n",
              "    }\n",
              "</style>\n",
              "<table border=\"1\" class=\"dataframe\">\n",
              "  <thead>\n",
              "    <tr style=\"text-align: right;\">\n",
              "      <th></th>\n",
              "      <th>checking_account</th>\n",
              "      <th>duration</th>\n",
              "      <th>credit_history</th>\n",
              "      <th>credit_amount</th>\n",
              "      <th>saving_account</th>\n",
              "      <th>present_emp_since</th>\n",
              "      <th>personal_status</th>\n",
              "      <th>residence_since</th>\n",
              "      <th>property</th>\n",
              "      <th>age</th>\n",
              "      <th>inst_plans</th>\n",
              "      <th>num_credits</th>\n",
              "      <th>dependents</th>\n",
              "      <th>telephone</th>\n",
              "      <th>foreign_worker</th>\n",
              "      <th>new_car</th>\n",
              "      <th>used_car</th>\n",
              "      <th>Debtors_None</th>\n",
              "      <th>Debtors_CoApplicant</th>\n",
              "      <th>Rent_hose</th>\n",
              "      <th>Own_Hose</th>\n",
              "      <th>Unemployed_And_Unskilled_Non_res</th>\n",
              "      <th>Unskilled_resident</th>\n",
              "      <th>skilled_official</th>\n",
              "      <th>status</th>\n",
              "    </tr>\n",
              "  </thead>\n",
              "  <tbody>\n",
              "    <tr>\n",
              "      <th>0</th>\n",
              "      <td>1</td>\n",
              "      <td>6</td>\n",
              "      <td>4</td>\n",
              "      <td>12</td>\n",
              "      <td>5</td>\n",
              "      <td>5</td>\n",
              "      <td>3</td>\n",
              "      <td>4</td>\n",
              "      <td>1</td>\n",
              "      <td>67</td>\n",
              "      <td>3</td>\n",
              "      <td>2</td>\n",
              "      <td>1</td>\n",
              "      <td>2</td>\n",
              "      <td>1</td>\n",
              "      <td>0</td>\n",
              "      <td>0</td>\n",
              "      <td>1</td>\n",
              "      <td>0</td>\n",
              "      <td>0</td>\n",
              "      <td>1</td>\n",
              "      <td>0</td>\n",
              "      <td>0</td>\n",
              "      <td>1</td>\n",
              "      <td>1</td>\n",
              "    </tr>\n",
              "    <tr>\n",
              "      <th>1</th>\n",
              "      <td>2</td>\n",
              "      <td>48</td>\n",
              "      <td>2</td>\n",
              "      <td>60</td>\n",
              "      <td>1</td>\n",
              "      <td>3</td>\n",
              "      <td>2</td>\n",
              "      <td>2</td>\n",
              "      <td>1</td>\n",
              "      <td>22</td>\n",
              "      <td>3</td>\n",
              "      <td>1</td>\n",
              "      <td>1</td>\n",
              "      <td>1</td>\n",
              "      <td>1</td>\n",
              "      <td>0</td>\n",
              "      <td>0</td>\n",
              "      <td>1</td>\n",
              "      <td>0</td>\n",
              "      <td>0</td>\n",
              "      <td>1</td>\n",
              "      <td>0</td>\n",
              "      <td>0</td>\n",
              "      <td>1</td>\n",
              "      <td>2</td>\n",
              "    </tr>\n",
              "    <tr>\n",
              "      <th>2</th>\n",
              "      <td>4</td>\n",
              "      <td>12</td>\n",
              "      <td>4</td>\n",
              "      <td>21</td>\n",
              "      <td>1</td>\n",
              "      <td>4</td>\n",
              "      <td>3</td>\n",
              "      <td>3</td>\n",
              "      <td>1</td>\n",
              "      <td>49</td>\n",
              "      <td>3</td>\n",
              "      <td>1</td>\n",
              "      <td>2</td>\n",
              "      <td>1</td>\n",
              "      <td>1</td>\n",
              "      <td>0</td>\n",
              "      <td>0</td>\n",
              "      <td>1</td>\n",
              "      <td>0</td>\n",
              "      <td>0</td>\n",
              "      <td>1</td>\n",
              "      <td>0</td>\n",
              "      <td>1</td>\n",
              "      <td>0</td>\n",
              "      <td>1</td>\n",
              "    </tr>\n",
              "    <tr>\n",
              "      <th>3</th>\n",
              "      <td>1</td>\n",
              "      <td>42</td>\n",
              "      <td>2</td>\n",
              "      <td>79</td>\n",
              "      <td>1</td>\n",
              "      <td>4</td>\n",
              "      <td>3</td>\n",
              "      <td>4</td>\n",
              "      <td>2</td>\n",
              "      <td>45</td>\n",
              "      <td>3</td>\n",
              "      <td>1</td>\n",
              "      <td>2</td>\n",
              "      <td>1</td>\n",
              "      <td>1</td>\n",
              "      <td>0</td>\n",
              "      <td>0</td>\n",
              "      <td>0</td>\n",
              "      <td>0</td>\n",
              "      <td>0</td>\n",
              "      <td>0</td>\n",
              "      <td>0</td>\n",
              "      <td>0</td>\n",
              "      <td>1</td>\n",
              "      <td>1</td>\n",
              "    </tr>\n",
              "    <tr>\n",
              "      <th>4</th>\n",
              "      <td>1</td>\n",
              "      <td>24</td>\n",
              "      <td>3</td>\n",
              "      <td>49</td>\n",
              "      <td>1</td>\n",
              "      <td>3</td>\n",
              "      <td>3</td>\n",
              "      <td>4</td>\n",
              "      <td>4</td>\n",
              "      <td>53</td>\n",
              "      <td>3</td>\n",
              "      <td>2</td>\n",
              "      <td>2</td>\n",
              "      <td>1</td>\n",
              "      <td>1</td>\n",
              "      <td>1</td>\n",
              "      <td>0</td>\n",
              "      <td>1</td>\n",
              "      <td>0</td>\n",
              "      <td>0</td>\n",
              "      <td>0</td>\n",
              "      <td>0</td>\n",
              "      <td>0</td>\n",
              "      <td>1</td>\n",
              "      <td>2</td>\n",
              "    </tr>\n",
              "  </tbody>\n",
              "</table>\n",
              "</div>"
            ],
            "text/plain": [
              "   checking_account  duration  ...  skilled_official  status\n",
              "0                 1         6  ...                 1       1\n",
              "1                 2        48  ...                 1       2\n",
              "2                 4        12  ...                 0       1\n",
              "3                 1        42  ...                 1       1\n",
              "4                 1        24  ...                 1       2\n",
              "\n",
              "[5 rows x 25 columns]"
            ]
          },
          "metadata": {
            "tags": []
          },
          "execution_count": 62
        }
      ]
    },
    {
      "cell_type": "code",
      "metadata": {
        "id": "8ecA8gVSEKZI",
        "colab_type": "code",
        "colab": {
          "base_uri": "https://localhost:8080/",
          "height": 224
        },
        "outputId": "df829339-9b0c-48b6-dc1b-48e6af24a0cc"
      },
      "source": [
        "dataset.tail()"
      ],
      "execution_count": 63,
      "outputs": [
        {
          "output_type": "execute_result",
          "data": {
            "text/html": [
              "<div>\n",
              "<style scoped>\n",
              "    .dataframe tbody tr th:only-of-type {\n",
              "        vertical-align: middle;\n",
              "    }\n",
              "\n",
              "    .dataframe tbody tr th {\n",
              "        vertical-align: top;\n",
              "    }\n",
              "\n",
              "    .dataframe thead th {\n",
              "        text-align: right;\n",
              "    }\n",
              "</style>\n",
              "<table border=\"1\" class=\"dataframe\">\n",
              "  <thead>\n",
              "    <tr style=\"text-align: right;\">\n",
              "      <th></th>\n",
              "      <th>checking_account</th>\n",
              "      <th>duration</th>\n",
              "      <th>credit_history</th>\n",
              "      <th>credit_amount</th>\n",
              "      <th>saving_account</th>\n",
              "      <th>present_emp_since</th>\n",
              "      <th>personal_status</th>\n",
              "      <th>residence_since</th>\n",
              "      <th>property</th>\n",
              "      <th>age</th>\n",
              "      <th>inst_plans</th>\n",
              "      <th>num_credits</th>\n",
              "      <th>dependents</th>\n",
              "      <th>telephone</th>\n",
              "      <th>foreign_worker</th>\n",
              "      <th>new_car</th>\n",
              "      <th>used_car</th>\n",
              "      <th>Debtors_None</th>\n",
              "      <th>Debtors_CoApplicant</th>\n",
              "      <th>Rent_hose</th>\n",
              "      <th>Own_Hose</th>\n",
              "      <th>Unemployed_And_Unskilled_Non_res</th>\n",
              "      <th>Unskilled_resident</th>\n",
              "      <th>skilled_official</th>\n",
              "      <th>status</th>\n",
              "    </tr>\n",
              "  </thead>\n",
              "  <tbody>\n",
              "    <tr>\n",
              "      <th>995</th>\n",
              "      <td>4</td>\n",
              "      <td>12</td>\n",
              "      <td>2</td>\n",
              "      <td>17</td>\n",
              "      <td>1</td>\n",
              "      <td>4</td>\n",
              "      <td>2</td>\n",
              "      <td>4</td>\n",
              "      <td>1</td>\n",
              "      <td>31</td>\n",
              "      <td>3</td>\n",
              "      <td>1</td>\n",
              "      <td>1</td>\n",
              "      <td>1</td>\n",
              "      <td>1</td>\n",
              "      <td>0</td>\n",
              "      <td>0</td>\n",
              "      <td>1</td>\n",
              "      <td>0</td>\n",
              "      <td>0</td>\n",
              "      <td>1</td>\n",
              "      <td>0</td>\n",
              "      <td>1</td>\n",
              "      <td>0</td>\n",
              "      <td>1</td>\n",
              "    </tr>\n",
              "    <tr>\n",
              "      <th>996</th>\n",
              "      <td>1</td>\n",
              "      <td>30</td>\n",
              "      <td>2</td>\n",
              "      <td>39</td>\n",
              "      <td>1</td>\n",
              "      <td>3</td>\n",
              "      <td>1</td>\n",
              "      <td>4</td>\n",
              "      <td>2</td>\n",
              "      <td>40</td>\n",
              "      <td>3</td>\n",
              "      <td>1</td>\n",
              "      <td>1</td>\n",
              "      <td>2</td>\n",
              "      <td>1</td>\n",
              "      <td>0</td>\n",
              "      <td>1</td>\n",
              "      <td>1</td>\n",
              "      <td>0</td>\n",
              "      <td>0</td>\n",
              "      <td>1</td>\n",
              "      <td>0</td>\n",
              "      <td>0</td>\n",
              "      <td>0</td>\n",
              "      <td>1</td>\n",
              "    </tr>\n",
              "    <tr>\n",
              "      <th>997</th>\n",
              "      <td>4</td>\n",
              "      <td>12</td>\n",
              "      <td>2</td>\n",
              "      <td>8</td>\n",
              "      <td>1</td>\n",
              "      <td>5</td>\n",
              "      <td>3</td>\n",
              "      <td>4</td>\n",
              "      <td>3</td>\n",
              "      <td>38</td>\n",
              "      <td>3</td>\n",
              "      <td>1</td>\n",
              "      <td>1</td>\n",
              "      <td>1</td>\n",
              "      <td>1</td>\n",
              "      <td>0</td>\n",
              "      <td>0</td>\n",
              "      <td>1</td>\n",
              "      <td>0</td>\n",
              "      <td>0</td>\n",
              "      <td>1</td>\n",
              "      <td>0</td>\n",
              "      <td>0</td>\n",
              "      <td>1</td>\n",
              "      <td>1</td>\n",
              "    </tr>\n",
              "    <tr>\n",
              "      <th>998</th>\n",
              "      <td>1</td>\n",
              "      <td>45</td>\n",
              "      <td>2</td>\n",
              "      <td>18</td>\n",
              "      <td>1</td>\n",
              "      <td>3</td>\n",
              "      <td>3</td>\n",
              "      <td>4</td>\n",
              "      <td>4</td>\n",
              "      <td>23</td>\n",
              "      <td>3</td>\n",
              "      <td>1</td>\n",
              "      <td>1</td>\n",
              "      <td>2</td>\n",
              "      <td>1</td>\n",
              "      <td>0</td>\n",
              "      <td>0</td>\n",
              "      <td>1</td>\n",
              "      <td>0</td>\n",
              "      <td>0</td>\n",
              "      <td>0</td>\n",
              "      <td>0</td>\n",
              "      <td>0</td>\n",
              "      <td>1</td>\n",
              "      <td>2</td>\n",
              "    </tr>\n",
              "    <tr>\n",
              "      <th>999</th>\n",
              "      <td>2</td>\n",
              "      <td>45</td>\n",
              "      <td>4</td>\n",
              "      <td>46</td>\n",
              "      <td>2</td>\n",
              "      <td>1</td>\n",
              "      <td>3</td>\n",
              "      <td>4</td>\n",
              "      <td>3</td>\n",
              "      <td>27</td>\n",
              "      <td>3</td>\n",
              "      <td>1</td>\n",
              "      <td>1</td>\n",
              "      <td>1</td>\n",
              "      <td>1</td>\n",
              "      <td>0</td>\n",
              "      <td>1</td>\n",
              "      <td>1</td>\n",
              "      <td>0</td>\n",
              "      <td>0</td>\n",
              "      <td>1</td>\n",
              "      <td>0</td>\n",
              "      <td>0</td>\n",
              "      <td>1</td>\n",
              "      <td>1</td>\n",
              "    </tr>\n",
              "  </tbody>\n",
              "</table>\n",
              "</div>"
            ],
            "text/plain": [
              "     checking_account  duration  ...  skilled_official  status\n",
              "995                 4        12  ...                 0       1\n",
              "996                 1        30  ...                 0       1\n",
              "997                 4        12  ...                 1       1\n",
              "998                 1        45  ...                 1       2\n",
              "999                 2        45  ...                 1       1\n",
              "\n",
              "[5 rows x 25 columns]"
            ]
          },
          "metadata": {
            "tags": []
          },
          "execution_count": 63
        }
      ]
    },
    {
      "cell_type": "markdown",
      "metadata": {
        "id": "invisRdQ-asf",
        "colab_type": "text"
      },
      "source": [
        "##Preprocessing"
      ]
    },
    {
      "cell_type": "markdown",
      "metadata": {
        "id": "XNA0RvyL-eWA",
        "colab_type": "text"
      },
      "source": [
        "Check null values"
      ]
    },
    {
      "cell_type": "code",
      "metadata": {
        "id": "IHLZ-3QH-XNg",
        "colab_type": "code",
        "colab": {
          "base_uri": "https://localhost:8080/",
          "height": 459
        },
        "outputId": "5275fb15-c802-475a-8bac-a4fdb731bbcf"
      },
      "source": [
        "dataset.isna().sum()"
      ],
      "execution_count": 64,
      "outputs": [
        {
          "output_type": "execute_result",
          "data": {
            "text/plain": [
              "checking_account                    0\n",
              "duration                            0\n",
              "credit_history                      0\n",
              "credit_amount                       0\n",
              "saving_account                      0\n",
              "present_emp_since                   0\n",
              "personal_status                     0\n",
              "residence_since                     0\n",
              "property                            0\n",
              "age                                 0\n",
              "inst_plans                          0\n",
              "num_credits                         0\n",
              "dependents                          0\n",
              "telephone                           0\n",
              "foreign_worker                      0\n",
              "new_car                             0\n",
              "used_car                            0\n",
              "Debtors_None                        0\n",
              "Debtors_CoApplicant                 0\n",
              "Rent_hose                           0\n",
              "Own_Hose                            0\n",
              "Unemployed_And_Unskilled_Non_res    0\n",
              "Unskilled_resident                  0\n",
              "skilled_official                    0\n",
              "status                              0\n",
              "dtype: int64"
            ]
          },
          "metadata": {
            "tags": []
          },
          "execution_count": 64
        }
      ]
    },
    {
      "cell_type": "code",
      "metadata": {
        "id": "QvON6HJpENC-",
        "colab_type": "code",
        "colab": {}
      },
      "source": [
        "dataset = dataset.dropna()"
      ],
      "execution_count": 0,
      "outputs": []
    },
    {
      "cell_type": "markdown",
      "metadata": {
        "id": "H8lyI9uP-n6S",
        "colab_type": "text"
      },
      "source": [
        "Train Test Split"
      ]
    },
    {
      "cell_type": "code",
      "metadata": {
        "id": "xfNqyrQZ-dlX",
        "colab_type": "code",
        "colab": {}
      },
      "source": [
        "train_dataset = dataset.sample(frac=0.8,random_state=0)\n",
        "test_dataset = dataset.drop(train_dataset.index)"
      ],
      "execution_count": 0,
      "outputs": []
    },
    {
      "cell_type": "code",
      "metadata": {
        "id": "CTIyEaQZEgms",
        "colab_type": "code",
        "colab": {
          "base_uri": "https://localhost:8080/",
          "height": 944
        },
        "outputId": "badfdf10-dca1-480d-cd98-59651e630f67"
      },
      "source": [
        "sns.pairplot(train_dataset[['checking_account',\n",
        "'duration',\n",
        "'credit_history',\n",
        "'credit_amount',\n",
        "'saving_account']])"
      ],
      "execution_count": 67,
      "outputs": [
        {
          "output_type": "execute_result",
          "data": {
            "text/plain": [
              "<seaborn.axisgrid.PairGrid at 0x7f4dc18ca940>"
            ]
          },
          "metadata": {
            "tags": []
          },
          "execution_count": 67
        },
        {
          "output_type": "display_data",
          "data": {
            "image/png": "[encoded data removed]",
            "text/plain": [
              "<Figure size 900x900 with 30 Axes>"
            ]
          },
          "metadata": {
            "tags": [],
            "needs_background": "light"
          }
        }
      ]
    },
    {
      "cell_type": "code",
      "metadata": {
        "id": "k8unrG_a-peR",
        "colab_type": "code",
        "colab": {
          "base_uri": "https://localhost:8080/",
          "height": 824
        },
        "outputId": "92a10333-2c50-43d5-e0e3-5b38b7614520"
      },
      "source": [
        "train_stats = train_dataset.describe()\n",
        "train_stats = train_stats.transpose()\n",
        "train_stats"
      ],
      "execution_count": 68,
      "outputs": [
        {
          "output_type": "execute_result",
          "data": {
            "text/html": [
              "<div>\n",
              "<style scoped>\n",
              "    .dataframe tbody tr th:only-of-type {\n",
              "        vertical-align: middle;\n",
              "    }\n",
              "\n",
              "    .dataframe tbody tr th {\n",
              "        vertical-align: top;\n",
              "    }\n",
              "\n",
              "    .dataframe thead th {\n",
              "        text-align: right;\n",
              "    }\n",
              "</style>\n",
              "<table border=\"1\" class=\"dataframe\">\n",
              "  <thead>\n",
              "    <tr style=\"text-align: right;\">\n",
              "      <th></th>\n",
              "      <th>count</th>\n",
              "      <th>mean</th>\n",
              "      <th>std</th>\n",
              "      <th>min</th>\n",
              "      <th>25%</th>\n",
              "      <th>50%</th>\n",
              "      <th>75%</th>\n",
              "      <th>max</th>\n",
              "    </tr>\n",
              "  </thead>\n",
              "  <tbody>\n",
              "    <tr>\n",
              "      <th>checking_account</th>\n",
              "      <td>800.0</td>\n",
              "      <td>2.59125</td>\n",
              "      <td>1.269326</td>\n",
              "      <td>1.0</td>\n",
              "      <td>1.0</td>\n",
              "      <td>2.0</td>\n",
              "      <td>4.0</td>\n",
              "      <td>4.0</td>\n",
              "    </tr>\n",
              "    <tr>\n",
              "      <th>duration</th>\n",
              "      <td>800.0</td>\n",
              "      <td>21.01250</td>\n",
              "      <td>11.927916</td>\n",
              "      <td>4.0</td>\n",
              "      <td>12.0</td>\n",
              "      <td>18.0</td>\n",
              "      <td>24.0</td>\n",
              "      <td>60.0</td>\n",
              "    </tr>\n",
              "    <tr>\n",
              "      <th>credit_history</th>\n",
              "      <td>800.0</td>\n",
              "      <td>2.52000</td>\n",
              "      <td>1.090223</td>\n",
              "      <td>0.0</td>\n",
              "      <td>2.0</td>\n",
              "      <td>2.0</td>\n",
              "      <td>4.0</td>\n",
              "      <td>4.0</td>\n",
              "    </tr>\n",
              "    <tr>\n",
              "      <th>credit_amount</th>\n",
              "      <td>800.0</td>\n",
              "      <td>32.15250</td>\n",
              "      <td>27.722417</td>\n",
              "      <td>2.0</td>\n",
              "      <td>14.0</td>\n",
              "      <td>23.0</td>\n",
              "      <td>39.0</td>\n",
              "      <td>184.0</td>\n",
              "    </tr>\n",
              "    <tr>\n",
              "      <th>saving_account</th>\n",
              "      <td>800.0</td>\n",
              "      <td>2.12625</td>\n",
              "      <td>1.596401</td>\n",
              "      <td>1.0</td>\n",
              "      <td>1.0</td>\n",
              "      <td>1.0</td>\n",
              "      <td>3.0</td>\n",
              "      <td>5.0</td>\n",
              "    </tr>\n",
              "    <tr>\n",
              "      <th>present_emp_since</th>\n",
              "      <td>800.0</td>\n",
              "      <td>3.37000</td>\n",
              "      <td>1.215503</td>\n",
              "      <td>1.0</td>\n",
              "      <td>3.0</td>\n",
              "      <td>3.0</td>\n",
              "      <td>5.0</td>\n",
              "      <td>5.0</td>\n",
              "    </tr>\n",
              "    <tr>\n",
              "      <th>personal_status</th>\n",
              "      <td>800.0</td>\n",
              "      <td>2.69125</td>\n",
              "      <td>0.706433</td>\n",
              "      <td>1.0</td>\n",
              "      <td>2.0</td>\n",
              "      <td>3.0</td>\n",
              "      <td>3.0</td>\n",
              "      <td>4.0</td>\n",
              "    </tr>\n",
              "    <tr>\n",
              "      <th>residence_since</th>\n",
              "      <td>800.0</td>\n",
              "      <td>2.83375</td>\n",
              "      <td>1.109121</td>\n",
              "      <td>1.0</td>\n",
              "      <td>2.0</td>\n",
              "      <td>3.0</td>\n",
              "      <td>4.0</td>\n",
              "      <td>4.0</td>\n",
              "    </tr>\n",
              "    <tr>\n",
              "      <th>property</th>\n",
              "      <td>800.0</td>\n",
              "      <td>2.38000</td>\n",
              "      <td>1.046168</td>\n",
              "      <td>1.0</td>\n",
              "      <td>1.0</td>\n",
              "      <td>2.0</td>\n",
              "      <td>3.0</td>\n",
              "      <td>4.0</td>\n",
              "    </tr>\n",
              "    <tr>\n",
              "      <th>age</th>\n",
              "      <td>800.0</td>\n",
              "      <td>35.36500</td>\n",
              "      <td>11.104657</td>\n",
              "      <td>19.0</td>\n",
              "      <td>27.0</td>\n",
              "      <td>33.0</td>\n",
              "      <td>42.0</td>\n",
              "      <td>75.0</td>\n",
              "    </tr>\n",
              "    <tr>\n",
              "      <th>inst_plans</th>\n",
              "      <td>800.0</td>\n",
              "      <td>2.65875</td>\n",
              "      <td>0.719685</td>\n",
              "      <td>1.0</td>\n",
              "      <td>3.0</td>\n",
              "      <td>3.0</td>\n",
              "      <td>3.0</td>\n",
              "      <td>3.0</td>\n",
              "    </tr>\n",
              "    <tr>\n",
              "      <th>num_credits</th>\n",
              "      <td>800.0</td>\n",
              "      <td>1.40375</td>\n",
              "      <td>0.581944</td>\n",
              "      <td>1.0</td>\n",
              "      <td>1.0</td>\n",
              "      <td>1.0</td>\n",
              "      <td>2.0</td>\n",
              "      <td>4.0</td>\n",
              "    </tr>\n",
              "    <tr>\n",
              "      <th>dependents</th>\n",
              "      <td>800.0</td>\n",
              "      <td>1.15375</td>\n",
              "      <td>0.360935</td>\n",
              "      <td>1.0</td>\n",
              "      <td>1.0</td>\n",
              "      <td>1.0</td>\n",
              "      <td>1.0</td>\n",
              "      <td>2.0</td>\n",
              "    </tr>\n",
              "    <tr>\n",
              "      <th>telephone</th>\n",
              "      <td>800.0</td>\n",
              "      <td>1.41250</td>\n",
              "      <td>0.492592</td>\n",
              "      <td>1.0</td>\n",
              "      <td>1.0</td>\n",
              "      <td>1.0</td>\n",
              "      <td>2.0</td>\n",
              "      <td>2.0</td>\n",
              "    </tr>\n",
              "    <tr>\n",
              "      <th>foreign_worker</th>\n",
              "      <td>800.0</td>\n",
              "      <td>1.03250</td>\n",
              "      <td>0.177435</td>\n",
              "      <td>1.0</td>\n",
              "      <td>1.0</td>\n",
              "      <td>1.0</td>\n",
              "      <td>1.0</td>\n",
              "      <td>2.0</td>\n",
              "    </tr>\n",
              "    <tr>\n",
              "      <th>new_car</th>\n",
              "      <td>800.0</td>\n",
              "      <td>0.23000</td>\n",
              "      <td>0.421096</td>\n",
              "      <td>0.0</td>\n",
              "      <td>0.0</td>\n",
              "      <td>0.0</td>\n",
              "      <td>0.0</td>\n",
              "      <td>1.0</td>\n",
              "    </tr>\n",
              "    <tr>\n",
              "      <th>used_car</th>\n",
              "      <td>800.0</td>\n",
              "      <td>0.09750</td>\n",
              "      <td>0.296823</td>\n",
              "      <td>0.0</td>\n",
              "      <td>0.0</td>\n",
              "      <td>0.0</td>\n",
              "      <td>0.0</td>\n",
              "      <td>1.0</td>\n",
              "    </tr>\n",
              "    <tr>\n",
              "      <th>Debtors_None</th>\n",
              "      <td>800.0</td>\n",
              "      <td>0.90125</td>\n",
              "      <td>0.298513</td>\n",
              "      <td>0.0</td>\n",
              "      <td>1.0</td>\n",
              "      <td>1.0</td>\n",
              "      <td>1.0</td>\n",
              "      <td>1.0</td>\n",
              "    </tr>\n",
              "    <tr>\n",
              "      <th>Debtors_CoApplicant</th>\n",
              "      <td>800.0</td>\n",
              "      <td>0.04375</td>\n",
              "      <td>0.204666</td>\n",
              "      <td>0.0</td>\n",
              "      <td>0.0</td>\n",
              "      <td>0.0</td>\n",
              "      <td>0.0</td>\n",
              "      <td>1.0</td>\n",
              "    </tr>\n",
              "    <tr>\n",
              "      <th>Rent_hose</th>\n",
              "      <td>800.0</td>\n",
              "      <td>0.18125</td>\n",
              "      <td>0.385466</td>\n",
              "      <td>0.0</td>\n",
              "      <td>0.0</td>\n",
              "      <td>0.0</td>\n",
              "      <td>0.0</td>\n",
              "      <td>1.0</td>\n",
              "    </tr>\n",
              "    <tr>\n",
              "      <th>Own_Hose</th>\n",
              "      <td>800.0</td>\n",
              "      <td>0.70750</td>\n",
              "      <td>0.455195</td>\n",
              "      <td>0.0</td>\n",
              "      <td>0.0</td>\n",
              "      <td>1.0</td>\n",
              "      <td>1.0</td>\n",
              "      <td>1.0</td>\n",
              "    </tr>\n",
              "    <tr>\n",
              "      <th>Unemployed_And_Unskilled_Non_res</th>\n",
              "      <td>800.0</td>\n",
              "      <td>0.02125</td>\n",
              "      <td>0.144307</td>\n",
              "      <td>0.0</td>\n",
              "      <td>0.0</td>\n",
              "      <td>0.0</td>\n",
              "      <td>0.0</td>\n",
              "      <td>1.0</td>\n",
              "    </tr>\n",
              "    <tr>\n",
              "      <th>Unskilled_resident</th>\n",
              "      <td>800.0</td>\n",
              "      <td>0.20500</td>\n",
              "      <td>0.403954</td>\n",
              "      <td>0.0</td>\n",
              "      <td>0.0</td>\n",
              "      <td>0.0</td>\n",
              "      <td>0.0</td>\n",
              "      <td>1.0</td>\n",
              "    </tr>\n",
              "    <tr>\n",
              "      <th>skilled_official</th>\n",
              "      <td>800.0</td>\n",
              "      <td>0.62875</td>\n",
              "      <td>0.483441</td>\n",
              "      <td>0.0</td>\n",
              "      <td>0.0</td>\n",
              "      <td>1.0</td>\n",
              "      <td>1.0</td>\n",
              "      <td>1.0</td>\n",
              "    </tr>\n",
              "    <tr>\n",
              "      <th>status</th>\n",
              "      <td>800.0</td>\n",
              "      <td>1.29625</td>\n",
              "      <td>0.456888</td>\n",
              "      <td>1.0</td>\n",
              "      <td>1.0</td>\n",
              "      <td>1.0</td>\n",
              "      <td>2.0</td>\n",
              "      <td>2.0</td>\n",
              "    </tr>\n",
              "  </tbody>\n",
              "</table>\n",
              "</div>"
            ],
            "text/plain": [
              "                                  count      mean        std  ...   50%   75%    max\n",
              "checking_account                  800.0   2.59125   1.269326  ...   2.0   4.0    4.0\n",
              "duration                          800.0  21.01250  11.927916  ...  18.0  24.0   60.0\n",
              "credit_history                    800.0   2.52000   1.090223  ...   2.0   4.0    4.0\n",
              "credit_amount                     800.0  32.15250  27.722417  ...  23.0  39.0  184.0\n",
              "saving_account                    800.0   2.12625   1.596401  ...   1.0   3.0    5.0\n",
              "present_emp_since                 800.0   3.37000   1.215503  ...   3.0   5.0    5.0\n",
              "personal_status                   800.0   2.69125   0.706433  ...   3.0   3.0    4.0\n",
              "residence_since                   800.0   2.83375   1.109121  ...   3.0   4.0    4.0\n",
              "property                          800.0   2.38000   1.046168  ...   2.0   3.0    4.0\n",
              "age                               800.0  35.36500  11.104657  ...  33.0  42.0   75.0\n",
              "inst_plans                        800.0   2.65875   0.719685  ...   3.0   3.0    3.0\n",
              "num_credits                       800.0   1.40375   0.581944  ...   1.0   2.0    4.0\n",
              "dependents                        800.0   1.15375   0.360935  ...   1.0   1.0    2.0\n",
              "telephone                         800.0   1.41250   0.492592  ...   1.0   2.0    2.0\n",
              "foreign_worker                    800.0   1.03250   0.177435  ...   1.0   1.0    2.0\n",
              "new_car                           800.0   0.23000   0.421096  ...   0.0   0.0    1.0\n",
              "used_car                          800.0   0.09750   0.296823  ...   0.0   0.0    1.0\n",
              "Debtors_None                      800.0   0.90125   0.298513  ...   1.0   1.0    1.0\n",
              "Debtors_CoApplicant               800.0   0.04375   0.204666  ...   0.0   0.0    1.0\n",
              "Rent_hose                         800.0   0.18125   0.385466  ...   0.0   0.0    1.0\n",
              "Own_Hose                          800.0   0.70750   0.455195  ...   1.0   1.0    1.0\n",
              "Unemployed_And_Unskilled_Non_res  800.0   0.02125   0.144307  ...   0.0   0.0    1.0\n",
              "Unskilled_resident                800.0   0.20500   0.403954  ...   0.0   0.0    1.0\n",
              "skilled_official                  800.0   0.62875   0.483441  ...   1.0   1.0    1.0\n",
              "status                            800.0   1.29625   0.456888  ...   1.0   2.0    2.0\n",
              "\n",
              "[25 rows x 8 columns]"
            ]
          },
          "metadata": {
            "tags": []
          },
          "execution_count": 68
        }
      ]
    },
    {
      "cell_type": "markdown",
      "metadata": {
        "id": "6-e8fukv-1RW",
        "colab_type": "text"
      },
      "source": [
        "Split features from labels"
      ]
    },
    {
      "cell_type": "code",
      "metadata": {
        "id": "3gNMELua-wM5",
        "colab_type": "code",
        "colab": {}
      },
      "source": [
        "train_labels = train_dataset.pop('status')\n",
        "test_labels = test_dataset.pop('status')"
      ],
      "execution_count": 0,
      "outputs": []
    },
    {
      "cell_type": "markdown",
      "metadata": {
        "id": "29JoD62Q--EZ",
        "colab_type": "text"
      },
      "source": [
        "Normalization"
      ]
    },
    {
      "cell_type": "code",
      "metadata": {
        "id": "rqDvz4pF-8Lr",
        "colab_type": "code",
        "colab": {}
      },
      "source": [
        "def norm(x):\n",
        "  return (x - train_stats['mean']) / train_stats['std']\n",
        "normed_train_data = norm(train_dataset)\n",
        "normed_test_data = norm(test_dataset)"
      ],
      "execution_count": 0,
      "outputs": []
    },
    {
      "cell_type": "code",
      "metadata": {
        "id": "P9jgDnmJGm0K",
        "colab_type": "code",
        "colab": {
          "base_uri": "https://localhost:8080/",
          "height": 34
        },
        "outputId": "57626fb7-425f-4fba-ece2-cbb6ff2b4260"
      },
      "source": [
        "normed_train_data.shape"
      ],
      "execution_count": 71,
      "outputs": [
        {
          "output_type": "execute_result",
          "data": {
            "text/plain": [
              "(800, 25)"
            ]
          },
          "metadata": {
            "tags": []
          },
          "execution_count": 71
        }
      ]
    },
    {
      "cell_type": "code",
      "metadata": {
        "id": "cas83CoYGoqY",
        "colab_type": "code",
        "colab": {
          "base_uri": "https://localhost:8080/",
          "height": 34
        },
        "outputId": "787c8542-741c-4030-aca0-89f9665529b6"
      },
      "source": [
        "normed_test_data.shape"
      ],
      "execution_count": 72,
      "outputs": [
        {
          "output_type": "execute_result",
          "data": {
            "text/plain": [
              "(200, 25)"
            ]
          },
          "metadata": {
            "tags": []
          },
          "execution_count": 72
        }
      ]
    },
    {
      "cell_type": "markdown",
      "metadata": {
        "id": "wMQJ6F-w_BuU",
        "colab_type": "text"
      },
      "source": [
        "Build Model"
      ]
    },
    {
      "cell_type": "code",
      "metadata": {
        "id": "leoknexnDayf",
        "colab_type": "code",
        "colab": {
          "base_uri": "https://localhost:8080/",
          "height": 34
        },
        "outputId": "257e211c-bb4e-4551-a77f-f48141b7eb2d"
      },
      "source": [
        "len(train_dataset.keys())"
      ],
      "execution_count": 73,
      "outputs": [
        {
          "output_type": "execute_result",
          "data": {
            "text/plain": [
              "24"
            ]
          },
          "metadata": {
            "tags": []
          },
          "execution_count": 73
        }
      ]
    },
    {
      "cell_type": "code",
      "metadata": {
        "id": "IFfI9SZ5-_l7",
        "colab_type": "code",
        "colab": {}
      },
      "source": [
        "def build_model():\n",
        "  model = keras.Sequential([\n",
        "    layers.Dense(64, activation='relu', input_shape=[len(train_dataset.keys())]),\n",
        "    layers.Dense(64, activation='relu'),\n",
        "    layers.Dense(1)\n",
        "  ])\n",
        "\n",
        "  optimizer = tf.keras.optimizers.RMSprop(0.001)\n",
        "\n",
        "  model.compile(loss='mse',\n",
        "                optimizer=optimizer,\n",
        "                metrics=['mae', 'mse'])\n",
        "  return model"
      ],
      "execution_count": 0,
      "outputs": []
    },
    {
      "cell_type": "code",
      "metadata": {
        "id": "n_YUtpqq_DoG",
        "colab_type": "code",
        "colab": {}
      },
      "source": [
        "model = build_model()"
      ],
      "execution_count": 0,
      "outputs": []
    },
    {
      "cell_type": "code",
      "metadata": {
        "id": "EgetvICB_FTE",
        "colab_type": "code",
        "colab": {
          "base_uri": "https://localhost:8080/",
          "height": 255
        },
        "outputId": "98a194ad-e5ff-4e37-f011-bb889709c28d"
      },
      "source": [
        "model.summary()"
      ],
      "execution_count": 76,
      "outputs": [
        {
          "output_type": "stream",
          "text": [
            "Model: \"sequential_4\"\n",
            "_________________________________________________________________\n",
            "Layer (type)                 Output Shape              Param #   \n",
            "=================================================================\n",
            "dense_5 (Dense)              (None, 64)                1600      \n",
            "_________________________________________________________________\n",
            "dense_6 (Dense)              (None, 64)                4160      \n",
            "_________________________________________________________________\n",
            "dense_7 (Dense)              (None, 1)                 65        \n",
            "=================================================================\n",
            "Total params: 5,825\n",
            "Trainable params: 5,825\n",
            "Non-trainable params: 0\n",
            "_________________________________________________________________\n"
          ],
          "name": "stdout"
        }
      ]
    },
    {
      "cell_type": "markdown",
      "metadata": {
        "id": "GuAUcEgb_JQ7",
        "colab_type": "text"
      },
      "source": [
        "Predict"
      ]
    },
    {
      "cell_type": "code",
      "metadata": {
        "id": "2U_uNMrwHrP_",
        "colab_type": "code",
        "colab": {
          "base_uri": "https://localhost:8080/",
          "height": 221
        },
        "outputId": "051a43a2-48de-47af-b077-828461973391"
      },
      "source": [
        "normed_train_data.pop('status')"
      ],
      "execution_count": 77,
      "outputs": [
        {
          "output_type": "execute_result",
          "data": {
            "text/plain": [
              "993   NaN\n",
              "859   NaN\n",
              "298   NaN\n",
              "553   NaN\n",
              "672   NaN\n",
              "       ..\n",
              "117   NaN\n",
              "464   NaN\n",
              "25    NaN\n",
              "110   NaN\n",
              "149   NaN\n",
              "Name: status, Length: 800, dtype: float64"
            ]
          },
          "metadata": {
            "tags": []
          },
          "execution_count": 77
        }
      ]
    },
    {
      "cell_type": "code",
      "metadata": {
        "id": "yEfNQIg2H1QZ",
        "colab_type": "code",
        "colab": {
          "base_uri": "https://localhost:8080/",
          "height": 221
        },
        "outputId": "453b3e18-a482-4fa9-d50a-9866013469a0"
      },
      "source": [
        "normed_test_data.pop('status')"
      ],
      "execution_count": 78,
      "outputs": [
        {
          "output_type": "execute_result",
          "data": {
            "text/plain": [
              "9     NaN\n",
              "11    NaN\n",
              "19    NaN\n",
              "23    NaN\n",
              "28    NaN\n",
              "       ..\n",
              "962   NaN\n",
              "966   NaN\n",
              "976   NaN\n",
              "980   NaN\n",
              "983   NaN\n",
              "Name: status, Length: 200, dtype: float64"
            ]
          },
          "metadata": {
            "tags": []
          },
          "execution_count": 78
        }
      ]
    },
    {
      "cell_type": "code",
      "metadata": {
        "id": "j_lSddrRHGOc",
        "colab_type": "code",
        "colab": {
          "base_uri": "https://localhost:8080/",
          "height": 379
        },
        "outputId": "4504bfe9-9287-482c-da23-8d0b7c5dff35"
      },
      "source": [
        "normed_train_data[:10]"
      ],
      "execution_count": 79,
      "outputs": [
        {
          "output_type": "execute_result",
          "data": {
            "text/html": [
              "<div>\n",
              "<style scoped>\n",
              "    .dataframe tbody tr th:only-of-type {\n",
              "        vertical-align: middle;\n",
              "    }\n",
              "\n",
              "    .dataframe tbody tr th {\n",
              "        vertical-align: top;\n",
              "    }\n",
              "\n",
              "    .dataframe thead th {\n",
              "        text-align: right;\n",
              "    }\n",
              "</style>\n",
              "<table border=\"1\" class=\"dataframe\">\n",
              "  <thead>\n",
              "    <tr style=\"text-align: right;\">\n",
              "      <th></th>\n",
              "      <th>Debtors_CoApplicant</th>\n",
              "      <th>Debtors_None</th>\n",
              "      <th>Own_Hose</th>\n",
              "      <th>Rent_hose</th>\n",
              "      <th>Unemployed_And_Unskilled_Non_res</th>\n",
              "      <th>Unskilled_resident</th>\n",
              "      <th>age</th>\n",
              "      <th>checking_account</th>\n",
              "      <th>credit_amount</th>\n",
              "      <th>credit_history</th>\n",
              "      <th>dependents</th>\n",
              "      <th>duration</th>\n",
              "      <th>foreign_worker</th>\n",
              "      <th>inst_plans</th>\n",
              "      <th>new_car</th>\n",
              "      <th>num_credits</th>\n",
              "      <th>personal_status</th>\n",
              "      <th>present_emp_since</th>\n",
              "      <th>property</th>\n",
              "      <th>residence_since</th>\n",
              "      <th>saving_account</th>\n",
              "      <th>skilled_official</th>\n",
              "      <th>telephone</th>\n",
              "      <th>used_car</th>\n",
              "    </tr>\n",
              "  </thead>\n",
              "  <tbody>\n",
              "    <tr>\n",
              "      <th>993</th>\n",
              "      <td>-0.213763</td>\n",
              "      <td>0.330807</td>\n",
              "      <td>0.642581</td>\n",
              "      <td>-0.470210</td>\n",
              "      <td>-0.147256</td>\n",
              "      <td>-0.507483</td>\n",
              "      <td>-0.483131</td>\n",
              "      <td>-1.253618</td>\n",
              "      <td>0.283074</td>\n",
              "      <td>-0.476967</td>\n",
              "      <td>-0.425977</td>\n",
              "      <td>1.256506</td>\n",
              "      <td>-0.183166</td>\n",
              "      <td>0.474166</td>\n",
              "      <td>-0.546194</td>\n",
              "      <td>-0.693795</td>\n",
              "      <td>0.437055</td>\n",
              "      <td>-1.949811</td>\n",
              "      <td>-0.363230</td>\n",
              "      <td>0.149894</td>\n",
              "      <td>-0.705493</td>\n",
              "      <td>-1.300571</td>\n",
              "      <td>1.192670</td>\n",
              "      <td>-0.328479</td>\n",
              "    </tr>\n",
              "    <tr>\n",
              "      <th>859</th>\n",
              "      <td>-0.213763</td>\n",
              "      <td>-3.019135</td>\n",
              "      <td>-1.554278</td>\n",
              "      <td>2.124052</td>\n",
              "      <td>-0.147256</td>\n",
              "      <td>-0.507483</td>\n",
              "      <td>-0.843340</td>\n",
              "      <td>1.109841</td>\n",
              "      <td>0.138787</td>\n",
              "      <td>-0.476967</td>\n",
              "      <td>2.344608</td>\n",
              "      <td>-1.007091</td>\n",
              "      <td>5.452708</td>\n",
              "      <td>0.474166</td>\n",
              "      <td>1.828563</td>\n",
              "      <td>-0.693795</td>\n",
              "      <td>0.437055</td>\n",
              "      <td>-0.304401</td>\n",
              "      <td>-1.319099</td>\n",
              "      <td>-0.751722</td>\n",
              "      <td>-0.079084</td>\n",
              "      <td>0.767932</td>\n",
              "      <td>-0.837407</td>\n",
              "      <td>-0.328479</td>\n",
              "    </tr>\n",
              "    <tr>\n",
              "      <th>298</th>\n",
              "      <td>-0.213763</td>\n",
              "      <td>0.330807</td>\n",
              "      <td>0.642581</td>\n",
              "      <td>-0.470210</td>\n",
              "      <td>-0.147256</td>\n",
              "      <td>-0.507483</td>\n",
              "      <td>0.687549</td>\n",
              "      <td>1.109841</td>\n",
              "      <td>-0.258004</td>\n",
              "      <td>-0.476967</td>\n",
              "      <td>-0.425977</td>\n",
              "      <td>-0.252559</td>\n",
              "      <td>-0.183166</td>\n",
              "      <td>0.474166</td>\n",
              "      <td>-0.546194</td>\n",
              "      <td>-0.693795</td>\n",
              "      <td>0.437055</td>\n",
              "      <td>-0.304401</td>\n",
              "      <td>-1.319099</td>\n",
              "      <td>1.051509</td>\n",
              "      <td>-0.705493</td>\n",
              "      <td>0.767932</td>\n",
              "      <td>1.192670</td>\n",
              "      <td>-0.328479</td>\n",
              "    </tr>\n",
              "    <tr>\n",
              "      <th>553</th>\n",
              "      <td>-0.213763</td>\n",
              "      <td>0.330807</td>\n",
              "      <td>0.642581</td>\n",
              "      <td>-0.470210</td>\n",
              "      <td>-0.147256</td>\n",
              "      <td>-0.507483</td>\n",
              "      <td>-0.753288</td>\n",
              "      <td>-0.465799</td>\n",
              "      <td>-0.438364</td>\n",
              "      <td>1.357521</td>\n",
              "      <td>-0.425977</td>\n",
              "      <td>-0.755580</td>\n",
              "      <td>-0.183166</td>\n",
              "      <td>0.474166</td>\n",
              "      <td>1.828563</td>\n",
              "      <td>-0.693795</td>\n",
              "      <td>0.437055</td>\n",
              "      <td>-1.127106</td>\n",
              "      <td>0.592639</td>\n",
              "      <td>-1.653337</td>\n",
              "      <td>-0.079084</td>\n",
              "      <td>0.767932</td>\n",
              "      <td>-0.837407</td>\n",
              "      <td>-0.328479</td>\n",
              "    </tr>\n",
              "    <tr>\n",
              "      <th>672</th>\n",
              "      <td>-0.213763</td>\n",
              "      <td>0.330807</td>\n",
              "      <td>0.642581</td>\n",
              "      <td>-0.470210</td>\n",
              "      <td>-0.147256</td>\n",
              "      <td>-0.507483</td>\n",
              "      <td>0.597497</td>\n",
              "      <td>1.109841</td>\n",
              "      <td>2.591675</td>\n",
              "      <td>-0.476967</td>\n",
              "      <td>-0.425977</td>\n",
              "      <td>3.268593</td>\n",
              "      <td>-0.183166</td>\n",
              "      <td>0.474166</td>\n",
              "      <td>1.828563</td>\n",
              "      <td>-0.693795</td>\n",
              "      <td>0.437055</td>\n",
              "      <td>1.341009</td>\n",
              "      <td>-0.363230</td>\n",
              "      <td>1.051509</td>\n",
              "      <td>-0.705493</td>\n",
              "      <td>-1.300571</td>\n",
              "      <td>1.192670</td>\n",
              "      <td>-0.328479</td>\n",
              "    </tr>\n",
              "    <tr>\n",
              "      <th>971</th>\n",
              "      <td>-0.213763</td>\n",
              "      <td>0.330807</td>\n",
              "      <td>0.642581</td>\n",
              "      <td>-0.470210</td>\n",
              "      <td>-0.147256</td>\n",
              "      <td>1.968045</td>\n",
              "      <td>0.687549</td>\n",
              "      <td>1.109841</td>\n",
              "      <td>1.509518</td>\n",
              "      <td>-0.476967</td>\n",
              "      <td>2.344608</td>\n",
              "      <td>0.250463</td>\n",
              "      <td>-0.183166</td>\n",
              "      <td>0.474166</td>\n",
              "      <td>1.828563</td>\n",
              "      <td>-0.693795</td>\n",
              "      <td>0.437055</td>\n",
              "      <td>-0.304401</td>\n",
              "      <td>-0.363230</td>\n",
              "      <td>1.051509</td>\n",
              "      <td>-0.705493</td>\n",
              "      <td>-1.300571</td>\n",
              "      <td>-0.837407</td>\n",
              "      <td>-0.328479</td>\n",
              "    </tr>\n",
              "    <tr>\n",
              "      <th>27</th>\n",
              "      <td>-0.213763</td>\n",
              "      <td>0.330807</td>\n",
              "      <td>-1.554278</td>\n",
              "      <td>2.124052</td>\n",
              "      <td>-0.147256</td>\n",
              "      <td>-0.507483</td>\n",
              "      <td>0.597497</td>\n",
              "      <td>0.322021</td>\n",
              "      <td>-1.015514</td>\n",
              "      <td>-1.394210</td>\n",
              "      <td>-0.425977</td>\n",
              "      <td>-0.755580</td>\n",
              "      <td>-0.183166</td>\n",
              "      <td>0.474166</td>\n",
              "      <td>-0.546194</td>\n",
              "      <td>1.024582</td>\n",
              "      <td>-0.978508</td>\n",
              "      <td>-0.304401</td>\n",
              "      <td>-1.319099</td>\n",
              "      <td>0.149894</td>\n",
              "      <td>1.173734</td>\n",
              "      <td>0.767932</td>\n",
              "      <td>-0.837407</td>\n",
              "      <td>-0.328479</td>\n",
              "    </tr>\n",
              "    <tr>\n",
              "      <th>231</th>\n",
              "      <td>-0.213763</td>\n",
              "      <td>0.330807</td>\n",
              "      <td>-1.554278</td>\n",
              "      <td>-0.470210</td>\n",
              "      <td>-0.147256</td>\n",
              "      <td>1.968045</td>\n",
              "      <td>1.407968</td>\n",
              "      <td>1.109841</td>\n",
              "      <td>-0.258004</td>\n",
              "      <td>-0.476967</td>\n",
              "      <td>-0.425977</td>\n",
              "      <td>-1.007091</td>\n",
              "      <td>-0.183166</td>\n",
              "      <td>0.474166</td>\n",
              "      <td>1.828563</td>\n",
              "      <td>-0.693795</td>\n",
              "      <td>0.437055</td>\n",
              "      <td>1.341009</td>\n",
              "      <td>1.548508</td>\n",
              "      <td>1.051509</td>\n",
              "      <td>0.547325</td>\n",
              "      <td>-1.300571</td>\n",
              "      <td>-0.837407</td>\n",
              "      <td>-0.328479</td>\n",
              "    </tr>\n",
              "    <tr>\n",
              "      <th>306</th>\n",
              "      <td>-0.213763</td>\n",
              "      <td>0.330807</td>\n",
              "      <td>-1.554278</td>\n",
              "      <td>2.124052</td>\n",
              "      <td>-0.147256</td>\n",
              "      <td>1.968045</td>\n",
              "      <td>-1.023444</td>\n",
              "      <td>1.109841</td>\n",
              "      <td>0.571649</td>\n",
              "      <td>-0.476967</td>\n",
              "      <td>-0.425977</td>\n",
              "      <td>0.753484</td>\n",
              "      <td>-0.183166</td>\n",
              "      <td>-0.915332</td>\n",
              "      <td>-0.546194</td>\n",
              "      <td>-0.693795</td>\n",
              "      <td>-0.978508</td>\n",
              "      <td>0.518304</td>\n",
              "      <td>-0.363230</td>\n",
              "      <td>1.051509</td>\n",
              "      <td>1.800143</td>\n",
              "      <td>-1.300571</td>\n",
              "      <td>-0.837407</td>\n",
              "      <td>3.040533</td>\n",
              "    </tr>\n",
              "    <tr>\n",
              "      <th>706</th>\n",
              "      <td>-0.213763</td>\n",
              "      <td>0.330807</td>\n",
              "      <td>0.642581</td>\n",
              "      <td>-0.470210</td>\n",
              "      <td>-0.147256</td>\n",
              "      <td>-0.507483</td>\n",
              "      <td>-1.023444</td>\n",
              "      <td>-0.465799</td>\n",
              "      <td>1.220943</td>\n",
              "      <td>-0.476967</td>\n",
              "      <td>-0.425977</td>\n",
              "      <td>2.262549</td>\n",
              "      <td>-0.183166</td>\n",
              "      <td>0.474166</td>\n",
              "      <td>1.828563</td>\n",
              "      <td>-0.693795</td>\n",
              "      <td>0.437055</td>\n",
              "      <td>0.518304</td>\n",
              "      <td>-0.363230</td>\n",
              "      <td>-0.751722</td>\n",
              "      <td>-0.079084</td>\n",
              "      <td>0.767932</td>\n",
              "      <td>-0.837407</td>\n",
              "      <td>-0.328479</td>\n",
              "    </tr>\n",
              "  </tbody>\n",
              "</table>\n",
              "</div>"
            ],
            "text/plain": [
              "     Debtors_CoApplicant  Debtors_None  ...  telephone  used_car\n",
              "993            -0.213763      0.330807  ...   1.192670 -0.328479\n",
              "859            -0.213763     -3.019135  ...  -0.837407 -0.328479\n",
              "298            -0.213763      0.330807  ...   1.192670 -0.328479\n",
              "553            -0.213763      0.330807  ...  -0.837407 -0.328479\n",
              "672            -0.213763      0.330807  ...   1.192670 -0.328479\n",
              "971            -0.213763      0.330807  ...  -0.837407 -0.328479\n",
              "27             -0.213763      0.330807  ...  -0.837407 -0.328479\n",
              "231            -0.213763      0.330807  ...  -0.837407 -0.328479\n",
              "306            -0.213763      0.330807  ...  -0.837407  3.040533\n",
              "706            -0.213763      0.330807  ...  -0.837407 -0.328479\n",
              "\n",
              "[10 rows x 24 columns]"
            ]
          },
          "metadata": {
            "tags": []
          },
          "execution_count": 79
        }
      ]
    },
    {
      "cell_type": "code",
      "metadata": {
        "id": "NvvtiQ9Y_4ti",
        "colab_type": "code",
        "colab": {
          "base_uri": "https://localhost:8080/",
          "height": 187
        },
        "outputId": "e9a35b19-8e2a-432f-d8c1-7721f5d7eaac"
      },
      "source": [
        "example_batch = normed_train_data[:10]\n",
        "example_result = model.predict(example_batch)\n",
        "example_result"
      ],
      "execution_count": 80,
      "outputs": [
        {
          "output_type": "execute_result",
          "data": {
            "text/plain": [
              "array([[-0.01182102],\n",
              "       [-0.61681575],\n",
              "       [-0.12821499],\n",
              "       [-0.05495137],\n",
              "       [ 0.01215774],\n",
              "       [-0.2729012 ],\n",
              "       [-0.5814575 ],\n",
              "       [-0.13770929],\n",
              "       [-0.7076072 ],\n",
              "       [-0.11077601]], dtype=float32)"
            ]
          },
          "metadata": {
            "tags": []
          },
          "execution_count": 80
        }
      ]
    },
    {
      "cell_type": "markdown",
      "metadata": {
        "id": "HVP9WEGTIAHb",
        "colab_type": "text"
      },
      "source": [
        "Train Model"
      ]
    },
    {
      "cell_type": "code",
      "metadata": {
        "id": "fhFXmSf4EriP",
        "colab_type": "code",
        "colab": {
          "base_uri": "https://localhost:8080/",
          "height": 374
        },
        "outputId": "6a45f8ab-ed24-495c-8783-86b57a2b1218"
      },
      "source": [
        "EPOCHS = 1000\n",
        "\n",
        "history = model.fit(\n",
        "  normed_train_data, train_labels,\n",
        "  epochs=EPOCHS, validation_split = 0.2, verbose=0,\n",
        "  callbacks=[tfdocs.modeling.EpochDots()])"
      ],
      "execution_count": 81,
      "outputs": [
        {
          "output_type": "stream",
          "text": [
            "\n",
            "Epoch: 0, loss:0.6191,  mae:0.5982,  mse:0.6191,  val_loss:0.2618,  val_mae:0.4102,  val_mse:0.2618,  \n",
            "....................................................................................................\n",
            "Epoch: 100, loss:0.0126,  mae:0.0854,  mse:0.0126,  val_loss:0.2484,  val_mae:0.3745,  val_mse:0.2484,  \n",
            "....................................................................................................\n",
            "Epoch: 200, loss:0.0082,  mae:0.0734,  mse:0.0082,  val_loss:0.2492,  val_mae:0.3731,  val_mse:0.2492,  \n",
            "....................................................................................................\n",
            "Epoch: 300, loss:0.0057,  mae:0.0618,  mse:0.0057,  val_loss:0.2432,  val_mae:0.3619,  val_mse:0.2432,  \n",
            "....................................................................................................\n",
            "Epoch: 400, loss:0.0033,  mae:0.0446,  mse:0.0033,  val_loss:0.2245,  val_mae:0.3505,  val_mse:0.2245,  \n",
            "....................................................................................................\n",
            "Epoch: 500, loss:0.0036,  mae:0.0496,  mse:0.0036,  val_loss:0.2254,  val_mae:0.3562,  val_mse:0.2254,  \n",
            "....................................................................................................\n",
            "Epoch: 600, loss:0.0024,  mae:0.0379,  mse:0.0024,  val_loss:0.2166,  val_mae:0.3404,  val_mse:0.2166,  \n",
            "....................................................................................................\n",
            "Epoch: 700, loss:0.0027,  mae:0.0423,  mse:0.0027,  val_loss:0.2168,  val_mae:0.3475,  val_mse:0.2168,  \n",
            "....................................................................................................\n",
            "Epoch: 800, loss:0.0018,  mae:0.0328,  mse:0.0018,  val_loss:0.2135,  val_mae:0.3428,  val_mse:0.2135,  \n",
            "....................................................................................................\n",
            "Epoch: 900, loss:0.0013,  mae:0.0285,  mse:0.0013,  val_loss:0.2188,  val_mae:0.3559,  val_mse:0.2188,  \n",
            "...................................................................................................."
          ],
          "name": "stdout"
        }
      ]
    },
    {
      "cell_type": "markdown",
      "metadata": {
        "id": "Xnpx1HXZIDo7",
        "colab_type": "text"
      },
      "source": [
        "Visualize Model's training process"
      ]
    },
    {
      "cell_type": "code",
      "metadata": {
        "id": "u2XYpqWiIBbS",
        "colab_type": "code",
        "colab": {
          "base_uri": "https://localhost:8080/",
          "height": 204
        },
        "outputId": "a88d5dab-8b3c-4192-aa1e-1ea2773cdc25"
      },
      "source": [
        "hist = pd.DataFrame(history.history)\n",
        "hist['epoch'] = history.epoch\n",
        "hist.tail()"
      ],
      "execution_count": 82,
      "outputs": [
        {
          "output_type": "execute_result",
          "data": {
            "text/html": [
              "<div>\n",
              "<style scoped>\n",
              "    .dataframe tbody tr th:only-of-type {\n",
              "        vertical-align: middle;\n",
              "    }\n",
              "\n",
              "    .dataframe tbody tr th {\n",
              "        vertical-align: top;\n",
              "    }\n",
              "\n",
              "    .dataframe thead th {\n",
              "        text-align: right;\n",
              "    }\n",
              "</style>\n",
              "<table border=\"1\" class=\"dataframe\">\n",
              "  <thead>\n",
              "    <tr style=\"text-align: right;\">\n",
              "      <th></th>\n",
              "      <th>loss</th>\n",
              "      <th>mae</th>\n",
              "      <th>mse</th>\n",
              "      <th>val_loss</th>\n",
              "      <th>val_mae</th>\n",
              "      <th>val_mse</th>\n",
              "      <th>epoch</th>\n",
              "    </tr>\n",
              "  </thead>\n",
              "  <tbody>\n",
              "    <tr>\n",
              "      <th>995</th>\n",
              "      <td>0.001677</td>\n",
              "      <td>0.032490</td>\n",
              "      <td>0.001677</td>\n",
              "      <td>0.206063</td>\n",
              "      <td>0.340752</td>\n",
              "      <td>0.206063</td>\n",
              "      <td>995</td>\n",
              "    </tr>\n",
              "    <tr>\n",
              "      <th>996</th>\n",
              "      <td>0.001638</td>\n",
              "      <td>0.031918</td>\n",
              "      <td>0.001638</td>\n",
              "      <td>0.207200</td>\n",
              "      <td>0.337911</td>\n",
              "      <td>0.207200</td>\n",
              "      <td>996</td>\n",
              "    </tr>\n",
              "    <tr>\n",
              "      <th>997</th>\n",
              "      <td>0.001470</td>\n",
              "      <td>0.029782</td>\n",
              "      <td>0.001470</td>\n",
              "      <td>0.204145</td>\n",
              "      <td>0.337847</td>\n",
              "      <td>0.204145</td>\n",
              "      <td>997</td>\n",
              "    </tr>\n",
              "    <tr>\n",
              "      <th>998</th>\n",
              "      <td>0.001954</td>\n",
              "      <td>0.034527</td>\n",
              "      <td>0.001954</td>\n",
              "      <td>0.208664</td>\n",
              "      <td>0.342073</td>\n",
              "      <td>0.208664</td>\n",
              "      <td>998</td>\n",
              "    </tr>\n",
              "    <tr>\n",
              "      <th>999</th>\n",
              "      <td>0.001538</td>\n",
              "      <td>0.030332</td>\n",
              "      <td>0.001538</td>\n",
              "      <td>0.205257</td>\n",
              "      <td>0.337206</td>\n",
              "      <td>0.205257</td>\n",
              "      <td>999</td>\n",
              "    </tr>\n",
              "  </tbody>\n",
              "</table>\n",
              "</div>"
            ],
            "text/plain": [
              "         loss       mae       mse  val_loss   val_mae   val_mse  epoch\n",
              "995  0.001677  0.032490  0.001677  0.206063  0.340752  0.206063    995\n",
              "996  0.001638  0.031918  0.001638  0.207200  0.337911  0.207200    996\n",
              "997  0.001470  0.029782  0.001470  0.204145  0.337847  0.204145    997\n",
              "998  0.001954  0.034527  0.001954  0.208664  0.342073  0.208664    998\n",
              "999  0.001538  0.030332  0.001538  0.205257  0.337206  0.205257    999"
            ]
          },
          "metadata": {
            "tags": []
          },
          "execution_count": 82
        }
      ]
    },
    {
      "cell_type": "code",
      "metadata": {
        "id": "36w-3mCHIXPt",
        "colab_type": "code",
        "colab": {}
      },
      "source": [
        "plotter = tfdocs.plots.HistoryPlotter(smoothing_std=2)"
      ],
      "execution_count": 0,
      "outputs": []
    },
    {
      "cell_type": "code",
      "metadata": {
        "id": "_tHmnQunIZnF",
        "colab_type": "code",
        "colab": {
          "base_uri": "https://localhost:8080/",
          "height": 300
        },
        "outputId": "c77783a7-76c8-4c92-b401-780cfe71ef99"
      },
      "source": [
        "plotter.plot({'Basic': history}, metric = \"mae\")\n",
        "plt.ylim([0, 10])\n",
        "plt.ylabel('MAE [MPG]')"
      ],
      "execution_count": 84,
      "outputs": [
        {
          "output_type": "execute_result",
          "data": {
            "text/plain": [
              "Text(0, 0.5, 'MAE [MPG]')"
            ]
          },
          "metadata": {
            "tags": []
          },
          "execution_count": 84
        },
        {
          "output_type": "display_data",
          "data": {
            "image/png": "[encoded data removed]",
            "text/plain": [
              "<Figure size 432x288 with 1 Axes>"
            ]
          },
          "metadata": {
            "tags": [],
            "needs_background": "light"
          }
        }
      ]
    },
    {
      "cell_type": "code",
      "metadata": {
        "id": "SpytJvdRIcZe",
        "colab_type": "code",
        "colab": {
          "base_uri": "https://localhost:8080/",
          "height": 300
        },
        "outputId": "7f58958b-9a88-436f-dbdd-08581d7c10e7"
      },
      "source": [
        "plotter.plot({'Basic': history}, metric = \"mse\")\n",
        "plt.ylim([0, 20])\n",
        "plt.ylabel('MSE [MPG^2]')"
      ],
      "execution_count": 85,
      "outputs": [
        {
          "output_type": "execute_result",
          "data": {
            "text/plain": [
              "Text(0, 0.5, 'MSE [MPG^2]')"
            ]
          },
          "metadata": {
            "tags": []
          },
          "execution_count": 85
        },
        {
          "output_type": "display_data",
          "data": {
            "image/png": "[encoded data removed]",
            "text/plain": [
              "<Figure size 432x288 with 1 Axes>"
            ]
          },
          "metadata": {
            "tags": [],
            "needs_background": "light"
          }
        }
      ]
    },
    {
      "cell_type": "code",
      "metadata": {
        "id": "hFwCrb-VIeZv",
        "colab_type": "code",
        "colab": {
          "base_uri": "https://localhost:8080/",
          "height": 68
        },
        "outputId": "178b553b-ff86-46e1-f215-f9f2158f6c09"
      },
      "source": [
        "model = build_model()\n",
        "\n",
        "# The patience parameter is the amount of epochs to check for improvement\n",
        "early_stop = keras.callbacks.EarlyStopping(monitor='val_loss', patience=10)\n",
        "\n",
        "early_history = model.fit(normed_train_data, train_labels, \n",
        "                    epochs=EPOCHS, validation_split = 0.2, verbose=0, \n",
        "                    callbacks=[early_stop, tfdocs.modeling.EpochDots()])"
      ],
      "execution_count": 86,
      "outputs": [
        {
          "output_type": "stream",
          "text": [
            "\n",
            "Epoch: 0, loss:0.7904,  mae:0.6738,  mse:0.7904,  val_loss:0.3394,  val_mae:0.4574,  val_mse:0.3394,  \n",
            ".................."
          ],
          "name": "stdout"
        }
      ]
    },
    {
      "cell_type": "code",
      "metadata": {
        "id": "Rjr7tvXeIhYR",
        "colab_type": "code",
        "colab": {
          "base_uri": "https://localhost:8080/",
          "height": 300
        },
        "outputId": "f5b2d61c-4b1f-4a2f-a381-5fe07708deb3"
      },
      "source": [
        "plotter.plot({'Early Stopping': early_history}, metric = \"mae\")\n",
        "plt.ylim([0, 10])\n",
        "plt.ylabel('MAE [MPG]')"
      ],
      "execution_count": 87,
      "outputs": [
        {
          "output_type": "execute_result",
          "data": {
            "text/plain": [
              "Text(0, 0.5, 'MAE [MPG]')"
            ]
          },
          "metadata": {
            "tags": []
          },
          "execution_count": 87
        },
        {
          "output_type": "display_data",
          "data": {
            "image/png": "[encoded data removed]",
            "text/plain": [
              "<Figure size 432x288 with 1 Axes>"
            ]
          },
          "metadata": {
            "tags": [],
            "needs_background": "light"
          }
        }
      ]
    },
    {
      "cell_type": "code",
      "metadata": {
        "id": "CxMY5Kl9Ijs3",
        "colab_type": "code",
        "colab": {
          "base_uri": "https://localhost:8080/",
          "height": 51
        },
        "outputId": "c4361892-d230-4dcb-96e7-7f6c570dfccd"
      },
      "source": [
        "loss, mae, mse = model.evaluate(normed_test_data, test_labels, verbose=2)\n",
        "\n",
        "print(\"Testing set Mean Abs Error: {:5.2f} MPG\".format(mae))"
      ],
      "execution_count": 88,
      "outputs": [
        {
          "output_type": "stream",
          "text": [
            "7/7 - 0s - loss: 0.2198 - mae: 0.3866 - mse: 0.2161\n",
            "Testing set Mean Abs Error:  0.39 MPG\n"
          ],
          "name": "stdout"
        }
      ]
    },
    {
      "cell_type": "markdown",
      "metadata": {
        "id": "lu0sVoTTIomd",
        "colab_type": "text"
      },
      "source": [
        "Predictions after Early Stopping"
      ]
    },
    {
      "cell_type": "code",
      "metadata": {
        "id": "hhRYgvRIIld_",
        "colab_type": "code",
        "colab": {
          "base_uri": "https://localhost:8080/",
          "height": 283
        },
        "outputId": "e45dba0f-477e-4d2d-b2c7-a30ffe3387b7"
      },
      "source": [
        "test_predictions = model.predict(normed_test_data).flatten()\n",
        "\n",
        "a = plt.axes(aspect='equal')\n",
        "plt.scatter(test_labels, test_predictions)\n",
        "plt.xlabel('True Values [MPG]')\n",
        "plt.ylabel('Predictions [MPG]')\n",
        "lims = [0, 50]\n",
        "plt.xlim(lims)\n",
        "plt.ylim(lims)\n",
        "_ = plt.plot(lims, lims)\n"
      ],
      "execution_count": 89,
      "outputs": [
        {
          "output_type": "display_data",
          "data": {
            "image/png": "[encoded data removed]",
            "text/plain": [
              "<Figure size 432x288 with 1 Axes>"
            ]
          },
          "metadata": {
            "tags": [],
            "needs_background": "light"
          }
        }
      ]
    },
    {
      "cell_type": "code",
      "metadata": {
        "id": "hTieEmjAIs7u",
        "colab_type": "code",
        "colab": {
          "base_uri": "https://localhost:8080/",
          "height": 279
        },
        "outputId": "d2398496-7cf0-4cec-cdbd-287f5ba5cd20"
      },
      "source": [
        "error = test_predictions - test_labels\n",
        "plt.hist(error, bins = 25)\n",
        "plt.xlabel(\"Prediction Error [MPG]\")\n",
        "_ = plt.ylabel(\"Count\")"
      ],
      "execution_count": 90,
      "outputs": [
        {
          "output_type": "display_data",
          "data": {
            "image/png": "[encoded data removed]",
            "text/plain": [
              "<Figure size 432x288 with 1 Axes>"
            ]
          },
          "metadata": {
            "tags": [],
            "needs_background": "light"
          }
        }
      ]
    },
    {
      "cell_type": "code",
      "metadata": {
        "id": "kJJw0xxOIu_e",
        "colab_type": "code",
        "colab": {}
      },
      "source": [
        ""
      ],
      "execution_count": 0,
      "outputs": []
    },
    {
      "cell_type": "code",
      "metadata": {
        "id": "mIjUqqIFI1q5",
        "colab_type": "code",
        "colab": {}
      },
      "source": [
        ""
      ],
      "execution_count": 0,
      "outputs": []
    },
    {
      "cell_type": "markdown",
      "metadata": {
        "id": "ecU-29GyI2N9",
        "colab_type": "text"
      },
      "source": [
        "##Overfit and underfit"
      ]
    },
    {
      "cell_type": "code",
      "metadata": {
        "id": "jhHLEFc7I495",
        "colab_type": "code",
        "colab": {}
      },
      "source": [
        "import tensorflow as tf\n",
        "\n",
        "from tensorflow.keras import layers\n",
        "from tensorflow.keras import regularizers"
      ],
      "execution_count": 0,
      "outputs": []
    },
    {
      "cell_type": "code",
      "metadata": {
        "id": "dxDptZEVI7PC",
        "colab_type": "code",
        "colab": {
          "base_uri": "https://localhost:8080/",
          "height": 34
        },
        "outputId": "d36f588e-6c5e-423e-fe35-a8e0375f38b2"
      },
      "source": [
        "!pip install -q git+https://github.com/tensorflow/docs\n",
        "\n",
        "import tensorflow_docs as tfdocs\n",
        "import tensorflow_docs.modeling\n",
        "import tensorflow_docs.plots"
      ],
      "execution_count": 92,
      "outputs": [
        {
          "output_type": "stream",
          "text": [
            "  Building wheel for tensorflow-docs (setup.py) ... \u001b[?25l\u001b[?25hdone\n"
          ],
          "name": "stdout"
        }
      ]
    },
    {
      "cell_type": "code",
      "metadata": {
        "id": "b-23967HI8rT",
        "colab_type": "code",
        "colab": {}
      },
      "source": [
        "from  IPython import display\n",
        "from matplotlib import pyplot as plt\n",
        "\n",
        "import numpy as np\n",
        "\n",
        "import pathlib\n",
        "import shutil\n",
        "import tempfile\n"
      ],
      "execution_count": 0,
      "outputs": []
    },
    {
      "cell_type": "code",
      "metadata": {
        "id": "z2OWcvBEI-QJ",
        "colab_type": "code",
        "colab": {}
      },
      "source": [
        "logdir = pathlib.Path(tempfile.mkdtemp())/\"tensorboard_logs\"\n",
        "shutil.rmtree(logdir, ignore_errors=True)"
      ],
      "execution_count": 0,
      "outputs": []
    },
    {
      "cell_type": "markdown",
      "metadata": {
        "id": "4VPwxFxlJCKQ",
        "colab_type": "text"
      },
      "source": [
        "The Higgs Dataset"
      ]
    },
    {
      "cell_type": "code",
      "metadata": {
        "id": "N-z3ApvtJASU",
        "colab_type": "code",
        "colab": {
          "base_uri": "https://localhost:8080/",
          "height": 51
        },
        "outputId": "bc7ef9c7-ec1c-42e9-e79a-fc77b21abe09"
      },
      "source": [
        "gz = tf.keras.utils.get_file('HIGGS.csv.gz', 'http://mlphysics.ics.uci.edu/data/higgs/HIGGS.csv.gz')"
      ],
      "execution_count": 95,
      "outputs": [
        {
          "output_type": "stream",
          "text": [
            "Downloading data from http://mlphysics.ics.uci.edu/data/higgs/HIGGS.csv.gz\n",
            "2816409600/2816407858 [==============================] - 35s 0us/step\n"
          ],
          "name": "stdout"
        }
      ]
    },
    {
      "cell_type": "code",
      "metadata": {
        "id": "u1XmSyiwJFIp",
        "colab_type": "code",
        "colab": {}
      },
      "source": [
        "FEATURES = 28"
      ],
      "execution_count": 0,
      "outputs": []
    },
    {
      "cell_type": "code",
      "metadata": {
        "id": "gskTe_p5JG6g",
        "colab_type": "code",
        "colab": {}
      },
      "source": [
        "ds = tf.data.experimental.CsvDataset(gz,[float(),]*(FEATURES+1), compression_type=\"GZIP\")"
      ],
      "execution_count": 0,
      "outputs": []
    },
    {
      "cell_type": "code",
      "metadata": {
        "id": "0Ayaov-vJJ0p",
        "colab_type": "code",
        "colab": {}
      },
      "source": [
        "def pack_row(*row):\n",
        "  label = row[0]\n",
        "  features = tf.stack(row[1:],1)\n",
        "  return features, label"
      ],
      "execution_count": 0,
      "outputs": []
    },
    {
      "cell_type": "code",
      "metadata": {
        "id": "ytPoX_EKJp3m",
        "colab_type": "code",
        "colab": {}
      },
      "source": [
        "packed_ds = ds.batch(10000).map(pack_row).unbatch()"
      ],
      "execution_count": 0,
      "outputs": []
    },
    {
      "cell_type": "code",
      "metadata": {
        "id": "gzjoNpX4Jry-",
        "colab_type": "code",
        "colab": {
          "base_uri": "https://localhost:8080/",
          "height": 367
        },
        "outputId": "cc57652b-0a41-44d2-d707-b2fa02eeee3c"
      },
      "source": [
        "for features,label in packed_ds.batch(1000).take(1):\n",
        "  print(features[0])\n",
        "  plt.hist(features.numpy().flatten(), bins = 101)"
      ],
      "execution_count": 100,
      "outputs": [
        {
          "output_type": "stream",
          "text": [
            "tf.Tensor(\n",
            "[ 0.8692932  -0.6350818   0.22569026  0.32747006 -0.6899932   0.75420225\n",
            " -0.24857314 -1.0920639   0.          1.3749921  -0.6536742   0.9303491\n",
            "  1.1074361   1.1389043  -1.5781983  -1.0469854   0.          0.65792954\n",
            " -0.01045457 -0.04576717  3.1019614   1.35376     0.9795631   0.97807616\n",
            "  0.92000484  0.72165745  0.98875093  0.87667835], shape=(28,), dtype=float32)\n"
          ],
          "name": "stdout"
        },
        {
          "output_type": "display_data",
          "data": {
            "image/png": "[encoded data removed]",
            "text/plain": [
              "<Figure size 432x288 with 1 Axes>"
            ]
          },
          "metadata": {
            "tags": [],
            "needs_background": "light"
          }
        }
      ]
    },
    {
      "cell_type": "code",
      "metadata": {
        "id": "p7fna3kPJtps",
        "colab_type": "code",
        "colab": {}
      },
      "source": [
        "N_VALIDATION = int(1e3)\n",
        "N_TRAIN = int(1e4)\n",
        "BUFFER_SIZE = int(1e4)\n",
        "BATCH_SIZE = 500\n",
        "STEPS_PER_EPOCH = N_TRAIN//BATCH_SIZE"
      ],
      "execution_count": 0,
      "outputs": []
    },
    {
      "cell_type": "code",
      "metadata": {
        "id": "zN28L-nvJvxm",
        "colab_type": "code",
        "colab": {}
      },
      "source": [
        "validate_ds = packed_ds.take(N_VALIDATION).cache()\n",
        "train_ds = packed_ds.skip(N_VALIDATION).take(N_TRAIN).cache()"
      ],
      "execution_count": 0,
      "outputs": []
    },
    {
      "cell_type": "code",
      "metadata": {
        "id": "lPwFOf5bJxfW",
        "colab_type": "code",
        "colab": {
          "base_uri": "https://localhost:8080/",
          "height": 34
        },
        "outputId": "d55e8e3c-aeb9-4e6d-ff96-e29dfadda974"
      },
      "source": [
        "train_ds"
      ],
      "execution_count": 103,
      "outputs": [
        {
          "output_type": "execute_result",
          "data": {
            "text/plain": [
              "<CacheDataset shapes: ((28,), ()), types: (tf.float32, tf.float32)>"
            ]
          },
          "metadata": {
            "tags": []
          },
          "execution_count": 103
        }
      ]
    },
    {
      "cell_type": "code",
      "metadata": {
        "id": "buP26GmOJzfu",
        "colab_type": "code",
        "colab": {}
      },
      "source": [
        "validate_ds = validate_ds.batch(BATCH_SIZE)\n",
        "train_ds = train_ds.shuffle(BUFFER_SIZE).repeat().batch(BATCH_SIZE)"
      ],
      "execution_count": 0,
      "outputs": []
    },
    {
      "cell_type": "markdown",
      "metadata": {
        "id": "EqDNx896J5wZ",
        "colab_type": "text"
      },
      "source": [
        "Demonstrate overfitting"
      ]
    },
    {
      "cell_type": "code",
      "metadata": {
        "id": "RoEEjUGtJ3rf",
        "colab_type": "code",
        "colab": {}
      },
      "source": [
        "lr_schedule = tf.keras.optimizers.schedules.InverseTimeDecay(\n",
        "  0.001,\n",
        "  decay_steps=STEPS_PER_EPOCH*1000,\n",
        "  decay_rate=1,\n",
        "  staircase=False)\n",
        "\n",
        "def get_optimizer():\n",
        "  return tf.keras.optimizers.Adam(lr_schedule)"
      ],
      "execution_count": 0,
      "outputs": []
    },
    {
      "cell_type": "code",
      "metadata": {
        "id": "hg2yms55J8DH",
        "colab_type": "code",
        "colab": {
          "base_uri": "https://localhost:8080/",
          "height": 388
        },
        "outputId": "18e94f1f-5652-4a46-f84b-2de3b5ef4c17"
      },
      "source": [
        "step = np.linspace(0,100000)\n",
        "lr = lr_schedule(step)\n",
        "plt.figure(figsize = (8,6))\n",
        "plt.plot(step/STEPS_PER_EPOCH, lr)\n",
        "plt.ylim([0,max(plt.ylim())])\n",
        "plt.xlabel('Epoch')\n",
        "_ = plt.ylabel('Learning Rate')\n"
      ],
      "execution_count": 106,
      "outputs": [
        {
          "output_type": "display_data",
          "data": {
            "image/png": "[encoded data removed]",
            "text/plain": [
              "<Figure size 576x432 with 1 Axes>"
            ]
          },
          "metadata": {
            "tags": [],
            "needs_background": "light"
          }
        }
      ]
    },
    {
      "cell_type": "code",
      "metadata": {
        "id": "KnFL-11vJ-iI",
        "colab_type": "code",
        "colab": {}
      },
      "source": [
        "def get_callbacks(name):\n",
        "  return [\n",
        "    tfdocs.modeling.EpochDots(),\n",
        "    tf.keras.callbacks.EarlyStopping(monitor='val_binary_crossentropy', patience=200),\n",
        "    tf.keras.callbacks.TensorBoard(logdir/name),\n",
        "  ]"
      ],
      "execution_count": 0,
      "outputs": []
    },
    {
      "cell_type": "code",
      "metadata": {
        "id": "qz-Wte5IKAyQ",
        "colab_type": "code",
        "colab": {}
      },
      "source": [
        "def compile_and_fit(model, name, optimizer=None, max_epochs=10000):\n",
        "  if optimizer is None:\n",
        "    optimizer = get_optimizer()\n",
        "  model.compile(optimizer=optimizer,\n",
        "                loss=tf.keras.losses.BinaryCrossentropy(from_logits=True),\n",
        "                metrics=[\n",
        "                  tf.keras.losses.BinaryCrossentropy(\n",
        "                      from_logits=True, name='binary_crossentropy'),\n",
        "                  'accuracy'])\n",
        "\n",
        "  model.summary()\n",
        "\n",
        "  history = model.fit(\n",
        "    train_ds,\n",
        "    steps_per_epoch = STEPS_PER_EPOCH,\n",
        "    epochs=max_epochs,\n",
        "    validation_data=validate_ds,\n",
        "    callbacks=get_callbacks(name),\n",
        "    verbose=0)\n",
        "  return history"
      ],
      "execution_count": 0,
      "outputs": []
    },
    {
      "cell_type": "markdown",
      "metadata": {
        "id": "tfR_qmirKJdZ",
        "colab_type": "text"
      },
      "source": [
        "Tiny Model"
      ]
    },
    {
      "cell_type": "code",
      "metadata": {
        "id": "J8BTDO2XKD7g",
        "colab_type": "code",
        "colab": {}
      },
      "source": [
        "tiny_model = tf.keras.Sequential([\n",
        "    layers.Dense(16, activation='elu', input_shape=(FEATURES,)),\n",
        "    layers.Dense(1)\n",
        "])"
      ],
      "execution_count": 0,
      "outputs": []
    },
    {
      "cell_type": "code",
      "metadata": {
        "id": "LmzSE3rtKKYR",
        "colab_type": "code",
        "colab": {}
      },
      "source": [
        "size_histories = {}"
      ],
      "execution_count": 0,
      "outputs": []
    },
    {
      "cell_type": "code",
      "metadata": {
        "id": "v4Nrff7yKMhL",
        "colab_type": "code",
        "colab": {
          "base_uri": "https://localhost:8080/",
          "height": 632
        },
        "outputId": "bb209ecf-b44a-4b56-e595-1cc9aae977bb"
      },
      "source": [
        "size_histories['Tiny'] = compile_and_fit(tiny_model, 'sizes/Tiny')"
      ],
      "execution_count": 111,
      "outputs": [
        {
          "output_type": "stream",
          "text": [
            "Model: \"sequential_6\"\n",
            "_________________________________________________________________\n",
            "Layer (type)                 Output Shape              Param #   \n",
            "=================================================================\n",
            "dense_11 (Dense)             (None, 16)                464       \n",
            "_________________________________________________________________\n",
            "dense_12 (Dense)             (None, 1)                 17        \n",
            "=================================================================\n",
            "Total params: 481\n",
            "Trainable params: 481\n",
            "Non-trainable params: 0\n",
            "_________________________________________________________________\n",
            "\n",
            "Epoch: 0, accuracy:0.4871,  binary_crossentropy:0.8491,  loss:0.8491,  val_accuracy:0.4880,  val_binary_crossentropy:0.8002,  val_loss:0.8002,  \n",
            "....................................................................................................\n",
            "Epoch: 100, accuracy:0.5921,  binary_crossentropy:0.6292,  loss:0.6292,  val_accuracy:0.5590,  val_binary_crossentropy:0.6352,  val_loss:0.6352,  \n",
            "....................................................................................................\n",
            "Epoch: 200, accuracy:0.6228,  binary_crossentropy:0.6144,  loss:0.6144,  val_accuracy:0.5680,  val_binary_crossentropy:0.6279,  val_loss:0.6279,  \n",
            "....................................................................................................\n",
            "Epoch: 300, accuracy:0.6433,  binary_crossentropy:0.6038,  loss:0.6038,  val_accuracy:0.5920,  val_binary_crossentropy:0.6132,  val_loss:0.6132,  \n",
            "....................................................................................................\n",
            "Epoch: 400, accuracy:0.6585,  binary_crossentropy:0.5933,  loss:0.5933,  val_accuracy:0.6360,  val_binary_crossentropy:0.5997,  val_loss:0.5997,  \n",
            "....................................................................................................\n",
            "Epoch: 500, accuracy:0.6649,  binary_crossentropy:0.5884,  loss:0.5884,  val_accuracy:0.6390,  val_binary_crossentropy:0.5986,  val_loss:0.5986,  \n",
            "....................................................................................................\n",
            "Epoch: 600, accuracy:0.6696,  binary_crossentropy:0.5852,  loss:0.5852,  val_accuracy:0.6540,  val_binary_crossentropy:0.5927,  val_loss:0.5927,  \n",
            "....................................................................................................\n",
            "Epoch: 700, accuracy:0.6720,  binary_crossentropy:0.5829,  loss:0.5829,  val_accuracy:0.6530,  val_binary_crossentropy:0.5934,  val_loss:0.5934,  \n",
            "....................................................................................................\n",
            "Epoch: 800, accuracy:0.6765,  binary_crossentropy:0.5807,  loss:0.5807,  val_accuracy:0.6500,  val_binary_crossentropy:0.5923,  val_loss:0.5923,  \n",
            "....................................................................................................\n",
            "Epoch: 900, accuracy:0.6760,  binary_crossentropy:0.5792,  loss:0.5792,  val_accuracy:0.6620,  val_binary_crossentropy:0.5913,  val_loss:0.5913,  \n",
            "....................................................................................................\n",
            "Epoch: 1000, accuracy:0.6760,  binary_crossentropy:0.5793,  loss:0.5793,  val_accuracy:0.6740,  val_binary_crossentropy:0.5915,  val_loss:0.5915,  \n",
            "..............."
          ],
          "name": "stdout"
        }
      ]
    },
    {
      "cell_type": "code",
      "metadata": {
        "id": "hkD_4_92KN3a",
        "colab_type": "code",
        "colab": {
          "base_uri": "https://localhost:8080/",
          "height": 300
        },
        "outputId": "f8376bb3-460c-4f12-e312-792087efc720"
      },
      "source": [
        "plotter = tfdocs.plots.HistoryPlotter(metric = 'binary_crossentropy', smoothing_std=10)\n",
        "plotter.plot(size_histories)\n",
        "plt.ylim([0.5, 0.7])"
      ],
      "execution_count": 112,
      "outputs": [
        {
          "output_type": "execute_result",
          "data": {
            "text/plain": [
              "(0.5, 0.7)"
            ]
          },
          "metadata": {
            "tags": []
          },
          "execution_count": 112
        },
        {
          "output_type": "display_data",
          "data": {
            "image/png": "[encoded data removed]",
            "text/plain": [
              "<Figure size 432x288 with 1 Axes>"
            ]
          },
          "metadata": {
            "tags": [],
            "needs_background": "light"
          }
        }
      ]
    },
    {
      "cell_type": "markdown",
      "metadata": {
        "id": "21JvfEGCKXxh",
        "colab_type": "text"
      },
      "source": [
        "Small Model\n"
      ]
    },
    {
      "cell_type": "code",
      "metadata": {
        "id": "9TvZuvhNKQCJ",
        "colab_type": "code",
        "colab": {}
      },
      "source": [
        "small_model = tf.keras.Sequential([\n",
        "    # `input_shape` is only required here so that `.summary` works.\n",
        "    layers.Dense(16, activation='elu', input_shape=(FEATURES,)),\n",
        "    layers.Dense(16, activation='elu'),\n",
        "    layers.Dense(1)\n",
        "])"
      ],
      "execution_count": 0,
      "outputs": []
    },
    {
      "cell_type": "code",
      "metadata": {
        "id": "dAYj8I3iKZaC",
        "colab_type": "code",
        "colab": {
          "base_uri": "https://localhost:8080/",
          "height": 530
        },
        "outputId": "ff004a2e-0bae-4272-8ddc-3e25c91d8c3c"
      },
      "source": [
        "size_histories['Small'] = compile_and_fit(small_model, 'sizes/Small')"
      ],
      "execution_count": 114,
      "outputs": [
        {
          "output_type": "stream",
          "text": [
            "Model: \"sequential_7\"\n",
            "_________________________________________________________________\n",
            "Layer (type)                 Output Shape              Param #   \n",
            "=================================================================\n",
            "dense_13 (Dense)             (None, 16)                464       \n",
            "_________________________________________________________________\n",
            "dense_14 (Dense)             (None, 16)                272       \n",
            "_________________________________________________________________\n",
            "dense_15 (Dense)             (None, 1)                 17        \n",
            "=================================================================\n",
            "Total params: 753\n",
            "Trainable params: 753\n",
            "Non-trainable params: 0\n",
            "_________________________________________________________________\n",
            "\n",
            "Epoch: 0, accuracy:0.4936,  binary_crossentropy:0.7706,  loss:0.7706,  val_accuracy:0.5220,  val_binary_crossentropy:0.7100,  val_loss:0.7100,  \n",
            "....................................................................................................\n",
            "Epoch: 100, accuracy:0.6108,  binary_crossentropy:0.6164,  loss:0.6164,  val_accuracy:0.5960,  val_binary_crossentropy:0.6229,  val_loss:0.6229,  \n",
            "....................................................................................................\n",
            "Epoch: 200, accuracy:0.6602,  binary_crossentropy:0.5904,  loss:0.5904,  val_accuracy:0.6540,  val_binary_crossentropy:0.6043,  val_loss:0.6043,  \n",
            "....................................................................................................\n",
            "Epoch: 300, accuracy:0.6694,  binary_crossentropy:0.5810,  loss:0.5810,  val_accuracy:0.6550,  val_binary_crossentropy:0.5997,  val_loss:0.5997,  \n",
            "....................................................................................................\n",
            "Epoch: 400, accuracy:0.6768,  binary_crossentropy:0.5743,  loss:0.5743,  val_accuracy:0.6630,  val_binary_crossentropy:0.5975,  val_loss:0.5975,  \n",
            "....................................................................................................\n",
            "Epoch: 500, accuracy:0.6819,  binary_crossentropy:0.5676,  loss:0.5676,  val_accuracy:0.6630,  val_binary_crossentropy:0.5970,  val_loss:0.5970,  \n",
            "....................................................................................................\n",
            "Epoch: 600, accuracy:0.6853,  binary_crossentropy:0.5645,  loss:0.5645,  val_accuracy:0.6680,  val_binary_crossentropy:0.5973,  val_loss:0.5973,  \n",
            "............................................"
          ],
          "name": "stdout"
        }
      ]
    },
    {
      "cell_type": "markdown",
      "metadata": {
        "id": "B_jXYObmKc0-",
        "colab_type": "text"
      },
      "source": [
        "Medium Model"
      ]
    },
    {
      "cell_type": "code",
      "metadata": {
        "id": "GI-iEJg1KbJ7",
        "colab_type": "code",
        "colab": {}
      },
      "source": [
        "medium_model = tf.keras.Sequential([\n",
        "    layers.Dense(64, activation='elu', input_shape=(FEATURES,)),\n",
        "    layers.Dense(64, activation='elu'),\n",
        "    layers.Dense(64, activation='elu'),\n",
        "    layers.Dense(1)\n",
        "])"
      ],
      "execution_count": 0,
      "outputs": []
    },
    {
      "cell_type": "code",
      "metadata": {
        "id": "RGjZDQIMKeoT",
        "colab_type": "code",
        "colab": {
          "base_uri": "https://localhost:8080/",
          "height": 428
        },
        "outputId": "fd197f46-430f-47dd-f166-c82da3908705"
      },
      "source": [
        "size_histories['Medium']  = compile_and_fit(medium_model, \"sizes/Medium\")"
      ],
      "execution_count": 116,
      "outputs": [
        {
          "output_type": "stream",
          "text": [
            "Model: \"sequential_8\"\n",
            "_________________________________________________________________\n",
            "Layer (type)                 Output Shape              Param #   \n",
            "=================================================================\n",
            "dense_16 (Dense)             (None, 64)                1856      \n",
            "_________________________________________________________________\n",
            "dense_17 (Dense)             (None, 64)                4160      \n",
            "_________________________________________________________________\n",
            "dense_18 (Dense)             (None, 64)                4160      \n",
            "_________________________________________________________________\n",
            "dense_19 (Dense)             (None, 1)                 65        \n",
            "=================================================================\n",
            "Total params: 10,241\n",
            "Trainable params: 10,241\n",
            "Non-trainable params: 0\n",
            "_________________________________________________________________\n",
            "\n",
            "Epoch: 0, accuracy:0.5059,  binary_crossentropy:0.6908,  loss:0.6908,  val_accuracy:0.4910,  val_binary_crossentropy:0.6816,  val_loss:0.6816,  \n",
            "....................................................................................................\n",
            "Epoch: 100, accuracy:0.7151,  binary_crossentropy:0.5297,  loss:0.5297,  val_accuracy:0.6590,  val_binary_crossentropy:0.6113,  val_loss:0.6113,  \n",
            "....................................................................................................\n",
            "Epoch: 200, accuracy:0.7892,  binary_crossentropy:0.4294,  loss:0.4294,  val_accuracy:0.6430,  val_binary_crossentropy:0.7043,  val_loss:0.7043,  \n",
            ".........................................................."
          ],
          "name": "stdout"
        }
      ]
    },
    {
      "cell_type": "markdown",
      "metadata": {
        "id": "eI3wDM7yKian",
        "colab_type": "text"
      },
      "source": [
        "Large Model"
      ]
    },
    {
      "cell_type": "code",
      "metadata": {
        "id": "1WovzyLfKgY7",
        "colab_type": "code",
        "colab": {}
      },
      "source": [
        "large_model = tf.keras.Sequential([\n",
        "    layers.Dense(512, activation='elu', input_shape=(FEATURES,)),\n",
        "    layers.Dense(512, activation='elu'),\n",
        "    layers.Dense(512, activation='elu'),\n",
        "    layers.Dense(512, activation='elu'),\n",
        "    layers.Dense(1)\n",
        "])"
      ],
      "execution_count": 0,
      "outputs": []
    },
    {
      "cell_type": "code",
      "metadata": {
        "id": "tLfTbitqKj8b",
        "colab_type": "code",
        "colab": {
          "base_uri": "https://localhost:8080/",
          "height": 462
        },
        "outputId": "f6223d1d-a70b-4e4e-bae7-26d79c8b0f30"
      },
      "source": [
        "size_histories['large'] = compile_and_fit(large_model, \"sizes/large\")"
      ],
      "execution_count": 118,
      "outputs": [
        {
          "output_type": "stream",
          "text": [
            "Model: \"sequential_9\"\n",
            "_________________________________________________________________\n",
            "Layer (type)                 Output Shape              Param #   \n",
            "=================================================================\n",
            "dense_20 (Dense)             (None, 512)               14848     \n",
            "_________________________________________________________________\n",
            "dense_21 (Dense)             (None, 512)               262656    \n",
            "_________________________________________________________________\n",
            "dense_22 (Dense)             (None, 512)               262656    \n",
            "_________________________________________________________________\n",
            "dense_23 (Dense)             (None, 512)               262656    \n",
            "_________________________________________________________________\n",
            "dense_24 (Dense)             (None, 1)                 513       \n",
            "=================================================================\n",
            "Total params: 803,329\n",
            "Trainable params: 803,329\n",
            "Non-trainable params: 0\n",
            "_________________________________________________________________\n",
            "\n",
            "Epoch: 0, accuracy:0.5141,  binary_crossentropy:0.8103,  loss:0.8103,  val_accuracy:0.4720,  val_binary_crossentropy:0.7000,  val_loss:0.7000,  \n",
            "....................................................................................................\n",
            "Epoch: 100, accuracy:1.0000,  binary_crossentropy:0.0020,  loss:0.0020,  val_accuracy:0.6820,  val_binary_crossentropy:1.7088,  val_loss:1.7088,  \n",
            "...................................................................................................\n",
            "Epoch: 200, accuracy:1.0000,  binary_crossentropy:0.0001,  loss:0.0001,  val_accuracy:0.6780,  val_binary_crossentropy:2.3166,  val_loss:2.3166,  \n",
            "....................."
          ],
          "name": "stdout"
        }
      ]
    },
    {
      "cell_type": "markdown",
      "metadata": {
        "id": "PNm1esFSKt4S",
        "colab_type": "text"
      },
      "source": [
        "Plotting the Training and Testing losses"
      ]
    },
    {
      "cell_type": "code",
      "metadata": {
        "id": "RxQUfhimKriB",
        "colab_type": "code",
        "colab": {
          "base_uri": "https://localhost:8080/",
          "height": 304
        },
        "outputId": "932e2317-9a2c-48c7-e4df-0f7f3138f8c5"
      },
      "source": [
        "plotter.plot(size_histories)\n",
        "a = plt.xscale('log')\n",
        "plt.xlim([5, max(plt.xlim())])\n",
        "plt.ylim([0.5, 0.7])\n",
        "plt.xlabel(\"Epochs [Log Scale]\")"
      ],
      "execution_count": 119,
      "outputs": [
        {
          "output_type": "execute_result",
          "data": {
            "text/plain": [
              "Text(0.5, 0, 'Epochs [Log Scale]')"
            ]
          },
          "metadata": {
            "tags": []
          },
          "execution_count": 119
        },
        {
          "output_type": "display_data",
          "data": {
            "image/png": "[encoded data removed]",
            "text/plain": [
              "<Figure size 432x288 with 1 Axes>"
            ]
          },
          "metadata": {
            "tags": [],
            "needs_background": "light"
          }
        }
      ]
    },
    {
      "cell_type": "code",
      "metadata": {
        "id": "cF_WznLFKzvm",
        "colab_type": "code",
        "colab": {}
      },
      "source": [
        ""
      ],
      "execution_count": 0,
      "outputs": []
    },
    {
      "cell_type": "markdown",
      "metadata": {
        "id": "DjZu4ULgZDVY",
        "colab_type": "text"
      },
      "source": [
        "Steps to prevent overfitting"
      ]
    },
    {
      "cell_type": "code",
      "metadata": {
        "id": "QEazzlscZJ8n",
        "colab_type": "code",
        "colab": {
          "base_uri": "https://localhost:8080/",
          "height": 34
        },
        "outputId": "75ad599b-3d79-4bcc-9ac3-b3118338f55e"
      },
      "source": [
        "shutil.rmtree(logdir/'regularizers/Tiny', ignore_errors=True)\n",
        "shutil.copytree(logdir/'sizes/Tiny', logdir/'regularizers/Tiny')"
      ],
      "execution_count": 122,
      "outputs": [
        {
          "output_type": "execute_result",
          "data": {
            "text/plain": [
              "PosixPath('/tmp/tmpnm7n6rje/tensorboard_logs/regularizers/Tiny')"
            ]
          },
          "metadata": {
            "tags": []
          },
          "execution_count": 122
        }
      ]
    },
    {
      "cell_type": "code",
      "metadata": {
        "id": "VxLtclsoZLiq",
        "colab_type": "code",
        "colab": {}
      },
      "source": [
        "regularizer_histories = {}\n",
        "regularizer_histories['Tiny'] = size_histories['Tiny']"
      ],
      "execution_count": 0,
      "outputs": []
    },
    {
      "cell_type": "markdown",
      "metadata": {
        "id": "9IMkA7HYZQQQ",
        "colab_type": "text"
      },
      "source": [
        "Add weight regularization"
      ]
    },
    {
      "cell_type": "code",
      "metadata": {
        "id": "vddRWODtZNwj",
        "colab_type": "code",
        "colab": {
          "base_uri": "https://localhost:8080/",
          "height": 632
        },
        "outputId": "ba798d29-3239-4c31-c53c-bebafec20329"
      },
      "source": [
        "l2_model = tf.keras.Sequential([\n",
        "    layers.Dense(512, activation='elu',\n",
        "                 kernel_regularizer=regularizers.l2(0.001),\n",
        "                 input_shape=(FEATURES,)),\n",
        "    layers.Dense(512, activation='elu',\n",
        "                 kernel_regularizer=regularizers.l2(0.001)),\n",
        "    layers.Dense(512, activation='elu',\n",
        "                 kernel_regularizer=regularizers.l2(0.001)),\n",
        "    layers.Dense(512, activation='elu',\n",
        "                 kernel_regularizer=regularizers.l2(0.001)),\n",
        "    layers.Dense(1)\n",
        "])\n",
        "\n",
        "regularizer_histories['l2'] = compile_and_fit(l2_model, \"regularizers/l2\")"
      ],
      "execution_count": 124,
      "outputs": [
        {
          "output_type": "stream",
          "text": [
            "Model: \"sequential_10\"\n",
            "_________________________________________________________________\n",
            "Layer (type)                 Output Shape              Param #   \n",
            "=================================================================\n",
            "dense_25 (Dense)             (None, 512)               14848     \n",
            "_________________________________________________________________\n",
            "dense_26 (Dense)             (None, 512)               262656    \n",
            "_________________________________________________________________\n",
            "dense_27 (Dense)             (None, 512)               262656    \n",
            "_________________________________________________________________\n",
            "dense_28 (Dense)             (None, 512)               262656    \n",
            "_________________________________________________________________\n",
            "dense_29 (Dense)             (None, 1)                 513       \n",
            "=================================================================\n",
            "Total params: 803,329\n",
            "Trainable params: 803,329\n",
            "Non-trainable params: 0\n",
            "_________________________________________________________________\n",
            "\n",
            "Epoch: 0, accuracy:0.5147,  binary_crossentropy:0.7603,  loss:2.2502,  val_accuracy:0.4990,  val_binary_crossentropy:0.6759,  val_loss:2.0705,  \n",
            "....................................................................................................\n",
            "Epoch: 100, accuracy:0.6574,  binary_crossentropy:0.5952,  loss:0.6179,  val_accuracy:0.6290,  val_binary_crossentropy:0.5907,  val_loss:0.6132,  \n",
            "...................................................................................................\n",
            "Epoch: 200, accuracy:0.6725,  binary_crossentropy:0.5845,  loss:0.6073,  val_accuracy:0.6380,  val_binary_crossentropy:0.5866,  val_loss:0.6095,  \n",
            "....................................................................................................\n",
            "Epoch: 300, accuracy:0.6803,  binary_crossentropy:0.5746,  loss:0.5974,  val_accuracy:0.6770,  val_binary_crossentropy:0.5757,  val_loss:0.5984,  \n",
            "....................................................................................................\n",
            "Epoch: 400, accuracy:0.6836,  binary_crossentropy:0.5705,  loss:0.5967,  val_accuracy:0.6790,  val_binary_crossentropy:0.5923,  val_loss:0.6196,  \n",
            "....................................................................................................\n",
            "Epoch: 500, accuracy:0.6969,  binary_crossentropy:0.5582,  loss:0.5850,  val_accuracy:0.6700,  val_binary_crossentropy:0.5821,  val_loss:0.6092,  \n",
            "....................................................................................................\n",
            "Epoch: 600, accuracy:0.7044,  binary_crossentropy:0.5513,  loss:0.5782,  val_accuracy:0.6840,  val_binary_crossentropy:0.5781,  val_loss:0.6051,  \n",
            "....................................................................................................\n",
            "Epoch: 700, accuracy:0.7080,  binary_crossentropy:0.5438,  loss:0.5716,  val_accuracy:0.6780,  val_binary_crossentropy:0.5856,  val_loss:0.6135,  \n",
            ".............................................."
          ],
          "name": "stdout"
        }
      ]
    },
    {
      "cell_type": "code",
      "metadata": {
        "id": "uXgR8DGwZWbL",
        "colab_type": "code",
        "colab": {
          "base_uri": "https://localhost:8080/",
          "height": 300
        },
        "outputId": "a6068d05-13f3-4c14-e241-2cda619fac4d"
      },
      "source": [
        "plotter.plot(regularizer_histories)\n",
        "plt.ylim([0.5, 0.7])"
      ],
      "execution_count": 126,
      "outputs": [
        {
          "output_type": "execute_result",
          "data": {
            "text/plain": [
              "(0.5, 0.7)"
            ]
          },
          "metadata": {
            "tags": []
          },
          "execution_count": 126
        },
        {
          "output_type": "display_data",
          "data": {
            "image/png": "[encoded data removed]",
            "text/plain": [
              "<Figure size 432x288 with 1 Axes>"
            ]
          },
          "metadata": {
            "tags": [],
            "needs_background": "light"
          }
        }
      ]
    },
    {
      "cell_type": "markdown",
      "metadata": {
        "id": "WKU4ELHUbUfp",
        "colab_type": "text"
      },
      "source": [
        "Add dropout"
      ]
    },
    {
      "cell_type": "code",
      "metadata": {
        "id": "mGsnfdZdbU1m",
        "colab_type": "code",
        "colab": {
          "base_uri": "https://localhost:8080/",
          "height": 632
        },
        "outputId": "14a65dc9-7ae6-4873-8cf8-59a093f15f07"
      },
      "source": [
        "dropout_model = tf.keras.Sequential([\n",
        "    layers.Dense(512, activation='elu', input_shape=(FEATURES,)),\n",
        "    layers.Dropout(0.5),\n",
        "    layers.Dense(512, activation='elu'),\n",
        "    layers.Dropout(0.5),\n",
        "    layers.Dense(512, activation='elu'),\n",
        "    layers.Dropout(0.5),\n",
        "    layers.Dense(512, activation='elu'),\n",
        "    layers.Dropout(0.5),\n",
        "    layers.Dense(1)\n",
        "])\n",
        "\n",
        "regularizer_histories['dropout'] = compile_and_fit(dropout_model, \"regularizers/dropout\")"
      ],
      "execution_count": 125,
      "outputs": [
        {
          "output_type": "stream",
          "text": [
            "Model: \"sequential_11\"\n",
            "_________________________________________________________________\n",
            "Layer (type)                 Output Shape              Param #   \n",
            "=================================================================\n",
            "dense_30 (Dense)             (None, 512)               14848     \n",
            "_________________________________________________________________\n",
            "dropout (Dropout)            (None, 512)               0         \n",
            "_________________________________________________________________\n",
            "dense_31 (Dense)             (None, 512)               262656    \n",
            "_________________________________________________________________\n",
            "dropout_1 (Dropout)          (None, 512)               0         \n",
            "_________________________________________________________________\n",
            "dense_32 (Dense)             (None, 512)               262656    \n",
            "_________________________________________________________________\n",
            "dropout_2 (Dropout)          (None, 512)               0         \n",
            "_________________________________________________________________\n",
            "dense_33 (Dense)             (None, 512)               262656    \n",
            "_________________________________________________________________\n",
            "dropout_3 (Dropout)          (None, 512)               0         \n",
            "_________________________________________________________________\n",
            "dense_34 (Dense)             (None, 1)                 513       \n",
            "=================================================================\n",
            "Total params: 803,329\n",
            "Trainable params: 803,329\n",
            "Non-trainable params: 0\n",
            "_________________________________________________________________\n",
            "\n",
            "Epoch: 0, accuracy:0.5138,  binary_crossentropy:0.8006,  loss:0.8006,  val_accuracy:0.4700,  val_binary_crossentropy:0.6953,  val_loss:0.6953,  \n",
            "....................................................................................................\n",
            "Epoch: 100, accuracy:0.6519,  binary_crossentropy:0.5947,  loss:0.5947,  val_accuracy:0.6860,  val_binary_crossentropy:0.5770,  val_loss:0.5770,  \n",
            "...................................................................................................\n",
            "Epoch: 200, accuracy:0.6852,  binary_crossentropy:0.5567,  loss:0.5567,  val_accuracy:0.6860,  val_binary_crossentropy:0.5911,  val_loss:0.5911,  \n",
            "....................................................................................................\n",
            "Epoch: 300, accuracy:0.7188,  binary_crossentropy:0.5165,  loss:0.5165,  val_accuracy:0.6870,  val_binary_crossentropy:0.5989,  val_loss:0.5989,  \n",
            "............"
          ],
          "name": "stdout"
        }
      ]
    },
    {
      "cell_type": "code",
      "metadata": {
        "id": "nEPw8d-RbW8_",
        "colab_type": "code",
        "colab": {
          "base_uri": "https://localhost:8080/",
          "height": 300
        },
        "outputId": "361fad22-7901-4fb9-eb93-44c19bf5cddf"
      },
      "source": [
        "plotter.plot(regularizer_histories)\n",
        "plt.ylim([0.5, 0.7])"
      ],
      "execution_count": 127,
      "outputs": [
        {
          "output_type": "execute_result",
          "data": {
            "text/plain": [
              "(0.5, 0.7)"
            ]
          },
          "metadata": {
            "tags": []
          },
          "execution_count": 127
        },
        {
          "output_type": "display_data",
          "data": {
            "image/png": "[encoded data removed]",
            "text/plain": [
              "<Figure size 432x288 with 1 Axes>"
            ]
          },
          "metadata": {
            "tags": [],
            "needs_background": "light"
          }
        }
      ]
    },
    {
      "cell_type": "markdown",
      "metadata": {
        "id": "012SwrFzbfiz",
        "colab_type": "text"
      },
      "source": [
        "Combined L2 + dropout"
      ]
    },
    {
      "cell_type": "code",
      "metadata": {
        "id": "IXW-YTASbdJ2",
        "colab_type": "code",
        "colab": {
          "base_uri": "https://localhost:8080/",
          "height": 836
        },
        "outputId": "6f86c547-eafc-402c-9ad2-7ec4d75c77b8"
      },
      "source": [
        "combined_model = tf.keras.Sequential([\n",
        "    layers.Dense(512, kernel_regularizer=regularizers.l2(0.0001),\n",
        "                 activation='elu', input_shape=(FEATURES,)),\n",
        "    layers.Dropout(0.5),\n",
        "    layers.Dense(512, kernel_regularizer=regularizers.l2(0.0001),\n",
        "                 activation='elu'),\n",
        "    layers.Dropout(0.5),\n",
        "    layers.Dense(512, kernel_regularizer=regularizers.l2(0.0001),\n",
        "                 activation='elu'),\n",
        "    layers.Dropout(0.5),\n",
        "    layers.Dense(512, kernel_regularizer=regularizers.l2(0.0001),\n",
        "                 activation='elu'),\n",
        "    layers.Dropout(0.5),\n",
        "    layers.Dense(1)\n",
        "])\n",
        "\n",
        "regularizer_histories['combined'] = compile_and_fit(combined_model, \"regularizers/combined\")"
      ],
      "execution_count": 128,
      "outputs": [
        {
          "output_type": "stream",
          "text": [
            "Model: \"sequential_12\"\n",
            "_________________________________________________________________\n",
            "Layer (type)                 Output Shape              Param #   \n",
            "=================================================================\n",
            "dense_35 (Dense)             (None, 512)               14848     \n",
            "_________________________________________________________________\n",
            "dropout_4 (Dropout)          (None, 512)               0         \n",
            "_________________________________________________________________\n",
            "dense_36 (Dense)             (None, 512)               262656    \n",
            "_________________________________________________________________\n",
            "dropout_5 (Dropout)          (None, 512)               0         \n",
            "_________________________________________________________________\n",
            "dense_37 (Dense)             (None, 512)               262656    \n",
            "_________________________________________________________________\n",
            "dropout_6 (Dropout)          (None, 512)               0         \n",
            "_________________________________________________________________\n",
            "dense_38 (Dense)             (None, 512)               262656    \n",
            "_________________________________________________________________\n",
            "dropout_7 (Dropout)          (None, 512)               0         \n",
            "_________________________________________________________________\n",
            "dense_39 (Dense)             (None, 1)                 513       \n",
            "=================================================================\n",
            "Total params: 803,329\n",
            "Trainable params: 803,329\n",
            "Non-trainable params: 0\n",
            "_________________________________________________________________\n",
            "\n",
            "Epoch: 0, accuracy:0.5091,  binary_crossentropy:0.7979,  loss:0.9561,  val_accuracy:0.4860,  val_binary_crossentropy:0.6715,  val_loss:0.8290,  \n",
            "....................................................................................................\n",
            "Epoch: 100, accuracy:0.6481,  binary_crossentropy:0.6030,  loss:0.6323,  val_accuracy:0.6340,  val_binary_crossentropy:0.5932,  val_loss:0.6224,  \n",
            "....................................................................................................\n",
            "Epoch: 200, accuracy:0.6576,  binary_crossentropy:0.5888,  loss:0.6145,  val_accuracy:0.6740,  val_binary_crossentropy:0.5695,  val_loss:0.5952,  \n",
            "....................................................................................................\n",
            "Epoch: 300, accuracy:0.6698,  binary_crossentropy:0.5815,  loss:0.6093,  val_accuracy:0.6960,  val_binary_crossentropy:0.5692,  val_loss:0.5969,  \n",
            "....................................................................................................\n",
            "Epoch: 400, accuracy:0.6768,  binary_crossentropy:0.5764,  loss:0.6057,  val_accuracy:0.6930,  val_binary_crossentropy:0.5635,  val_loss:0.5929,  \n",
            "....................................................................................................\n",
            "Epoch: 500, accuracy:0.6795,  binary_crossentropy:0.5737,  loss:0.6049,  val_accuracy:0.6680,  val_binary_crossentropy:0.5557,  val_loss:0.5870,  \n",
            "....................................................................................................\n",
            "Epoch: 600, accuracy:0.6781,  binary_crossentropy:0.5678,  loss:0.6006,  val_accuracy:0.6890,  val_binary_crossentropy:0.5522,  val_loss:0.5850,  \n",
            "....................................................................................................\n",
            "Epoch: 700, accuracy:0.6858,  binary_crossentropy:0.5616,  loss:0.5962,  val_accuracy:0.7100,  val_binary_crossentropy:0.5496,  val_loss:0.5842,  \n",
            "....................................................................................................\n",
            "Epoch: 800, accuracy:0.6887,  binary_crossentropy:0.5600,  loss:0.5959,  val_accuracy:0.6980,  val_binary_crossentropy:0.5464,  val_loss:0.5822,  \n",
            "....................................................................................................\n",
            "Epoch: 900, accuracy:0.6977,  binary_crossentropy:0.5526,  loss:0.5897,  val_accuracy:0.6840,  val_binary_crossentropy:0.5462,  val_loss:0.5833,  \n",
            "................................................................."
          ],
          "name": "stdout"
        }
      ]
    },
    {
      "cell_type": "code",
      "metadata": {
        "id": "MIxwsnsTbiBP",
        "colab_type": "code",
        "colab": {}
      },
      "source": [
        ""
      ],
      "execution_count": 0,
      "outputs": []
    }
  ]
}